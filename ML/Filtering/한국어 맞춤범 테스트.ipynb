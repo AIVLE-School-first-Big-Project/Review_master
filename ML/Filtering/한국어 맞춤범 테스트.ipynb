{
 "cells": [
  {
   "cell_type": "code",
   "execution_count": 1,
   "metadata": {},
   "outputs": [],
   "source": [
    "from hanspell import spell_checker"
   ]
  },
  {
   "cell_type": "code",
   "execution_count": 6,
   "metadata": {},
   "outputs": [],
   "source": [
    "sentence = \"loomma loooxma wf 도전하다 본 소니 소니코리아로부터 위해 제삭도었습니다 체험단 콘텐츠는 헤드폰에 협잔밥이 활동을\""
   ]
  },
  {
   "cell_type": "code",
   "execution_count": 7,
   "metadata": {},
   "outputs": [
    {
     "name": "stdout",
     "output_type": "stream",
     "text": [
      "loomma loooxma wf 도전하다 본 소니 소니코리아로부터 위해 제삭도었습니다 체험단 콘텐츠는 헤드폰에 협진 밥이 활동을\n"
     ]
    }
   ],
   "source": [
    "spelled_sent = spell_checker.check(sentence)\n",
    "sentence = spelled_sent.checked\n",
    "print(sentence)"
   ]
  },
  {
   "cell_type": "code",
   "execution_count": 8,
   "metadata": {},
   "outputs": [
    {
     "data": {
      "text/plain": [
       "Checked(result=True, original='loomma loooxma wf 도전하다 본 소니 소니코리아로부터 위해 제삭도었습니다 체험단 콘텐츠는 헤드폰에 협잔밥이 활동을', checked='loomma loooxma wf 도전하다 본 소니 소니코리아로부터 위해 제삭도었습니다 체험단 콘텐츠는 헤드폰에 협진 밥이 활동을', errors=2, words=OrderedDict([('loomma', 0), ('loooxma', 0), ('wf', 0), ('도전하다', 0), ('본', 0), ('소니', 0), ('소니코리아로부터', 0), ('위해', 0), ('<span', 0), (\"class='violet_text'>제삭도었습니다\", 0), ('체험단', 0), ('콘텐츠는', 0), ('헤드폰에', 0), ('협진', 4), ('밥이', 4), ('활동을', 0)]), time=0.27687883377075195)"
      ]
     },
     "execution_count": 8,
     "metadata": {},
     "output_type": "execute_result"
    }
   ],
   "source": [
    "spelled_sent"
   ]
  },
  {
   "cell_type": "code",
   "execution_count": null,
   "metadata": {},
   "outputs": [],
   "source": []
  }
 ],
 "metadata": {
  "interpreter": {
   "hash": "1bd9a2be6220bdc219e21d40a9441c0290aa6fc536856fc87dfb3ce52627bf0c"
  },
  "kernelspec": {
   "display_name": "Python 3.6.4 ('openlab')",
   "language": "python",
   "name": "python3"
  },
  "language_info": {
   "codemirror_mode": {
    "name": "ipython",
    "version": 3
   },
   "file_extension": ".py",
   "mimetype": "text/x-python",
   "name": "python",
   "nbconvert_exporter": "python",
   "pygments_lexer": "ipython3",
   "version": "3.6.4"
  },
  "orig_nbformat": 4
 },
 "nbformat": 4,
 "nbformat_minor": 2
}
