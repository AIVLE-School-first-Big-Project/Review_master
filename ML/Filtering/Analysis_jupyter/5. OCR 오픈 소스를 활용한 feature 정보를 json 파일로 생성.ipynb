{
 "cells": [
  {
   "cell_type": "markdown",
   "id": "2e2e698f",
   "metadata": {},
   "source": [
    "# 1. 라이브러리 임포트"
   ]
  },
  {
   "cell_type": "code",
   "execution_count": 1,
   "id": "a4076578",
   "metadata": {},
   "outputs": [],
   "source": [
    "import pandas as pd\n",
    "import numpy as np\n",
    "from PIL import Image\n",
    "import matplotlib.pyplot as plt\n",
    "import json\n",
    "\n",
    "import requests\n",
    "import glob\n",
    "import os\n",
    "\n",
    "import urllib.request\n",
    "from PIL import Image\n",
    "import time\n",
    "from tqdm import tqdm"
   ]
  },
  {
   "cell_type": "markdown",
   "id": "0ce7012b",
   "metadata": {},
   "source": [
    "# 2. 데이터 로드"
   ]
  },
  {
   "cell_type": "code",
   "execution_count": 2,
   "id": "ef7ee0df",
   "metadata": {},
   "outputs": [],
   "source": [
    "df = pd.read_csv(\"Total_Data_1.csv\")"
   ]
  },
  {
   "cell_type": "markdown",
   "id": "4c7b7068",
   "metadata": {},
   "source": [
    "# 3. OCR을 적용된 결과 JSON 파일로 만들기"
   ]
  },
  {
   "cell_type": "code",
   "execution_count": 9,
   "id": "04ba73bf",
   "metadata": {},
   "outputs": [],
   "source": [
    "df.reset_index(inplace=True)"
   ]
  },
  {
   "cell_type": "markdown",
   "id": "cb54cf12",
   "metadata": {},
   "source": [
    "* 쿠팡 파트너스에 대해서"
   ]
  },
  {
   "cell_type": "code",
   "execution_count": 10,
   "id": "caec3af5",
   "metadata": {},
   "outputs": [
    {
     "data": {
      "text/html": [
       "<div>\n",
       "<style scoped>\n",
       "    .dataframe tbody tr th:only-of-type {\n",
       "        vertical-align: middle;\n",
       "    }\n",
       "\n",
       "    .dataframe tbody tr th {\n",
       "        vertical-align: top;\n",
       "    }\n",
       "\n",
       "    .dataframe thead th {\n",
       "        text-align: right;\n",
       "    }\n",
       "</style>\n",
       "<table border=\"1\" class=\"dataframe\">\n",
       "  <thead>\n",
       "    <tr style=\"text-align: right;\">\n",
       "      <th></th>\n",
       "      <th>index</th>\n",
       "      <th>url</th>\n",
       "      <th>title</th>\n",
       "      <th>post_date</th>\n",
       "      <th>검색어</th>\n",
       "      <th>브랜드 명</th>\n",
       "      <th>content</th>\n",
       "      <th>content_cnt</th>\n",
       "      <th>content_line</th>\n",
       "      <th>quote</th>\n",
       "      <th>...</th>\n",
       "      <th>♡ 키워드</th>\n",
       "      <th>♥ 키워드</th>\n",
       "      <th>구매후기 키워드</th>\n",
       "      <th>한달 키워드</th>\n",
       "      <th>두달 키워드</th>\n",
       "      <th>세달 키워드</th>\n",
       "      <th>WEB_광고 분류1</th>\n",
       "      <th>WEB_광고 분류2</th>\n",
       "      <th>광고 분류1</th>\n",
       "      <th>광고 분류2</th>\n",
       "    </tr>\n",
       "  </thead>\n",
       "  <tbody>\n",
       "    <tr>\n",
       "      <th>0</th>\n",
       "      <td>9</td>\n",
       "      <td>https://blog.naver.com/anfwjdtp/222565268273</td>\n",
       "      <td>가정용 전자동 커피머신★빈프레소 강제(?) 사용 후기ㅋ</td>\n",
       "      <td>20211111</td>\n",
       "      <td>빈프레소 리뷰</td>\n",
       "      <td>빈프레소</td>\n",
       "      <td>#가정용전자동커피머신 #가정용에스프레소머신 #가정용원두커피머신 #전자동커피머신 #빈...</td>\n",
       "      <td>1870</td>\n",
       "      <td>17</td>\n",
       "      <td>['가정용 전자동 커피머신★빈프레소 강제(?) 사용 후기 ']</td>\n",
       "      <td>...</td>\n",
       "      <td>0</td>\n",
       "      <td>0</td>\n",
       "      <td>0</td>\n",
       "      <td>0</td>\n",
       "      <td>0</td>\n",
       "      <td>0</td>\n",
       "      <td>1</td>\n",
       "      <td>1</td>\n",
       "      <td>1</td>\n",
       "      <td>1</td>\n",
       "    </tr>\n",
       "  </tbody>\n",
       "</table>\n",
       "<p>1 rows × 51 columns</p>\n",
       "</div>"
      ],
      "text/plain": [
       "   index                                           url  \\\n",
       "0      9  https://blog.naver.com/anfwjdtp/222565268273   \n",
       "\n",
       "                            title  post_date      검색어 브랜드 명  \\\n",
       "0  가정용 전자동 커피머신★빈프레소 강제(?) 사용 후기ㅋ   20211111  빈프레소 리뷰  빈프레소   \n",
       "\n",
       "                                             content  content_cnt  \\\n",
       "0  #가정용전자동커피머신 #가정용에스프레소머신 #가정용원두커피머신 #전자동커피머신 #빈...         1870   \n",
       "\n",
       "   content_line                               quote  ...  ♡ 키워드 ♥ 키워드  \\\n",
       "0            17  ['가정용 전자동 커피머신★빈프레소 강제(?) 사용 후기 ']  ...      0     0   \n",
       "\n",
       "  구매후기 키워드  한달 키워드  두달 키워드  세달 키워드  WEB_광고 분류1  WEB_광고 분류2  광고 분류1  광고 분류2  \n",
       "0        0       0       0       0           1           1       1       1  \n",
       "\n",
       "[1 rows x 51 columns]"
      ]
     },
     "execution_count": 10,
     "metadata": {},
     "output_type": "execute_result"
    }
   ],
   "source": [
    "df1 = df[df[\"광고 분류2\"]==1].reset_index(drop=True)\n",
    "df1.head(1)"
   ]
  },
  {
   "cell_type": "markdown",
   "id": "cb3bcdca",
   "metadata": {},
   "source": [
    "* 협찬, 체험단 등 소정료를 받아 작성된 광고성 블로그 리뷰"
   ]
  },
  {
   "cell_type": "code",
   "execution_count": 11,
   "id": "bc9b2729",
   "metadata": {},
   "outputs": [
    {
     "data": {
      "text/html": [
       "<div>\n",
       "<style scoped>\n",
       "    .dataframe tbody tr th:only-of-type {\n",
       "        vertical-align: middle;\n",
       "    }\n",
       "\n",
       "    .dataframe tbody tr th {\n",
       "        vertical-align: top;\n",
       "    }\n",
       "\n",
       "    .dataframe thead th {\n",
       "        text-align: right;\n",
       "    }\n",
       "</style>\n",
       "<table border=\"1\" class=\"dataframe\">\n",
       "  <thead>\n",
       "    <tr style=\"text-align: right;\">\n",
       "      <th></th>\n",
       "      <th>index</th>\n",
       "      <th>url</th>\n",
       "      <th>title</th>\n",
       "      <th>post_date</th>\n",
       "      <th>검색어</th>\n",
       "      <th>브랜드 명</th>\n",
       "      <th>content</th>\n",
       "      <th>content_cnt</th>\n",
       "      <th>content_line</th>\n",
       "      <th>quote</th>\n",
       "      <th>...</th>\n",
       "      <th>♡ 키워드</th>\n",
       "      <th>♥ 키워드</th>\n",
       "      <th>구매후기 키워드</th>\n",
       "      <th>한달 키워드</th>\n",
       "      <th>두달 키워드</th>\n",
       "      <th>세달 키워드</th>\n",
       "      <th>WEB_광고 분류1</th>\n",
       "      <th>WEB_광고 분류2</th>\n",
       "      <th>광고 분류1</th>\n",
       "      <th>광고 분류2</th>\n",
       "    </tr>\n",
       "  </thead>\n",
       "  <tbody>\n",
       "    <tr>\n",
       "      <th>0</th>\n",
       "      <td>0</td>\n",
       "      <td>https://blog.naver.com/PostView.naver?blogId=e...</td>\n",
       "      <td>무선 무릎찜질기 메이크맨 무르비2 사용 후기</td>\n",
       "      <td>20220124</td>\n",
       "      <td>무르비2 리뷰</td>\n",
       "      <td>메이크맨</td>\n",
       "      <td>저는 여름보다 유달리 겨울 추위를 잘 타는 체질이라 ... 히터가 작동되는 사무실에...</td>\n",
       "      <td>2435</td>\n",
       "      <td>22</td>\n",
       "      <td>['편리한 무선 온열찜질기진동 마사지 기능옥이 들어있어 원적외선 효과']</td>\n",
       "      <td>...</td>\n",
       "      <td>0</td>\n",
       "      <td>0</td>\n",
       "      <td>0</td>\n",
       "      <td>0</td>\n",
       "      <td>0</td>\n",
       "      <td>0</td>\n",
       "      <td>0</td>\n",
       "      <td>0</td>\n",
       "      <td>1</td>\n",
       "      <td>2</td>\n",
       "    </tr>\n",
       "  </tbody>\n",
       "</table>\n",
       "<p>1 rows × 51 columns</p>\n",
       "</div>"
      ],
      "text/plain": [
       "   index                                                url  \\\n",
       "0      0  https://blog.naver.com/PostView.naver?blogId=e...   \n",
       "\n",
       "                      title  post_date      검색어 브랜드 명  \\\n",
       "0  무선 무릎찜질기 메이크맨 무르비2 사용 후기   20220124  무르비2 리뷰  메이크맨   \n",
       "\n",
       "                                             content  content_cnt  \\\n",
       "0  저는 여름보다 유달리 겨울 추위를 잘 타는 체질이라 ... 히터가 작동되는 사무실에...         2435   \n",
       "\n",
       "   content_line                                     quote  ...  ♡ 키워드 ♥ 키워드  \\\n",
       "0            22  ['편리한 무선 온열찜질기진동 마사지 기능옥이 들어있어 원적외선 효과']  ...      0     0   \n",
       "\n",
       "  구매후기 키워드  한달 키워드  두달 키워드  세달 키워드  WEB_광고 분류1  WEB_광고 분류2  광고 분류1  광고 분류2  \n",
       "0        0       0       0       0           0           0       1       2  \n",
       "\n",
       "[1 rows x 51 columns]"
      ]
     },
     "execution_count": 11,
     "metadata": {},
     "output_type": "execute_result"
    }
   ],
   "source": [
    "df2 = df[df[\"광고 분류2\"]==2].reset_index(drop=True)\n",
    "df2.head(1)"
   ]
  },
  {
   "cell_type": "markdown",
   "id": "0a24fd2d",
   "metadata": {},
   "source": [
    "* 소정료를 받지 않고 직접 구매하여 작성된 솔직한 블로그 리뷰"
   ]
  },
  {
   "cell_type": "code",
   "execution_count": 12,
   "id": "38fe041e",
   "metadata": {},
   "outputs": [
    {
     "data": {
      "text/html": [
       "<div>\n",
       "<style scoped>\n",
       "    .dataframe tbody tr th:only-of-type {\n",
       "        vertical-align: middle;\n",
       "    }\n",
       "\n",
       "    .dataframe tbody tr th {\n",
       "        vertical-align: top;\n",
       "    }\n",
       "\n",
       "    .dataframe thead th {\n",
       "        text-align: right;\n",
       "    }\n",
       "</style>\n",
       "<table border=\"1\" class=\"dataframe\">\n",
       "  <thead>\n",
       "    <tr style=\"text-align: right;\">\n",
       "      <th></th>\n",
       "      <th>index</th>\n",
       "      <th>url</th>\n",
       "      <th>title</th>\n",
       "      <th>post_date</th>\n",
       "      <th>검색어</th>\n",
       "      <th>브랜드 명</th>\n",
       "      <th>content</th>\n",
       "      <th>content_cnt</th>\n",
       "      <th>content_line</th>\n",
       "      <th>quote</th>\n",
       "      <th>...</th>\n",
       "      <th>♡ 키워드</th>\n",
       "      <th>♥ 키워드</th>\n",
       "      <th>구매후기 키워드</th>\n",
       "      <th>한달 키워드</th>\n",
       "      <th>두달 키워드</th>\n",
       "      <th>세달 키워드</th>\n",
       "      <th>WEB_광고 분류1</th>\n",
       "      <th>WEB_광고 분류2</th>\n",
       "      <th>광고 분류1</th>\n",
       "      <th>광고 분류2</th>\n",
       "    </tr>\n",
       "  </thead>\n",
       "  <tbody>\n",
       "    <tr>\n",
       "      <th>0</th>\n",
       "      <td>7</td>\n",
       "      <td>https://blog.naver.com/PostView.naver?blogId=i...</td>\n",
       "      <td>빈프레소 커피머신, 가정용 전자동 커피머신 후기</td>\n",
       "      <td>20220304</td>\n",
       "      <td>빈프레소 리뷰</td>\n",
       "      <td>빈프레소</td>\n",
       "      <td>남편이 우리집 다음 커피머신기는 빈프레소라면서 빈프레소가 요즘 핫하다면서 그런데 비...</td>\n",
       "      <td>2329</td>\n",
       "      <td>25</td>\n",
       "      <td>['빈프레소 커피머신']</td>\n",
       "      <td>...</td>\n",
       "      <td>1</td>\n",
       "      <td>0</td>\n",
       "      <td>0</td>\n",
       "      <td>0</td>\n",
       "      <td>0</td>\n",
       "      <td>0</td>\n",
       "      <td>0</td>\n",
       "      <td>0</td>\n",
       "      <td>0</td>\n",
       "      <td>0</td>\n",
       "    </tr>\n",
       "  </tbody>\n",
       "</table>\n",
       "<p>1 rows × 51 columns</p>\n",
       "</div>"
      ],
      "text/plain": [
       "   index                                                url  \\\n",
       "0      7  https://blog.naver.com/PostView.naver?blogId=i...   \n",
       "\n",
       "                        title  post_date      검색어 브랜드 명  \\\n",
       "0  빈프레소 커피머신, 가정용 전자동 커피머신 후기   20220304  빈프레소 리뷰  빈프레소   \n",
       "\n",
       "                                             content  content_cnt  \\\n",
       "0  남편이 우리집 다음 커피머신기는 빈프레소라면서 빈프레소가 요즘 핫하다면서 그런데 비...         2329   \n",
       "\n",
       "   content_line          quote  ...  ♡ 키워드 ♥ 키워드 구매후기 키워드  한달 키워드  두달 키워드  \\\n",
       "0            25  ['빈프레소 커피머신']  ...      1     0        0       0       0   \n",
       "\n",
       "   세달 키워드  WEB_광고 분류1  WEB_광고 분류2  광고 분류1  광고 분류2  \n",
       "0       0           0           0       0       0  \n",
       "\n",
       "[1 rows x 51 columns]"
      ]
     },
     "execution_count": 12,
     "metadata": {},
     "output_type": "execute_result"
    }
   ],
   "source": [
    "df0 = df[df[\"광고 분류2\"]==0].reset_index(drop=True)\n",
    "df0.head(1)"
   ]
  },
  {
   "cell_type": "markdown",
   "id": "6f09ff50",
   "metadata": {},
   "source": [
    "## 3.1 저장할 데이터 폴더 구축"
   ]
  },
  {
   "cell_type": "code",
   "execution_count": 13,
   "id": "fc7e502b",
   "metadata": {},
   "outputs": [],
   "source": [
    "import os\n",
    "from tqdm import tqdm\n",
    "\n",
    "os.makedirs(\"Images\",exist_ok=True)\n",
    "os.makedirs(\"Images/0\",exist_ok=True)\n",
    "os.makedirs(\"Images/1\",exist_ok=True)\n",
    "os.makedirs(\"Images/2\",exist_ok=True)\n",
    "\n",
    "os.makedirs(\"annotation\",exist_ok=True)\n",
    "os.makedirs(\"annotation/0\",exist_ok=True)\n",
    "os.makedirs(\"annotation/1\",exist_ok=True)\n",
    "os.makedirs(\"annotation/2\",exist_ok=True)"
   ]
  },
  {
   "cell_type": "code",
   "execution_count": 15,
   "id": "bb372404",
   "metadata": {},
   "outputs": [
    {
     "data": {
      "text/plain": [
       "(172, 373, 1980)"
      ]
     },
     "execution_count": 15,
     "metadata": {},
     "output_type": "execute_result"
    }
   ],
   "source": [
    "df1.shape[0], df2.shape[0],df0.shape[0]"
   ]
  },
  {
   "cell_type": "markdown",
   "id": "75b58beb",
   "metadata": {},
   "source": [
    "* 쿠팡 파트너스 : 172\n",
    "* 협찬을 받아 작성된 글 : 373  \n",
    "* 협찬을 받지 않고 작성된 글 : 1980"
   ]
  },
  {
   "cell_type": "markdown",
   "id": "33616a74",
   "metadata": {},
   "source": [
    "## 3.2 json 파일로 저장"
   ]
  },
  {
   "cell_type": "markdown",
   "id": "97ce82b7",
   "metadata": {},
   "source": [
    "### 3.2.1 1번 -> 쿠팡 파트너스는 일정 수수료 받는다 (광고)"
   ]
  },
  {
   "cell_type": "code",
   "execution_count": 16,
   "id": "a912e8c0",
   "metadata": {
    "scrolled": true
   },
   "outputs": [
    {
     "name": "stderr",
     "output_type": "stream",
     "text": [
      "  2%|█▉                                                                                | 4/172 [00:15<10:49,  3.87s/it]"
     ]
    },
    {
     "name": "stdout",
     "output_type": "stream",
     "text": [
      "36 내용이 없다고? !!\n",
      "{}\n",
      "\n"
     ]
    },
    {
     "name": "stderr",
     "output_type": "stream",
     "text": [
      "  3%|██▊                                                                               | 6/172 [00:23<10:46,  3.90s/it]"
     ]
    },
    {
     "name": "stdout",
     "output_type": "stream",
     "text": [
      "48 내용이 없다고? !!\n",
      "{}\n",
      "\n"
     ]
    },
    {
     "name": "stderr",
     "output_type": "stream",
     "text": [
      " 42%|█████████████████████████████████▉                                               | 72/172 [04:27<06:25,  3.85s/it]"
     ]
    },
    {
     "name": "stdout",
     "output_type": "stream",
     "text": [
      "742 내용이 없다고? !!\n",
      "{}\n",
      "\n"
     ]
    },
    {
     "name": "stderr",
     "output_type": "stream",
     "text": [
      " 43%|██████████████████████████████████▊                                              | 74/172 [04:36<06:44,  4.13s/it]"
     ]
    },
    {
     "name": "stdout",
     "output_type": "stream",
     "text": [
      "755 내용이 없다고? !!\n",
      "{}\n",
      "\n"
     ]
    },
    {
     "name": "stderr",
     "output_type": "stream",
     "text": [
      " 49%|███████████████████████████████████████▌                                         | 84/172 [05:18<06:05,  4.15s/it]"
     ]
    },
    {
     "name": "stdout",
     "output_type": "stream",
     "text": [
      "1084 내용이 없다고? !!\n",
      "{}\n",
      "\n"
     ]
    },
    {
     "name": "stderr",
     "output_type": "stream",
     "text": [
      " 53%|██████████████████████████████████████████▊                                      | 91/172 [05:44<05:40,  4.20s/it]"
     ]
    },
    {
     "name": "stdout",
     "output_type": "stream",
     "text": [
      "1509 내용이 없다고? !!\n",
      "{}\n",
      "\n"
     ]
    },
    {
     "name": "stderr",
     "output_type": "stream",
     "text": [
      " 64%|███████████████████████████████████████████████████▏                            | 110/172 [06:53<03:00,  2.92s/it]"
     ]
    },
    {
     "name": "stdout",
     "output_type": "stream",
     "text": [
      "1754 내용이 없다고? !!\n",
      "{}\n",
      "\n"
     ]
    },
    {
     "name": "stderr",
     "output_type": "stream",
     "text": [
      " 74%|███████████████████████████████████████████████████████████▌                    | 128/172 [08:06<02:55,  3.99s/it]"
     ]
    },
    {
     "name": "stdout",
     "output_type": "stream",
     "text": [
      "1968 내용이 없다고? !!\n",
      "{}\n",
      "\n"
     ]
    },
    {
     "name": "stderr",
     "output_type": "stream",
     "text": [
      " 78%|██████████████████████████████████████████████████████████████▊                 | 135/172 [08:36<02:36,  4.24s/it]"
     ]
    },
    {
     "name": "stdout",
     "output_type": "stream",
     "text": [
      "2043 내용이 없다고? !!\n",
      "{}\n",
      "\n"
     ]
    },
    {
     "name": "stderr",
     "output_type": "stream",
     "text": [
      " 90%|███████████████████████████████████████████████████████████████████████▋        | 154/172 [09:54<01:14,  4.12s/it]"
     ]
    },
    {
     "name": "stdout",
     "output_type": "stream",
     "text": [
      "2392 내용이 없다고? !!\n",
      "{}\n",
      "\n"
     ]
    },
    {
     "name": "stderr",
     "output_type": "stream",
     "text": [
      " 91%|████████████████████████████████████████████████████████████████████████▌       | 156/172 [10:02<01:05,  4.06s/it]"
     ]
    },
    {
     "name": "stdout",
     "output_type": "stream",
     "text": [
      "2394 내용이 없다고? !!\n",
      "{}\n",
      "\n"
     ]
    },
    {
     "name": "stderr",
     "output_type": "stream",
     "text": [
      " 98%|██████████████████████████████████████████████████████████████████████████████▌ | 169/172 [10:53<00:12,  4.10s/it]"
     ]
    },
    {
     "name": "stdout",
     "output_type": "stream",
     "text": [
      "2460 내용이 없다고? !!\n",
      "{}\n",
      "\n"
     ]
    },
    {
     "name": "stderr",
     "output_type": "stream",
     "text": [
      "100%|████████████████████████████████████████████████████████████████████████████████| 172/172 [11:05<00:00,  3.87s/it]\n"
     ]
    }
   ],
   "source": [
    "for i in tqdm(range(df1.shape[0])):\n",
    "    if len(str(df1.iloc[i][\"last_img\"])) !=3: \n",
    "        try:\n",
    "            opener = urllib.request.build_opener()\n",
    "            opener.addheaders = [('User-Agent','Mozilla/5.0 (Windows NT 6.1; WOW64) AppleWebKit/537.36 (KHTML, like Gecko) Chrome/36.0.1941.0 Safari/537.36')]\n",
    "            urllib.request.install_opener(opener)\n",
    "            \n",
    "            save_number = df1.iloc[i]['index']\n",
    "            save_img_path = f\"./Images/1/{save_number}_class1.png\"\n",
    "            save_json_path = f\"./annotation/1/{save_number}_class1.json\"\n",
    "            \n",
    "            # 이미지 저장.\n",
    "            urllib.request.urlretrieve(df1.iloc[i][\"last_img\"], save_img_path)\n",
    "            \n",
    "            ### 이미지 글자 추출\n",
    "            time.sleep(3)\n",
    "            files = {\"file\": open(save_img_path, \"rb\").read()}\n",
    "            response = requests.post('http://27.255.77.102:5000/evaluation',files=files)\n",
    "            if response.status_code == 200:\n",
    "                feature_text = response.json()\n",
    "                if len(feature_text) ==0:\n",
    "                    print(save_number,\"내용이 없다고? !!\")\n",
    "                    print(feature_text)\n",
    "                    print()\n",
    "                    continue\n",
    "                else:\n",
    "                    json_files = {\"file\": open(save_img_path, \"rb\").read()}\n",
    "                    with open(save_json_path,'w',  encoding='utf-8') as f:\n",
    "                        json.dump(feature_text, f, ensure_ascii=False, indent='\\t')\n",
    "        except:\n",
    "            pass"
   ]
  },
  {
   "cell_type": "markdown",
   "id": "5e961ff7",
   "metadata": {},
   "source": [
    "### 3.2.2 2번 -> 체험단, 협찬 , 소정료 받아서 씀(광고)"
   ]
  },
  {
   "cell_type": "code",
   "execution_count": 17,
   "id": "530f9f73",
   "metadata": {},
   "outputs": [
    {
     "name": "stderr",
     "output_type": "stream",
     "text": [
      "  1%|▋                                                                                 | 3/373 [00:09<17:58,  2.91s/it]"
     ]
    },
    {
     "name": "stdout",
     "output_type": "stream",
     "text": [
      "2 내용이 없다고? !!\n",
      "{}\n",
      "\n"
     ]
    },
    {
     "name": "stderr",
     "output_type": "stream",
     "text": [
      "\r",
      "  1%|▉                                                                                 | 4/373 [00:11<14:37,  2.38s/it]"
     ]
    },
    {
     "name": "stdout",
     "output_type": "stream",
     "text": [
      "3 내용이 없다고? !!\n",
      "{}\n",
      "\n"
     ]
    },
    {
     "name": "stderr",
     "output_type": "stream",
     "text": [
      "  4%|███▎                                                                             | 15/373 [00:40<19:32,  3.28s/it]"
     ]
    },
    {
     "name": "stdout",
     "output_type": "stream",
     "text": [
      "53 내용이 없다고? !!\n",
      "{}\n",
      "\n"
     ]
    },
    {
     "name": "stderr",
     "output_type": "stream",
     "text": [
      "  6%|████▉                                                                            | 23/373 [01:01<16:39,  2.85s/it]"
     ]
    },
    {
     "name": "stdout",
     "output_type": "stream",
     "text": [
      "172 내용이 없다고? !!\n",
      "{}\n",
      "\n"
     ]
    },
    {
     "name": "stderr",
     "output_type": "stream",
     "text": [
      "  8%|██████▎                                                                          | 29/373 [01:14<12:09,  2.12s/it]"
     ]
    },
    {
     "name": "stdout",
     "output_type": "stream",
     "text": [
      "183 내용이 없다고? !!\n",
      "{}\n",
      "\n"
     ]
    },
    {
     "name": "stderr",
     "output_type": "stream",
     "text": [
      " 13%|██████████▊                                                                      | 50/373 [02:00<10:09,  1.89s/it]"
     ]
    },
    {
     "name": "stdout",
     "output_type": "stream",
     "text": [
      "299 내용이 없다고? !!\n",
      "{}\n",
      "\n"
     ]
    },
    {
     "name": "stderr",
     "output_type": "stream",
     "text": [
      " 14%|███████████▎                                                                     | 52/373 [02:04<09:14,  1.73s/it]"
     ]
    },
    {
     "name": "stdout",
     "output_type": "stream",
     "text": [
      "342 내용이 없다고? !!\n",
      "{}\n",
      "\n"
     ]
    },
    {
     "name": "stderr",
     "output_type": "stream",
     "text": [
      " 20%|████████████████▎                                                                | 75/373 [03:00<10:32,  2.12s/it]"
     ]
    },
    {
     "name": "stdout",
     "output_type": "stream",
     "text": [
      "691 내용이 없다고? !!\n",
      "{}\n",
      "\n"
     ]
    },
    {
     "name": "stderr",
     "output_type": "stream",
     "text": [
      " 23%|██████████████████▍                                                              | 85/373 [03:22<08:03,  1.68s/it]"
     ]
    },
    {
     "name": "stdout",
     "output_type": "stream",
     "text": [
      "711 내용이 없다고? !!\n",
      "{}\n",
      "\n"
     ]
    },
    {
     "name": "stderr",
     "output_type": "stream",
     "text": [
      " 25%|████████████████████▍                                                            | 94/373 [03:39<08:25,  1.81s/it]"
     ]
    },
    {
     "name": "stdout",
     "output_type": "stream",
     "text": [
      "725 내용이 없다고? !!\n",
      "{}\n",
      "\n"
     ]
    },
    {
     "name": "stderr",
     "output_type": "stream",
     "text": [
      " 27%|█████████████████████▍                                                           | 99/373 [03:50<09:45,  2.14s/it]"
     ]
    },
    {
     "name": "stdout",
     "output_type": "stream",
     "text": [
      "750 내용이 없다고? !!\n",
      "{}\n",
      "\n"
     ]
    },
    {
     "name": "stderr",
     "output_type": "stream",
     "text": [
      " 31%|█████████████████████████                                                       | 117/373 [04:32<09:53,  2.32s/it]"
     ]
    },
    {
     "name": "stdout",
     "output_type": "stream",
     "text": [
      "916 내용이 없다고? !!\n",
      "{}\n",
      "\n"
     ]
    },
    {
     "name": "stderr",
     "output_type": "stream",
     "text": [
      " 35%|████████████████████████████▎                                                   | 132/373 [05:03<08:27,  2.11s/it]"
     ]
    },
    {
     "name": "stdout",
     "output_type": "stream",
     "text": [
      "958 내용이 없다고? !!\n",
      "{}\n",
      "\n"
     ]
    },
    {
     "name": "stderr",
     "output_type": "stream",
     "text": [
      "\r",
      " 36%|████████████████████████████▌                                                   | 133/373 [05:06<09:13,  2.30s/it]"
     ]
    },
    {
     "name": "stdout",
     "output_type": "stream",
     "text": [
      "963 내용이 없다고? !!\n",
      "{}\n",
      "\n"
     ]
    },
    {
     "name": "stderr",
     "output_type": "stream",
     "text": [
      " 38%|██████████████████████████████                                                  | 140/373 [05:23<09:19,  2.40s/it]"
     ]
    },
    {
     "name": "stdout",
     "output_type": "stream",
     "text": [
      "1067 내용이 없다고? !!\n",
      "{}\n",
      "\n"
     ]
    },
    {
     "name": "stderr",
     "output_type": "stream",
     "text": [
      " 43%|██████████████████████████████████▎                                             | 160/373 [06:07<08:30,  2.40s/it]"
     ]
    },
    {
     "name": "stdout",
     "output_type": "stream",
     "text": [
      "1476 내용이 없다고? !!\n",
      "{}\n",
      "\n"
     ]
    },
    {
     "name": "stderr",
     "output_type": "stream",
     "text": [
      "\r",
      " 43%|██████████████████████████████████▌                                             | 161/373 [06:09<08:12,  2.33s/it]"
     ]
    },
    {
     "name": "stdout",
     "output_type": "stream",
     "text": [
      "1477 내용이 없다고? !!\n",
      "{}\n",
      "\n"
     ]
    },
    {
     "name": "stderr",
     "output_type": "stream",
     "text": [
      " 46%|████████████████████████████████████▍                                           | 170/373 [06:28<06:56,  2.05s/it]"
     ]
    },
    {
     "name": "stdout",
     "output_type": "stream",
     "text": [
      "1488 내용이 없다고? !!\n",
      "{}\n",
      "\n"
     ]
    },
    {
     "name": "stderr",
     "output_type": "stream",
     "text": [
      " 49%|███████████████████████████████████████▍                                        | 184/373 [07:01<08:40,  2.75s/it]"
     ]
    },
    {
     "name": "stdout",
     "output_type": "stream",
     "text": [
      "1504 내용이 없다고? !!\n",
      "{}\n",
      "\n"
     ]
    },
    {
     "name": "stderr",
     "output_type": "stream",
     "text": [
      " 50%|████████████████████████████████████████▎                                       | 188/373 [07:10<07:48,  2.53s/it]"
     ]
    },
    {
     "name": "stdout",
     "output_type": "stream",
     "text": [
      "1528 내용이 없다고? !!\n",
      "{}\n",
      "\n"
     ]
    },
    {
     "name": "stderr",
     "output_type": "stream",
     "text": [
      " 51%|████████████████████████████████████████▊                                       | 190/373 [07:14<06:49,  2.24s/it]"
     ]
    },
    {
     "name": "stdout",
     "output_type": "stream",
     "text": [
      "1530 내용이 없다고? !!\n",
      "{}\n",
      "\n"
     ]
    },
    {
     "name": "stderr",
     "output_type": "stream",
     "text": [
      " 52%|█████████████████████████████████████████▍                                      | 193/373 [07:20<06:22,  2.13s/it]"
     ]
    },
    {
     "name": "stdout",
     "output_type": "stream",
     "text": [
      "1533 내용이 없다고? !!\n",
      "{}\n",
      "\n"
     ]
    },
    {
     "name": "stderr",
     "output_type": "stream",
     "text": [
      " 53%|██████████████████████████████████████████                                      | 196/373 [07:27<06:51,  2.32s/it]"
     ]
    },
    {
     "name": "stdout",
     "output_type": "stream",
     "text": [
      "1536 내용이 없다고? !!\n",
      "{}\n",
      "\n"
     ]
    },
    {
     "name": "stderr",
     "output_type": "stream",
     "text": [
      " 53%|██████████████████████████████████████████▋                                     | 199/373 [07:34<06:28,  2.23s/it]"
     ]
    },
    {
     "name": "stdout",
     "output_type": "stream",
     "text": [
      "1544 내용이 없다고? !!\n",
      "{}\n",
      "\n"
     ]
    },
    {
     "name": "stderr",
     "output_type": "stream",
     "text": [
      " 54%|███████████████████████████████████████████▎                                    | 202/373 [07:42<07:04,  2.48s/it]"
     ]
    },
    {
     "name": "stdout",
     "output_type": "stream",
     "text": [
      "1552 내용이 없다고? !!\n",
      "{}\n",
      "\n"
     ]
    },
    {
     "name": "stderr",
     "output_type": "stream",
     "text": [
      " 55%|████████████████████████████████████████████▍                                   | 207/373 [07:51<05:34,  2.01s/it]"
     ]
    },
    {
     "name": "stdout",
     "output_type": "stream",
     "text": [
      "1566 내용이 없다고? !!\n",
      "{}\n",
      "\n"
     ]
    },
    {
     "name": "stderr",
     "output_type": "stream",
     "text": [
      " 59%|███████████████████████████████████████████████▍                                | 221/373 [08:17<04:23,  1.73s/it]"
     ]
    },
    {
     "name": "stdout",
     "output_type": "stream",
     "text": [
      "1617 내용이 없다고? !!\n",
      "{}\n",
      "\n"
     ]
    },
    {
     "name": "stderr",
     "output_type": "stream",
     "text": [
      "\r",
      " 60%|███████████████████████████████████████████████▌                                | 222/373 [08:18<04:18,  1.71s/it]"
     ]
    },
    {
     "name": "stdout",
     "output_type": "stream",
     "text": [
      "1618 내용이 없다고? !!\n",
      "{}\n",
      "\n"
     ]
    },
    {
     "name": "stderr",
     "output_type": "stream",
     "text": [
      " 62%|█████████████████████████████████████████████████▎                              | 230/373 [08:33<04:17,  1.80s/it]"
     ]
    },
    {
     "name": "stdout",
     "output_type": "stream",
     "text": [
      "1661 내용이 없다고? !!\n",
      "{}\n",
      "\n"
     ]
    },
    {
     "name": "stderr",
     "output_type": "stream",
     "text": [
      " 62%|█████████████████████████████████████████████████▉                              | 233/373 [08:39<04:34,  1.96s/it]"
     ]
    },
    {
     "name": "stdout",
     "output_type": "stream",
     "text": [
      "1700 내용이 없다고? !!\n",
      "{}\n",
      "\n"
     ]
    },
    {
     "name": "stderr",
     "output_type": "stream",
     "text": [
      "\r",
      " 63%|██████████████████████████████████████████████████▏                             | 234/373 [08:41<04:14,  1.83s/it]"
     ]
    },
    {
     "name": "stdout",
     "output_type": "stream",
     "text": [
      "1759 내용이 없다고? !!\n",
      "{}\n",
      "\n"
     ]
    },
    {
     "name": "stderr",
     "output_type": "stream",
     "text": [
      " 64%|███████████████████████████████████████████████████                             | 238/373 [08:48<04:07,  1.83s/it]"
     ]
    },
    {
     "name": "stdout",
     "output_type": "stream",
     "text": [
      "1765 내용이 없다고? !!\n",
      "{}\n",
      "\n"
     ]
    },
    {
     "name": "stderr",
     "output_type": "stream",
     "text": [
      " 65%|████████████████████████████████████████████████████▎                           | 244/373 [09:02<04:37,  2.15s/it]"
     ]
    },
    {
     "name": "stdout",
     "output_type": "stream",
     "text": [
      "1773 내용이 없다고? !!\n",
      "{}\n",
      "\n"
     ]
    },
    {
     "name": "stderr",
     "output_type": "stream",
     "text": [
      " 70%|███████████████████████████████████████████████████████▉                        | 261/373 [09:36<03:59,  2.14s/it]"
     ]
    },
    {
     "name": "stdout",
     "output_type": "stream",
     "text": [
      "1810 내용이 없다고? !!\n",
      "{}\n",
      "\n"
     ]
    },
    {
     "name": "stderr",
     "output_type": "stream",
     "text": [
      " 72%|█████████████████████████████████████████████████████████▍                      | 268/373 [09:51<03:43,  2.13s/it]"
     ]
    },
    {
     "name": "stdout",
     "output_type": "stream",
     "text": [
      "1833 내용이 없다고? !!\n",
      "{}\n",
      "\n"
     ]
    },
    {
     "name": "stderr",
     "output_type": "stream",
     "text": [
      " 75%|████████████████████████████████████████████████████████████▎                   | 281/373 [10:15<03:10,  2.07s/it]"
     ]
    },
    {
     "name": "stdout",
     "output_type": "stream",
     "text": [
      "1859 내용이 없다고? !!\n",
      "{}\n",
      "\n"
     ]
    },
    {
     "name": "stderr",
     "output_type": "stream",
     "text": [
      " 79%|███████████████████████████████████████████████████████████████▍                | 296/373 [10:41<02:24,  1.88s/it]"
     ]
    },
    {
     "name": "stdout",
     "output_type": "stream",
     "text": [
      "1971 내용이 없다고? !!\n",
      "{}\n",
      "\n"
     ]
    },
    {
     "name": "stderr",
     "output_type": "stream",
     "text": [
      " 82%|█████████████████████████████████████████████████████████████████▏              | 304/373 [11:01<03:25,  2.97s/it]"
     ]
    },
    {
     "name": "stdout",
     "output_type": "stream",
     "text": [
      "2157 내용이 없다고? !!\n",
      "{}\n",
      "\n"
     ]
    },
    {
     "name": "stderr",
     "output_type": "stream",
     "text": [
      " 90%|████████████████████████████████████████████████████████████████████████        | 336/373 [12:06<01:09,  1.87s/it]"
     ]
    },
    {
     "name": "stdout",
     "output_type": "stream",
     "text": [
      "2377 내용이 없다고? !!\n",
      "{}\n",
      "\n"
     ]
    },
    {
     "name": "stderr",
     "output_type": "stream",
     "text": [
      " 91%|████████████████████████████████████████████████████████████████████████▋       | 339/373 [12:12<01:07,  1.99s/it]"
     ]
    },
    {
     "name": "stdout",
     "output_type": "stream",
     "text": [
      "2385 내용이 없다고? !!\n",
      "{}\n",
      "\n"
     ]
    },
    {
     "name": "stderr",
     "output_type": "stream",
     "text": [
      " 92%|█████████████████████████████████████████████████████████████████████████▊      | 344/373 [12:22<00:59,  2.04s/it]"
     ]
    },
    {
     "name": "stdout",
     "output_type": "stream",
     "text": [
      "2422 내용이 없다고? !!\n",
      "{}\n",
      "\n"
     ]
    },
    {
     "name": "stderr",
     "output_type": "stream",
     "text": [
      "100%|████████████████████████████████████████████████████████████████████████████████| 373/373 [13:20<00:00,  2.15s/it]\n"
     ]
    }
   ],
   "source": [
    "for i in tqdm(range(df2.shape[0])):\n",
    "    if len(str(df2.iloc[i][\"last_img\"])) !=3: \n",
    "        try:\n",
    "            opener = urllib.request.build_opener()\n",
    "            opener.addheaders = [('User-Agent','Mozilla/5.0 (Windows NT 6.1; WOW64) AppleWebKit/537.36 (KHTML, like Gecko) Chrome/36.0.1941.0 Safari/537.36')]\n",
    "            urllib.request.install_opener(opener)\n",
    "            \n",
    "            save_number = df2.iloc[i]['index']\n",
    "            save_img_path = f\"Images/2/{save_number}_class2.png\"\n",
    "            save_json_path = f\"annotation/2/{save_number}_class2.json\"\n",
    "            \n",
    "            # 이미지 저장.\n",
    "            urllib.request.urlretrieve(df2.iloc[i][\"last_img\"], save_img_path)\n",
    "            \n",
    "            ### 이미지 글자 추출\n",
    "            time.sleep(1)\n",
    "            files = {\"file\": open(save_img_path, \"rb\").read()}\n",
    "            response = requests.post('http://27.255.77.102:5000/evaluation',files=files)\n",
    "            if response.status_code == 200:\n",
    "                feature_text = response.json()\n",
    "                if len(feature_text) ==0:\n",
    "                    print(save_number,\"내용이 없다고? !!\")\n",
    "                    print(feature_text)\n",
    "                    print()\n",
    "                    continue\n",
    "                else:\n",
    "                    json_files = {\"file\": open(save_img_path, \"rb\").read()}\n",
    "                    with open(save_json_path,'w',  encoding='utf-8') as f:\n",
    "                        json.dump(feature_text, f, ensure_ascii=False, indent='\\t')\n",
    "        except:\n",
    "            pass"
   ]
  },
  {
   "cell_type": "markdown",
   "id": "909a40a8",
   "metadata": {},
   "source": [
    "### 3.2.3 일반 사용자들이 수수료나 협찬 등 제외하고 직접 돈 주고 쓴 후기들 (진솔한 리뷰)"
   ]
  },
  {
   "cell_type": "code",
   "execution_count": 18,
   "id": "e9807319",
   "metadata": {},
   "outputs": [
    {
     "name": "stderr",
     "output_type": "stream",
     "text": [
      "  0%|▏                                                                              | 5/1980 [00:10<1:08:28,  2.08s/it]"
     ]
    },
    {
     "name": "stdout",
     "output_type": "stream",
     "text": [
      "15 내용이 없다고? !!\n",
      "{}\n",
      "\n"
     ]
    },
    {
     "name": "stderr",
     "output_type": "stream",
     "text": [
      "  1%|▋                                                                             | 18/1980 [00:38<1:02:13,  1.90s/it]"
     ]
    },
    {
     "name": "stdout",
     "output_type": "stream",
     "text": [
      "34 내용이 없다고? !!\n",
      "{}\n",
      "\n"
     ]
    },
    {
     "name": "stderr",
     "output_type": "stream",
     "text": [
      "  1%|▉                                                                               | 23/1980 [00:47<56:59,  1.75s/it]"
     ]
    },
    {
     "name": "stdout",
     "output_type": "stream",
     "text": [
      "40 내용이 없다고? !!\n",
      "{}\n",
      "\n"
     ]
    },
    {
     "name": "stderr",
     "output_type": "stream",
     "text": [
      "  2%|█▌                                                                              | 38/1980 [01:15<59:15,  1.83s/it]"
     ]
    },
    {
     "name": "stdout",
     "output_type": "stream",
     "text": [
      "58 내용이 없다고? !!\n",
      "{}\n",
      "\n"
     ]
    },
    {
     "name": "stderr",
     "output_type": "stream",
     "text": [
      "  2%|█▋                                                                            | 42/1980 [01:23<1:02:05,  1.92s/it]"
     ]
    },
    {
     "name": "stdout",
     "output_type": "stream",
     "text": [
      "62 내용이 없다고? !!\n",
      "{}\n",
      "\n"
     ]
    },
    {
     "name": "stderr",
     "output_type": "stream",
     "text": [
      "  2%|█▊                                                                            | 47/1980 [01:32<1:01:37,  1.91s/it]"
     ]
    },
    {
     "name": "stdout",
     "output_type": "stream",
     "text": [
      "67 내용이 없다고? !!\n",
      "{}\n",
      "\n"
     ]
    },
    {
     "name": "stderr",
     "output_type": "stream",
     "text": [
      "  3%|██▎                                                                           | 58/1980 [01:57<1:10:14,  2.19s/it]"
     ]
    },
    {
     "name": "stdout",
     "output_type": "stream",
     "text": [
      "78 내용이 없다고? !!\n",
      "{}\n",
      "\n"
     ]
    },
    {
     "name": "stderr",
     "output_type": "stream",
     "text": [
      "\r",
      "  3%|██▎                                                                           | 59/1980 [01:58<1:04:47,  2.02s/it]"
     ]
    },
    {
     "name": "stdout",
     "output_type": "stream",
     "text": [
      "79 내용이 없다고? !!\n",
      "{}\n",
      "\n"
     ]
    },
    {
     "name": "stderr",
     "output_type": "stream",
     "text": [
      "\r",
      "  3%|██▎                                                                           | 60/1980 [02:00<1:06:13,  2.07s/it]"
     ]
    },
    {
     "name": "stdout",
     "output_type": "stream",
     "text": [
      "80 내용이 없다고? !!\n",
      "{}\n",
      "\n"
     ]
    },
    {
     "name": "stderr",
     "output_type": "stream",
     "text": [
      "  3%|██▌                                                                           | 64/1980 [02:08<1:03:02,  1.97s/it]"
     ]
    },
    {
     "name": "stdout",
     "output_type": "stream",
     "text": [
      "84 내용이 없다고? !!\n",
      "{}\n",
      "\n"
     ]
    },
    {
     "name": "stderr",
     "output_type": "stream",
     "text": [
      "\r",
      "  3%|██▌                                                                           | 65/1980 [02:10<1:04:28,  2.02s/it]"
     ]
    },
    {
     "name": "stdout",
     "output_type": "stream",
     "text": [
      "85 내용이 없다고? !!\n",
      "{}\n",
      "\n"
     ]
    },
    {
     "name": "stderr",
     "output_type": "stream",
     "text": [
      "  3%|██▋                                                                             | 67/1980 [02:14<58:51,  1.85s/it]"
     ]
    },
    {
     "name": "stdout",
     "output_type": "stream",
     "text": [
      "87 내용이 없다고? !!\n",
      "{}\n",
      "\n"
     ]
    },
    {
     "name": "stderr",
     "output_type": "stream",
     "text": [
      "  4%|██▉                                                                             | 73/1980 [02:25<59:56,  1.89s/it]"
     ]
    },
    {
     "name": "stdout",
     "output_type": "stream",
     "text": [
      "93 내용이 없다고? !!\n",
      "{}\n",
      "\n"
     ]
    },
    {
     "name": "stderr",
     "output_type": "stream",
     "text": [
      "\r",
      "  4%|██▉                                                                           | 74/1980 [02:28<1:07:03,  2.11s/it]"
     ]
    },
    {
     "name": "stdout",
     "output_type": "stream",
     "text": [
      "94 내용이 없다고? !!\n",
      "{}\n",
      "\n"
     ]
    },
    {
     "name": "stderr",
     "output_type": "stream",
     "text": [
      "  4%|███▏                                                                          | 80/1980 [02:42<1:14:29,  2.35s/it]"
     ]
    },
    {
     "name": "stdout",
     "output_type": "stream",
     "text": [
      "101 내용이 없다고? !!\n",
      "{}\n",
      "\n"
     ]
    },
    {
     "name": "stderr",
     "output_type": "stream",
     "text": [
      "  4%|███▏                                                                          | 82/1980 [02:46<1:15:59,  2.40s/it]"
     ]
    },
    {
     "name": "stdout",
     "output_type": "stream",
     "text": [
      "104 내용이 없다고? !!\n",
      "{}\n",
      "\n"
     ]
    },
    {
     "name": "stderr",
     "output_type": "stream",
     "text": [
      "  4%|███▎                                                                          | 84/1980 [02:50<1:04:34,  2.04s/it]"
     ]
    },
    {
     "name": "stdout",
     "output_type": "stream",
     "text": [
      "106 내용이 없다고? !!\n",
      "{}\n",
      "\n"
     ]
    },
    {
     "name": "stderr",
     "output_type": "stream",
     "text": [
      "  5%|███▉                                                                         | 102/1980 [03:27<1:18:01,  2.49s/it]"
     ]
    },
    {
     "name": "stdout",
     "output_type": "stream",
     "text": [
      "127 내용이 없다고? !!\n",
      "{}\n",
      "\n"
     ]
    },
    {
     "name": "stderr",
     "output_type": "stream",
     "text": [
      "  5%|████                                                                         | 106/1980 [03:36<1:09:00,  2.21s/it]"
     ]
    },
    {
     "name": "stdout",
     "output_type": "stream",
     "text": [
      "132 내용이 없다고? !!\n",
      "{}\n",
      "\n"
     ]
    },
    {
     "name": "stderr",
     "output_type": "stream",
     "text": [
      "  6%|████▍                                                                          | 112/1980 [03:47<58:53,  1.89s/it]"
     ]
    },
    {
     "name": "stdout",
     "output_type": "stream",
     "text": [
      "140 내용이 없다고? !!\n",
      "{}\n",
      "\n"
     ]
    },
    {
     "name": "stderr",
     "output_type": "stream",
     "text": [
      "  6%|████▋                                                                          | 119/1980 [04:00<57:35,  1.86s/it]"
     ]
    },
    {
     "name": "stdout",
     "output_type": "stream",
     "text": [
      "147 내용이 없다고? !!\n",
      "{}\n",
      "\n"
     ]
    },
    {
     "name": "stderr",
     "output_type": "stream",
     "text": [
      "  6%|████▉                                                                        | 126/1980 [04:16<1:07:17,  2.18s/it]"
     ]
    },
    {
     "name": "stdout",
     "output_type": "stream",
     "text": [
      "154 내용이 없다고? !!\n",
      "{}\n",
      "\n"
     ]
    },
    {
     "name": "stderr",
     "output_type": "stream",
     "text": [
      "  7%|█████                                                                        | 131/1980 [04:27<1:09:20,  2.25s/it]"
     ]
    },
    {
     "name": "stdout",
     "output_type": "stream",
     "text": [
      "160 내용이 없다고? !!\n",
      "{}\n",
      "\n"
     ]
    },
    {
     "name": "stderr",
     "output_type": "stream",
     "text": [
      "  7%|█████▍                                                                       | 140/1980 [04:45<1:02:14,  2.03s/it]"
     ]
    },
    {
     "name": "stdout",
     "output_type": "stream",
     "text": [
      "169 내용이 없다고? !!\n",
      "{}\n",
      "\n"
     ]
    },
    {
     "name": "stderr",
     "output_type": "stream",
     "text": [
      "\r",
      "  7%|█████▍                                                                       | 141/1980 [04:48<1:08:38,  2.24s/it]"
     ]
    },
    {
     "name": "stdout",
     "output_type": "stream",
     "text": [
      "170 내용이 없다고? !!\n",
      "{}\n",
      "\n"
     ]
    },
    {
     "name": "stderr",
     "output_type": "stream",
     "text": [
      "\r",
      "  7%|█████▌                                                                       | 142/1980 [04:50<1:09:20,  2.26s/it]"
     ]
    },
    {
     "name": "stdout",
     "output_type": "stream",
     "text": [
      "171 내용이 없다고? !!\n",
      "{}\n",
      "\n"
     ]
    },
    {
     "name": "stderr",
     "output_type": "stream",
     "text": [
      "  7%|█████▋                                                                       | 146/1980 [04:58<1:01:01,  2.00s/it]"
     ]
    },
    {
     "name": "stdout",
     "output_type": "stream",
     "text": [
      "176 내용이 없다고? !!\n",
      "{}\n",
      "\n"
     ]
    },
    {
     "name": "stderr",
     "output_type": "stream",
     "text": [
      "  8%|█████▉                                                                       | 152/1980 [05:11<1:10:27,  2.31s/it]"
     ]
    },
    {
     "name": "stdout",
     "output_type": "stream",
     "text": [
      "191 내용이 없다고? !!\n",
      "{}\n",
      "\n"
     ]
    },
    {
     "name": "stderr",
     "output_type": "stream",
     "text": [
      "  8%|██████                                                                       | 156/1980 [05:19<1:02:11,  2.05s/it]"
     ]
    },
    {
     "name": "stdout",
     "output_type": "stream",
     "text": [
      "211 내용이 없다고? !!\n",
      "{}\n",
      "\n"
     ]
    },
    {
     "name": "stderr",
     "output_type": "stream",
     "text": [
      "  8%|██████▎                                                                        | 158/1980 [05:23<59:37,  1.96s/it]"
     ]
    },
    {
     "name": "stdout",
     "output_type": "stream",
     "text": [
      "213 내용이 없다고? !!\n",
      "{}\n",
      "\n"
     ]
    },
    {
     "name": "stderr",
     "output_type": "stream",
     "text": [
      "  8%|██████▍                                                                        | 160/1980 [05:26<58:20,  1.92s/it]"
     ]
    },
    {
     "name": "stdout",
     "output_type": "stream",
     "text": [
      "216 내용이 없다고? !!\n",
      "{}\n",
      "\n"
     ]
    },
    {
     "name": "stderr",
     "output_type": "stream",
     "text": [
      "  8%|██████▍                                                                      | 166/1980 [05:42<1:12:30,  2.40s/it]"
     ]
    },
    {
     "name": "stdout",
     "output_type": "stream",
     "text": [
      "223 내용이 없다고? !!\n",
      "{}\n",
      "\n"
     ]
    },
    {
     "name": "stderr",
     "output_type": "stream",
     "text": [
      "  9%|██████▋                                                                      | 171/1980 [05:53<1:05:07,  2.16s/it]"
     ]
    },
    {
     "name": "stdout",
     "output_type": "stream",
     "text": [
      "228 내용이 없다고? !!\n",
      "{}\n",
      "\n"
     ]
    },
    {
     "name": "stderr",
     "output_type": "stream",
     "text": [
      "  9%|███████                                                                      | 182/1980 [06:17<1:09:59,  2.34s/it]"
     ]
    },
    {
     "name": "stdout",
     "output_type": "stream",
     "text": [
      "239 내용이 없다고? !!\n",
      "{}\n",
      "\n"
     ]
    },
    {
     "name": "stderr",
     "output_type": "stream",
     "text": [
      "  9%|███████▏                                                                     | 184/1980 [06:21<1:03:22,  2.12s/it]"
     ]
    },
    {
     "name": "stdout",
     "output_type": "stream",
     "text": [
      "241 내용이 없다고? !!\n",
      "{}\n",
      "\n"
     ]
    },
    {
     "name": "stderr",
     "output_type": "stream",
     "text": [
      "  9%|███████▍                                                                       | 187/1980 [06:27<57:23,  1.92s/it]"
     ]
    },
    {
     "name": "stdout",
     "output_type": "stream",
     "text": [
      "247 내용이 없다고? !!\n",
      "{}\n",
      "\n"
     ]
    },
    {
     "name": "stderr",
     "output_type": "stream",
     "text": [
      " 10%|███████▋                                                                     | 199/1980 [06:53<1:00:33,  2.04s/it]"
     ]
    },
    {
     "name": "stdout",
     "output_type": "stream",
     "text": [
      "261 내용이 없다고? !!\n",
      "{}\n",
      "\n"
     ]
    },
    {
     "name": "stderr",
     "output_type": "stream",
     "text": [
      " 10%|████████                                                                       | 203/1980 [07:01<57:05,  1.93s/it]"
     ]
    },
    {
     "name": "stdout",
     "output_type": "stream",
     "text": [
      "265 내용이 없다고? !!\n",
      "{}\n",
      "\n"
     ]
    },
    {
     "name": "stderr",
     "output_type": "stream",
     "text": [
      " 10%|████████                                                                     | 206/1980 [07:07<1:02:37,  2.12s/it]"
     ]
    },
    {
     "name": "stdout",
     "output_type": "stream",
     "text": [
      "268 내용이 없다고? !!\n",
      "{}\n",
      "\n"
     ]
    },
    {
     "name": "stderr",
     "output_type": "stream",
     "text": [
      " 11%|████████▏                                                                    | 209/1980 [07:17<1:19:31,  2.69s/it]"
     ]
    },
    {
     "name": "stdout",
     "output_type": "stream",
     "text": [
      "272 내용이 없다고? !!\n",
      "{}\n",
      "\n"
     ]
    },
    {
     "name": "stderr",
     "output_type": "stream",
     "text": [
      " 11%|████████▌                                                                    | 221/1980 [07:47<1:12:11,  2.46s/it]"
     ]
    },
    {
     "name": "stdout",
     "output_type": "stream",
     "text": [
      "284 내용이 없다고? !!\n",
      "{}\n",
      "\n"
     ]
    },
    {
     "name": "stderr",
     "output_type": "stream",
     "text": [
      " 11%|████████▉                                                                      | 225/1980 [07:54<56:28,  1.93s/it]"
     ]
    },
    {
     "name": "stdout",
     "output_type": "stream",
     "text": [
      "288 내용이 없다고? !!\n",
      "{}\n",
      "\n"
     ]
    },
    {
     "name": "stderr",
     "output_type": "stream",
     "text": [
      " 11%|█████████                                                                      | 227/1980 [07:58<54:14,  1.86s/it]"
     ]
    },
    {
     "name": "stdout",
     "output_type": "stream",
     "text": [
      "290 내용이 없다고? !!\n",
      "{}\n",
      "\n"
     ]
    },
    {
     "name": "stderr",
     "output_type": "stream",
     "text": [
      "\r",
      " 12%|█████████                                                                      | 228/1980 [08:00<56:20,  1.93s/it]"
     ]
    },
    {
     "name": "stdout",
     "output_type": "stream",
     "text": [
      "291 내용이 없다고? !!\n",
      "{}\n",
      "\n"
     ]
    },
    {
     "name": "stderr",
     "output_type": "stream",
     "text": [
      " 12%|█████████▎                                                                     | 234/1980 [08:11<53:02,  1.82s/it]"
     ]
    },
    {
     "name": "stdout",
     "output_type": "stream",
     "text": [
      "300 내용이 없다고? !!\n",
      "{}\n",
      "\n"
     ]
    },
    {
     "name": "stderr",
     "output_type": "stream",
     "text": [
      "\r",
      " 12%|█████████▍                                                                     | 235/1980 [08:14<58:10,  2.00s/it]"
     ]
    },
    {
     "name": "stdout",
     "output_type": "stream",
     "text": [
      "301 내용이 없다고? !!\n",
      "{}\n",
      "\n"
     ]
    },
    {
     "name": "stderr",
     "output_type": "stream",
     "text": [
      " 13%|█████████▊                                                                   | 253/1980 [08:46<1:01:57,  2.15s/it]"
     ]
    },
    {
     "name": "stdout",
     "output_type": "stream",
     "text": [
      "324 내용이 없다고? !!\n",
      "{}\n",
      "\n"
     ]
    },
    {
     "name": "stderr",
     "output_type": "stream",
     "text": [
      "\r",
      " 13%|█████████▉                                                                   | 254/1980 [08:48<1:02:55,  2.19s/it]"
     ]
    },
    {
     "name": "stdout",
     "output_type": "stream",
     "text": [
      "325 내용이 없다고? !!\n",
      "{}\n",
      "\n"
     ]
    },
    {
     "name": "stderr",
     "output_type": "stream",
     "text": [
      " 13%|██████████▎                                                                    | 259/1980 [08:57<54:37,  1.90s/it]"
     ]
    },
    {
     "name": "stdout",
     "output_type": "stream",
     "text": [
      "334 내용이 없다고? !!\n",
      "{}\n",
      "\n"
     ]
    },
    {
     "name": "stderr",
     "output_type": "stream",
     "text": [
      "\r",
      " 13%|██████████▎                                                                    | 260/1980 [08:59<54:50,  1.91s/it]"
     ]
    },
    {
     "name": "stdout",
     "output_type": "stream",
     "text": [
      "340 내용이 없다고? !!\n",
      "{}\n",
      "\n"
     ]
    },
    {
     "name": "stderr",
     "output_type": "stream",
     "text": [
      " 14%|███████████                                                                    | 276/1980 [09:29<48:12,  1.70s/it]"
     ]
    },
    {
     "name": "stdout",
     "output_type": "stream",
     "text": [
      "363 내용이 없다고? !!\n",
      "{}\n",
      "\n"
     ]
    },
    {
     "name": "stderr",
     "output_type": "stream",
     "text": [
      " 14%|███████████                                                                    | 278/1980 [09:32<47:42,  1.68s/it]"
     ]
    },
    {
     "name": "stdout",
     "output_type": "stream",
     "text": [
      "365 내용이 없다고? !!\n",
      "{}\n",
      "\n"
     ]
    },
    {
     "name": "stderr",
     "output_type": "stream",
     "text": [
      " 14%|██████████▉                                                                  | 281/1980 [09:39<1:00:57,  2.15s/it]"
     ]
    },
    {
     "name": "stdout",
     "output_type": "stream",
     "text": [
      "368 내용이 없다고? !!\n",
      "{}\n",
      "\n"
     ]
    },
    {
     "name": "stderr",
     "output_type": "stream",
     "text": [
      "\r",
      " 14%|███████████▎                                                                   | 282/1980 [09:41<55:57,  1.98s/it]"
     ]
    },
    {
     "name": "stdout",
     "output_type": "stream",
     "text": [
      "369 내용이 없다고? !!\n",
      "{}\n",
      "\n"
     ]
    },
    {
     "name": "stderr",
     "output_type": "stream",
     "text": [
      " 15%|███████████▌                                                                 | 297/1980 [10:15<1:07:10,  2.39s/it]"
     ]
    },
    {
     "name": "stdout",
     "output_type": "stream",
     "text": [
      "385 내용이 없다고? !!\n",
      "{}\n",
      "\n"
     ]
    },
    {
     "name": "stderr",
     "output_type": "stream",
     "text": [
      "\r",
      " 15%|███████████▌                                                                 | 298/1980 [10:17<1:00:58,  2.18s/it]"
     ]
    },
    {
     "name": "stdout",
     "output_type": "stream",
     "text": [
      "386 내용이 없다고? !!\n",
      "{}\n",
      "\n"
     ]
    },
    {
     "name": "stderr",
     "output_type": "stream",
     "text": [
      " 15%|████████████                                                                   | 303/1980 [10:28<55:07,  1.97s/it]"
     ]
    },
    {
     "name": "stdout",
     "output_type": "stream",
     "text": [
      "393 내용이 없다고? !!\n",
      "{}\n",
      "\n"
     ]
    },
    {
     "name": "stderr",
     "output_type": "stream",
     "text": [
      " 15%|████████████▏                                                                  | 306/1980 [10:33<54:53,  1.97s/it]"
     ]
    },
    {
     "name": "stdout",
     "output_type": "stream",
     "text": [
      "396 내용이 없다고? !!\n",
      "{}\n",
      "\n"
     ]
    },
    {
     "name": "stderr",
     "output_type": "stream",
     "text": [
      " 16%|████████████▉                                                                  | 323/1980 [11:08<55:14,  2.00s/it]"
     ]
    },
    {
     "name": "stdout",
     "output_type": "stream",
     "text": [
      "416 내용이 없다고? !!\n",
      "{}\n",
      "\n"
     ]
    },
    {
     "name": "stderr",
     "output_type": "stream",
     "text": [
      " 16%|████████████▉                                                                  | 325/1980 [11:11<49:38,  1.80s/it]"
     ]
    },
    {
     "name": "stdout",
     "output_type": "stream",
     "text": [
      "419 내용이 없다고? !!\n",
      "{}\n",
      "\n"
     ]
    },
    {
     "name": "stderr",
     "output_type": "stream",
     "text": [
      " 17%|█████████████                                                                  | 328/1980 [11:16<47:56,  1.74s/it]"
     ]
    },
    {
     "name": "stdout",
     "output_type": "stream",
     "text": [
      "422 내용이 없다고? !!\n",
      "{}\n",
      "\n"
     ]
    },
    {
     "name": "stderr",
     "output_type": "stream",
     "text": [
      " 17%|█████████████▎                                                                 | 334/1980 [11:27<49:59,  1.82s/it]"
     ]
    },
    {
     "name": "stdout",
     "output_type": "stream",
     "text": [
      "428 내용이 없다고? !!\n",
      "{}\n",
      "\n"
     ]
    },
    {
     "name": "stderr",
     "output_type": "stream",
     "text": [
      "\r",
      " 17%|█████████████▎                                                                 | 335/1980 [11:30<53:25,  1.95s/it]"
     ]
    },
    {
     "name": "stdout",
     "output_type": "stream",
     "text": [
      "429 내용이 없다고? !!\n",
      "{}\n",
      "\n"
     ]
    },
    {
     "name": "stderr",
     "output_type": "stream",
     "text": [
      " 18%|█████████████▊                                                                 | 347/1980 [12:00<58:52,  2.16s/it]"
     ]
    },
    {
     "name": "stdout",
     "output_type": "stream",
     "text": [
      "442 내용이 없다고? !!\n",
      "{}\n",
      "\n"
     ]
    },
    {
     "name": "stderr",
     "output_type": "stream",
     "text": [
      " 18%|██████████████▎                                                                | 360/1980 [12:27<58:24,  2.16s/it]"
     ]
    },
    {
     "name": "stdout",
     "output_type": "stream",
     "text": [
      "455 내용이 없다고? !!\n",
      "{}\n",
      "\n"
     ]
    },
    {
     "name": "stderr",
     "output_type": "stream",
     "text": [
      " 19%|██████████████▊                                                                | 371/1980 [12:49<49:52,  1.86s/it]"
     ]
    },
    {
     "name": "stdout",
     "output_type": "stream",
     "text": [
      "466 내용이 없다고? !!\n",
      "{}\n",
      "\n"
     ]
    },
    {
     "name": "stderr",
     "output_type": "stream",
     "text": [
      "\r",
      " 19%|██████████████▊                                                                | 372/1980 [12:51<47:39,  1.78s/it]"
     ]
    },
    {
     "name": "stdout",
     "output_type": "stream",
     "text": [
      "467 내용이 없다고? !!\n",
      "{}\n",
      "\n"
     ]
    },
    {
     "name": "stderr",
     "output_type": "stream",
     "text": [
      "\r",
      " 19%|██████████████▉                                                                | 373/1980 [12:53<49:00,  1.83s/it]"
     ]
    },
    {
     "name": "stdout",
     "output_type": "stream",
     "text": [
      "468 내용이 없다고? !!\n",
      "{}\n",
      "\n"
     ]
    },
    {
     "name": "stderr",
     "output_type": "stream",
     "text": [
      " 19%|███████████████▏                                                               | 380/1980 [13:05<46:32,  1.75s/it]"
     ]
    },
    {
     "name": "stdout",
     "output_type": "stream",
     "text": [
      "475 내용이 없다고? !!\n",
      "{}\n",
      "\n"
     ]
    },
    {
     "name": "stderr",
     "output_type": "stream",
     "text": [
      " 20%|███████████████▍                                                               | 387/1980 [13:19<53:42,  2.02s/it]"
     ]
    },
    {
     "name": "stdout",
     "output_type": "stream",
     "text": [
      "482 내용이 없다고? !!\n",
      "{}\n",
      "\n"
     ]
    },
    {
     "name": "stderr",
     "output_type": "stream",
     "text": [
      "\r",
      " 20%|███████████████▍                                                               | 388/1980 [13:21<50:32,  1.90s/it]"
     ]
    },
    {
     "name": "stdout",
     "output_type": "stream",
     "text": [
      "483 내용이 없다고? !!\n",
      "{}\n",
      "\n"
     ]
    },
    {
     "name": "stderr",
     "output_type": "stream",
     "text": [
      "\r",
      " 20%|███████████████▌                                                               | 389/1980 [13:23<49:56,  1.88s/it]"
     ]
    },
    {
     "name": "stdout",
     "output_type": "stream",
     "text": [
      "484 내용이 없다고? !!\n",
      "{}\n",
      "\n"
     ]
    },
    {
     "name": "stderr",
     "output_type": "stream",
     "text": [
      " 20%|███████████████▋                                                               | 392/1980 [13:29<54:49,  2.07s/it]"
     ]
    },
    {
     "name": "stdout",
     "output_type": "stream",
     "text": [
      "487 내용이 없다고? !!\n",
      "{}\n",
      "\n"
     ]
    },
    {
     "name": "stderr",
     "output_type": "stream",
     "text": [
      " 20%|███████████████▊                                                               | 395/1980 [13:35<47:52,  1.81s/it]"
     ]
    },
    {
     "name": "stdout",
     "output_type": "stream",
     "text": [
      "491 내용이 없다고? !!\n",
      "{}\n",
      "\n"
     ]
    },
    {
     "name": "stderr",
     "output_type": "stream",
     "text": [
      "\r",
      " 20%|███████████████▊                                                               | 396/1980 [13:36<47:10,  1.79s/it]"
     ]
    },
    {
     "name": "stdout",
     "output_type": "stream",
     "text": [
      "492 내용이 없다고? !!\n",
      "{}\n",
      "\n"
     ]
    },
    {
     "name": "stderr",
     "output_type": "stream",
     "text": [
      "\r",
      " 20%|███████████████▊                                                               | 397/1980 [13:38<49:10,  1.86s/it]"
     ]
    },
    {
     "name": "stdout",
     "output_type": "stream",
     "text": [
      "493 내용이 없다고? !!\n",
      "{}\n",
      "\n"
     ]
    },
    {
     "name": "stderr",
     "output_type": "stream",
     "text": [
      " 20%|███████████████▉                                                               | 401/1980 [13:48<52:36,  2.00s/it]"
     ]
    },
    {
     "name": "stdout",
     "output_type": "stream",
     "text": [
      "498 내용이 없다고? !!\n",
      "{}\n",
      "\n"
     ]
    },
    {
     "name": "stderr",
     "output_type": "stream",
     "text": [
      "\r",
      " 20%|████████████████                                                               | 402/1980 [13:50<51:44,  1.97s/it]"
     ]
    },
    {
     "name": "stdout",
     "output_type": "stream",
     "text": [
      "499 내용이 없다고? !!\n",
      "{}\n",
      "\n"
     ]
    },
    {
     "name": "stderr",
     "output_type": "stream",
     "text": [
      " 20%|████████████████▏                                                              | 405/1980 [13:56<53:57,  2.06s/it]"
     ]
    },
    {
     "name": "stdout",
     "output_type": "stream",
     "text": [
      "502 내용이 없다고? !!\n",
      "{}\n",
      "\n"
     ]
    },
    {
     "name": "stderr",
     "output_type": "stream",
     "text": [
      " 21%|████████████████▍                                                              | 413/1980 [14:11<44:25,  1.70s/it]"
     ]
    },
    {
     "name": "stdout",
     "output_type": "stream",
     "text": [
      "510 내용이 없다고? !!\n",
      "{}\n",
      "\n"
     ]
    },
    {
     "name": "stderr",
     "output_type": "stream",
     "text": [
      "\r",
      " 21%|████████████████▌                                                              | 416/1980 [14:13<28:09,  1.08s/it]"
     ]
    },
    {
     "name": "stdout",
     "output_type": "stream",
     "text": [
      "513 내용이 없다고? !!\n",
      "{}\n",
      "\n"
     ]
    },
    {
     "name": "stderr",
     "output_type": "stream",
     "text": [
      "\r",
      " 21%|████████████████▋                                                              | 417/1980 [14:15<33:47,  1.30s/it]"
     ]
    },
    {
     "name": "stdout",
     "output_type": "stream",
     "text": [
      "515 내용이 없다고? !!\n",
      "{}\n",
      "\n"
     ]
    },
    {
     "name": "stderr",
     "output_type": "stream",
     "text": [
      " 21%|████████████████▍                                                            | 422/1980 [14:28<1:05:26,  2.52s/it]"
     ]
    },
    {
     "name": "stdout",
     "output_type": "stream",
     "text": [
      "520 내용이 없다고? !!\n",
      "{}\n",
      "\n"
     ]
    },
    {
     "name": "stderr",
     "output_type": "stream",
     "text": [
      "\r",
      " 21%|████████████████▉                                                              | 423/1980 [14:30<59:22,  2.29s/it]"
     ]
    },
    {
     "name": "stdout",
     "output_type": "stream",
     "text": [
      "521 내용이 없다고? !!\n",
      "{}\n",
      "\n"
     ]
    },
    {
     "name": "stderr",
     "output_type": "stream",
     "text": [
      " 22%|█████████████████▏                                                             | 430/1980 [14:39<34:24,  1.33s/it]"
     ]
    },
    {
     "name": "stdout",
     "output_type": "stream",
     "text": [
      "528 내용이 없다고? !!\n",
      "{}\n",
      "\n"
     ]
    },
    {
     "name": "stderr",
     "output_type": "stream",
     "text": [
      " 22%|█████████████████▍                                                             | 437/1980 [14:55<56:45,  2.21s/it]"
     ]
    },
    {
     "name": "stdout",
     "output_type": "stream",
     "text": [
      "537 내용이 없다고? !!\n",
      "{}\n",
      "\n"
     ]
    },
    {
     "name": "stderr",
     "output_type": "stream",
     "text": [
      " 22%|█████████████████▏                                                           | 442/1980 [15:08<1:09:16,  2.70s/it]"
     ]
    },
    {
     "name": "stdout",
     "output_type": "stream",
     "text": [
      "543 내용이 없다고? !!\n",
      "{}\n",
      "\n"
     ]
    },
    {
     "name": "stderr",
     "output_type": "stream",
     "text": [
      " 22%|█████████████████▊                                                             | 445/1980 [15:13<51:45,  2.02s/it]"
     ]
    },
    {
     "name": "stdout",
     "output_type": "stream",
     "text": [
      "546 내용이 없다고? !!\n",
      "{}\n",
      "\n"
     ]
    },
    {
     "name": "stderr",
     "output_type": "stream",
     "text": [
      " 23%|█████████████████▊                                                             | 447/1980 [15:18<52:14,  2.04s/it]"
     ]
    },
    {
     "name": "stdout",
     "output_type": "stream",
     "text": [
      "549 내용이 없다고? !!\n",
      "{}\n",
      "\n"
     ]
    },
    {
     "name": "stderr",
     "output_type": "stream",
     "text": [
      "\r",
      " 23%|█████████████████▊                                                             | 448/1980 [15:20<52:38,  2.06s/it]"
     ]
    },
    {
     "name": "stdout",
     "output_type": "stream",
     "text": [
      "550 내용이 없다고? !!\n",
      "{}\n",
      "\n"
     ]
    },
    {
     "name": "stderr",
     "output_type": "stream",
     "text": [
      " 23%|██████████████████▏                                                            | 455/1980 [15:33<47:48,  1.88s/it]"
     ]
    },
    {
     "name": "stdout",
     "output_type": "stream",
     "text": [
      "558 내용이 없다고? !!\n",
      "{}\n",
      "\n"
     ]
    },
    {
     "name": "stderr",
     "output_type": "stream",
     "text": [
      "\r",
      " 23%|██████████████████▏                                                            | 456/1980 [15:35<46:59,  1.85s/it]"
     ]
    },
    {
     "name": "stdout",
     "output_type": "stream",
     "text": [
      "559 내용이 없다고? !!\n",
      "{}\n",
      "\n"
     ]
    },
    {
     "name": "stderr",
     "output_type": "stream",
     "text": [
      " 24%|███████████████████                                                            | 478/1980 [16:27<47:11,  1.89s/it]"
     ]
    },
    {
     "name": "stdout",
     "output_type": "stream",
     "text": [
      "588 내용이 없다고? !!\n",
      "{}\n",
      "\n"
     ]
    },
    {
     "name": "stderr",
     "output_type": "stream",
     "text": [
      " 24%|███████████████████▎                                                           | 483/1980 [16:37<50:50,  2.04s/it]"
     ]
    },
    {
     "name": "stdout",
     "output_type": "stream",
     "text": [
      "595 내용이 없다고? !!\n",
      "{}\n",
      "\n"
     ]
    },
    {
     "name": "stderr",
     "output_type": "stream",
     "text": [
      " 25%|███████████████████▋                                                           | 492/1980 [16:56<48:30,  1.96s/it]"
     ]
    },
    {
     "name": "stdout",
     "output_type": "stream",
     "text": [
      "606 내용이 없다고? !!\n",
      "{}\n",
      "\n"
     ]
    },
    {
     "name": "stderr",
     "output_type": "stream",
     "text": [
      " 25%|███████████████████▊                                                           | 498/1980 [17:11<58:00,  2.35s/it]"
     ]
    },
    {
     "name": "stdout",
     "output_type": "stream",
     "text": [
      "613 내용이 없다고? !!\n",
      "{}\n",
      "\n"
     ]
    },
    {
     "name": "stderr",
     "output_type": "stream",
     "text": [
      " 25%|███████████████████▉                                                           | 501/1980 [17:17<48:26,  1.97s/it]"
     ]
    },
    {
     "name": "stdout",
     "output_type": "stream",
     "text": [
      "616 내용이 없다고? !!\n",
      "{}\n",
      "\n"
     ]
    },
    {
     "name": "stderr",
     "output_type": "stream",
     "text": [
      "\r",
      " 25%|████████████████████                                                           | 502/1980 [17:18<46:59,  1.91s/it]"
     ]
    },
    {
     "name": "stdout",
     "output_type": "stream",
     "text": [
      "618 내용이 없다고? !!\n",
      "{}\n",
      "\n"
     ]
    },
    {
     "name": "stderr",
     "output_type": "stream",
     "text": [
      " 26%|████████████████████▏                                                          | 506/1980 [17:27<50:38,  2.06s/it]"
     ]
    },
    {
     "name": "stdout",
     "output_type": "stream",
     "text": [
      "622 내용이 없다고? !!\n",
      "{}\n",
      "\n"
     ]
    },
    {
     "name": "stderr",
     "output_type": "stream",
     "text": [
      "\r",
      " 26%|████████████████████▏                                                          | 507/1980 [17:30<55:31,  2.26s/it]"
     ]
    },
    {
     "name": "stdout",
     "output_type": "stream",
     "text": [
      "623 내용이 없다고? !!\n",
      "{}\n",
      "\n"
     ]
    },
    {
     "name": "stderr",
     "output_type": "stream",
     "text": [
      " 27%|█████████████████████▏                                                         | 532/1980 [18:21<48:37,  2.01s/it]"
     ]
    },
    {
     "name": "stdout",
     "output_type": "stream",
     "text": [
      "661 내용이 없다고? !!\n",
      "{}\n",
      "\n"
     ]
    },
    {
     "name": "stderr",
     "output_type": "stream",
     "text": [
      " 28%|█████████████████████▋                                                         | 545/1980 [18:46<44:57,  1.88s/it]"
     ]
    },
    {
     "name": "stdout",
     "output_type": "stream",
     "text": [
      "685 내용이 없다고? !!\n",
      "{}\n",
      "\n"
     ]
    },
    {
     "name": "stderr",
     "output_type": "stream",
     "text": [
      "\r",
      " 28%|█████████████████████▊                                                         | 547/1980 [18:49<36:45,  1.54s/it]"
     ]
    },
    {
     "name": "stdout",
     "output_type": "stream",
     "text": [
      "690 내용이 없다고? !!\n",
      "{}\n",
      "\n"
     ]
    },
    {
     "name": "stderr",
     "output_type": "stream",
     "text": [
      " 28%|█████████████████████▉                                                         | 551/1980 [18:58<49:48,  2.09s/it]"
     ]
    },
    {
     "name": "stdout",
     "output_type": "stream",
     "text": [
      "700 내용이 없다고? !!\n",
      "{}\n",
      "\n"
     ]
    },
    {
     "name": "stderr",
     "output_type": "stream",
     "text": [
      " 28%|██████████████████████▎                                                        | 559/1980 [19:14<47:44,  2.02s/it]"
     ]
    },
    {
     "name": "stdout",
     "output_type": "stream",
     "text": [
      "716 내용이 없다고? !!\n",
      "{}\n",
      "\n"
     ]
    },
    {
     "name": "stderr",
     "output_type": "stream",
     "text": [
      " 28%|██████████████████████▍                                                        | 561/1980 [19:18<44:01,  1.86s/it]"
     ]
    },
    {
     "name": "stdout",
     "output_type": "stream",
     "text": [
      "721 내용이 없다고? !!\n",
      "{}\n",
      "\n"
     ]
    },
    {
     "name": "stderr",
     "output_type": "stream",
     "text": [
      " 28%|██████████████████████▌                                                        | 564/1980 [19:23<43:31,  1.84s/it]"
     ]
    },
    {
     "name": "stdout",
     "output_type": "stream",
     "text": [
      "729 내용이 없다고? !!\n",
      "{}\n",
      "\n"
     ]
    },
    {
     "name": "stderr",
     "output_type": "stream",
     "text": [
      " 29%|██████████████████████▉                                                        | 574/1980 [19:43<44:54,  1.92s/it]"
     ]
    },
    {
     "name": "stdout",
     "output_type": "stream",
     "text": [
      "740 내용이 없다고? !!\n",
      "{}\n",
      "\n"
     ]
    },
    {
     "name": "stderr",
     "output_type": "stream",
     "text": [
      " 29%|███████████████████████                                                        | 578/1980 [19:54<59:04,  2.53s/it]"
     ]
    },
    {
     "name": "stdout",
     "output_type": "stream",
     "text": [
      "747 내용이 없다고? !!\n",
      "{}\n",
      "\n"
     ]
    },
    {
     "name": "stderr",
     "output_type": "stream",
     "text": [
      " 29%|███████████████████████▎                                                       | 583/1980 [20:05<54:44,  2.35s/it]"
     ]
    },
    {
     "name": "stdout",
     "output_type": "stream",
     "text": [
      "754 내용이 없다고? !!\n",
      "{}\n",
      "\n"
     ]
    },
    {
     "name": "stderr",
     "output_type": "stream",
     "text": [
      " 30%|███████████████████████▎                                                       | 585/1980 [20:09<52:14,  2.25s/it]"
     ]
    },
    {
     "name": "stdout",
     "output_type": "stream",
     "text": [
      "758 내용이 없다고? !!\n",
      "{}\n",
      "\n"
     ]
    },
    {
     "name": "stderr",
     "output_type": "stream",
     "text": [
      " 30%|███████████████████████▍                                                       | 587/1980 [20:13<49:46,  2.14s/it]"
     ]
    },
    {
     "name": "stdout",
     "output_type": "stream",
     "text": [
      "761 내용이 없다고? !!\n",
      "{}\n",
      "\n"
     ]
    },
    {
     "name": "stderr",
     "output_type": "stream",
     "text": [
      " 30%|███████████████████████▋                                                       | 593/1980 [20:24<43:38,  1.89s/it]"
     ]
    },
    {
     "name": "stdout",
     "output_type": "stream",
     "text": [
      "768 내용이 없다고? !!\n",
      "{}\n",
      "\n"
     ]
    },
    {
     "name": "stderr",
     "output_type": "stream",
     "text": [
      " 30%|███████████████████████▊                                                       | 596/1980 [20:31<48:00,  2.08s/it]"
     ]
    },
    {
     "name": "stdout",
     "output_type": "stream",
     "text": [
      "771 내용이 없다고? !!\n",
      "{}\n",
      "\n"
     ]
    },
    {
     "name": "stderr",
     "output_type": "stream",
     "text": [
      " 31%|████████████████████████▏                                                      | 607/1980 [20:50<41:49,  1.83s/it]"
     ]
    },
    {
     "name": "stdout",
     "output_type": "stream",
     "text": [
      "786 내용이 없다고? !!\n",
      "{}\n",
      "\n"
     ]
    },
    {
     "name": "stderr",
     "output_type": "stream",
     "text": [
      " 31%|████████████████████████▍                                                      | 612/1980 [20:59<40:43,  1.79s/it]"
     ]
    },
    {
     "name": "stdout",
     "output_type": "stream",
     "text": [
      "791 내용이 없다고? !!\n",
      "{}\n",
      "\n"
     ]
    },
    {
     "name": "stderr",
     "output_type": "stream",
     "text": [
      " 31%|████████████████████████▌                                                      | 615/1980 [21:06<46:25,  2.04s/it]"
     ]
    },
    {
     "name": "stdout",
     "output_type": "stream",
     "text": [
      "795 내용이 없다고? !!\n",
      "{}\n",
      "\n"
     ]
    },
    {
     "name": "stderr",
     "output_type": "stream",
     "text": [
      "\r",
      " 31%|████████████████████████▌                                                      | 616/1980 [21:07<43:35,  1.92s/it]"
     ]
    },
    {
     "name": "stdout",
     "output_type": "stream",
     "text": [
      "797 내용이 없다고? !!\n",
      "{}\n",
      "\n"
     ]
    },
    {
     "name": "stderr",
     "output_type": "stream",
     "text": [
      " 31%|████████████████████████▊                                                      | 621/1980 [21:17<42:57,  1.90s/it]"
     ]
    },
    {
     "name": "stdout",
     "output_type": "stream",
     "text": [
      "802 내용이 없다고? !!\n",
      "{}\n",
      "\n"
     ]
    },
    {
     "name": "stderr",
     "output_type": "stream",
     "text": [
      "\r",
      " 31%|████████████████████████▊                                                      | 622/1980 [21:19<43:35,  1.93s/it]"
     ]
    },
    {
     "name": "stdout",
     "output_type": "stream",
     "text": [
      "803 내용이 없다고? !!\n",
      "{}\n",
      "\n"
     ]
    },
    {
     "name": "stderr",
     "output_type": "stream",
     "text": [
      " 32%|█████████████████████████                                                      | 629/1980 [21:30<36:33,  1.62s/it]"
     ]
    },
    {
     "name": "stdout",
     "output_type": "stream",
     "text": [
      "811 내용이 없다고? !!\n",
      "{}\n",
      "\n"
     ]
    },
    {
     "name": "stderr",
     "output_type": "stream",
     "text": [
      "\r",
      " 32%|█████████████████████████▏                                                     | 630/1980 [21:31<36:28,  1.62s/it]"
     ]
    },
    {
     "name": "stdout",
     "output_type": "stream",
     "text": [
      "812 내용이 없다고? !!\n",
      "{}\n",
      "\n"
     ]
    },
    {
     "name": "stderr",
     "output_type": "stream",
     "text": [
      " 32%|█████████████████████████▍                                                     | 636/1980 [21:45<51:34,  2.30s/it]"
     ]
    },
    {
     "name": "stdout",
     "output_type": "stream",
     "text": [
      "818 내용이 없다고? !!\n",
      "{}\n",
      "\n"
     ]
    },
    {
     "name": "stderr",
     "output_type": "stream",
     "text": [
      " 32%|█████████████████████████▍                                                     | 638/1980 [21:50<53:31,  2.39s/it]"
     ]
    },
    {
     "name": "stdout",
     "output_type": "stream",
     "text": [
      "821 내용이 없다고? !!\n",
      "{}\n",
      "\n"
     ]
    },
    {
     "name": "stderr",
     "output_type": "stream",
     "text": [
      " 32%|█████████████████████████▌                                                     | 640/1980 [21:54<49:57,  2.24s/it]"
     ]
    },
    {
     "name": "stdout",
     "output_type": "stream",
     "text": [
      "824 내용이 없다고? !!\n",
      "{}\n",
      "\n"
     ]
    },
    {
     "name": "stderr",
     "output_type": "stream",
     "text": [
      " 32%|█████████████████████████▌                                                     | 642/1980 [21:57<43:17,  1.94s/it]"
     ]
    },
    {
     "name": "stdout",
     "output_type": "stream",
     "text": [
      "828 내용이 없다고? !!\n",
      "{}\n",
      "\n"
     ]
    },
    {
     "name": "stderr",
     "output_type": "stream",
     "text": [
      " 33%|█████████████████████████▋                                                     | 645/1980 [22:04<44:29,  2.00s/it]"
     ]
    },
    {
     "name": "stdout",
     "output_type": "stream",
     "text": [
      "831 내용이 없다고? !!\n",
      "{}\n",
      "\n"
     ]
    },
    {
     "name": "stderr",
     "output_type": "stream",
     "text": [
      " 33%|█████████████████████████▊                                                     | 647/1980 [22:08<44:45,  2.01s/it]"
     ]
    },
    {
     "name": "stdout",
     "output_type": "stream",
     "text": [
      "833 내용이 없다고? !!\n",
      "{}\n",
      "\n"
     ]
    },
    {
     "name": "stderr",
     "output_type": "stream",
     "text": [
      "\r",
      " 33%|█████████████████████████▊                                                     | 648/1980 [22:09<41:41,  1.88s/it]"
     ]
    },
    {
     "name": "stdout",
     "output_type": "stream",
     "text": [
      "834 내용이 없다고? !!\n",
      "{}\n",
      "\n"
     ]
    },
    {
     "name": "stderr",
     "output_type": "stream",
     "text": [
      " 33%|█████████████████████████▉                                                     | 651/1980 [22:17<49:45,  2.25s/it]"
     ]
    },
    {
     "name": "stdout",
     "output_type": "stream",
     "text": [
      "837 내용이 없다고? !!\n",
      "{}\n",
      "\n"
     ]
    },
    {
     "name": "stderr",
     "output_type": "stream",
     "text": [
      "\r",
      " 33%|██████████████████████████                                                     | 652/1980 [22:19<47:38,  2.15s/it]"
     ]
    },
    {
     "name": "stdout",
     "output_type": "stream",
     "text": [
      "838 내용이 없다고? !!\n",
      "{}\n",
      "\n"
     ]
    },
    {
     "name": "stderr",
     "output_type": "stream",
     "text": [
      "\r",
      " 33%|██████████████████████████                                                     | 653/1980 [22:21<46:22,  2.10s/it]"
     ]
    },
    {
     "name": "stdout",
     "output_type": "stream",
     "text": [
      "839 내용이 없다고? !!\n",
      "{}\n",
      "\n"
     ]
    },
    {
     "name": "stderr",
     "output_type": "stream",
     "text": [
      " 33%|██████████████████████████▏                                                    | 655/1980 [22:25<46:37,  2.11s/it]"
     ]
    },
    {
     "name": "stdout",
     "output_type": "stream",
     "text": [
      "841 내용이 없다고? !!\n",
      "{}\n",
      "\n"
     ]
    },
    {
     "name": "stderr",
     "output_type": "stream",
     "text": [
      " 33%|██████████████████████████▎                                                    | 658/1980 [22:31<45:48,  2.08s/it]"
     ]
    },
    {
     "name": "stdout",
     "output_type": "stream",
     "text": [
      "846 내용이 없다고? !!\n",
      "{}\n",
      "\n"
     ]
    },
    {
     "name": "stderr",
     "output_type": "stream",
     "text": [
      " 33%|██████████████████████████▍                                                    | 662/1980 [22:39<42:08,  1.92s/it]"
     ]
    },
    {
     "name": "stdout",
     "output_type": "stream",
     "text": [
      "850 내용이 없다고? !!\n",
      "{}\n",
      "\n"
     ]
    },
    {
     "name": "stderr",
     "output_type": "stream",
     "text": [
      "\r",
      " 33%|██████████████████████████▍                                                    | 663/1980 [22:41<40:55,  1.86s/it]"
     ]
    },
    {
     "name": "stdout",
     "output_type": "stream",
     "text": [
      "851 내용이 없다고? !!\n",
      "{}\n",
      "\n"
     ]
    },
    {
     "name": "stderr",
     "output_type": "stream",
     "text": [
      " 34%|██████████████████████████▋                                                    | 669/1980 [22:50<35:22,  1.62s/it]"
     ]
    },
    {
     "name": "stdout",
     "output_type": "stream",
     "text": [
      "857 내용이 없다고? !!\n",
      "{}\n",
      "\n"
     ]
    },
    {
     "name": "stderr",
     "output_type": "stream",
     "text": [
      " 34%|██████████████████████████▊                                                    | 673/1980 [22:59<44:48,  2.06s/it]"
     ]
    },
    {
     "name": "stdout",
     "output_type": "stream",
     "text": [
      "863 내용이 없다고? !!\n",
      "{}\n",
      "\n"
     ]
    },
    {
     "name": "stderr",
     "output_type": "stream",
     "text": [
      " 34%|██████████████████████████▉                                                    | 675/1980 [23:04<45:53,  2.11s/it]"
     ]
    },
    {
     "name": "stdout",
     "output_type": "stream",
     "text": [
      "865 내용이 없다고? !!\n",
      "{}\n",
      "\n"
     ]
    },
    {
     "name": "stderr",
     "output_type": "stream",
     "text": [
      " 34%|███████████████████████████▎                                                   | 683/1980 [23:17<38:55,  1.80s/it]"
     ]
    },
    {
     "name": "stdout",
     "output_type": "stream",
     "text": [
      "873 내용이 없다고? !!\n",
      "{}\n",
      "\n"
     ]
    },
    {
     "name": "stderr",
     "output_type": "stream",
     "text": [
      " 35%|███████████████████████████▌                                                   | 692/1980 [23:36<42:23,  1.97s/it]"
     ]
    },
    {
     "name": "stdout",
     "output_type": "stream",
     "text": [
      "883 내용이 없다고? !!\n",
      "{}\n",
      "\n"
     ]
    },
    {
     "name": "stderr",
     "output_type": "stream",
     "text": [
      " 35%|███████████████████████████▊                                                   | 698/1980 [23:48<40:47,  1.91s/it]"
     ]
    },
    {
     "name": "stdout",
     "output_type": "stream",
     "text": [
      "890 내용이 없다고? !!\n",
      "{}\n",
      "\n"
     ]
    },
    {
     "name": "stderr",
     "output_type": "stream",
     "text": [
      " 36%|████████████████████████████                                                   | 704/1980 [23:59<38:38,  1.82s/it]"
     ]
    },
    {
     "name": "stdout",
     "output_type": "stream",
     "text": [
      "896 내용이 없다고? !!\n",
      "{}\n",
      "\n"
     ]
    },
    {
     "name": "stderr",
     "output_type": "stream",
     "text": [
      " 36%|████████████████████████████▏                                                  | 708/1980 [24:06<37:45,  1.78s/it]"
     ]
    },
    {
     "name": "stdout",
     "output_type": "stream",
     "text": [
      "901 내용이 없다고? !!\n",
      "{}\n",
      "\n"
     ]
    },
    {
     "name": "stderr",
     "output_type": "stream",
     "text": [
      " 36%|████████████████████████████▎                                                  | 710/1980 [24:10<38:21,  1.81s/it]"
     ]
    },
    {
     "name": "stdout",
     "output_type": "stream",
     "text": [
      "903 내용이 없다고? !!\n",
      "{}\n",
      "\n"
     ]
    },
    {
     "name": "stderr",
     "output_type": "stream",
     "text": [
      " 36%|████████████████████████████▌                                                  | 716/1980 [24:20<36:53,  1.75s/it]"
     ]
    },
    {
     "name": "stdout",
     "output_type": "stream",
     "text": [
      "911 내용이 없다고? !!\n",
      "{}\n",
      "\n"
     ]
    },
    {
     "name": "stderr",
     "output_type": "stream",
     "text": [
      " 36%|████████████████████████████▊                                                  | 721/1980 [24:30<40:08,  1.91s/it]"
     ]
    },
    {
     "name": "stdout",
     "output_type": "stream",
     "text": [
      "917 내용이 없다고? !!\n",
      "{}\n",
      "\n"
     ]
    },
    {
     "name": "stderr",
     "output_type": "stream",
     "text": [
      "\r",
      " 36%|████████████████████████████▊                                                  | 722/1980 [24:32<41:42,  1.99s/it]"
     ]
    },
    {
     "name": "stdout",
     "output_type": "stream",
     "text": [
      "919 내용이 없다고? !!\n",
      "{}\n",
      "\n"
     ]
    },
    {
     "name": "stderr",
     "output_type": "stream",
     "text": [
      " 37%|█████████████████████████████                                                  | 729/1980 [24:48<46:24,  2.23s/it]"
     ]
    },
    {
     "name": "stdout",
     "output_type": "stream",
     "text": [
      "927 내용이 없다고? !!\n",
      "{}\n",
      "\n"
     ]
    },
    {
     "name": "stderr",
     "output_type": "stream",
     "text": [
      " 37%|█████████████████████████████▍                                                 | 739/1980 [25:08<43:09,  2.09s/it]"
     ]
    },
    {
     "name": "stdout",
     "output_type": "stream",
     "text": [
      "948 내용이 없다고? !!\n",
      "{}\n",
      "\n"
     ]
    },
    {
     "name": "stderr",
     "output_type": "stream",
     "text": [
      "\r",
      " 37%|█████████████████████████████▌                                                 | 740/1980 [25:10<40:14,  1.95s/it]"
     ]
    },
    {
     "name": "stdout",
     "output_type": "stream",
     "text": [
      "949 내용이 없다고? !!\n",
      "{}\n",
      "\n"
     ]
    },
    {
     "name": "stderr",
     "output_type": "stream",
     "text": [
      " 37%|█████████████████████████████▌                                                 | 742/1980 [25:14<40:03,  1.94s/it]"
     ]
    },
    {
     "name": "stdout",
     "output_type": "stream",
     "text": [
      "952 내용이 없다고? !!\n",
      "{}\n",
      "\n"
     ]
    },
    {
     "name": "stderr",
     "output_type": "stream",
     "text": [
      " 38%|█████████████████████████████▋                                                 | 744/1980 [25:18<42:39,  2.07s/it]"
     ]
    },
    {
     "name": "stdout",
     "output_type": "stream",
     "text": [
      "954 내용이 없다고? !!\n",
      "{}\n",
      "\n"
     ]
    },
    {
     "name": "stderr",
     "output_type": "stream",
     "text": [
      "\r",
      " 38%|█████████████████████████████▋                                                 | 745/1980 [25:20<43:34,  2.12s/it]"
     ]
    },
    {
     "name": "stdout",
     "output_type": "stream",
     "text": [
      "955 내용이 없다고? !!\n",
      "{}\n",
      "\n"
     ]
    },
    {
     "name": "stderr",
     "output_type": "stream",
     "text": [
      "\r",
      " 38%|█████████████████████████████▊                                                 | 746/1980 [25:23<44:24,  2.16s/it]"
     ]
    },
    {
     "name": "stdout",
     "output_type": "stream",
     "text": [
      "956 내용이 없다고? !!\n",
      "{}\n",
      "\n"
     ]
    },
    {
     "name": "stderr",
     "output_type": "stream",
     "text": [
      " 38%|█████████████████████████████▉                                                 | 751/1980 [25:35<49:26,  2.41s/it]"
     ]
    },
    {
     "name": "stdout",
     "output_type": "stream",
     "text": [
      "962 내용이 없다고? !!\n",
      "{}\n",
      "\n"
     ]
    },
    {
     "name": "stderr",
     "output_type": "stream",
     "text": [
      "\r",
      " 38%|██████████████████████████████                                                 | 752/1980 [25:37<46:05,  2.25s/it]"
     ]
    },
    {
     "name": "stdout",
     "output_type": "stream",
     "text": [
      "964 내용이 없다고? !!\n",
      "{}\n",
      "\n"
     ]
    },
    {
     "name": "stderr",
     "output_type": "stream",
     "text": [
      "\r",
      " 38%|██████████████████████████████                                                 | 753/1980 [25:38<43:15,  2.12s/it]"
     ]
    },
    {
     "name": "stdout",
     "output_type": "stream",
     "text": [
      "965 내용이 없다고? !!\n",
      "{}\n",
      "\n"
     ]
    },
    {
     "name": "stderr",
     "output_type": "stream",
     "text": [
      " 38%|██████████████████████████████▏                                                | 756/1980 [25:45<48:09,  2.36s/it]"
     ]
    },
    {
     "name": "stdout",
     "output_type": "stream",
     "text": [
      "968 내용이 없다고? !!\n",
      "{}\n",
      "\n"
     ]
    },
    {
     "name": "stderr",
     "output_type": "stream",
     "text": [
      " 39%|██████████████████████████████▍                                                | 763/1980 [26:01<43:51,  2.16s/it]"
     ]
    },
    {
     "name": "stdout",
     "output_type": "stream",
     "text": [
      "975 내용이 없다고? !!\n",
      "{}\n",
      "\n"
     ]
    },
    {
     "name": "stderr",
     "output_type": "stream",
     "text": [
      " 39%|██████████████████████████████▊                                                | 771/1980 [26:18<41:49,  2.08s/it]"
     ]
    },
    {
     "name": "stdout",
     "output_type": "stream",
     "text": [
      "983 내용이 없다고? !!\n",
      "{}\n",
      "\n"
     ]
    },
    {
     "name": "stderr",
     "output_type": "stream",
     "text": [
      " 40%|███████████████████████████████▏                                               | 783/1980 [26:43<40:16,  2.02s/it]"
     ]
    },
    {
     "name": "stdout",
     "output_type": "stream",
     "text": [
      "996 내용이 없다고? !!\n",
      "{}\n",
      "\n"
     ]
    },
    {
     "name": "stderr",
     "output_type": "stream",
     "text": [
      " 40%|███████████████████████████████▍                                               | 787/1980 [26:51<40:15,  2.02s/it]"
     ]
    },
    {
     "name": "stdout",
     "output_type": "stream",
     "text": [
      "1000 내용이 없다고? !!\n",
      "{}\n",
      "\n"
     ]
    },
    {
     "name": "stderr",
     "output_type": "stream",
     "text": [
      " 40%|███████████████████████████████▍                                               | 789/1980 [26:55<37:25,  1.89s/it]"
     ]
    },
    {
     "name": "stdout",
     "output_type": "stream",
     "text": [
      "1002 내용이 없다고? !!\n",
      "{}\n",
      "\n"
     ]
    },
    {
     "name": "stderr",
     "output_type": "stream",
     "text": [
      "\r",
      " 40%|███████████████████████████████▌                                               | 790/1980 [26:57<36:15,  1.83s/it]"
     ]
    },
    {
     "name": "stdout",
     "output_type": "stream",
     "text": [
      "1003 내용이 없다고? !!\n",
      "{}\n",
      "\n"
     ]
    },
    {
     "name": "stderr",
     "output_type": "stream",
     "text": [
      " 40%|███████████████████████████████▊                                               | 796/1980 [27:08<37:38,  1.91s/it]"
     ]
    },
    {
     "name": "stdout",
     "output_type": "stream",
     "text": [
      "1009 내용이 없다고? !!\n",
      "{}\n",
      "\n"
     ]
    },
    {
     "name": "stderr",
     "output_type": "stream",
     "text": [
      " 41%|████████████████████████████████▎                                              | 810/1980 [27:34<35:51,  1.84s/it]"
     ]
    },
    {
     "name": "stdout",
     "output_type": "stream",
     "text": [
      "1026 내용이 없다고? !!\n",
      "{}\n",
      "\n"
     ]
    },
    {
     "name": "stderr",
     "output_type": "stream",
     "text": [
      " 42%|████████████████████████████████▉                                              | 826/1980 [28:07<39:31,  2.05s/it]"
     ]
    },
    {
     "name": "stdout",
     "output_type": "stream",
     "text": [
      "1045 내용이 없다고? !!\n",
      "{}\n",
      "\n"
     ]
    },
    {
     "name": "stderr",
     "output_type": "stream",
     "text": [
      "\r",
      " 42%|████████████████████████████████▉                                              | 827/1980 [28:08<36:29,  1.90s/it]"
     ]
    },
    {
     "name": "stdout",
     "output_type": "stream",
     "text": [
      "1046 내용이 없다고? !!\n",
      "{}\n",
      "\n"
     ]
    },
    {
     "name": "stderr",
     "output_type": "stream",
     "text": [
      " 42%|█████████████████████████████████▏                                             | 833/1980 [28:19<36:54,  1.93s/it]"
     ]
    },
    {
     "name": "stdout",
     "output_type": "stream",
     "text": [
      "1052 내용이 없다고? !!\n",
      "{}\n",
      "\n"
     ]
    },
    {
     "name": "stderr",
     "output_type": "stream",
     "text": [
      " 42%|█████████████████████████████████▌                                             | 840/1980 [28:35<38:06,  2.01s/it]"
     ]
    },
    {
     "name": "stdout",
     "output_type": "stream",
     "text": [
      "1059 내용이 없다고? !!\n",
      "{}\n",
      "\n"
     ]
    },
    {
     "name": "stderr",
     "output_type": "stream",
     "text": [
      " 43%|████████████████████████████████▉                                            | 847/1980 [28:59<1:16:54,  4.07s/it]"
     ]
    },
    {
     "name": "stdout",
     "output_type": "stream",
     "text": [
      "1069 내용이 없다고? !!\n",
      "{}\n",
      "\n"
     ]
    },
    {
     "name": "stderr",
     "output_type": "stream",
     "text": [
      " 43%|██████████████████████████████████                                             | 853/1980 [29:12<46:28,  2.47s/it]"
     ]
    },
    {
     "name": "stdout",
     "output_type": "stream",
     "text": [
      "1076 내용이 없다고? !!\n",
      "{}\n",
      "\n"
     ]
    },
    {
     "name": "stderr",
     "output_type": "stream",
     "text": [
      " 43%|██████████████████████████████████                                             | 855/1980 [29:15<38:00,  2.03s/it]"
     ]
    },
    {
     "name": "stdout",
     "output_type": "stream",
     "text": [
      "1078 내용이 없다고? !!\n",
      "{}\n",
      "\n"
     ]
    },
    {
     "name": "stderr",
     "output_type": "stream",
     "text": [
      " 43%|██████████████████████████████████▎                                            | 860/1980 [29:28<42:24,  2.27s/it]"
     ]
    },
    {
     "name": "stdout",
     "output_type": "stream",
     "text": [
      "1083 내용이 없다고? !!\n",
      "{}\n",
      "\n"
     ]
    },
    {
     "name": "stderr",
     "output_type": "stream",
     "text": [
      " 44%|██████████████████████████████████▍                                            | 863/1980 [29:34<38:51,  2.09s/it]"
     ]
    },
    {
     "name": "stdout",
     "output_type": "stream",
     "text": [
      "1087 내용이 없다고? !!\n",
      "{}\n",
      "\n"
     ]
    },
    {
     "name": "stderr",
     "output_type": "stream",
     "text": [
      " 44%|██████████████████████████████████▌                                            | 867/1980 [29:41<32:49,  1.77s/it]"
     ]
    },
    {
     "name": "stdout",
     "output_type": "stream",
     "text": [
      "1091 내용이 없다고? !!\n",
      "{}\n",
      "\n"
     ]
    },
    {
     "name": "stderr",
     "output_type": "stream",
     "text": [
      " 44%|██████████████████████████████████▊                                            | 874/1980 [29:55<36:51,  2.00s/it]"
     ]
    },
    {
     "name": "stdout",
     "output_type": "stream",
     "text": [
      "1098 내용이 없다고? !!\n",
      "{}\n",
      "\n"
     ]
    },
    {
     "name": "stderr",
     "output_type": "stream",
     "text": [
      " 44%|██████████████████████████████████▉                                            | 876/1980 [29:59<36:44,  2.00s/it]"
     ]
    },
    {
     "name": "stdout",
     "output_type": "stream",
     "text": [
      "1100 내용이 없다고? !!\n",
      "{}\n",
      "\n"
     ]
    },
    {
     "name": "stderr",
     "output_type": "stream",
     "text": [
      " 44%|███████████████████████████████████                                            | 880/1980 [30:07<36:57,  2.02s/it]"
     ]
    },
    {
     "name": "stdout",
     "output_type": "stream",
     "text": [
      "1104 내용이 없다고? !!\n",
      "{}\n",
      "\n"
     ]
    },
    {
     "name": "stderr",
     "output_type": "stream",
     "text": [
      " 45%|███████████████████████████████████▏                                           | 882/1980 [30:11<37:33,  2.05s/it]"
     ]
    },
    {
     "name": "stdout",
     "output_type": "stream",
     "text": [
      "1106 내용이 없다고? !!\n",
      "{}\n",
      "\n"
     ]
    },
    {
     "name": "stderr",
     "output_type": "stream",
     "text": [
      " 45%|███████████████████████████████████▎                                           | 884/1980 [30:15<34:59,  1.92s/it]"
     ]
    },
    {
     "name": "stdout",
     "output_type": "stream",
     "text": [
      "1108 내용이 없다고? !!\n",
      "{}\n",
      "\n"
     ]
    },
    {
     "name": "stderr",
     "output_type": "stream",
     "text": [
      " 45%|███████████████████████████████████▍                                           | 889/1980 [30:24<33:00,  1.82s/it]"
     ]
    },
    {
     "name": "stdout",
     "output_type": "stream",
     "text": [
      "1113 내용이 없다고? !!\n",
      "{}\n",
      "\n"
     ]
    },
    {
     "name": "stderr",
     "output_type": "stream",
     "text": [
      " 45%|███████████████████████████████████▋                                           | 894/1980 [30:34<35:53,  1.98s/it]"
     ]
    },
    {
     "name": "stdout",
     "output_type": "stream",
     "text": [
      "1118 내용이 없다고? !!\n",
      "{}\n",
      "\n"
     ]
    },
    {
     "name": "stderr",
     "output_type": "stream",
     "text": [
      " 45%|███████████████████████████████████▊                                           | 897/1980 [30:39<32:44,  1.81s/it]"
     ]
    },
    {
     "name": "stdout",
     "output_type": "stream",
     "text": [
      "1121 내용이 없다고? !!\n",
      "{}\n",
      "\n"
     ]
    },
    {
     "name": "stderr",
     "output_type": "stream",
     "text": [
      " 45%|███████████████████████████████████▉                                           | 900/1980 [30:45<34:45,  1.93s/it]"
     ]
    },
    {
     "name": "stdout",
     "output_type": "stream",
     "text": [
      "1124 내용이 없다고? !!\n",
      "{}\n",
      "\n"
     ]
    },
    {
     "name": "stderr",
     "output_type": "stream",
     "text": [
      "\r",
      " 46%|███████████████████████████████████▉                                           | 901/1980 [30:48<36:14,  2.02s/it]"
     ]
    },
    {
     "name": "stdout",
     "output_type": "stream",
     "text": [
      "1125 내용이 없다고? !!\n",
      "{}\n",
      "\n"
     ]
    },
    {
     "name": "stderr",
     "output_type": "stream",
     "text": [
      " 46%|████████████████████████████████████▏                                          | 908/1980 [31:03<36:14,  2.03s/it]"
     ]
    },
    {
     "name": "stdout",
     "output_type": "stream",
     "text": [
      "1132 내용이 없다고? !!\n",
      "{}\n",
      "\n"
     ]
    },
    {
     "name": "stderr",
     "output_type": "stream",
     "text": [
      "\r",
      " 46%|████████████████████████████████████▎                                          | 909/1980 [31:05<33:47,  1.89s/it]"
     ]
    },
    {
     "name": "stdout",
     "output_type": "stream",
     "text": [
      "1133 내용이 없다고? !!\n",
      "{}\n",
      "\n"
     ]
    },
    {
     "name": "stderr",
     "output_type": "stream",
     "text": [
      " 47%|████████████████████████████████████▊                                          | 923/1980 [31:32<39:25,  2.24s/it]"
     ]
    },
    {
     "name": "stdout",
     "output_type": "stream",
     "text": [
      "1149 내용이 없다고? !!\n",
      "{}\n",
      "\n"
     ]
    },
    {
     "name": "stderr",
     "output_type": "stream",
     "text": [
      " 47%|█████████████████████████████████████▏                                         | 932/1980 [31:50<33:48,  1.94s/it]"
     ]
    },
    {
     "name": "stdout",
     "output_type": "stream",
     "text": [
      "1158 내용이 없다고? !!\n",
      "{}\n",
      "\n"
     ]
    },
    {
     "name": "stderr",
     "output_type": "stream",
     "text": [
      " 48%|█████████████████████████████████████▌                                         | 942/1980 [32:10<33:33,  1.94s/it]"
     ]
    },
    {
     "name": "stdout",
     "output_type": "stream",
     "text": [
      "1168 내용이 없다고? !!\n",
      "{}\n",
      "\n"
     ]
    },
    {
     "name": "stderr",
     "output_type": "stream",
     "text": [
      " 48%|██████████████████████████████████████▏                                        | 956/1980 [32:38<37:55,  2.22s/it]"
     ]
    },
    {
     "name": "stdout",
     "output_type": "stream",
     "text": [
      "1183 내용이 없다고? !!\n",
      "{}\n",
      "\n"
     ]
    },
    {
     "name": "stderr",
     "output_type": "stream",
     "text": [
      " 48%|██████████████████████████████████████▏                                        | 958/1980 [32:43<38:15,  2.25s/it]"
     ]
    },
    {
     "name": "stdout",
     "output_type": "stream",
     "text": [
      "1185 내용이 없다고? !!\n",
      "{}\n",
      "\n"
     ]
    },
    {
     "name": "stderr",
     "output_type": "stream",
     "text": [
      " 49%|██████████████████████████████████████▍                                        | 963/1980 [32:53<33:04,  1.95s/it]"
     ]
    },
    {
     "name": "stdout",
     "output_type": "stream",
     "text": [
      "1190 내용이 없다고? !!\n",
      "{}\n",
      "\n"
     ]
    },
    {
     "name": "stderr",
     "output_type": "stream",
     "text": [
      " 49%|██████████████████████████████████████▌                                        | 965/1980 [32:57<32:53,  1.94s/it]"
     ]
    },
    {
     "name": "stdout",
     "output_type": "stream",
     "text": [
      "1192 내용이 없다고? !!\n",
      "{}\n",
      "\n"
     ]
    },
    {
     "name": "stderr",
     "output_type": "stream",
     "text": [
      " 49%|██████████████████████████████████████▉                                        | 977/1980 [33:22<38:16,  2.29s/it]"
     ]
    },
    {
     "name": "stdout",
     "output_type": "stream",
     "text": [
      "1205 내용이 없다고? !!\n",
      "{}\n",
      "\n"
     ]
    },
    {
     "name": "stderr",
     "output_type": "stream",
     "text": [
      " 49%|███████████████████████████████████████                                        | 980/1980 [33:27<34:22,  2.06s/it]"
     ]
    },
    {
     "name": "stdout",
     "output_type": "stream",
     "text": [
      "1208 내용이 없다고? !!\n",
      "{}\n",
      "\n"
     ]
    },
    {
     "name": "stderr",
     "output_type": "stream",
     "text": [
      "\r",
      " 50%|███████████████████████████████████████▏                                       | 981/1980 [33:29<32:25,  1.95s/it]"
     ]
    },
    {
     "name": "stdout",
     "output_type": "stream",
     "text": [
      "1209 내용이 없다고? !!\n",
      "{}\n",
      "\n"
     ]
    },
    {
     "name": "stderr",
     "output_type": "stream",
     "text": [
      "\r",
      " 50%|███████████████████████████████████████▏                                       | 982/1980 [33:31<31:34,  1.90s/it]"
     ]
    },
    {
     "name": "stdout",
     "output_type": "stream",
     "text": [
      "1210 내용이 없다고? !!\n",
      "{}\n",
      "\n"
     ]
    },
    {
     "name": "stderr",
     "output_type": "stream",
     "text": [
      "\r",
      " 50%|███████████████████████████████████████▏                                       | 983/1980 [33:33<30:32,  1.84s/it]"
     ]
    },
    {
     "name": "stdout",
     "output_type": "stream",
     "text": [
      "1211 내용이 없다고? !!\n",
      "{}\n",
      "\n"
     ]
    },
    {
     "name": "stderr",
     "output_type": "stream",
     "text": [
      " 50%|███████████████████████████████████████▍                                       | 988/1980 [33:42<31:42,  1.92s/it]"
     ]
    },
    {
     "name": "stdout",
     "output_type": "stream",
     "text": [
      "1216 내용이 없다고? !!\n",
      "{}\n",
      "\n"
     ]
    },
    {
     "name": "stderr",
     "output_type": "stream",
     "text": [
      " 50%|███████████████████████████████████████▌                                       | 990/1980 [33:48<39:35,  2.40s/it]"
     ]
    },
    {
     "name": "stdout",
     "output_type": "stream",
     "text": [
      "1218 내용이 없다고? !!\n",
      "{}\n",
      "\n"
     ]
    },
    {
     "name": "stderr",
     "output_type": "stream",
     "text": [
      " 51%|███████████████████████████████████████▋                                      | 1007/1980 [34:25<35:39,  2.20s/it]"
     ]
    },
    {
     "name": "stdout",
     "output_type": "stream",
     "text": [
      "1237 내용이 없다고? !!\n",
      "{}\n",
      "\n"
     ]
    },
    {
     "name": "stderr",
     "output_type": "stream",
     "text": [
      "\r",
      " 51%|███████████████████████████████████████▋                                      | 1008/1980 [34:27<32:42,  2.02s/it]"
     ]
    },
    {
     "name": "stdout",
     "output_type": "stream",
     "text": [
      "1238 내용이 없다고? !!\n",
      "{}\n",
      "\n"
     ]
    },
    {
     "name": "stderr",
     "output_type": "stream",
     "text": [
      " 51%|███████████████████████████████████████▉                                      | 1013/1980 [34:38<35:37,  2.21s/it]"
     ]
    },
    {
     "name": "stdout",
     "output_type": "stream",
     "text": [
      "1245 내용이 없다고? !!\n",
      "{}\n",
      "\n"
     ]
    },
    {
     "name": "stderr",
     "output_type": "stream",
     "text": [
      " 52%|████████████████████████████████████████▏                                     | 1020/1980 [34:51<28:29,  1.78s/it]"
     ]
    },
    {
     "name": "stdout",
     "output_type": "stream",
     "text": [
      "1253 내용이 없다고? !!\n",
      "{}\n",
      "\n"
     ]
    },
    {
     "name": "stderr",
     "output_type": "stream",
     "text": [
      " 52%|████████████████████████████████████████▎                                     | 1022/1980 [34:55<29:52,  1.87s/it]"
     ]
    },
    {
     "name": "stdout",
     "output_type": "stream",
     "text": [
      "1255 내용이 없다고? !!\n",
      "{}\n",
      "\n"
     ]
    },
    {
     "name": "stderr",
     "output_type": "stream",
     "text": [
      " 52%|████████████████████████████████████████▍                                     | 1025/1980 [35:00<28:25,  1.79s/it]"
     ]
    },
    {
     "name": "stdout",
     "output_type": "stream",
     "text": [
      "1258 내용이 없다고? !!\n",
      "{}\n",
      "\n"
     ]
    },
    {
     "name": "stderr",
     "output_type": "stream",
     "text": [
      " 52%|████████████████████████████████████████▍                                     | 1027/1980 [35:05<34:37,  2.18s/it]"
     ]
    },
    {
     "name": "stdout",
     "output_type": "stream",
     "text": [
      "1260 내용이 없다고? !!\n",
      "{}\n",
      "\n"
     ]
    },
    {
     "name": "stderr",
     "output_type": "stream",
     "text": [
      " 52%|████████████████████████████████████████▊                                     | 1035/1980 [35:21<33:02,  2.10s/it]"
     ]
    },
    {
     "name": "stdout",
     "output_type": "stream",
     "text": [
      "1268 내용이 없다고? !!\n",
      "{}\n",
      "\n"
     ]
    },
    {
     "name": "stderr",
     "output_type": "stream",
     "text": [
      "\r",
      " 52%|████████████████████████████████████████▊                                     | 1036/1980 [35:24<33:29,  2.13s/it]"
     ]
    },
    {
     "name": "stdout",
     "output_type": "stream",
     "text": [
      "1269 내용이 없다고? !!\n",
      "{}\n",
      "\n"
     ]
    },
    {
     "name": "stderr",
     "output_type": "stream",
     "text": [
      " 53%|█████████████████████████████████████████                                     | 1043/1980 [35:40<36:59,  2.37s/it]"
     ]
    },
    {
     "name": "stdout",
     "output_type": "stream",
     "text": [
      "1277 내용이 없다고? !!\n",
      "{}\n",
      "\n"
     ]
    },
    {
     "name": "stderr",
     "output_type": "stream",
     "text": [
      "\r",
      " 53%|█████████████████████████████████████████▏                                    | 1044/1980 [35:42<33:52,  2.17s/it]"
     ]
    },
    {
     "name": "stdout",
     "output_type": "stream",
     "text": [
      "1278 내용이 없다고? !!\n",
      "{}\n",
      "\n"
     ]
    },
    {
     "name": "stderr",
     "output_type": "stream",
     "text": [
      " 53%|█████████████████████████████████████████▍                                    | 1051/1980 [35:57<35:44,  2.31s/it]"
     ]
    },
    {
     "name": "stdout",
     "output_type": "stream",
     "text": [
      "1285 내용이 없다고? !!\n",
      "{}\n",
      "\n"
     ]
    },
    {
     "name": "stderr",
     "output_type": "stream",
     "text": [
      " 53%|█████████████████████████████████████████▌                                    | 1056/1980 [36:09<36:13,  2.35s/it]"
     ]
    },
    {
     "name": "stdout",
     "output_type": "stream",
     "text": [
      "1290 내용이 없다고? !!\n",
      "{}\n",
      "\n"
     ]
    },
    {
     "name": "stderr",
     "output_type": "stream",
     "text": [
      " 54%|█████████████████████████████████████████▉                                    | 1065/1980 [36:28<35:19,  2.32s/it]"
     ]
    },
    {
     "name": "stdout",
     "output_type": "stream",
     "text": [
      "1300 내용이 없다고? !!\n",
      "{}\n",
      "\n"
     ]
    },
    {
     "name": "stderr",
     "output_type": "stream",
     "text": [
      " 54%|██████████████████████████████████████████▎                                   | 1075/1980 [36:50<29:21,  1.95s/it]"
     ]
    },
    {
     "name": "stdout",
     "output_type": "stream",
     "text": [
      "1310 내용이 없다고? !!\n",
      "{}\n",
      "\n"
     ]
    },
    {
     "name": "stderr",
     "output_type": "stream",
     "text": [
      " 55%|██████████████████████████████████████████▋                                   | 1084/1980 [37:07<28:09,  1.89s/it]"
     ]
    },
    {
     "name": "stdout",
     "output_type": "stream",
     "text": [
      "1321 내용이 없다고? !!\n",
      "{}\n",
      "\n"
     ]
    },
    {
     "name": "stderr",
     "output_type": "stream",
     "text": [
      "\r",
      " 55%|██████████████████████████████████████████▋                                   | 1085/1980 [37:09<27:32,  1.85s/it]"
     ]
    },
    {
     "name": "stdout",
     "output_type": "stream",
     "text": [
      "1322 내용이 없다고? !!\n",
      "{}\n",
      "\n"
     ]
    },
    {
     "name": "stderr",
     "output_type": "stream",
     "text": [
      " 55%|██████████████████████████████████████████▉                                   | 1089/1980 [37:18<31:09,  2.10s/it]"
     ]
    },
    {
     "name": "stdout",
     "output_type": "stream",
     "text": [
      "1327 내용이 없다고? !!\n",
      "{}\n",
      "\n"
     ]
    },
    {
     "name": "stderr",
     "output_type": "stream",
     "text": [
      "\r",
      " 55%|██████████████████████████████████████████▉                                   | 1090/1980 [37:20<29:29,  1.99s/it]"
     ]
    },
    {
     "name": "stdout",
     "output_type": "stream",
     "text": [
      "1328 내용이 없다고? !!\n",
      "{}\n",
      "\n"
     ]
    },
    {
     "name": "stderr",
     "output_type": "stream",
     "text": [
      " 56%|███████████████████████████████████████████▍                                  | 1103/1980 [37:48<29:38,  2.03s/it]"
     ]
    },
    {
     "name": "stdout",
     "output_type": "stream",
     "text": [
      "1341 내용이 없다고? !!\n",
      "{}\n",
      "\n"
     ]
    },
    {
     "name": "stderr",
     "output_type": "stream",
     "text": [
      " 56%|███████████████████████████████████████████▌                                  | 1107/1980 [37:57<30:59,  2.13s/it]"
     ]
    },
    {
     "name": "stdout",
     "output_type": "stream",
     "text": [
      "1345 내용이 없다고? !!\n",
      "{}\n",
      "\n"
     ]
    },
    {
     "name": "stderr",
     "output_type": "stream",
     "text": [
      " 56%|███████████████████████████████████████████▋                                  | 1109/1980 [38:01<29:32,  2.03s/it]"
     ]
    },
    {
     "name": "stdout",
     "output_type": "stream",
     "text": [
      "1347 내용이 없다고? !!\n",
      "{}\n",
      "\n"
     ]
    },
    {
     "name": "stderr",
     "output_type": "stream",
     "text": [
      " 56%|███████████████████████████████████████████▊                                  | 1113/1980 [38:07<25:58,  1.80s/it]"
     ]
    },
    {
     "name": "stdout",
     "output_type": "stream",
     "text": [
      "1351 내용이 없다고? !!\n",
      "{}\n",
      "\n"
     ]
    },
    {
     "name": "stderr",
     "output_type": "stream",
     "text": [
      "\r",
      " 56%|███████████████████████████████████████████▉                                  | 1114/1980 [38:09<25:57,  1.80s/it]"
     ]
    },
    {
     "name": "stdout",
     "output_type": "stream",
     "text": [
      "1352 내용이 없다고? !!\n",
      "{}\n",
      "\n"
     ]
    },
    {
     "name": "stderr",
     "output_type": "stream",
     "text": [
      " 57%|████████████████████████████████████████████                                  | 1119/1980 [38:20<28:00,  1.95s/it]"
     ]
    },
    {
     "name": "stdout",
     "output_type": "stream",
     "text": [
      "1357 내용이 없다고? !!\n",
      "{}\n",
      "\n"
     ]
    },
    {
     "name": "stderr",
     "output_type": "stream",
     "text": [
      "\r",
      " 57%|████████████████████████████████████████████                                  | 1120/1980 [38:22<30:59,  2.16s/it]"
     ]
    },
    {
     "name": "stdout",
     "output_type": "stream",
     "text": [
      "1358 내용이 없다고? !!\n",
      "{}\n",
      "\n"
     ]
    },
    {
     "name": "stderr",
     "output_type": "stream",
     "text": [
      "\r",
      " 57%|████████████████████████████████████████████▏                                 | 1121/1980 [38:25<32:18,  2.26s/it]"
     ]
    },
    {
     "name": "stdout",
     "output_type": "stream",
     "text": [
      "1359 내용이 없다고? !!\n",
      "{}\n",
      "\n"
     ]
    },
    {
     "name": "stderr",
     "output_type": "stream",
     "text": [
      " 57%|████████████████████████████████████████████▏                                 | 1123/1980 [38:29<31:03,  2.17s/it]"
     ]
    },
    {
     "name": "stdout",
     "output_type": "stream",
     "text": [
      "1361 내용이 없다고? !!\n",
      "{}\n",
      "\n"
     ]
    },
    {
     "name": "stderr",
     "output_type": "stream",
     "text": [
      " 57%|████████████████████████████████████████████▎                                 | 1126/1980 [38:35<29:52,  2.10s/it]"
     ]
    },
    {
     "name": "stdout",
     "output_type": "stream",
     "text": [
      "1365 내용이 없다고? !!\n",
      "{}\n",
      "\n"
     ]
    },
    {
     "name": "stderr",
     "output_type": "stream",
     "text": [
      " 58%|████████████████████████████████████████████▉                                 | 1141/1980 [39:05<27:58,  2.00s/it]"
     ]
    },
    {
     "name": "stdout",
     "output_type": "stream",
     "text": [
      "1380 내용이 없다고? !!\n",
      "{}\n",
      "\n"
     ]
    },
    {
     "name": "stderr",
     "output_type": "stream",
     "text": [
      " 58%|█████████████████████████████████████████████                                 | 1144/1980 [39:12<28:50,  2.07s/it]"
     ]
    },
    {
     "name": "stdout",
     "output_type": "stream",
     "text": [
      "1383 내용이 없다고? !!\n",
      "{}\n",
      "\n"
     ]
    },
    {
     "name": "stderr",
     "output_type": "stream",
     "text": [
      " 58%|█████████████████████████████████████████████▏                                | 1146/1980 [39:15<26:17,  1.89s/it]"
     ]
    },
    {
     "name": "stdout",
     "output_type": "stream",
     "text": [
      "1385 내용이 없다고? !!\n",
      "{}\n",
      "\n"
     ]
    },
    {
     "name": "stderr",
     "output_type": "stream",
     "text": [
      " 58%|█████████████████████████████████████████████▎                                | 1149/1980 [39:21<27:18,  1.97s/it]"
     ]
    },
    {
     "name": "stdout",
     "output_type": "stream",
     "text": [
      "1390 내용이 없다고? !!\n",
      "{}\n",
      "\n"
     ]
    },
    {
     "name": "stderr",
     "output_type": "stream",
     "text": [
      " 58%|█████████████████████████████████████████████▌                                | 1158/1980 [39:40<32:03,  2.34s/it]"
     ]
    },
    {
     "name": "stdout",
     "output_type": "stream",
     "text": [
      "1400 내용이 없다고? !!\n",
      "{}\n",
      "\n"
     ]
    },
    {
     "name": "stderr",
     "output_type": "stream",
     "text": [
      " 59%|█████████████████████████████████████████████▋                                | 1160/1980 [39:48<40:52,  2.99s/it]"
     ]
    },
    {
     "name": "stdout",
     "output_type": "stream",
     "text": [
      "1402 내용이 없다고? !!\n",
      "{}\n",
      "\n"
     ]
    },
    {
     "name": "stderr",
     "output_type": "stream",
     "text": [
      " 59%|█████████████████████████████████████████████▊                                | 1162/1980 [39:53<34:49,  2.55s/it]"
     ]
    },
    {
     "name": "stdout",
     "output_type": "stream",
     "text": [
      "1404 내용이 없다고? !!\n",
      "{}\n",
      "\n"
     ]
    },
    {
     "name": "stderr",
     "output_type": "stream",
     "text": [
      "\r",
      " 59%|█████████████████████████████████████████████▊                                | 1163/1980 [39:54<31:11,  2.29s/it]"
     ]
    },
    {
     "name": "stdout",
     "output_type": "stream",
     "text": [
      "1405 내용이 없다고? !!\n",
      "{}\n",
      "\n"
     ]
    },
    {
     "name": "stderr",
     "output_type": "stream",
     "text": [
      " 59%|██████████████████████████████████████████████▏                               | 1173/1980 [40:13<22:25,  1.67s/it]"
     ]
    },
    {
     "name": "stdout",
     "output_type": "stream",
     "text": [
      "1415 내용이 없다고? !!\n",
      "{}\n",
      "\n"
     ]
    },
    {
     "name": "stderr",
     "output_type": "stream",
     "text": [
      " 59%|██████████████████████████████████████████████▎                               | 1177/1980 [40:22<27:30,  2.06s/it]"
     ]
    },
    {
     "name": "stdout",
     "output_type": "stream",
     "text": [
      "1419 내용이 없다고? !!\n",
      "{}\n",
      "\n"
     ]
    },
    {
     "name": "stderr",
     "output_type": "stream",
     "text": [
      "\r",
      " 59%|██████████████████████████████████████████████▍                               | 1178/1980 [40:24<27:03,  2.02s/it]"
     ]
    },
    {
     "name": "stdout",
     "output_type": "stream",
     "text": [
      "1420 내용이 없다고? !!\n",
      "{}\n",
      "\n"
     ]
    },
    {
     "name": "stderr",
     "output_type": "stream",
     "text": [
      " 60%|██████████████████████████████████████████████▌                               | 1183/1980 [40:34<29:27,  2.22s/it]"
     ]
    },
    {
     "name": "stdout",
     "output_type": "stream",
     "text": [
      "1426 내용이 없다고? !!\n",
      "{}\n",
      "\n"
     ]
    },
    {
     "name": "stderr",
     "output_type": "stream",
     "text": [
      " 60%|██████████████████████████████████████████████▋                               | 1185/1980 [40:39<30:22,  2.29s/it]"
     ]
    },
    {
     "name": "stdout",
     "output_type": "stream",
     "text": [
      "1428 내용이 없다고? !!\n",
      "{}\n",
      "\n"
     ]
    },
    {
     "name": "stderr",
     "output_type": "stream",
     "text": [
      " 60%|██████████████████████████████████████████████▊                               | 1188/1980 [40:45<27:22,  2.07s/it]"
     ]
    },
    {
     "name": "stdout",
     "output_type": "stream",
     "text": [
      "1431 내용이 없다고? !!\n",
      "{}\n",
      "\n"
     ]
    },
    {
     "name": "stderr",
     "output_type": "stream",
     "text": [
      " 60%|███████████████████████████████████████████████                               | 1195/1980 [40:59<28:23,  2.17s/it]"
     ]
    },
    {
     "name": "stdout",
     "output_type": "stream",
     "text": [
      "1438 내용이 없다고? !!\n",
      "{}\n",
      "\n"
     ]
    },
    {
     "name": "stderr",
     "output_type": "stream",
     "text": [
      "\r",
      " 60%|███████████████████████████████████████████████                               | 1196/1980 [41:02<28:34,  2.19s/it]"
     ]
    },
    {
     "name": "stdout",
     "output_type": "stream",
     "text": [
      "1439 내용이 없다고? !!\n",
      "{}\n",
      "\n"
     ]
    },
    {
     "name": "stderr",
     "output_type": "stream",
     "text": [
      " 61%|███████████████████████████████████████████████▎                              | 1202/1980 [41:14<25:52,  2.00s/it]"
     ]
    },
    {
     "name": "stdout",
     "output_type": "stream",
     "text": [
      "1445 내용이 없다고? !!\n",
      "{}\n",
      "\n"
     ]
    },
    {
     "name": "stderr",
     "output_type": "stream",
     "text": [
      "\r",
      " 61%|███████████████████████████████████████████████▍                              | 1203/1980 [41:16<27:02,  2.09s/it]"
     ]
    },
    {
     "name": "stdout",
     "output_type": "stream",
     "text": [
      "1446 내용이 없다고? !!\n",
      "{}\n",
      "\n"
     ]
    },
    {
     "name": "stderr",
     "output_type": "stream",
     "text": [
      " 61%|███████████████████████████████████████████████▋                              | 1210/1980 [41:30<27:03,  2.11s/it]"
     ]
    },
    {
     "name": "stdout",
     "output_type": "stream",
     "text": [
      "1454 내용이 없다고? !!\n",
      "{}\n",
      "\n"
     ]
    },
    {
     "name": "stderr",
     "output_type": "stream",
     "text": [
      " 62%|████████████████████████████████████████████████                              | 1221/1980 [41:53<25:12,  1.99s/it]"
     ]
    },
    {
     "name": "stdout",
     "output_type": "stream",
     "text": [
      "1465 내용이 없다고? !!\n",
      "{}\n",
      "\n"
     ]
    },
    {
     "name": "stderr",
     "output_type": "stream",
     "text": [
      " 62%|████████████████████████████████████████████████▏                             | 1224/1980 [41:59<25:06,  1.99s/it]"
     ]
    },
    {
     "name": "stdout",
     "output_type": "stream",
     "text": [
      "1468 내용이 없다고? !!\n",
      "{}\n",
      "\n"
     ]
    },
    {
     "name": "stderr",
     "output_type": "stream",
     "text": [
      " 62%|████████████████████████████████████████████████▍                             | 1229/1980 [42:11<30:03,  2.40s/it]"
     ]
    },
    {
     "name": "stdout",
     "output_type": "stream",
     "text": [
      "1481 내용이 없다고? !!\n",
      "{}\n",
      "\n"
     ]
    },
    {
     "name": "stderr",
     "output_type": "stream",
     "text": [
      " 62%|████████████████████████████████████████████████▌                             | 1234/1980 [42:20<23:43,  1.91s/it]"
     ]
    },
    {
     "name": "stdout",
     "output_type": "stream",
     "text": [
      "1510 내용이 없다고? !!\n",
      "{}\n",
      "\n"
     ]
    },
    {
     "name": "stderr",
     "output_type": "stream",
     "text": [
      " 63%|████████████████████████████████████████████████▊                             | 1240/1980 [42:33<26:40,  2.16s/it]"
     ]
    },
    {
     "name": "stdout",
     "output_type": "stream",
     "text": [
      "1517 내용이 없다고? !!\n",
      "{}\n",
      "\n"
     ]
    },
    {
     "name": "stderr",
     "output_type": "stream",
     "text": [
      " 63%|████████████████████████████████████████████████▉                             | 1242/1980 [42:42<37:18,  3.03s/it]"
     ]
    },
    {
     "name": "stdout",
     "output_type": "stream",
     "text": [
      "1520 내용이 없다고? !!\n",
      "{}\n",
      "\n"
     ]
    },
    {
     "name": "stderr",
     "output_type": "stream",
     "text": [
      " 64%|█████████████████████████████████████████████████▋                            | 1262/1980 [43:23<27:29,  2.30s/it]"
     ]
    },
    {
     "name": "stdout",
     "output_type": "stream",
     "text": [
      "1561 내용이 없다고? !!\n",
      "{}\n",
      "\n"
     ]
    },
    {
     "name": "stderr",
     "output_type": "stream",
     "text": [
      " 64%|█████████████████████████████████████████████████▉                            | 1269/1980 [43:35<18:02,  1.52s/it]"
     ]
    },
    {
     "name": "stdout",
     "output_type": "stream",
     "text": [
      "1571 내용이 없다고? !!\n",
      "{}\n",
      "\n"
     ]
    },
    {
     "name": "stderr",
     "output_type": "stream",
     "text": [
      " 64%|██████████████████████████████████████████████████                            | 1271/1980 [43:38<19:03,  1.61s/it]"
     ]
    },
    {
     "name": "stdout",
     "output_type": "stream",
     "text": [
      "1575 내용이 없다고? !!\n",
      "{}\n",
      "\n"
     ]
    },
    {
     "name": "stderr",
     "output_type": "stream",
     "text": [
      " 64%|██████████████████████████████████████████████████▎                           | 1276/1980 [43:47<21:09,  1.80s/it]"
     ]
    },
    {
     "name": "stdout",
     "output_type": "stream",
     "text": [
      "1582 내용이 없다고? !!\n",
      "{}\n",
      "\n"
     ]
    },
    {
     "name": "stderr",
     "output_type": "stream",
     "text": [
      " 65%|██████████████████████████████████████████████████▋                           | 1288/1980 [44:09<21:17,  1.85s/it]"
     ]
    },
    {
     "name": "stdout",
     "output_type": "stream",
     "text": [
      "1598 내용이 없다고? !!\n",
      "{}\n",
      "\n"
     ]
    },
    {
     "name": "stderr",
     "output_type": "stream",
     "text": [
      " 65%|██████████████████████████████████████████████████▊                           | 1290/1980 [44:12<20:04,  1.75s/it]"
     ]
    },
    {
     "name": "stdout",
     "output_type": "stream",
     "text": [
      "1600 내용이 없다고? !!\n",
      "{}\n",
      "\n"
     ]
    },
    {
     "name": "stderr",
     "output_type": "stream",
     "text": [
      " 66%|███████████████████████████████████████████████████▋                          | 1312/1980 [44:53<19:53,  1.79s/it]"
     ]
    },
    {
     "name": "stdout",
     "output_type": "stream",
     "text": [
      "1633 내용이 없다고? !!\n",
      "{}\n",
      "\n"
     ]
    },
    {
     "name": "stderr",
     "output_type": "stream",
     "text": [
      " 67%|███████████████████████████████████████████████████▉                          | 1318/1980 [45:04<18:48,  1.71s/it]"
     ]
    },
    {
     "name": "stdout",
     "output_type": "stream",
     "text": [
      "1639 내용이 없다고? !!\n",
      "{}\n",
      "\n"
     ]
    },
    {
     "name": "stderr",
     "output_type": "stream",
     "text": [
      " 67%|████████████████████████████████████████████████████▎                         | 1328/1980 [45:27<27:09,  2.50s/it]"
     ]
    },
    {
     "name": "stdout",
     "output_type": "stream",
     "text": [
      "1653 내용이 없다고? !!\n",
      "{}\n",
      "\n"
     ]
    },
    {
     "name": "stderr",
     "output_type": "stream",
     "text": [
      " 67%|████████████████████████████████████████████████████▌                         | 1335/1980 [45:39<19:56,  1.86s/it]"
     ]
    },
    {
     "name": "stdout",
     "output_type": "stream",
     "text": [
      "1663 내용이 없다고? !!\n",
      "{}\n",
      "\n"
     ]
    },
    {
     "name": "stderr",
     "output_type": "stream",
     "text": [
      " 68%|████████████████████████████████████████████████████▋                         | 1339/1980 [45:48<23:40,  2.22s/it]"
     ]
    },
    {
     "name": "stdout",
     "output_type": "stream",
     "text": [
      "1668 내용이 없다고? !!\n",
      "{}\n",
      "\n"
     ]
    },
    {
     "name": "stderr",
     "output_type": "stream",
     "text": [
      " 68%|█████████████████████████████████████████████████████                         | 1346/1980 [46:03<21:28,  2.03s/it]"
     ]
    },
    {
     "name": "stdout",
     "output_type": "stream",
     "text": [
      "1676 내용이 없다고? !!\n",
      "{}\n",
      "\n"
     ]
    },
    {
     "name": "stderr",
     "output_type": "stream",
     "text": [
      " 68%|█████████████████████████████████████████████████████▏                        | 1349/1980 [46:09<21:00,  2.00s/it]"
     ]
    },
    {
     "name": "stdout",
     "output_type": "stream",
     "text": [
      "1679 내용이 없다고? !!\n",
      "{}\n",
      "\n"
     ]
    },
    {
     "name": "stderr",
     "output_type": "stream",
     "text": [
      " 69%|██████████████████████████████████████████████████████                        | 1371/1980 [46:53<19:45,  1.95s/it]"
     ]
    },
    {
     "name": "stdout",
     "output_type": "stream",
     "text": [
      "1706 내용이 없다고? !!\n",
      "{}\n",
      "\n"
     ]
    },
    {
     "name": "stderr",
     "output_type": "stream",
     "text": [
      " 70%|██████████████████████████████████████████████████████▋                       | 1389/1980 [47:31<19:21,  1.97s/it]"
     ]
    },
    {
     "name": "stdout",
     "output_type": "stream",
     "text": [
      "1724 내용이 없다고? !!\n",
      "{}\n",
      "\n"
     ]
    },
    {
     "name": "stderr",
     "output_type": "stream",
     "text": [
      " 71%|███████████████████████████████████████████████████████▏                      | 1401/1980 [47:55<19:48,  2.05s/it]"
     ]
    },
    {
     "name": "stdout",
     "output_type": "stream",
     "text": [
      "1736 내용이 없다고? !!\n",
      "{}\n",
      "\n"
     ]
    },
    {
     "name": "stderr",
     "output_type": "stream",
     "text": [
      " 71%|███████████████████████████████████████████████████████▍                      | 1407/1980 [48:08<19:54,  2.09s/it]"
     ]
    },
    {
     "name": "stdout",
     "output_type": "stream",
     "text": [
      "1748 내용이 없다고? !!\n",
      "{}\n",
      "\n"
     ]
    },
    {
     "name": "stderr",
     "output_type": "stream",
     "text": [
      "\r",
      " 71%|███████████████████████████████████████████████████████▍                      | 1408/1980 [48:10<20:02,  2.10s/it]"
     ]
    },
    {
     "name": "stdout",
     "output_type": "stream",
     "text": [
      "1749 내용이 없다고? !!\n",
      "{}\n",
      "\n"
     ]
    },
    {
     "name": "stderr",
     "output_type": "stream",
     "text": [
      " 72%|███████████████████████████████████████████████████████▉                      | 1421/1980 [48:40<21:02,  2.26s/it]"
     ]
    },
    {
     "name": "stdout",
     "output_type": "stream",
     "text": [
      "1782 내용이 없다고? !!\n",
      "{}\n",
      "\n"
     ]
    },
    {
     "name": "stderr",
     "output_type": "stream",
     "text": [
      " 73%|████████████████████████████████████████████████████████▋                     | 1438/1980 [49:17<18:24,  2.04s/it]"
     ]
    },
    {
     "name": "stdout",
     "output_type": "stream",
     "text": [
      "1816 내용이 없다고? !!\n",
      "{}\n",
      "\n"
     ]
    },
    {
     "name": "stderr",
     "output_type": "stream",
     "text": [
      " 73%|████████████████████████████████████████████████████████▉                     | 1444/1980 [49:28<15:50,  1.77s/it]"
     ]
    },
    {
     "name": "stdout",
     "output_type": "stream",
     "text": [
      "1826 내용이 없다고? !!\n",
      "{}\n",
      "\n"
     ]
    },
    {
     "name": "stderr",
     "output_type": "stream",
     "text": [
      " 73%|█████████████████████████████████████████████████████████                     | 1447/1980 [49:34<17:19,  1.95s/it]"
     ]
    },
    {
     "name": "stdout",
     "output_type": "stream",
     "text": [
      "1830 내용이 없다고? !!\n",
      "{}\n",
      "\n"
     ]
    },
    {
     "name": "stderr",
     "output_type": "stream",
     "text": [
      " 74%|█████████████████████████████████████████████████████████▎                    | 1456/1980 [49:53<21:28,  2.46s/it]"
     ]
    },
    {
     "name": "stdout",
     "output_type": "stream",
     "text": [
      "1848 내용이 없다고? !!\n",
      "{}\n",
      "\n"
     ]
    },
    {
     "name": "stderr",
     "output_type": "stream",
     "text": [
      " 74%|█████████████████████████████████████████████████████████▌                    | 1460/1980 [50:03<20:52,  2.41s/it]"
     ]
    },
    {
     "name": "stdout",
     "output_type": "stream",
     "text": [
      "1857 내용이 없다고? !!\n",
      "{}\n",
      "\n"
     ]
    },
    {
     "name": "stderr",
     "output_type": "stream",
     "text": [
      "\r",
      " 74%|█████████████████████████████████████████████████████████▌                    | 1461/1980 [50:05<20:10,  2.33s/it]"
     ]
    },
    {
     "name": "stdout",
     "output_type": "stream",
     "text": [
      "1860 내용이 없다고? !!\n",
      "{}\n",
      "\n"
     ]
    },
    {
     "name": "stderr",
     "output_type": "stream",
     "text": [
      "\r",
      " 74%|█████████████████████████████████████████████████████████▌                    | 1462/1980 [50:07<18:24,  2.13s/it]"
     ]
    },
    {
     "name": "stdout",
     "output_type": "stream",
     "text": [
      "1861 내용이 없다고? !!\n",
      "{}\n",
      "\n"
     ]
    },
    {
     "name": "stderr",
     "output_type": "stream",
     "text": [
      " 74%|█████████████████████████████████████████████████████████▋                    | 1465/1980 [50:12<16:40,  1.94s/it]"
     ]
    },
    {
     "name": "stdout",
     "output_type": "stream",
     "text": [
      "1864 내용이 없다고? !!\n",
      "{}\n",
      "\n"
     ]
    },
    {
     "name": "stderr",
     "output_type": "stream",
     "text": [
      " 74%|██████████████████████████████████████████████████████████                    | 1475/1980 [50:33<19:34,  2.33s/it]"
     ]
    },
    {
     "name": "stdout",
     "output_type": "stream",
     "text": [
      "1879 내용이 없다고? !!\n",
      "{}\n",
      "\n"
     ]
    },
    {
     "name": "stderr",
     "output_type": "stream",
     "text": [
      "\r",
      " 75%|██████████████████████████████████████████████████████████▏                   | 1476/1980 [50:35<17:36,  2.10s/it]"
     ]
    },
    {
     "name": "stdout",
     "output_type": "stream",
     "text": [
      "1880 내용이 없다고? !!\n",
      "{}\n",
      "\n"
     ]
    },
    {
     "name": "stderr",
     "output_type": "stream",
     "text": [
      " 75%|██████████████████████████████████████████████████████████▏                   | 1478/1980 [50:38<16:04,  1.92s/it]"
     ]
    },
    {
     "name": "stdout",
     "output_type": "stream",
     "text": [
      "1882 내용이 없다고? !!\n",
      "{}\n",
      "\n"
     ]
    },
    {
     "name": "stderr",
     "output_type": "stream",
     "text": [
      " 75%|██████████████████████████████████████████████████████████▌                   | 1485/1980 [50:55<16:40,  2.02s/it]"
     ]
    },
    {
     "name": "stdout",
     "output_type": "stream",
     "text": [
      "1892 내용이 없다고? !!\n",
      "{}\n",
      "\n"
     ]
    },
    {
     "name": "stderr",
     "output_type": "stream",
     "text": [
      " 75%|██████████████████████████████████████████████████████████▋                   | 1490/1980 [51:07<17:01,  2.08s/it]"
     ]
    },
    {
     "name": "stdout",
     "output_type": "stream",
     "text": [
      "1901 내용이 없다고? !!\n",
      "{}\n",
      "\n"
     ]
    },
    {
     "name": "stderr",
     "output_type": "stream",
     "text": [
      " 76%|███████████████████████████████████████████████████████████                   | 1498/1980 [51:26<20:05,  2.50s/it]"
     ]
    },
    {
     "name": "stdout",
     "output_type": "stream",
     "text": [
      "1912 내용이 없다고? !!\n",
      "{}\n",
      "\n"
     ]
    },
    {
     "name": "stderr",
     "output_type": "stream",
     "text": [
      " 76%|███████████████████████████████████████████████████████████▏                  | 1502/1980 [51:34<16:15,  2.04s/it]"
     ]
    },
    {
     "name": "stdout",
     "output_type": "stream",
     "text": [
      "1917 내용이 없다고? !!\n",
      "{}\n",
      "\n"
     ]
    },
    {
     "name": "stderr",
     "output_type": "stream",
     "text": [
      " 76%|███████████████████████████████████████████████████████████▍                  | 1510/1980 [51:52<17:49,  2.28s/it]"
     ]
    },
    {
     "name": "stdout",
     "output_type": "stream",
     "text": [
      "1925 내용이 없다고? !!\n",
      "{}\n",
      "\n"
     ]
    },
    {
     "name": "stderr",
     "output_type": "stream",
     "text": [
      " 76%|███████████████████████████████████████████████████████████▌                  | 1512/1980 [51:55<15:26,  1.98s/it]"
     ]
    },
    {
     "name": "stdout",
     "output_type": "stream",
     "text": [
      "1927 내용이 없다고? !!\n",
      "{}\n",
      "\n"
     ]
    },
    {
     "name": "stderr",
     "output_type": "stream",
     "text": [
      " 77%|████████████████████████████████████████████████████████████                  | 1525/1980 [52:21<15:42,  2.07s/it]"
     ]
    },
    {
     "name": "stdout",
     "output_type": "stream",
     "text": [
      "1941 내용이 없다고? !!\n",
      "{}\n",
      "\n"
     ]
    },
    {
     "name": "stderr",
     "output_type": "stream",
     "text": [
      " 77%|████████████████████████████████████████████████████████████▏                 | 1529/1980 [52:29<16:00,  2.13s/it]"
     ]
    },
    {
     "name": "stdout",
     "output_type": "stream",
     "text": [
      "1946 내용이 없다고? !!\n",
      "{}\n",
      "\n"
     ]
    },
    {
     "name": "stderr",
     "output_type": "stream",
     "text": [
      "\r",
      " 77%|████████████████████████████████████████████████████████████▎                 | 1530/1980 [52:32<17:07,  2.28s/it]"
     ]
    },
    {
     "name": "stdout",
     "output_type": "stream",
     "text": [
      "1947 내용이 없다고? !!\n",
      "{}\n",
      "\n"
     ]
    },
    {
     "name": "stderr",
     "output_type": "stream",
     "text": [
      "\r",
      " 77%|████████████████████████████████████████████████████████████▎                 | 1531/1980 [52:34<17:08,  2.29s/it]"
     ]
    },
    {
     "name": "stdout",
     "output_type": "stream",
     "text": [
      "1948 내용이 없다고? !!\n",
      "{}\n",
      "\n"
     ]
    },
    {
     "name": "stderr",
     "output_type": "stream",
     "text": [
      "\r",
      " 77%|████████████████████████████████████████████████████████████▎                 | 1532/1980 [52:36<15:48,  2.12s/it]"
     ]
    },
    {
     "name": "stdout",
     "output_type": "stream",
     "text": [
      "1949 내용이 없다고? !!\n",
      "{}\n",
      "\n"
     ]
    },
    {
     "name": "stderr",
     "output_type": "stream",
     "text": [
      " 77%|████████████████████████████████████████████████████████████▍                 | 1534/1980 [52:41<16:23,  2.21s/it]"
     ]
    },
    {
     "name": "stdout",
     "output_type": "stream",
     "text": [
      "1951 내용이 없다고? !!\n",
      "{}\n",
      "\n"
     ]
    },
    {
     "name": "stderr",
     "output_type": "stream",
     "text": [
      "\r",
      " 78%|████████████████████████████████████████████████████████████▍                 | 1535/1980 [52:42<15:20,  2.07s/it]"
     ]
    },
    {
     "name": "stdout",
     "output_type": "stream",
     "text": [
      "1953 내용이 없다고? !!\n",
      "{}\n",
      "\n"
     ]
    },
    {
     "name": "stderr",
     "output_type": "stream",
     "text": [
      " 78%|████████████████████████████████████████████████████████████▌                 | 1538/1980 [52:49<15:28,  2.10s/it]"
     ]
    },
    {
     "name": "stdout",
     "output_type": "stream",
     "text": [
      "1957 내용이 없다고? !!\n",
      "{}\n",
      "\n"
     ]
    },
    {
     "name": "stderr",
     "output_type": "stream",
     "text": [
      " 78%|████████████████████████████████████████████████████████████▋                 | 1542/1980 [52:58<15:57,  2.19s/it]"
     ]
    },
    {
     "name": "stdout",
     "output_type": "stream",
     "text": [
      "1962 내용이 없다고? !!\n",
      "{}\n",
      "\n"
     ]
    },
    {
     "name": "stderr",
     "output_type": "stream",
     "text": [
      "\r",
      " 78%|████████████████████████████████████████████████████████████▊                 | 1543/1980 [53:00<16:12,  2.23s/it]"
     ]
    },
    {
     "name": "stdout",
     "output_type": "stream",
     "text": [
      "1963 내용이 없다고? !!\n",
      "{}\n",
      "\n"
     ]
    },
    {
     "name": "stderr",
     "output_type": "stream",
     "text": [
      " 78%|████████████████████████████████████████████████████████████▉                 | 1548/1980 [53:12<17:52,  2.48s/it]"
     ]
    },
    {
     "name": "stdout",
     "output_type": "stream",
     "text": [
      "1972 내용이 없다고? !!\n",
      "{}\n",
      "\n"
     ]
    },
    {
     "name": "stderr",
     "output_type": "stream",
     "text": [
      " 78%|█████████████████████████████████████████████████████████████                 | 1550/1980 [53:17<16:50,  2.35s/it]"
     ]
    },
    {
     "name": "stdout",
     "output_type": "stream",
     "text": [
      "1974 내용이 없다고? !!\n",
      "{}\n",
      "\n"
     ]
    },
    {
     "name": "stderr",
     "output_type": "stream",
     "text": [
      "\r",
      " 78%|█████████████████████████████████████████████████████████████                 | 1551/1980 [53:18<15:31,  2.17s/it]"
     ]
    },
    {
     "name": "stdout",
     "output_type": "stream",
     "text": [
      "1975 내용이 없다고? !!\n",
      "{}\n",
      "\n"
     ]
    },
    {
     "name": "stderr",
     "output_type": "stream",
     "text": [
      " 78%|█████████████████████████████████████████████████████████████▏                | 1554/1980 [53:24<14:06,  1.99s/it]"
     ]
    },
    {
     "name": "stdout",
     "output_type": "stream",
     "text": [
      "1978 내용이 없다고? !!\n",
      "{}\n",
      "\n"
     ]
    },
    {
     "name": "stderr",
     "output_type": "stream",
     "text": [
      " 79%|█████████████████████████████████████████████████████████████▍                | 1559/1980 [53:34<13:25,  1.91s/it]"
     ]
    },
    {
     "name": "stdout",
     "output_type": "stream",
     "text": [
      "1983 내용이 없다고? !!\n",
      "{}\n",
      "\n"
     ]
    },
    {
     "name": "stderr",
     "output_type": "stream",
     "text": [
      " 79%|█████████████████████████████████████████████████████████████▋                | 1565/1980 [53:48<15:58,  2.31s/it]"
     ]
    },
    {
     "name": "stdout",
     "output_type": "stream",
     "text": [
      "1990 내용이 없다고? !!\n",
      "{}\n",
      "\n"
     ]
    },
    {
     "name": "stderr",
     "output_type": "stream",
     "text": [
      " 79%|█████████████████████████████████████████████████████████████▉                | 1573/1980 [54:04<12:30,  1.84s/it]"
     ]
    },
    {
     "name": "stdout",
     "output_type": "stream",
     "text": [
      "2001 내용이 없다고? !!\n",
      "{}\n",
      "\n"
     ]
    },
    {
     "name": "stderr",
     "output_type": "stream",
     "text": [
      " 80%|██████████████████████████████████████████████████████████████▏               | 1578/1980 [54:16<14:10,  2.12s/it]"
     ]
    },
    {
     "name": "stdout",
     "output_type": "stream",
     "text": [
      "2006 내용이 없다고? !!\n",
      "{}\n",
      "\n"
     ]
    },
    {
     "name": "stderr",
     "output_type": "stream",
     "text": [
      " 80%|██████████████████████████████████████████████████████████████▎               | 1582/1980 [54:23<12:14,  1.85s/it]"
     ]
    },
    {
     "name": "stdout",
     "output_type": "stream",
     "text": [
      "2011 내용이 없다고? !!\n",
      "{}\n",
      "\n"
     ]
    },
    {
     "name": "stderr",
     "output_type": "stream",
     "text": [
      " 80%|██████████████████████████████████████████████████████████████▋               | 1590/1980 [54:37<11:42,  1.80s/it]"
     ]
    },
    {
     "name": "stdout",
     "output_type": "stream",
     "text": [
      "2019 내용이 없다고? !!\n",
      "{}\n",
      "\n"
     ]
    },
    {
     "name": "stderr",
     "output_type": "stream",
     "text": [
      " 81%|██████████████████████████████████████████████████████████████▊               | 1596/1980 [54:51<13:50,  2.16s/it]"
     ]
    },
    {
     "name": "stdout",
     "output_type": "stream",
     "text": [
      "2025 내용이 없다고? !!\n",
      "{}\n",
      "\n"
     ]
    },
    {
     "name": "stderr",
     "output_type": "stream",
     "text": [
      " 81%|██████████████████████████████████████████████████████████████▉               | 1598/1980 [54:55<13:35,  2.13s/it]"
     ]
    },
    {
     "name": "stdout",
     "output_type": "stream",
     "text": [
      "2028 내용이 없다고? !!\n",
      "{}\n",
      "\n"
     ]
    },
    {
     "name": "stderr",
     "output_type": "stream",
     "text": [
      "\r",
      " 81%|██████████████████████████████████████████████████████████████▉               | 1599/1980 [54:56<12:28,  1.96s/it]"
     ]
    },
    {
     "name": "stdout",
     "output_type": "stream",
     "text": [
      "2029 내용이 없다고? !!\n",
      "{}\n",
      "\n"
     ]
    },
    {
     "name": "stderr",
     "output_type": "stream",
     "text": [
      " 81%|███████████████████████████████████████████████████████████████               | 1602/1980 [55:02<12:04,  1.92s/it]"
     ]
    },
    {
     "name": "stdout",
     "output_type": "stream",
     "text": [
      "2032 내용이 없다고? !!\n",
      "{}\n",
      "\n"
     ]
    },
    {
     "name": "stderr",
     "output_type": "stream",
     "text": [
      " 81%|███████████████████████████████████████████████████████████████▍              | 1611/1980 [55:19<10:59,  1.79s/it]"
     ]
    },
    {
     "name": "stdout",
     "output_type": "stream",
     "text": [
      "2042 내용이 없다고? !!\n",
      "{}\n",
      "\n"
     ]
    },
    {
     "name": "stderr",
     "output_type": "stream",
     "text": [
      "\r",
      " 81%|███████████████████████████████████████████████████████████████▌              | 1612/1980 [55:21<11:17,  1.84s/it]"
     ]
    },
    {
     "name": "stdout",
     "output_type": "stream",
     "text": [
      "2044 내용이 없다고? !!\n",
      "{}\n",
      "\n"
     ]
    },
    {
     "name": "stderr",
     "output_type": "stream",
     "text": [
      " 82%|███████████████████████████████████████████████████████████████▋              | 1618/1980 [55:35<13:32,  2.24s/it]"
     ]
    },
    {
     "name": "stdout",
     "output_type": "stream",
     "text": [
      "2050 내용이 없다고? !!\n",
      "{}\n",
      "\n"
     ]
    },
    {
     "name": "stderr",
     "output_type": "stream",
     "text": [
      " 82%|███████████████████████████████████████████████████████████████▊              | 1620/1980 [55:40<14:16,  2.38s/it]"
     ]
    },
    {
     "name": "stdout",
     "output_type": "stream",
     "text": [
      "2052 내용이 없다고? !!\n",
      "{}\n",
      "\n"
     ]
    },
    {
     "name": "stderr",
     "output_type": "stream",
     "text": [
      " 82%|████████████████████████████████████████████████████████████████              | 1626/1980 [55:51<11:55,  2.02s/it]"
     ]
    },
    {
     "name": "stdout",
     "output_type": "stream",
     "text": [
      "2059 내용이 없다고? !!\n",
      "{}\n",
      "\n"
     ]
    },
    {
     "name": "stderr",
     "output_type": "stream",
     "text": [
      " 82%|████████████████████████████████████████████████████████████████▏             | 1630/1980 [55:58<10:41,  1.83s/it]"
     ]
    },
    {
     "name": "stdout",
     "output_type": "stream",
     "text": [
      "2064 내용이 없다고? !!\n",
      "{}\n",
      "\n"
     ]
    },
    {
     "name": "stderr",
     "output_type": "stream",
     "text": [
      " 82%|████████████████████████████████████████████████████████████████▎             | 1632/1980 [56:02<10:44,  1.85s/it]"
     ]
    },
    {
     "name": "stdout",
     "output_type": "stream",
     "text": [
      "2066 내용이 없다고? !!\n",
      "{}\n",
      "\n"
     ]
    },
    {
     "name": "stderr",
     "output_type": "stream",
     "text": [
      " 83%|████████████████████████████████████████████████████████████████▎             | 1634/1980 [56:06<11:38,  2.02s/it]"
     ]
    },
    {
     "name": "stdout",
     "output_type": "stream",
     "text": [
      "2068 내용이 없다고? !!\n",
      "{}\n",
      "\n"
     ]
    },
    {
     "name": "stderr",
     "output_type": "stream",
     "text": [
      " 83%|████████████████████████████████████████████████████████████████▌             | 1640/1980 [56:19<11:24,  2.01s/it]"
     ]
    },
    {
     "name": "stdout",
     "output_type": "stream",
     "text": [
      "2076 내용이 없다고? !!\n",
      "{}\n",
      "\n"
     ]
    },
    {
     "name": "stderr",
     "output_type": "stream",
     "text": [
      " 83%|████████████████████████████████████████████████████████████████▊             | 1644/1980 [56:26<10:59,  1.96s/it]"
     ]
    },
    {
     "name": "stdout",
     "output_type": "stream",
     "text": [
      "2080 내용이 없다고? !!\n",
      "{}\n",
      "\n"
     ]
    },
    {
     "name": "stderr",
     "output_type": "stream",
     "text": [
      " 84%|█████████████████████████████████████████████████████████████████▏            | 1656/1980 [56:51<10:36,  1.97s/it]"
     ]
    },
    {
     "name": "stdout",
     "output_type": "stream",
     "text": [
      "2094 내용이 없다고? !!\n",
      "{}\n",
      "\n"
     ]
    },
    {
     "name": "stderr",
     "output_type": "stream",
     "text": [
      " 84%|█████████████████████████████████████████████████████████████████▍            | 1661/1980 [57:03<13:18,  2.50s/it]"
     ]
    },
    {
     "name": "stdout",
     "output_type": "stream",
     "text": [
      "2099 내용이 없다고? !!\n",
      "{}\n",
      "\n"
     ]
    },
    {
     "name": "stderr",
     "output_type": "stream",
     "text": [
      " 84%|█████████████████████████████████████████████████████████████████▌            | 1663/1980 [57:06<11:18,  2.14s/it]"
     ]
    },
    {
     "name": "stdout",
     "output_type": "stream",
     "text": [
      "2101 내용이 없다고? !!\n",
      "{}\n",
      "\n"
     ]
    },
    {
     "name": "stderr",
     "output_type": "stream",
     "text": [
      " 84%|█████████████████████████████████████████████████████████████████▋            | 1668/1980 [57:16<10:10,  1.96s/it]"
     ]
    },
    {
     "name": "stdout",
     "output_type": "stream",
     "text": [
      "2107 내용이 없다고? !!\n",
      "{}\n",
      "\n"
     ]
    },
    {
     "name": "stderr",
     "output_type": "stream",
     "text": [
      " 85%|██████████████████████████████████████████████████████████████████            | 1677/1980 [57:36<10:34,  2.09s/it]"
     ]
    },
    {
     "name": "stdout",
     "output_type": "stream",
     "text": [
      "2117 내용이 없다고? !!\n",
      "{}\n",
      "\n"
     ]
    },
    {
     "name": "stderr",
     "output_type": "stream",
     "text": [
      " 85%|██████████████████████████████████████████████████████████████████▎           | 1683/1980 [57:45<08:56,  1.81s/it]"
     ]
    },
    {
     "name": "stdout",
     "output_type": "stream",
     "text": [
      "2123 내용이 없다고? !!\n",
      "{}\n",
      "\n"
     ]
    },
    {
     "name": "stderr",
     "output_type": "stream",
     "text": [
      " 86%|██████████████████████████████████████████████████████████████████▊           | 1697/1980 [58:18<09:56,  2.11s/it]"
     ]
    },
    {
     "name": "stdout",
     "output_type": "stream",
     "text": [
      "2138 내용이 없다고? !!\n",
      "{}\n",
      "\n"
     ]
    },
    {
     "name": "stderr",
     "output_type": "stream",
     "text": [
      " 86%|███████████████████████████████████████████████████████████████████           | 1703/1980 [58:32<11:03,  2.40s/it]"
     ]
    },
    {
     "name": "stdout",
     "output_type": "stream",
     "text": [
      "2144 내용이 없다고? !!\n",
      "{}\n",
      "\n"
     ]
    },
    {
     "name": "stderr",
     "output_type": "stream",
     "text": [
      "\r",
      " 86%|███████████████████████████████████████████████████████████████████▏          | 1704/1980 [58:34<10:06,  2.20s/it]"
     ]
    },
    {
     "name": "stdout",
     "output_type": "stream",
     "text": [
      "2145 내용이 없다고? !!\n",
      "{}\n",
      "\n"
     ]
    },
    {
     "name": "stderr",
     "output_type": "stream",
     "text": [
      " 86%|███████████████████████████████████████████████████████████████████▏          | 1706/1980 [58:38<09:49,  2.15s/it]"
     ]
    },
    {
     "name": "stdout",
     "output_type": "stream",
     "text": [
      "2147 내용이 없다고? !!\n",
      "{}\n",
      "\n"
     ]
    },
    {
     "name": "stderr",
     "output_type": "stream",
     "text": [
      " 86%|███████████████████████████████████████████████████████████████████▍          | 1711/1980 [58:47<08:19,  1.86s/it]"
     ]
    },
    {
     "name": "stdout",
     "output_type": "stream",
     "text": [
      "2152 내용이 없다고? !!\n",
      "{}\n",
      "\n"
     ]
    },
    {
     "name": "stderr",
     "output_type": "stream",
     "text": [
      " 87%|███████████████████████████████████████████████████████████████████▉          | 1723/1980 [59:14<10:04,  2.35s/it]"
     ]
    },
    {
     "name": "stdout",
     "output_type": "stream",
     "text": [
      "2165 내용이 없다고? !!\n",
      "{}\n",
      "\n"
     ]
    },
    {
     "name": "stderr",
     "output_type": "stream",
     "text": [
      "\r",
      " 87%|███████████████████████████████████████████████████████████████████▉          | 1724/1980 [59:16<09:35,  2.25s/it]"
     ]
    },
    {
     "name": "stdout",
     "output_type": "stream",
     "text": [
      "2166 내용이 없다고? !!\n",
      "{}\n",
      "\n"
     ]
    },
    {
     "name": "stderr",
     "output_type": "stream",
     "text": [
      " 88%|████████████████████████████████████████████████████████████████████▍         | 1736/1980 [59:43<08:38,  2.12s/it]"
     ]
    },
    {
     "name": "stdout",
     "output_type": "stream",
     "text": [
      "2178 내용이 없다고? !!\n",
      "{}\n",
      "\n"
     ]
    },
    {
     "name": "stderr",
     "output_type": "stream",
     "text": [
      " 88%|████████████████████████████████████████████████████████████████████▌         | 1742/1980 [59:57<09:29,  2.39s/it]"
     ]
    },
    {
     "name": "stdout",
     "output_type": "stream",
     "text": [
      "2185 내용이 없다고? !!\n",
      "{}\n",
      "\n"
     ]
    },
    {
     "name": "stderr",
     "output_type": "stream",
     "text": [
      " 88%|███████████████████████████████████████████████████████████████████▏        | 1750/1980 [1:00:12<08:18,  2.17s/it]"
     ]
    },
    {
     "name": "stdout",
     "output_type": "stream",
     "text": [
      "2193 내용이 없다고? !!\n",
      "{}\n",
      "\n"
     ]
    },
    {
     "name": "stderr",
     "output_type": "stream",
     "text": [
      "\r",
      " 88%|███████████████████████████████████████████████████████████████████▏        | 1751/1980 [1:00:14<07:34,  1.99s/it]"
     ]
    },
    {
     "name": "stdout",
     "output_type": "stream",
     "text": [
      "2194 내용이 없다고? !!\n",
      "{}\n",
      "\n"
     ]
    },
    {
     "name": "stderr",
     "output_type": "stream",
     "text": [
      " 89%|███████████████████████████████████████████████████████████████████▍        | 1758/1980 [1:00:29<07:07,  1.93s/it]"
     ]
    },
    {
     "name": "stdout",
     "output_type": "stream",
     "text": [
      "2201 내용이 없다고? !!\n",
      "{}\n",
      "\n"
     ]
    },
    {
     "name": "stderr",
     "output_type": "stream",
     "text": [
      " 89%|███████████████████████████████████████████████████████████████████▌        | 1761/1980 [1:00:34<06:18,  1.73s/it]"
     ]
    },
    {
     "name": "stdout",
     "output_type": "stream",
     "text": [
      "2204 내용이 없다고? !!\n",
      "{}\n",
      "\n"
     ]
    },
    {
     "name": "stderr",
     "output_type": "stream",
     "text": [
      " 89%|███████████████████████████████████████████████████████████████████▋        | 1763/1980 [1:00:38<06:54,  1.91s/it]"
     ]
    },
    {
     "name": "stdout",
     "output_type": "stream",
     "text": [
      "2206 내용이 없다고? !!\n",
      "{}\n",
      "\n"
     ]
    },
    {
     "name": "stderr",
     "output_type": "stream",
     "text": [
      " 89%|███████████████████████████████████████████████████████████████████▊        | 1766/1980 [1:00:44<07:04,  1.98s/it]"
     ]
    },
    {
     "name": "stdout",
     "output_type": "stream",
     "text": [
      "2209 내용이 없다고? !!\n",
      "{}\n",
      "\n"
     ]
    },
    {
     "name": "stderr",
     "output_type": "stream",
     "text": [
      "\r",
      " 89%|███████████████████████████████████████████████████████████████████▊        | 1767/1980 [1:00:46<07:12,  2.03s/it]"
     ]
    },
    {
     "name": "stdout",
     "output_type": "stream",
     "text": [
      "2210 내용이 없다고? !!\n",
      "{}\n",
      "\n"
     ]
    },
    {
     "name": "stderr",
     "output_type": "stream",
     "text": [
      " 89%|███████████████████████████████████████████████████████████████████▉        | 1770/1980 [1:00:54<08:24,  2.40s/it]"
     ]
    },
    {
     "name": "stdout",
     "output_type": "stream",
     "text": [
      "2213 내용이 없다고? !!\n",
      "{}\n",
      "\n"
     ]
    },
    {
     "name": "stderr",
     "output_type": "stream",
     "text": [
      " 89%|████████████████████████████████████████████████████████████████████        | 1772/1980 [1:00:58<07:15,  2.09s/it]"
     ]
    },
    {
     "name": "stdout",
     "output_type": "stream",
     "text": [
      "2215 내용이 없다고? !!\n",
      "{}\n",
      "\n"
     ]
    },
    {
     "name": "stderr",
     "output_type": "stream",
     "text": [
      "\r",
      " 90%|████████████████████████████████████████████████████████████████████        | 1773/1980 [1:01:00<07:12,  2.09s/it]"
     ]
    },
    {
     "name": "stdout",
     "output_type": "stream",
     "text": [
      "2216 내용이 없다고? !!\n",
      "{}\n",
      "\n"
     ]
    },
    {
     "name": "stderr",
     "output_type": "stream",
     "text": [
      " 90%|████████████████████████████████████████████████████████████████████▎       | 1780/1980 [1:01:13<06:36,  1.98s/it]"
     ]
    },
    {
     "name": "stdout",
     "output_type": "stream",
     "text": [
      "2223 내용이 없다고? !!\n",
      "{}\n",
      "\n"
     ]
    },
    {
     "name": "stderr",
     "output_type": "stream",
     "text": [
      " 90%|████████████████████████████████████████████████████████████████████▍       | 1784/1980 [1:01:21<06:19,  1.94s/it]"
     ]
    },
    {
     "name": "stdout",
     "output_type": "stream",
     "text": [
      "2227 내용이 없다고? !!\n",
      "{}\n",
      "\n"
     ]
    },
    {
     "name": "stderr",
     "output_type": "stream",
     "text": [
      " 91%|████████████████████████████████████████████████████████████████████▉       | 1795/1980 [1:01:44<06:25,  2.08s/it]"
     ]
    },
    {
     "name": "stdout",
     "output_type": "stream",
     "text": [
      "2239 내용이 없다고? !!\n",
      "{}\n",
      "\n"
     ]
    },
    {
     "name": "stderr",
     "output_type": "stream",
     "text": [
      " 91%|█████████████████████████████████████████████████████████████████████       | 1800/1980 [1:01:57<08:18,  2.77s/it]"
     ]
    },
    {
     "name": "stdout",
     "output_type": "stream",
     "text": [
      "2245 내용이 없다고? !!\n",
      "{}\n",
      "\n"
     ]
    },
    {
     "name": "stderr",
     "output_type": "stream",
     "text": [
      " 91%|█████████████████████████████████████████████████████████████████████▏      | 1803/1980 [1:02:04<06:45,  2.29s/it]"
     ]
    },
    {
     "name": "stdout",
     "output_type": "stream",
     "text": [
      "2248 내용이 없다고? !!\n",
      "{}\n",
      "\n"
     ]
    },
    {
     "name": "stderr",
     "output_type": "stream",
     "text": [
      " 91%|█████████████████████████████████████████████████████████████████████▎      | 1805/1980 [1:02:07<06:02,  2.07s/it]"
     ]
    },
    {
     "name": "stdout",
     "output_type": "stream",
     "text": [
      "2251 내용이 없다고? !!\n",
      "{}\n",
      "\n"
     ]
    },
    {
     "name": "stderr",
     "output_type": "stream",
     "text": [
      " 91%|█████████████████████████████████████████████████████████████████████▍      | 1808/1980 [1:02:13<05:45,  2.01s/it]"
     ]
    },
    {
     "name": "stdout",
     "output_type": "stream",
     "text": [
      "2255 내용이 없다고? !!\n",
      "{}\n",
      "\n"
     ]
    },
    {
     "name": "stderr",
     "output_type": "stream",
     "text": [
      "\r",
      " 91%|█████████████████████████████████████████████████████████████████████▍      | 1809/1980 [1:02:15<05:32,  1.95s/it]"
     ]
    },
    {
     "name": "stdout",
     "output_type": "stream",
     "text": [
      "2256 내용이 없다고? !!\n",
      "{}\n",
      "\n"
     ]
    },
    {
     "name": "stderr",
     "output_type": "stream",
     "text": [
      " 92%|█████████████████████████████████████████████████████████████████████▌      | 1812/1980 [1:02:21<05:46,  2.06s/it]"
     ]
    },
    {
     "name": "stdout",
     "output_type": "stream",
     "text": [
      "2259 내용이 없다고? !!\n",
      "{}\n",
      "\n"
     ]
    },
    {
     "name": "stderr",
     "output_type": "stream",
     "text": [
      " 92%|█████████████████████████████████████████████████████████████████████▋      | 1814/1980 [1:02:25<05:37,  2.03s/it]"
     ]
    },
    {
     "name": "stdout",
     "output_type": "stream",
     "text": [
      "2261 내용이 없다고? !!\n",
      "{}\n",
      "\n"
     ]
    },
    {
     "name": "stderr",
     "output_type": "stream",
     "text": [
      " 92%|█████████████████████████████████████████████████████████████████████▋      | 1816/1980 [1:02:29<05:10,  1.89s/it]"
     ]
    },
    {
     "name": "stdout",
     "output_type": "stream",
     "text": [
      "2264 내용이 없다고? !!\n",
      "{}\n",
      "\n"
     ]
    },
    {
     "name": "stderr",
     "output_type": "stream",
     "text": [
      " 92%|█████████████████████████████████████████████████████████████████████▊      | 1818/1980 [1:02:32<05:06,  1.89s/it]"
     ]
    },
    {
     "name": "stdout",
     "output_type": "stream",
     "text": [
      "2266 내용이 없다고? !!\n",
      "{}\n",
      "\n"
     ]
    },
    {
     "name": "stderr",
     "output_type": "stream",
     "text": [
      " 92%|██████████████████████████████████████████████████████████████████████      | 1824/1980 [1:02:47<06:16,  2.41s/it]"
     ]
    },
    {
     "name": "stdout",
     "output_type": "stream",
     "text": [
      "2274 내용이 없다고? !!\n",
      "{}\n",
      "\n"
     ]
    },
    {
     "name": "stderr",
     "output_type": "stream",
     "text": [
      " 92%|██████████████████████████████████████████████████████████████████████▏     | 1827/1980 [1:02:53<05:22,  2.11s/it]"
     ]
    },
    {
     "name": "stdout",
     "output_type": "stream",
     "text": [
      "2277 내용이 없다고? !!\n",
      "{}\n",
      "\n"
     ]
    },
    {
     "name": "stderr",
     "output_type": "stream",
     "text": [
      " 92%|██████████████████████████████████████████████████████████████████████▏     | 1829/1980 [1:02:57<05:22,  2.13s/it]"
     ]
    },
    {
     "name": "stdout",
     "output_type": "stream",
     "text": [
      "2279 내용이 없다고? !!\n",
      "{}\n",
      "\n"
     ]
    },
    {
     "name": "stderr",
     "output_type": "stream",
     "text": [
      " 93%|██████████████████████████████████████████████████████████████████████▉     | 1847/1980 [1:03:35<04:47,  2.16s/it]"
     ]
    },
    {
     "name": "stdout",
     "output_type": "stream",
     "text": [
      "2297 내용이 없다고? !!\n",
      "{}\n",
      "\n"
     ]
    },
    {
     "name": "stderr",
     "output_type": "stream",
     "text": [
      " 93%|██████████████████████████████████████████████████████████████████████▉     | 1849/1980 [1:03:39<04:52,  2.23s/it]"
     ]
    },
    {
     "name": "stdout",
     "output_type": "stream",
     "text": [
      "2304 내용이 없다고? !!\n",
      "{}\n",
      "\n"
     ]
    },
    {
     "name": "stderr",
     "output_type": "stream",
     "text": [
      " 94%|███████████████████████████████████████████████████████████████████████▎    | 1858/1980 [1:04:00<04:44,  2.33s/it]"
     ]
    },
    {
     "name": "stdout",
     "output_type": "stream",
     "text": [
      "2321 내용이 없다고? !!\n",
      "{}\n",
      "\n"
     ]
    },
    {
     "name": "stderr",
     "output_type": "stream",
     "text": [
      " 94%|███████████████████████████████████████████████████████████████████████▍    | 1862/1980 [1:04:09<04:08,  2.11s/it]"
     ]
    },
    {
     "name": "stdout",
     "output_type": "stream",
     "text": [
      "2328 내용이 없다고? !!\n",
      "{}\n",
      "\n"
     ]
    },
    {
     "name": "stderr",
     "output_type": "stream",
     "text": [
      "\r",
      " 94%|███████████████████████████████████████████████████████████████████████▌    | 1863/1980 [1:04:11<04:16,  2.19s/it]"
     ]
    },
    {
     "name": "stdout",
     "output_type": "stream",
     "text": [
      "2329 내용이 없다고? !!\n",
      "{}\n",
      "\n"
     ]
    },
    {
     "name": "stderr",
     "output_type": "stream",
     "text": [
      " 94%|███████████████████████████████████████████████████████████████████████▌    | 1866/1980 [1:04:17<03:49,  2.02s/it]"
     ]
    },
    {
     "name": "stdout",
     "output_type": "stream",
     "text": [
      "2333 내용이 없다고? !!\n",
      "{}\n",
      "\n"
     ]
    },
    {
     "name": "stderr",
     "output_type": "stream",
     "text": [
      " 94%|███████████████████████████████████████████████████████████████████████▊    | 1871/1980 [1:04:28<03:41,  2.03s/it]"
     ]
    },
    {
     "name": "stdout",
     "output_type": "stream",
     "text": [
      "2346 내용이 없다고? !!\n",
      "{}\n",
      "\n"
     ]
    },
    {
     "name": "stderr",
     "output_type": "stream",
     "text": [
      " 95%|███████████████████████████████████████████████████████████████████████▉    | 1873/1980 [1:04:32<03:39,  2.05s/it]"
     ]
    },
    {
     "name": "stdout",
     "output_type": "stream",
     "text": [
      "2350 내용이 없다고? !!\n",
      "{}\n",
      "\n"
     ]
    },
    {
     "name": "stderr",
     "output_type": "stream",
     "text": [
      " 95%|████████████████████████████████████████████████████████████████████████    | 1876/1980 [1:04:37<03:12,  1.85s/it]"
     ]
    },
    {
     "name": "stdout",
     "output_type": "stream",
     "text": [
      "2355 내용이 없다고? !!\n",
      "{}\n",
      "\n"
     ]
    },
    {
     "name": "stderr",
     "output_type": "stream",
     "text": [
      "\r",
      " 95%|████████████████████████████████████████████████████████████████████████    | 1877/1980 [1:04:39<03:19,  1.94s/it]"
     ]
    },
    {
     "name": "stdout",
     "output_type": "stream",
     "text": [
      "2356 내용이 없다고? !!\n",
      "{}\n",
      "\n"
     ]
    },
    {
     "name": "stderr",
     "output_type": "stream",
     "text": [
      " 95%|████████████████████████████████████████████████████████████████████████▏   | 1880/1980 [1:04:45<03:10,  1.90s/it]"
     ]
    },
    {
     "name": "stdout",
     "output_type": "stream",
     "text": [
      "2360 내용이 없다고? !!\n",
      "{}\n",
      "\n"
     ]
    },
    {
     "name": "stderr",
     "output_type": "stream",
     "text": [
      " 95%|████████████████████████████████████████████████████████████████████████▎   | 1885/1980 [1:04:57<03:40,  2.32s/it]"
     ]
    },
    {
     "name": "stdout",
     "output_type": "stream",
     "text": [
      "2365 내용이 없다고? !!\n",
      "{}\n",
      "\n"
     ]
    },
    {
     "name": "stderr",
     "output_type": "stream",
     "text": [
      " 96%|████████████████████████████████████████████████████████████████████████▋   | 1895/1980 [1:05:19<03:05,  2.18s/it]"
     ]
    },
    {
     "name": "stdout",
     "output_type": "stream",
     "text": [
      "2386 내용이 없다고? !!\n",
      "{}\n",
      "\n"
     ]
    },
    {
     "name": "stderr",
     "output_type": "stream",
     "text": [
      " 96%|████████████████████████████████████████████████████████████████████████▊   | 1897/1980 [1:05:23<02:47,  2.02s/it]"
     ]
    },
    {
     "name": "stdout",
     "output_type": "stream",
     "text": [
      "2388 내용이 없다고? !!\n",
      "{}\n",
      "\n"
     ]
    },
    {
     "name": "stderr",
     "output_type": "stream",
     "text": [
      " 96%|█████████████████████████████████████████████████████████████████████████▏  | 1907/1980 [1:05:43<02:19,  1.92s/it]"
     ]
    },
    {
     "name": "stdout",
     "output_type": "stream",
     "text": [
      "2401 내용이 없다고? !!\n",
      "{}\n",
      "\n"
     ]
    },
    {
     "name": "stderr",
     "output_type": "stream",
     "text": [
      " 96%|█████████████████████████████████████████████████████████████████████████▎  | 1910/1980 [1:05:50<02:35,  2.23s/it]"
     ]
    },
    {
     "name": "stdout",
     "output_type": "stream",
     "text": [
      "2405 내용이 없다고? !!\n",
      "{}\n",
      "\n"
     ]
    },
    {
     "name": "stderr",
     "output_type": "stream",
     "text": [
      " 97%|█████████████████████████████████████████████████████████████████████████▉  | 1926/1980 [1:06:22<01:51,  2.06s/it]"
     ]
    },
    {
     "name": "stdout",
     "output_type": "stream",
     "text": [
      "2432 내용이 없다고? !!\n",
      "{}\n",
      "\n"
     ]
    },
    {
     "name": "stderr",
     "output_type": "stream",
     "text": [
      " 97%|██████████████████████████████████████████████████████████████████████████  | 1930/1980 [1:06:29<01:29,  1.79s/it]"
     ]
    },
    {
     "name": "stdout",
     "output_type": "stream",
     "text": [
      "2438 내용이 없다고? !!\n",
      "{}\n",
      "\n"
     ]
    },
    {
     "name": "stderr",
     "output_type": "stream",
     "text": [
      " 98%|██████████████████████████████████████████████████████████████████████████▎ | 1935/1980 [1:06:41<01:32,  2.06s/it]"
     ]
    },
    {
     "name": "stdout",
     "output_type": "stream",
     "text": [
      "2444 내용이 없다고? !!\n",
      "{}\n",
      "\n"
     ]
    },
    {
     "name": "stderr",
     "output_type": "stream",
     "text": [
      "\r",
      " 98%|██████████████████████████████████████████████████████████████████████████▎ | 1936/1980 [1:06:43<01:29,  2.03s/it]"
     ]
    },
    {
     "name": "stdout",
     "output_type": "stream",
     "text": [
      "2445 내용이 없다고? !!\n",
      "{}\n",
      "\n"
     ]
    },
    {
     "name": "stderr",
     "output_type": "stream",
     "text": [
      " 98%|██████████████████████████████████████████████████████████████████████████▋ | 1947/1980 [1:07:03<01:07,  2.06s/it]"
     ]
    },
    {
     "name": "stdout",
     "output_type": "stream",
     "text": [
      "2474 내용이 없다고? !!\n",
      "{}\n",
      "\n"
     ]
    },
    {
     "name": "stderr",
     "output_type": "stream",
     "text": [
      " 99%|███████████████████████████████████████████████████████████████████████████ | 1957/1980 [1:07:25<00:52,  2.28s/it]"
     ]
    },
    {
     "name": "stdout",
     "output_type": "stream",
     "text": [
      "2494 내용이 없다고? !!\n",
      "{}\n",
      "\n"
     ]
    },
    {
     "name": "stderr",
     "output_type": "stream",
     "text": [
      " 99%|███████████████████████████████████████████████████████████████████████████▍| 1964/1980 [1:07:39<00:32,  2.03s/it]"
     ]
    },
    {
     "name": "stdout",
     "output_type": "stream",
     "text": [
      "2504 내용이 없다고? !!\n",
      "{}\n",
      "\n"
     ]
    },
    {
     "name": "stderr",
     "output_type": "stream",
     "text": [
      "100%|███████████████████████████████████████████████████████████████████████████▊| 1976/1980 [1:08:01<00:06,  1.56s/it]"
     ]
    },
    {
     "name": "stdout",
     "output_type": "stream",
     "text": [
      "2517 내용이 없다고? !!\n",
      "{}\n",
      "\n"
     ]
    },
    {
     "name": "stderr",
     "output_type": "stream",
     "text": [
      "100%|████████████████████████████████████████████████████████████████████████████| 1980/1980 [1:08:09<00:00,  2.07s/it]"
     ]
    },
    {
     "name": "stdout",
     "output_type": "stream",
     "text": [
      "2524 내용이 없다고? !!\n",
      "{}\n",
      "\n"
     ]
    },
    {
     "name": "stderr",
     "output_type": "stream",
     "text": [
      "\n"
     ]
    }
   ],
   "source": [
    "import urllib.request\n",
    "from PIL import Image\n",
    "import time\n",
    "from tqdm import tqdm\n",
    "\n",
    "for i in tqdm(range(df0.shape[0])):\n",
    "    if len(str(df0.iloc[i][\"last_img\"])) !=3: \n",
    "        try:\n",
    "            save_number = df0.iloc[i]['index']\n",
    "            save_img_path = f\"Images/0/{save_number}_class0.png\"\n",
    "            save_json_path = f\"annotation/0/{save_number}_class0.json\"\n",
    "            \n",
    "            # 이미지 저장.\n",
    "            urllib.request.urlretrieve(df0.iloc[i][\"last_img\"], save_img_path)\n",
    "            \n",
    "            ### 이미지 글자 추출\n",
    "            time.sleep(1)\n",
    "            files = {\"file\": open(save_img_path, \"rb\").read()}\n",
    "            response = requests.post('http://27.255.77.102:5000/evaluation',files=files)\n",
    "            if response.status_code == 200:\n",
    "                feature_text = response.json()\n",
    "                if len(feature_text) ==0:\n",
    "                    print(save_number,\"내용이 없다고? !!\")\n",
    "                    print(feature_text)\n",
    "                    print()\n",
    "                    continue\n",
    "                else:\n",
    "                    json_files = {\"file\": open(save_img_path, \"rb\").read()}\n",
    "                    with open(save_json_path,'w',  encoding='utf-8') as f:\n",
    "                        json.dump(feature_text, f, ensure_ascii=False, indent='\\t')\n",
    "        except:\n",
    "            pass"
   ]
  },
  {
   "cell_type": "markdown",
   "id": "aca19708",
   "metadata": {},
   "source": [
    "## 3.3 json 파일 정보를 DataFrame에 매핑"
   ]
  },
  {
   "cell_type": "code",
   "execution_count": 26,
   "id": "eca21db1",
   "metadata": {},
   "outputs": [
    {
     "data": {
      "text/html": [
       "<div>\n",
       "<style scoped>\n",
       "    .dataframe tbody tr th:only-of-type {\n",
       "        vertical-align: middle;\n",
       "    }\n",
       "\n",
       "    .dataframe tbody tr th {\n",
       "        vertical-align: top;\n",
       "    }\n",
       "\n",
       "    .dataframe thead th {\n",
       "        text-align: right;\n",
       "    }\n",
       "</style>\n",
       "<table border=\"1\" class=\"dataframe\">\n",
       "  <thead>\n",
       "    <tr style=\"text-align: right;\">\n",
       "      <th></th>\n",
       "      <th>광고 분류2</th>\n",
       "      <th>index</th>\n",
       "    </tr>\n",
       "  </thead>\n",
       "  <tbody>\n",
       "    <tr>\n",
       "      <th>0</th>\n",
       "      <td>2</td>\n",
       "      <td>0</td>\n",
       "    </tr>\n",
       "    <tr>\n",
       "      <th>1</th>\n",
       "      <td>2</td>\n",
       "      <td>1</td>\n",
       "    </tr>\n",
       "    <tr>\n",
       "      <th>2</th>\n",
       "      <td>2</td>\n",
       "      <td>2</td>\n",
       "    </tr>\n",
       "    <tr>\n",
       "      <th>3</th>\n",
       "      <td>2</td>\n",
       "      <td>3</td>\n",
       "    </tr>\n",
       "    <tr>\n",
       "      <th>4</th>\n",
       "      <td>2</td>\n",
       "      <td>4</td>\n",
       "    </tr>\n",
       "    <tr>\n",
       "      <th>...</th>\n",
       "      <td>...</td>\n",
       "      <td>...</td>\n",
       "    </tr>\n",
       "    <tr>\n",
       "      <th>2520</th>\n",
       "      <td>2</td>\n",
       "      <td>2520</td>\n",
       "    </tr>\n",
       "    <tr>\n",
       "      <th>2521</th>\n",
       "      <td>1</td>\n",
       "      <td>2521</td>\n",
       "    </tr>\n",
       "    <tr>\n",
       "      <th>2522</th>\n",
       "      <td>2</td>\n",
       "      <td>2522</td>\n",
       "    </tr>\n",
       "    <tr>\n",
       "      <th>2523</th>\n",
       "      <td>0</td>\n",
       "      <td>2523</td>\n",
       "    </tr>\n",
       "    <tr>\n",
       "      <th>2524</th>\n",
       "      <td>0</td>\n",
       "      <td>2524</td>\n",
       "    </tr>\n",
       "  </tbody>\n",
       "</table>\n",
       "<p>2525 rows × 2 columns</p>\n",
       "</div>"
      ],
      "text/plain": [
       "      광고 분류2  index\n",
       "0          2      0\n",
       "1          2      1\n",
       "2          2      2\n",
       "3          2      3\n",
       "4          2      4\n",
       "...      ...    ...\n",
       "2520       2   2520\n",
       "2521       1   2521\n",
       "2522       2   2522\n",
       "2523       0   2523\n",
       "2524       0   2524\n",
       "\n",
       "[2525 rows x 2 columns]"
      ]
     },
     "execution_count": 26,
     "metadata": {},
     "output_type": "execute_result"
    }
   ],
   "source": [
    "# json 파일을 매핑할 키 정보들\n",
    "df[['광고 분류2',\"index\"]]"
   ]
  },
  {
   "cell_type": "code",
   "execution_count": 40,
   "id": "6ee6d897",
   "metadata": {},
   "outputs": [],
   "source": [
    "# jsonFilea 정보 저장\n",
    "def json_labeling(x):\n",
    "    index_num = int(x[0])\n",
    "    label_num = int(x[1])\n",
    "    load_name = f\"annotation/{label_num}/{index_num}_class{label_num}.json\" \n",
    "    return load_name"
   ]
  },
  {
   "cell_type": "code",
   "execution_count": 42,
   "id": "9810f8a8",
   "metadata": {},
   "outputs": [],
   "source": [
    "df[\"jsonFile\"] = df[[\"index\",\"광고 분류2\"]].apply(lambda x: json_labeling(x), axis=1)"
   ]
  },
  {
   "cell_type": "code",
   "execution_count": 43,
   "id": "c4e5a27f",
   "metadata": {},
   "outputs": [
    {
     "data": {
      "text/html": [
       "<div>\n",
       "<style scoped>\n",
       "    .dataframe tbody tr th:only-of-type {\n",
       "        vertical-align: middle;\n",
       "    }\n",
       "\n",
       "    .dataframe tbody tr th {\n",
       "        vertical-align: top;\n",
       "    }\n",
       "\n",
       "    .dataframe thead th {\n",
       "        text-align: right;\n",
       "    }\n",
       "</style>\n",
       "<table border=\"1\" class=\"dataframe\">\n",
       "  <thead>\n",
       "    <tr style=\"text-align: right;\">\n",
       "      <th></th>\n",
       "      <th>index</th>\n",
       "      <th>url</th>\n",
       "      <th>title</th>\n",
       "      <th>post_date</th>\n",
       "      <th>검색어</th>\n",
       "      <th>브랜드 명</th>\n",
       "      <th>content</th>\n",
       "      <th>content_cnt</th>\n",
       "      <th>content_line</th>\n",
       "      <th>quote</th>\n",
       "      <th>...</th>\n",
       "      <th>♥ 키워드</th>\n",
       "      <th>구매후기 키워드</th>\n",
       "      <th>한달 키워드</th>\n",
       "      <th>두달 키워드</th>\n",
       "      <th>세달 키워드</th>\n",
       "      <th>WEB_광고 분류1</th>\n",
       "      <th>WEB_광고 분류2</th>\n",
       "      <th>광고 분류1</th>\n",
       "      <th>광고 분류2</th>\n",
       "      <th>jsonFile</th>\n",
       "    </tr>\n",
       "  </thead>\n",
       "  <tbody>\n",
       "    <tr>\n",
       "      <th>0</th>\n",
       "      <td>0</td>\n",
       "      <td>https://blog.naver.com/PostView.naver?blogId=e...</td>\n",
       "      <td>무선 무릎찜질기 메이크맨 무르비2 사용 후기</td>\n",
       "      <td>20220124</td>\n",
       "      <td>무르비2 리뷰</td>\n",
       "      <td>메이크맨</td>\n",
       "      <td>저는 여름보다 유달리 겨울 추위를 잘 타는 체질이라 ... 히터가 작동되는 사무실에...</td>\n",
       "      <td>2435</td>\n",
       "      <td>22</td>\n",
       "      <td>['편리한 무선 온열찜질기진동 마사지 기능옥이 들어있어 원적외선 효과']</td>\n",
       "      <td>...</td>\n",
       "      <td>0</td>\n",
       "      <td>0</td>\n",
       "      <td>0</td>\n",
       "      <td>0</td>\n",
       "      <td>0</td>\n",
       "      <td>0</td>\n",
       "      <td>0</td>\n",
       "      <td>1</td>\n",
       "      <td>2</td>\n",
       "      <td>annotation/2/0_class2.json</td>\n",
       "    </tr>\n",
       "    <tr>\n",
       "      <th>1</th>\n",
       "      <td>1</td>\n",
       "      <td>https://blog.naver.com/PostView.naver?blogId=s...</td>\n",
       "      <td>REVIEW｜무릎 온열찜질기 &amp;quot;메이크맨 무르비2&amp;quot; 무릎찜질기 후기</td>\n",
       "      <td>20220129</td>\n",
       "      <td>무르비2 리뷰</td>\n",
       "      <td>메이크맨</td>\n",
       "      <td>최근 들어 아부지가 무릎이 자주 아프다고 하셔서 집에서 편하게 통증을 줄일 수 있는...</td>\n",
       "      <td>872</td>\n",
       "      <td>10</td>\n",
       "      <td>[]</td>\n",
       "      <td>...</td>\n",
       "      <td>0</td>\n",
       "      <td>0</td>\n",
       "      <td>0</td>\n",
       "      <td>0</td>\n",
       "      <td>0</td>\n",
       "      <td>0</td>\n",
       "      <td>0</td>\n",
       "      <td>1</td>\n",
       "      <td>2</td>\n",
       "      <td>annotation/2/1_class2.json</td>\n",
       "    </tr>\n",
       "    <tr>\n",
       "      <th>2</th>\n",
       "      <td>2</td>\n",
       "      <td>https://blog.naver.com/PostView.naver?blogId=c...</td>\n",
       "      <td>메이크맨 무르비 2세대 무릎마사지기’ 솔직후기</td>\n",
       "      <td>20211125</td>\n",
       "      <td>무르비2 리뷰</td>\n",
       "      <td>메이크맨</td>\n",
       "      <td>원적외선 무릎마사지기(온열/진동) SH-14K 76,900원 ➡️ 49,000원 요...</td>\n",
       "      <td>1893</td>\n",
       "      <td>21</td>\n",
       "      <td>['•무릎건강 자가 테스트•']</td>\n",
       "      <td>...</td>\n",
       "      <td>0</td>\n",
       "      <td>0</td>\n",
       "      <td>0</td>\n",
       "      <td>0</td>\n",
       "      <td>0</td>\n",
       "      <td>0</td>\n",
       "      <td>0</td>\n",
       "      <td>1</td>\n",
       "      <td>2</td>\n",
       "      <td>annotation/2/2_class2.json</td>\n",
       "    </tr>\n",
       "    <tr>\n",
       "      <th>3</th>\n",
       "      <td>3</td>\n",
       "      <td>https://blog.naver.com/PostView.naver?blogId=p...</td>\n",
       "      <td>원적외선 무릎마사지기 무르비2 무릎안마기 무릎찜질기 사용후기</td>\n",
       "      <td>20211009</td>\n",
       "      <td>무르비2 리뷰</td>\n",
       "      <td>메이크맨</td>\n",
       "      <td>남편이 무릎이 안 좋아서 이것저것 무릎 보호대만  엄청 사서 썼는데 쓰던것 찾아보니...</td>\n",
       "      <td>1083</td>\n",
       "      <td>23</td>\n",
       "      <td>[\"'해당 포스팅은 업체에게 제품을 제공받아 주관적인 소견으로 작성하였습니다.'\"]</td>\n",
       "      <td>...</td>\n",
       "      <td>0</td>\n",
       "      <td>0</td>\n",
       "      <td>0</td>\n",
       "      <td>0</td>\n",
       "      <td>0</td>\n",
       "      <td>0</td>\n",
       "      <td>0</td>\n",
       "      <td>1</td>\n",
       "      <td>2</td>\n",
       "      <td>annotation/2/3_class2.json</td>\n",
       "    </tr>\n",
       "    <tr>\n",
       "      <th>4</th>\n",
       "      <td>4</td>\n",
       "      <td>https://blog.naver.com/PostView.naver?blogId=a...</td>\n",
       "      <td>무릎마사지와 무릎찜질이 가능한 무르비2 후기</td>\n",
       "      <td>20220120</td>\n",
       "      <td>무르비2 리뷰</td>\n",
       "      <td>메이크맨</td>\n",
       "      <td>저희 친정아빠가 술을 끊은지 몇년이 지났는데 작년 연말에 저희 남편이랑 갑자기 술을...</td>\n",
       "      <td>1188</td>\n",
       "      <td>16</td>\n",
       "      <td>[]</td>\n",
       "      <td>...</td>\n",
       "      <td>0</td>\n",
       "      <td>0</td>\n",
       "      <td>0</td>\n",
       "      <td>0</td>\n",
       "      <td>0</td>\n",
       "      <td>0</td>\n",
       "      <td>0</td>\n",
       "      <td>1</td>\n",
       "      <td>2</td>\n",
       "      <td>annotation/2/4_class2.json</td>\n",
       "    </tr>\n",
       "    <tr>\n",
       "      <th>...</th>\n",
       "      <td>...</td>\n",
       "      <td>...</td>\n",
       "      <td>...</td>\n",
       "      <td>...</td>\n",
       "      <td>...</td>\n",
       "      <td>...</td>\n",
       "      <td>...</td>\n",
       "      <td>...</td>\n",
       "      <td>...</td>\n",
       "      <td>...</td>\n",
       "      <td>...</td>\n",
       "      <td>...</td>\n",
       "      <td>...</td>\n",
       "      <td>...</td>\n",
       "      <td>...</td>\n",
       "      <td>...</td>\n",
       "      <td>...</td>\n",
       "      <td>...</td>\n",
       "      <td>...</td>\n",
       "      <td>...</td>\n",
       "      <td>...</td>\n",
       "    </tr>\n",
       "    <tr>\n",
       "      <th>2520</th>\n",
       "      <td>2520</td>\n",
       "      <td>https://blog.naver.com/PostView.naver?blogId=h...</td>\n",
       "      <td>클럭 미니 마사지기 무릎 밴드 | 용도별 패드 체험 후기</td>\n",
       "      <td>20211030</td>\n",
       "      <td>무릎마사지기 리뷰</td>\n",
       "      <td>클럭</td>\n",
       "      <td>얼마 전  클럭 미니 마사지기  발 패드, 대왕 패드, 큰 패드에  대한 소개를 간...</td>\n",
       "      <td>1389</td>\n",
       "      <td>15</td>\n",
       "      <td>[]</td>\n",
       "      <td>...</td>\n",
       "      <td>0</td>\n",
       "      <td>0</td>\n",
       "      <td>0</td>\n",
       "      <td>0</td>\n",
       "      <td>0</td>\n",
       "      <td>0</td>\n",
       "      <td>0</td>\n",
       "      <td>1</td>\n",
       "      <td>2</td>\n",
       "      <td>annotation/2/2520_class2.json</td>\n",
       "    </tr>\n",
       "    <tr>\n",
       "      <th>2521</th>\n",
       "      <td>2521</td>\n",
       "      <td>https://blog.naver.com/PostView.naver?blogId=g...</td>\n",
       "      <td>웃챠 무릎마사지기 저주파마사지기 추천 솔직후기</td>\n",
       "      <td>20200324</td>\n",
       "      <td>무릎마사지기 리뷰</td>\n",
       "      <td>클럭</td>\n",
       "      <td>안녕하세요 오늘 소개해드릴 제품은  #웃챠 #무릎마사지기 입니다!  제가 정말 다양...</td>\n",
       "      <td>1739</td>\n",
       "      <td>20</td>\n",
       "      <td>[]</td>\n",
       "      <td>...</td>\n",
       "      <td>0</td>\n",
       "      <td>0</td>\n",
       "      <td>0</td>\n",
       "      <td>0</td>\n",
       "      <td>0</td>\n",
       "      <td>0</td>\n",
       "      <td>0</td>\n",
       "      <td>1</td>\n",
       "      <td>1</td>\n",
       "      <td>annotation/1/2521_class1.json</td>\n",
       "    </tr>\n",
       "    <tr>\n",
       "      <th>2522</th>\n",
       "      <td>2522</td>\n",
       "      <td>https://blog.naver.com/PostView.naver?blogId=b...</td>\n",
       "      <td>추석 선물세트로 준비해 본 효도 선물 클럭 무릎 마사지기 리뷰</td>\n",
       "      <td>20210831</td>\n",
       "      <td>무릎마사지기 리뷰</td>\n",
       "      <td>클럭</td>\n",
       "      <td>안녕하세요! 뷰스타 쪼에요 : ) 지난 8월은 눈코 뜰 새 없이 바쁜 한 달을 보냈...</td>\n",
       "      <td>2740</td>\n",
       "      <td>20</td>\n",
       "      <td>[]</td>\n",
       "      <td>...</td>\n",
       "      <td>0</td>\n",
       "      <td>0</td>\n",
       "      <td>1</td>\n",
       "      <td>0</td>\n",
       "      <td>0</td>\n",
       "      <td>0</td>\n",
       "      <td>0</td>\n",
       "      <td>1</td>\n",
       "      <td>2</td>\n",
       "      <td>annotation/2/2522_class2.json</td>\n",
       "    </tr>\n",
       "    <tr>\n",
       "      <th>2523</th>\n",
       "      <td>2523</td>\n",
       "      <td>https://blog.naver.com/PostView.naver?blogId=l...</td>\n",
       "      <td>[리뷰] 클럭(KLUG) 미니 마사지기 무릎 밴드</td>\n",
       "      <td>20200706</td>\n",
       "      <td>무릎마사지기 리뷰</td>\n",
       "      <td>클럭</td>\n",
       "      <td>안녕하세요. 오늘은 클럭 미니 마사지기 무릎 밴드 구매 후기에요. 지난번 5월 가정...</td>\n",
       "      <td>572</td>\n",
       "      <td>12</td>\n",
       "      <td>['클럭 무릎 밴드2020.06.27', '끝']</td>\n",
       "      <td>...</td>\n",
       "      <td>0</td>\n",
       "      <td>0</td>\n",
       "      <td>0</td>\n",
       "      <td>0</td>\n",
       "      <td>0</td>\n",
       "      <td>0</td>\n",
       "      <td>0</td>\n",
       "      <td>0</td>\n",
       "      <td>0</td>\n",
       "      <td>annotation/0/2523_class0.json</td>\n",
       "    </tr>\n",
       "    <tr>\n",
       "      <th>2524</th>\n",
       "      <td>2524</td>\n",
       "      <td>https://blog.naver.com/PostView.naver?blogId=h...</td>\n",
       "      <td>클럭 무릎 마사지기 리뷰</td>\n",
       "      <td>20201112</td>\n",
       "      <td>무릎마사지기 리뷰</td>\n",
       "      <td>클럭</td>\n",
       "      <td>무릎이 안 좋아서 샀는데  기대 이상입니다. 물리치료 한달 받아봤는데 저주파 치료할...</td>\n",
       "      <td>294</td>\n",
       "      <td>1</td>\n",
       "      <td>[]</td>\n",
       "      <td>...</td>\n",
       "      <td>0</td>\n",
       "      <td>0</td>\n",
       "      <td>1</td>\n",
       "      <td>0</td>\n",
       "      <td>0</td>\n",
       "      <td>0</td>\n",
       "      <td>0</td>\n",
       "      <td>0</td>\n",
       "      <td>0</td>\n",
       "      <td>annotation/0/2524_class0.json</td>\n",
       "    </tr>\n",
       "  </tbody>\n",
       "</table>\n",
       "<p>2525 rows × 52 columns</p>\n",
       "</div>"
      ],
      "text/plain": [
       "      index                                                url  \\\n",
       "0         0  https://blog.naver.com/PostView.naver?blogId=e...   \n",
       "1         1  https://blog.naver.com/PostView.naver?blogId=s...   \n",
       "2         2  https://blog.naver.com/PostView.naver?blogId=c...   \n",
       "3         3  https://blog.naver.com/PostView.naver?blogId=p...   \n",
       "4         4  https://blog.naver.com/PostView.naver?blogId=a...   \n",
       "...     ...                                                ...   \n",
       "2520   2520  https://blog.naver.com/PostView.naver?blogId=h...   \n",
       "2521   2521  https://blog.naver.com/PostView.naver?blogId=g...   \n",
       "2522   2522  https://blog.naver.com/PostView.naver?blogId=b...   \n",
       "2523   2523  https://blog.naver.com/PostView.naver?blogId=l...   \n",
       "2524   2524  https://blog.naver.com/PostView.naver?blogId=h...   \n",
       "\n",
       "                                               title  post_date        검색어  \\\n",
       "0                           무선 무릎찜질기 메이크맨 무르비2 사용 후기   20220124    무르비2 리뷰   \n",
       "1     REVIEW｜무릎 온열찜질기 &quot;메이크맨 무르비2&quot; 무릎찜질기 후기   20220129    무르비2 리뷰   \n",
       "2                          메이크맨 무르비 2세대 무릎마사지기’ 솔직후기   20211125    무르비2 리뷰   \n",
       "3                  원적외선 무릎마사지기 무르비2 무릎안마기 무릎찜질기 사용후기   20211009    무르비2 리뷰   \n",
       "4                           무릎마사지와 무릎찜질이 가능한 무르비2 후기   20220120    무르비2 리뷰   \n",
       "...                                              ...        ...        ...   \n",
       "2520                 클럭 미니 마사지기 무릎 밴드 | 용도별 패드 체험 후기   20211030  무릎마사지기 리뷰   \n",
       "2521                       웃챠 무릎마사지기 저주파마사지기 추천 솔직후기   20200324  무릎마사지기 리뷰   \n",
       "2522              추석 선물세트로 준비해 본 효도 선물 클럭 무릎 마사지기 리뷰   20210831  무릎마사지기 리뷰   \n",
       "2523                     [리뷰] 클럭(KLUG) 미니 마사지기 무릎 밴드   20200706  무릎마사지기 리뷰   \n",
       "2524                                   클럭 무릎 마사지기 리뷰   20201112  무릎마사지기 리뷰   \n",
       "\n",
       "     브랜드 명                                            content  content_cnt  \\\n",
       "0     메이크맨  저는 여름보다 유달리 겨울 추위를 잘 타는 체질이라 ... 히터가 작동되는 사무실에...         2435   \n",
       "1     메이크맨  최근 들어 아부지가 무릎이 자주 아프다고 하셔서 집에서 편하게 통증을 줄일 수 있는...          872   \n",
       "2     메이크맨  원적외선 무릎마사지기(온열/진동) SH-14K 76,900원 ➡️ 49,000원 요...         1893   \n",
       "3     메이크맨  남편이 무릎이 안 좋아서 이것저것 무릎 보호대만  엄청 사서 썼는데 쓰던것 찾아보니...         1083   \n",
       "4     메이크맨  저희 친정아빠가 술을 끊은지 몇년이 지났는데 작년 연말에 저희 남편이랑 갑자기 술을...         1188   \n",
       "...    ...                                                ...          ...   \n",
       "2520    클럭  얼마 전  클럭 미니 마사지기  발 패드, 대왕 패드, 큰 패드에  대한 소개를 간...         1389   \n",
       "2521    클럭  안녕하세요 오늘 소개해드릴 제품은  #웃챠 #무릎마사지기 입니다!  제가 정말 다양...         1739   \n",
       "2522    클럭  안녕하세요! 뷰스타 쪼에요 : ) 지난 8월은 눈코 뜰 새 없이 바쁜 한 달을 보냈...         2740   \n",
       "2523    클럭  안녕하세요. 오늘은 클럭 미니 마사지기 무릎 밴드 구매 후기에요. 지난번 5월 가정...          572   \n",
       "2524    클럭  무릎이 안 좋아서 샀는데  기대 이상입니다. 물리치료 한달 받아봤는데 저주파 치료할...          294   \n",
       "\n",
       "      content_line                                           quote  ...  \\\n",
       "0               22        ['편리한 무선 온열찜질기진동 마사지 기능옥이 들어있어 원적외선 효과']  ...   \n",
       "1               10                                              []  ...   \n",
       "2               21                               ['•무릎건강 자가 테스트•']  ...   \n",
       "3               23  [\"'해당 포스팅은 업체에게 제품을 제공받아 주관적인 소견으로 작성하였습니다.'\"]  ...   \n",
       "4               16                                              []  ...   \n",
       "...            ...                                             ...  ...   \n",
       "2520            15                                              []  ...   \n",
       "2521            20                                              []  ...   \n",
       "2522            20                                              []  ...   \n",
       "2523            12                     ['클럭 무릎 밴드2020.06.27', '끝']  ...   \n",
       "2524             1                                              []  ...   \n",
       "\n",
       "      ♥ 키워드 구매후기 키워드 한달 키워드  두달 키워드  세달 키워드  WEB_광고 분류1  WEB_광고 분류2  광고 분류1  \\\n",
       "0         0        0      0       0       0           0           0       1   \n",
       "1         0        0      0       0       0           0           0       1   \n",
       "2         0        0      0       0       0           0           0       1   \n",
       "3         0        0      0       0       0           0           0       1   \n",
       "4         0        0      0       0       0           0           0       1   \n",
       "...     ...      ...    ...     ...     ...         ...         ...     ...   \n",
       "2520      0        0      0       0       0           0           0       1   \n",
       "2521      0        0      0       0       0           0           0       1   \n",
       "2522      0        0      1       0       0           0           0       1   \n",
       "2523      0        0      0       0       0           0           0       0   \n",
       "2524      0        0      1       0       0           0           0       0   \n",
       "\n",
       "      광고 분류2                       jsonFile  \n",
       "0          2     annotation/2/0_class2.json  \n",
       "1          2     annotation/2/1_class2.json  \n",
       "2          2     annotation/2/2_class2.json  \n",
       "3          2     annotation/2/3_class2.json  \n",
       "4          2     annotation/2/4_class2.json  \n",
       "...      ...                            ...  \n",
       "2520       2  annotation/2/2520_class2.json  \n",
       "2521       1  annotation/1/2521_class1.json  \n",
       "2522       2  annotation/2/2522_class2.json  \n",
       "2523       0  annotation/0/2523_class0.json  \n",
       "2524       0  annotation/0/2524_class0.json  \n",
       "\n",
       "[2525 rows x 52 columns]"
      ]
     },
     "execution_count": 43,
     "metadata": {},
     "output_type": "execute_result"
    }
   ],
   "source": [
    "# 정보 확인\n",
    "df"
   ]
  },
  {
   "cell_type": "markdown",
   "id": "3f9c5730",
   "metadata": {},
   "source": [
    "## 3.4 json 파일을 읽어서 한 문장으로 만들기"
   ]
  },
  {
   "cell_type": "code",
   "execution_count": 70,
   "id": "32f734a7",
   "metadata": {},
   "outputs": [],
   "source": [
    "# json 파일을 읽어서 OCR 결과를 하나의 텍스트 문장으로 만들기\n",
    "def json_featuring(x):\n",
    "    load_name  = x.values[0]\n",
    "    try:\n",
    "        with open(load_name, 'r', encoding='UTF-8') as json_file:\n",
    "            json_data = json.load(json_file)\n",
    "        result = \" \".join(list(json_data.keys()))\n",
    "    except FileNotFoundError:\n",
    "        result = \"\"\n",
    "    return result"
   ]
  },
  {
   "cell_type": "code",
   "execution_count": 71,
   "id": "f0c2e00e",
   "metadata": {},
   "outputs": [],
   "source": [
    "df[\"context_img\"] = df[[\"jsonFile\"]].apply(lambda x: json_featuring(x), axis=1)"
   ]
  },
  {
   "cell_type": "code",
   "execution_count": 78,
   "id": "5b78b75d",
   "metadata": {},
   "outputs": [
    {
     "data": {
      "text/html": [
       "<div>\n",
       "<style scoped>\n",
       "    .dataframe tbody tr th:only-of-type {\n",
       "        vertical-align: middle;\n",
       "    }\n",
       "\n",
       "    .dataframe tbody tr th {\n",
       "        vertical-align: top;\n",
       "    }\n",
       "\n",
       "    .dataframe thead th {\n",
       "        text-align: right;\n",
       "    }\n",
       "</style>\n",
       "<table border=\"1\" class=\"dataframe\">\n",
       "  <thead>\n",
       "    <tr style=\"text-align: right;\">\n",
       "      <th></th>\n",
       "      <th>index</th>\n",
       "      <th>url</th>\n",
       "      <th>title</th>\n",
       "      <th>post_date</th>\n",
       "      <th>검색어</th>\n",
       "      <th>브랜드 명</th>\n",
       "      <th>content</th>\n",
       "      <th>content_cnt</th>\n",
       "      <th>content_line</th>\n",
       "      <th>quote</th>\n",
       "      <th>...</th>\n",
       "      <th>구매후기 키워드</th>\n",
       "      <th>한달 키워드</th>\n",
       "      <th>두달 키워드</th>\n",
       "      <th>세달 키워드</th>\n",
       "      <th>WEB_광고 분류1</th>\n",
       "      <th>WEB_광고 분류2</th>\n",
       "      <th>광고 분류1</th>\n",
       "      <th>광고 분류2</th>\n",
       "      <th>jsonFile</th>\n",
       "      <th>context_img</th>\n",
       "    </tr>\n",
       "  </thead>\n",
       "  <tbody>\n",
       "    <tr>\n",
       "      <th>1</th>\n",
       "      <td>1</td>\n",
       "      <td>https://blog.naver.com/PostView.naver?blogId=s...</td>\n",
       "      <td>REVIEW｜무릎 온열찜질기 &amp;quot;메이크맨 무르비2&amp;quot; 무릎찜질기 후기</td>\n",
       "      <td>20220129</td>\n",
       "      <td>무르비2 리뷰</td>\n",
       "      <td>메이크맨</td>\n",
       "      <td>최근 들어 아부지가 무릎이 자주 아프다고 하셔서 집에서 편하게 통증을 줄일 수 있는...</td>\n",
       "      <td>872</td>\n",
       "      <td>10</td>\n",
       "      <td>[]</td>\n",
       "      <td>...</td>\n",
       "      <td>0</td>\n",
       "      <td>0</td>\n",
       "      <td>0</td>\n",
       "      <td>0</td>\n",
       "      <td>0</td>\n",
       "      <td>0</td>\n",
       "      <td>1</td>\n",
       "      <td>2</td>\n",
       "      <td>annotation/2/1_class2.json</td>\n",
       "      <td>보스팅은 솔직하게 업체로부터 온 우 작성된 제공밭아 제품을 직접 체험 후기입니다.</td>\n",
       "    </tr>\n",
       "  </tbody>\n",
       "</table>\n",
       "<p>1 rows × 53 columns</p>\n",
       "</div>"
      ],
      "text/plain": [
       "   index                                                url  \\\n",
       "1      1  https://blog.naver.com/PostView.naver?blogId=s...   \n",
       "\n",
       "                                            title  post_date      검색어 브랜드 명  \\\n",
       "1  REVIEW｜무릎 온열찜질기 &quot;메이크맨 무르비2&quot; 무릎찜질기 후기   20220129  무르비2 리뷰  메이크맨   \n",
       "\n",
       "                                             content  content_cnt  \\\n",
       "1  최근 들어 아부지가 무릎이 자주 아프다고 하셔서 집에서 편하게 통증을 줄일 수 있는...          872   \n",
       "\n",
       "   content_line quote  ...  구매후기 키워드 한달 키워드 두달 키워드  세달 키워드  WEB_광고 분류1  \\\n",
       "1            10    []  ...         0      0      0       0           0   \n",
       "\n",
       "   WEB_광고 분류2  광고 분류1  광고 분류2                    jsonFile  \\\n",
       "1           0       1       2  annotation/2/1_class2.json   \n",
       "\n",
       "                                     context_img  \n",
       "1  보스팅은 솔직하게 업체로부터 온 우 작성된 제공밭아 제품을 직접 체험 후기입니다.  \n",
       "\n",
       "[1 rows x 53 columns]"
      ]
     },
     "execution_count": 78,
     "metadata": {},
     "output_type": "execute_result"
    }
   ],
   "source": [
    "df[df[\"context_img\"].str.contains(\"보스팅\")]"
   ]
  },
  {
   "cell_type": "code",
   "execution_count": 81,
   "id": "fc0d499e",
   "metadata": {},
   "outputs": [
    {
     "name": "stdout",
     "output_type": "stream",
     "text": [
      "\n",
      "보스팅은 솔직하게 업체로부터 온 우 작성된 제공밭아 제품을 직접 체험 후기입니다.\n",
      "\n",
      "\n",
      "powe\n",
      "a ce 칠옥타브\n",
      "브랜드로부터 소정의 원고료를 이 작성되었습니다 지원받아 포스팅은 해당\n",
      "beanpressi lon 행궁\n",
      "1013 4.5점 a choice mare oo oro rome talv tazza travelers via 가능 결제 공식홈페이지 로마 리뷰 맛있는 목사 사진 시설 시용카드 이용 이지도 이탐리아 전체 주변 지역 커프 킴시0 트립어드바이저 평수\n",
      "a the 구입 방을 사용한 수도 수수료를 실제 일환으로 있습니다. 제공 쿠팡파트너스 포스팅은 활동의 후 후기이자,\n",
      "내림으\n",
      "100x 검사 기는 기로 남음수 내부어 드리겠습니다 룸엄루이 모든 비프레소는 빈프레소는 사용하셔도 사용한 생기는 실시 아닐 안심하고 압습니다 에스티들 이슨니다 이하 있습니다 잔유물이오니 전수 전수검사(커프 전수검사를 전자동 제품 제품을 주조 진행하 책임 출고전 커피머신이 키스트 판마 패문어 하고 하기 하지 환불 환불제 휠니다 흐적(커피가루\n",
      "andan pr\n",
      "\n",
      "아이플르어 지사진\n",
      "\n",
      "i테테크 각사한니다스 검색하고 꽃잔 네이버에서 늘러 늘러주시면 받아보실 배너를 빠르게 소식과 수 이벤트를 있어요 재미난 전문창작자 팬하기 팬하기틀\n",
      "hing olid\n",
      "beanpresso\n",
      "th\n",
      "\n",
      "oteat\n",
      "beanpresso 블레드c 블렌드g 빈프레소 빈프레스 시그니처\n",
      "\n",
      "anpresso pressi\n",
      "11 1점 2점 3점 4점 5점\n",
      "axcuve com macguyver naver 동영상 리뷰, 문의 제작\n",
      "there thod\n",
      "and c7\n",
      "sorongersong\n",
      "이사\n",
      "so\n",
      "d양 검색하고 네이버에서 리빙 전문들로거 팬하기\n",
      "smisund\n",
      "\n",
      "and helinox\n",
      "\n",
      "an any as fre is kaviard nireditcol oj마켓 old rald resheasyeck sau thefl tot ure waw wwiv wwwastvecom 가기 눈 랭킹닭컴 마이셰프 무원 쇼핑하러 식품사 앙트레 오뚜기몰 정원e샵 직영몰 캐비아몰 테이스티나인 파트너 프레! 프레시지\n",
      "samsung 전자레인지\n",
      "\n",
      "\n",
      "09-12 1901 smartthings 어프라이\n",
      "2021년 30우 4 53.090원 x 간편식 누 동원몰 마이셰프 서비스자세히보7 식품사 아나 약정 약정서비스 유의사항 이용 이용내역 잠고하세요 정기쇼포 제휴) 조회기간 총22 파트너 파트너식품사이용내드 확인\n",
      "k이 게시글 기재하 따른 문구를 반드시 수수료를 시, 아래 이에 일정액의 일환으로, 작성 제공받습니다 주세요 쿠팡 파트너스 포스팅은 활동의\n",
      "the\n",
      "hou mut sbormes soonoono thaat\n",
      "d양 검색하고 네이버에서 리빙 전문들로거 팬하기\n",
      "102 9888 ing w 조리시지\n",
      "\n",
      "슬자일기\n",
      "이수\n",
      "255\n",
      "15\n",
      "\n",
      "and songoobs 화장원동가전서자만\n",
      "t\n",
      "2-17\n",
      "the 대성사 이부\n",
      "\n",
      "90 a and home my thit 가열되면서 간편 고장이 날수 냄새기 높러 다양힌 대기중 레시프 모드 무해하며 바로 버튼만 보내기 보내두면 부퓨이 사용하세요 삼펴보세요 설정을 시간 시에는 시작 시작힐 아니니 아라 안심하고 에어 요리름 이기기로 인체에 일부 있는 있습니다 있어요 조리 주방 최초 큐커 큐커에 큐커에서 타는 프라이 함수\n",
      "cook sorestes\n",
      "samsung\n",
      "\n",
      "ull 구울 바삭하게 빵을 토스트\n",
      "samsung\n",
      "hartleys strawberry\n",
      "1924 nous of\n",
      "\n",
      ".000우 16.000원 18 20214 2021년 24개원 31 3년 8월 975원 a is th 간편식 달구매금액 미충족 서비스자세히보7 식문사이용내 식품시 신청정보 신청정보조호 실적 심적중족 약정금약 약정기긴 약정서비스 여부 이번 이용내역 정기쇼핑 조 조회기간 총1 최대금약 파트너 함인반회 확인\n",
      "wa 간단히데울 구물 기름없이 르도 바삭하기 바식하기 서택하세도 설정하세요 소e 시간 시간을 에어프라이 에어프라이어 요리 음식물울 이 전자레인지 조리 카세도 토스트 표면을바싹!\n",
      "a 관련 다양현 모바일에 삼성 서비스 스마트 제품\n",
      "sersess sogsosse soresess whe\n",
      "on\n",
      "and 대성\n",
      "또\n",
      "the 이 치커기 트크\n",
      "the\n",
      "samsung tocornal\n",
      "\n",
      "\n",
      "\n",
      "busbs sersesse thes\n",
      "beige glam i in pini the white 그래\n",
      "seroune\n",
      "\n",
      "\n",
      "a an the 매미경송 세이양소다클레이 페미컴소다틀터\n",
      "\n",
      "lo\n",
      "81881 리스\n",
      "hut 기름없이 멀종아는 바삭하게 뷰티걸 소이 에어프라이 튀김요리를\n",
      "and\n",
      "11 902 a the 가열되면서 거심 고장이 냄새가날수 농러 대기중 레시피 모드 무 무해하며 바로 버튼만 보내기 보내두면 부품이 사용하세요 설정을 시간 시에는 시작 시작할 아니니 아라 안심하고 에어 우리 인체에 일부 있습니다 있어요 조리 집 최초 큐커 큐커에 큐커에서 큐커의로 타는 프라이\n",
      "\n",
      "\n",
      "di\n",
      "and tou 비스트\n",
      "07.56 nerting samsung uesonx 구커.\n",
      "low sesosss\n",
      "\n",
      "공감 글, 금지입니다. 도용 따뜻한 멋글 모든 무단 부탁드립니다! 이미지 자료,\n",
      "\n",
      "7.0097 samsung\n",
      "g\n",
      "\n",
      "in\n",
      "\n",
      "topof1 요플레스 토핑\n",
      "-0000 cur\n",
      "st\n",
      "the\n",
      "13 smart 설정하세요 취시간을\n",
      "30\n",
      "brussels 신선그대로 엘지\n",
      "대성\n",
      "gipfel 용크\n",
      "maring 업데이트중.\n",
      "the\n",
      "ho7 https 끄적임 생확기록부\n",
      "the 기기 이스\n",
      "19 2u 3단겨 4단겨 7분27초남을 a1 anc at th 갈이 그림고 누른니다 누름니다 다이엄들 뒤집어준 르네 마리네이드함 버5 스테이크 스테이크를 아래의 알림음이 윤리면 조리취소 프렌치 플레이트\n",
      "bespoke 목적으로 받아 삼성 삼성전자로부터 소개 이 작성되었습니다 제품을 지원 큐커 포스팅은\n",
      "deenamom's kitcken samsung t암의 부엌 에어프라이\n",
      "bloo mavericomiszsull 블기슬로그\n",
      "공감 글, 금지입니다. 도용 따뜻한 멋글 모든 무단 부탁드립니다! 이미지 자료,\n",
      "1단계 1부 35 5843 anl a강버 bourse hmain in kt la la갈비 la갈비구이 ourse 간단하게 갈비 관련 그림처럼 놀고 다용도 레시프 맛간장으로 설선물로받은 시작하세요 아래 압력솜어 양녁갈비를 위에 재운la 조리 조리를 조리법 짜먹기 초남음 취소 플레이트\n",
      "the 경병히\n",
      "\n",
      "the 이스\n",
      "and\n",
      "0분 0초 11813 45 간편 거실 관련 놀리 다양한 대기 동러보세요 레시프 레시피 바로 버튼만 보내기 보내두면 서비스 설정을 수 시간 시작 시작할 식빵 아래 요리름 우리집 음식 이큐커(으로 있어요 조리 중 큐커 큐커(의로 큐커어 큐커에서 토스트 할수있는\n",
      "and was 이스\n",
      "\n",
      "and thes was 송송일산용용물점 중공주중공주점\n",
      "설정\n",
      "ane cuteyuno naver samsung wand\n",
      "haileye\n",
      "sum\n",
      "the 본 삼성전자와 상품을무상으로 작성하였습니다 제공받아 직접 체험 팅은 포스 프레시지로부터 후\n",
      "cookins\n",
      "\n",
      "2020 shiraz taill yellow\n",
      "c\n",
      "an the\n",
      "the 장병\n",
      "정부\n",
      "and may\n",
      "\n",
      "ooking\n",
      "car\n",
      "the 간편식도 밀키트 바코드 스캔 스캔쿡 알아서 한번으로\n",
      "the\n",
      "(2021년 10.31 10월 16.000우 20 234 24개원 3c 9윌 a b.000우 간편식 구매금약 기4 담 미충족 서비스자세히보7 식품사 식품사이용내드 신청정보 신청정보조호 실적 실적충족 약정금약 약정기간 약정서비스 여부 이번 이용내역 정기쇼핑 조회기긴 총0원 최대금액 파트너 할인반원 확인\n",
      "sone\n",
      "\n",
      "brachettodacol rontanafredda\n",
      "dinthempring\n",
      "더하 마이셰프로부터 무상으로 삼성전자와 상품을 솔직함을 열무의 위 작성되었습니다 제공받아 후기는\n",
      "soosees sooso\n",
      "이비의 일상기록\n",
      "\n",
      "429 i in main ok vent 가성비 간편식으토 경정은 그런데 끝판왕 단초 맛있는 세어프라이어도 세트 외식비 인증 전자레인지로 정말 조리하면 조리해도 조리해도ok 집어, 집으로on 큐커로 포함 할인!\n",
      "an c\n",
      "ressential'\n",
      "o on\n",
      "whe\n",
      "\n",
      "7008m are the\n",
      "a ale an and in lin of reall the wate wheme 그님 니간통 라이 스트 시꼬 에어프라이 전자레인지 진자레인지 큐커기등\n",
      "\n",
      "\n",
      "\n",
      "\n",
      "1-127m samsung\n",
      "166.510 17 17쿠키 a in liv티신개돈 th the ve whe 가능한가요) 가정에 구칙이 님! 두분 런추 멋져요 보는거죠! 삼성닷컴 삼성로지텍에소 생방송혜타 설치까지 숙숙숙 식 아니고 제품 조리기기 직접 채팅어 침집두 큐커 통닭 피자 필요하겠네요 한마리 해드립니다!\n",
      "박생 수익이 존겠다 쿠팡 파트너스로 행으면\n",
      "\n",
      "cenovis ropr samsung\n",
      "an and as at bespoke the 만야 삼성 스트은 지급 큐커\n",
      "bespoke 큐커\n",
      "(국커에보내기 ha peren sd the withe 가이드헤따리 간편식/밀키트 간편식스캔)선택 구이일살리 대공현러시퍼 림키트 바코드 상네 시디 요리준비후 원히는혜누션다 이 조리시직 큐커의 큐커헤 트 트요리 포장지메\n",
      "bespoke 목적으로 받아 삼성 삼성전자로부터 소개 이 작성되었습니다 제품을 지원 큐커 포스팅은\n",
      "bespoke 목적으로 밥아 삭성되었습니다 삼성 삼성전자로무터 소개 이 제품을 지원 큐커 포스팅은\n",
      "\n",
      "bespoke 목적으로 받아 삼성 삼성선자로부터 소개 이 작성되었습니다 제품을 지원 큐커 포스팅은\n",
      "44개 4가지 bespoke x 간편 그릴과 그림플레이트 동시에 마그네트로으로 멀티쿡 밀키트 상단 요리의 재료를 즐거움을 채우자 큐커로 하단\n",
      "1제임제당 2뚜7 dpen hv kaviar' my큐커 대상 동원 랭킹닭컴 마이셰프 소울키친 식품사 신세계푸드 앙트레 엠버십 오뚜기 오프더테이들 오픈더테이블 캐비아 테이스티나인 파트너 풀무원 프레시지 플란\n",
      "156. 193 1뷰 22l. 470.810우 4708 511.4607 586.2 590.1 9 and b63 bespo da7797c got i ind mo' mo2 simsun the vu성 검색하기 구1 급램 기로만 나트 네이버쇼핑 니다 더보7 덕 매저 멀티오 멀티오븐 멀티쿠커 보시려다 비스 비스포크 비스포크큐 비스포크큐커 사이트 삭성저자 삼름 삼성전자 삼성전자mo2247997 서기오부 어고 오부 이마트 적어서 전기오븐 전자랜드 전자레인지 최저 큐커 큐커커 큐큐커오 트리하세니 포크큐커 포학한 화이트\n",
      "듬뚝이네키\n",
      "듬뚝이네키\n",
      "an cooking smartthings the 검색 네시피 레시피 서비스 서비스0 쇼프 스마트한조리경험 시레시피 추천및쇼핑까지\n",
      "\n",
      "대\n",
      "go\n",
      "이사\n",
      "zone\n",
      "0명 1스 2021.07.28(수 2021.08.26(목 bespoke in to whe 경혁해모세요 기간 기긴 민선 민수 사가 새로운 세상에 수한 없던 이우 조리기기 큐커를\n",
      "the\n",
      "was yoone\n",
      "bespoke 큐커\n",
      "(멀티쿡) (셰프크 (스캔쿡) 4가지 4가지요리름 4개존에서 a in. o one st 간편식도 개발한 다새다능 동시어 레시피로 맛의거 맛있는 밀키트 바코드스캔 번에, 세프가 알아서 요리를 전용 조리기기름 집밥 큐커 하나로 한끼 한번으로\n",
      "of 다나와 다나와로부터 리포터 사용 원고료틀 제공받아 제작되었습니다. 통해 프리미엄 활동음 후기는\n",
      "b방\n",
      "and go i the 다성덕글 미글온리 서비스를 업너다 온업 지공부\n",
      "danawa 글은 다나와 동해 또는 삭성하었습니다 서비스를 세공밤아 세휴사와 이 제품 체험단을\n",
      "25 di the 글 나 르엘치어서 마작성점 서비스\n",
      "25 di the 글 나 르엘치어서 마작성점 서비스\n",
      "25 di the 글 나 르엘치어서 마작성점 서비스\n",
      "iriver s9\n",
      "(루 1버소 2아이리버로 be li wlo 내용은 느겐점을 리뷰의 무상제공 밥을 부터 사실대로 사용하고 선점퇴어 알림 적였슴으 직접 체험단에 포스팀은\n",
      "danawa 글은 다나와 동해 또는 삭성하었습니다 서비스를 세공밤아 세휴사와 이 제품 체험단을\n",
      "\n",
      "a\n",
      "\n",
      "국\n",
      "way\n",
      "\n",
      "글의 모든 받을 본 생각으로 솔직한 수 올려라포티니이oovedi 위반시 이미지와 있습니다 있으며 작성되없습니다 저작권법 저작권은 처벌 포스팅은 후기가\n",
      "1440 vertermotorpg\n",
      "oblet\n",
      "the\n",
      "dowangonimand rellille the\n",
      "\n",
      "\n",
      "comfonlvionlove iverter og onaver otorp9140m\n",
      "i 모수 스\n",
      "리스 스\n",
      "1고정 aaazs904816 dpe in korea made pe- 검이에 넷이 리어 맞추고 멍어 있는 정하세. 제품에 중가에 지주의\n",
      "\n",
      "olg\n",
      "19\n",
      "rdzero\n",
      "asasi\n",
      "ding\n",
      "die\n",
      "이크\n",
      "su the 글이 길이조철 남아있는 대리 뒤집어 들사 면결하여 모제어 몬체나 물기가 물로 민지나 사용하여 세적하거나무 속메담그지미 아래어 아리으 원정리미스 이문질은 이물질을 입구 적운 제거 제거해주세요 제품 주세요 천율 첨소하기 침구 침구훈 타올이니 하머 해주세요 흑이구름 흑인구름 흡입구 흥인구클\n",
      "the 이\n",
      "tor\n",
      "\n",
      "the\n",
      "\n",
      "of\n",
      "대본 수익발생가능성을 스 은 있습니다 쿠광파트너. 포스팅, 포함하고\n",
      "and the 갈아두세요비 노는 동동장을 먼지비움 봉누 봉투교체알림 봉투교체알림이 북은색 사용시꼭 서식정점 시차장 언지비움충전디 으로짝맛거리면먼지\n",
      "ilg\n",
      "이화\n",
      "\n",
      "out s\n",
      "domanerane ent 이\n",
      "i\n",
      "1 areak fal the\n",
      "은문요 중공\n",
      "\n",
      "중전종 충전완료\n",
      "25그29학동 the\n",
      "\n",
      "ella 가득 감성가득 강소 리뷰 일상과 정보가\n",
      "2014-00019914s 879 910 교파스 대명 매남맛진 바른손한의원 이내 이력 인력 중국요리전문점 징\n",
      "이드전문점 제르트용인 통전시\n",
      "ggg7xhe lg pmo.3\n",
      "\n",
      "510 onazpoo\n",
      "go the\n",
      "000원 10 14 1개 5001 500원 5원 604sf a assemt ate in 가맹 거래일 고객동 권꽃 단말기 뚫금약 루버및 먼지통엄게교 모델 및 배두 부가세액 비용 사번 사업 수리 수리금액 수리내용 수리일시 엔지니어 인번3 자명 점번호 접수번호 정보 제조번호 지전자(주) 출장 카드번. 파주서비스센터 합계금액 합부개을\n",
      "\n",
      "a lc wall\n",
      "a and ees ken the\n",
      "\n",
      "20 a9 and do je lg the tho 가이드 관리 궁금해요 금서 김이 김이조적하 리려주세요 모양인니 방법고 방법이 버튼을 보체어 사능 사항은 스캔하여 식사 아래로 얼룩덕루해요 영삼으 자세헌 제품 제퓨 조립 주으 코드 코드제로 틴니다 표면이 홈입구분리하7\n",
      "\n",
      "th\n",
      "\n",
      "이리1000011\n",
      "and balance clean folyour ing safety xblock 방향지 청소기 클린앤블릭 화균\n",
      "202105. 6/1(화) ojlg 모바일주문1주문면호 배송완료 수량 오브제걸렉션 카밍베이지 코드제로\n",
      "olg\n",
      "autovis\n",
      "shandenting the thestere\n",
      "\n",
      "\n",
      "\n",
      "and bun coran ni\n",
      "olg\n",
      "\n",
      "on the 교체하기\n",
      "as ono push startistop\n",
      "cordzero olg\n",
      "\n",
      "the 부건\n",
      "\n",
      "\n",
      "받을 수 수수료를 일정 있습니다 제휴활동으로 쿠팡파트너스\n",
      "alg\n",
      "to 공감li1가대공 구독 귀속되어 나누는 내유등 노능 도스 로안이의 면겨 모틀굴이나 목적으로 밀생을 방침 법적으로 부락드 블로그의 비여로 사요돌 사용을 사진과줄의 사진의 소중한 안이의 원하 유오 의견으로 일상을l 있숭니다! 저작건 저작건은 적은 주관적인 포스링의 포스팅임니다!\n",
      "a9s lg 구매 직접 코드제로 후기\n",
      "and\n",
      "co the\n",
      "cordzero drivi olg ower\n",
      "\n",
      "\n",
      "\n",
      "bigg\n",
      "\n",
      "a9s lg 언박싱\n",
      "lg코드제로 가기 가즈아 무선청소기 사러 이\n",
      "a91 lg thino 코드제로\n",
      "isimplog) 심플로그 지사사사사무소\n",
      "나무라이 이마트\n",
      "이기\n",
      "olg\n",
      "\n",
      "\n",
      "동해 면동이 상품의 수 수수료를 이후 일정액의 있습니다 있을 있음 제공받을 쿠팡 파트너스 활동을\n",
      "(유스마컷 129,000우 12개원 49,000원 49.000우 51.800우 ag as in jpay lg pe the whe 구매 리류 리필 무 무상보룸 무서정소기 무선정소기 배, 배... 배터... 배터리 배터리박사 서정소기리프 스마일바터리 신품 씨 이지배터리 정품 최대 코드세로 코드제로\n",
      "소\n",
      "the 아이\n",
      "the 가격 보러가기\n",
      "대성산상장회 정이시지점대장\n",
      "a t\n",
      "9200 a a9470ik agr and foron k ok the thi 고은머지 구부러지는 구분 다용노 마트카이 매트리스 모델명 보조 삼부정 킷백 피워드라이 흡입구\n",
      "attention ine new old 주으\n",
      "seseeene the\n",
      "and ticg 백수생활 이기 이더트 일일 채블링의\n",
      "\n",
      "\n",
      "2suntub3 blog we\n",
      "te\n",
      "blog comfprojinny naver\n",
      "areul eathit 레\n",
      "(3조간부정/배제 objet the\n",
      "cee him 원린\n",
      "가격 넘어갑니다 비교로 상시정보 클릭시\n",
      "b범범 levitat obiet\n",
      "\n",
      "a9370k a9s com coupang lg전자 www 무선청소기 세공방습니디 수수료를 일정액의 코드제로 틀해 파트너스 활동을\n",
      "\n",
      "or\n",
      "1.083,710원 1g저자코드 1저 2중터보씨 540.0707 70원 755.920원 938,750운 990.490우 acoa715 aitems and datal g서자코드제로 la저자 lg전자 lo72150 thatio 더토/ 덕점리튜 리 방식 베이ke 삼성전자비스포 삼성지지 시시 오브제컴렉소 전순 중수 찾아본상품 최저 크제트 학께\n",
      "th 더보 리기 상세정보\n",
      "\n",
      "thathe 이아\n",
      "\n",
      "daily homebrew olg storv the 유징징의\n",
      "ew\n",
      "2차 all arafatare)에게 beauty ceserved copyright diana dianalld fashion right 가공을 귀속윌니다. 글 글의 금지합니다 동의 모든 및 사용 사진과 없는 이미지외 작성자 저작권은\n",
      "(면도 3 8 i 갈 사용0) 사용x 오른쪽 윈쪽 이오시키 이우시카\n",
      "yoool 미뜻아지트\n",
      "1000 is sike\n",
      "이이\n",
      "r어이어서 갈아서요 걸어드림게요 곳이 공유 구매했는지 구성도 도움이 될까 링크 매하신 부탁드려요 샷어요 스마일페이로 싶어서 안녕하세요 알아보고 에서생님이구 엔선생 있는데 저렴하고 저지마켓 적립금 점 제모기 좋은거 좌표 주는 지금 추가 페이지 흑시\n",
      "d.ming hello\n",
      "2주간격으로시술 mm의털어 sore 가드 가해질수있으 닭 리예노라 사용방법 사용시 사용전주의사항 시간이지나자연스럽거 영부분)이 이오스 이오시카ipl 제모원리 제모의료기기 피부에손상이 호수\n",
      "2차 all arafatare)에게 beauty ceserved copyright diana dianalld fashion right 가공을 귀속윌니다. 글 글의 금지합니다 동의 모든 및 사용 사진과 없는 이미지외 작성자 저작권은\n",
      "summun\n",
      "i whe\n",
      "김즈 끈난 램프카트 리어 막지않도 방법 본체으 부위에 사용 서식 스의치 스토 스트 용방법 위레브조 전우 케이\n",
      "200k inaudadak\n",
      "10. 11.1pl ipl 방법 스킨케어 시술 어느 전 준비사항\n",
      "y도내산 이오시카 제모후기\n",
      "isoe\n",
      "o\n",
      "eosika\n",
      "\n",
      "200k\n",
      "\n",
      ".조사사합 1000 1번메인스위치를 4.조사후대기시간이 che sipl. sus 끝나면 나는 나장 년도7 모현 본체의 부위어 부위의털을간단히 사용방법 사용하 세품 수직이되도 시술함\n",
      "60 arrot calming carotene pad padsl skinfood soo water\n",
      "\n",
      "\n",
      "민둥산\n",
      "\n",
      "방법 사용 사용방법 전주의사항\n",
      "eosika\n",
      "온오르닝트\n",
      "1000 41 eosika hipll no sipl yo yous 간단 개이용 사용사 사용설명서 사용전 사하연 의료기7 의료기기 이오시카 제모 제모두 주의사항\n",
      "osika\n",
      "eosika ine 대희회 삼성식당\n",
      "cring 이드\n",
      "\n",
      "\n",
      "eosik\n",
      "osika\n",
      "\n",
      "매끈곳 솜털 오든팔 외합\n",
      "\n",
      "\n",
      "and cc\n",
      "\n",
      "aces 김떼씨\n",
      "lo tr will 개원에회 사용방법 상단의 에 제지경4 주에한번 지부 차무트 첫두담\n",
      "도혜랑/ 바다, 별, 파도소리\n",
      "pyisoe\n",
      "\n",
      "osika\n",
      "3초 a rog 거법터어 기다립니다 끝나면 놀러서 되대 면봉이나 밀착되면 반복합! 방법 부드러운 부위로 부위에 부저음이 부터 사구 사용이 성도 수십 시술힘 시작합니다. 실게 예인스위체전전 와전공 전원케이 절대 조사구룸 품으\n",
      "\n",
      "2 ipl 가딘 명서 박법 사노 사도 시가체모효과유소 의르기7 이오 이오시카 주의사형\n",
      "eosikas\n",
      "\n",
      "1000s eosiko sipl 간단 개인용 사용설명소 의료기기 이오시카 제모\n",
      "1000 cosika sika sipi sipl to\n",
      "velsoa 뽀투리\n",
      "re\n",
      "강\n",
      "eosika sipl\n",
      "dear dove emories lines mant oveis tilo\n",
      "10회 2주간격 2코스 2회차부터 39 5초의 a in loh 가능 겹치지 낮은 누르면 대기시간이 레벨로 번짝 부저음이 빛이 사용합니다 순차적2 시작 않거 알림음이 약긴 올라오면 울릴 있는 있습니다 전체적으로 정면에 제모시 조사 조사버튼을 조사월 조사하고 지난 짬게 체모감소 후 후다시\n",
      "6 a eos\n",
      "고장이 나는 누르며 말솜이시죠 버튼을 사용이 삭동소리입니디 성검도와드릴까요 소리(지지직)후에 소리가 소리라는 아니린 어려운경우 원래 이오시카 자연스러운 작은 제모되는 지지직 혹여\n",
      "eosika\n",
      "eet rr sae 때히 스카이 유\n",
      "ado and 기기군 비르기기리니다 사부분가 사용가 식약치매서 피부석\n",
      "(10임가격 2주우 2코스(2주가격 35 4화 53 a are chas co was yo 권장힘 나도 딱딱힌 바닥어 반드시 사용금지) 사용방법 서of 세모르 시직 위혁0 있음 제품들 체모각소 카펫 코스 표시돈 회233\n",
      "oos 마을 이사 장우\n",
      "2.000원 202107 25 34251851 4 4우 a and pay pl the 가능합니다 교화요점 구매확정 구매확정연장 구매확정일 나이 따리 레이저 문의하기 바단니다 바품요청 배송와료 배송조호 변경돌 빠든 사무료 사성로 사화어 상세정보 상품은 쇼핑윈도 스시 연락하시면 영수 의료기.. 이오시카 이오시키 일정 일정은 있으며 재구마 전화걸기 정학힌 제모 조호 주문 주문수랑 중밤 직접 쿠의해 톡톡하7 파매 파매자에거 파매지 화인하기 확인이\n",
      "\n",
      "000원 ipl 구매가 구매확성 대한 등에 레이저 무의해수세요 문의는 반품 삼사합니다 상품의 의료기기 이오시카 이용방법 이용해수셔서 이후 제모 판매자에거 화로도나습니다\n",
      "000원 ipl 결제 구매왕성와료 레이저 문의 의료기기 이오시카 이오시키 재구마 제모 주문상서\n",
      "\n",
      "ki ru the\n",
      "oyisoe the\n",
      "\n",
      "ipl sipl 가정용 교환, 담기 도착 레이저제 로켓배송 모 반품 배송완료 배송조호 신청 어제(수) 원11 이오시카 장바구니\n",
      "1000 c차용설명서 eosika eosiko looose 간단 이오시카가정용\n",
      "ka\n",
      "eosik\n",
      "eosika\n",
      "\n",
      "\n",
      "in\n",
      "\n",
      "eosika\n",
      "\n",
      "coldba 이리 이마\n",
      "intul inturt ion schick variet 스흥\n",
      "11 area ireatment record treatment 기록지\n",
      "clanee lanelog menthe the\n",
      "한성\n",
      "\n",
      "2mm의 al ar sill to 간격으로 너지기 마해 멜라닌 모낭의 발생효 사사용 색소는 스( 시간이지나 양은 이때 자연스럽게 장시간 제모 주기적사용사 체모에2주 쿠오 탈릭 효과\n",
      "\n",
      "\n",
      "eosi\n",
      "byisos the 의료기기 이오시카 제모 제모워리\n",
      "eosika\n",
      "sp\n",
      "13. and fve fvei ho 거트 겨우 경우 레벌 박은 방법 수명 스며c 에모 적먹도 적먹된 적명돈 지o 카트리지 카트리지오 확인\n",
      "dill sher 사용설명서 사용자 설명서\n",
      "blognavercom kyeongi24\n",
      "cad\n",
      "block missh pollutiot safe\n",
      "243mm light lowpowered ot sipi 간격으로 광선 광선을 기는 기술 기오시카으 럼이 멜라닌 모낭음 모낭의 무력화시커 발생시켜 봉 색소는 시간이 시술 식어 않는 않도동 열음 영향은 워하지 의료기 의료기기으 이심 이오시카 자라지 자연스럽거 저줄력 저출력 제거합니다 제모 조사기 주 주변 줄이고 지나 탈릭 털에 털이 텀을 피부외 합니다 흡수힌\n",
      "the 이스트\n",
      ".본체의1번메인스위치 10 sipl. the 간단히 끝나면 나든 부위에수직이되도로 사용방법 사용하0 시술할부위의털을 시조사할 여.조사후대기시간이 여도기 임음0 제모호 지인 컴니디\n",
      "\n",
      "\n",
      ".507의 000원 17 170,000원 493원 507 71,000원 ane a원 cks in ju너다 the 간편결제 결제상세 경금영수승 경우 금액 나 나스 노o 는기 무이자 문의하시면 배송비 법민개민사업지 사용 상품금액 성각 알부 여부근 예택 우기 적융 적틱포인트 정보 정보호이 주문/결제 주문금액 초선포인트 카는사도 카드 컨인 쿠폰할인 키골 파인할 퍼옥 포람카드는 포민트 포인트 할부/무이사\n",
      "18\n",
      "back be the\n",
      "1000s 2주가격으로시 mm의털에 qumereane sipi the 간단 개원에이 개인용 사용설명서 사용전주의사함 시간이지나자연스럼거 시숲 이오시카 제모의료기7 주기적사용사 주에 털이탈락 하시간제드 효과유지\n",
      "a e-- is to\n",
      "/레벨 a buthe hand id ore thes 가는 감소 긴체모 능o 면도 바드 방법 사용 사용지 삼고 소성버트 없0 전워 카펫 타며서화상의\n",
      "eos shee 간단 시카이 외로기기제모미 제모\n",
      "ariver\n",
      "end si suin ta un\n",
      "\n",
      "\n",
      "\n",
      "blo유 jfjomtvxg ndver.com 경아랑m\n",
      "1000b sipl. smbe\n",
      "9ipl b7 관리사형 기노 사라지며 수십시오 제모? 주신시 후\n",
      "blogndvereomlijinm tvxo 경아랑m\n",
      "10070mon all blog cor naver.\n",
      "and jmark the 박물전주 포기계\n",
      "\n",
      "153,000원 20 2000b150만호 500k financial ipl naver sipl. tol 거래일시 구매 레이저 료기기 상품명 업그레이드) 영수증 이오시카 제모의 조사 주문번호 회사명\n",
      "ipl is lis ow 광선 방법 사용 사용전주의사항 이오시카 자연스럽거 제모워리 제모의료기기 조사기)\n",
      "one\n",
      "com httpsillblog jyoonwb12344 naver\n",
      "17 2 a gh he st th the 감쇠 경우 계방함 구마 국 권심 권장 권장힘 그닝 나도 내리길 노노 노숨 데스트이 동일한 딱딱한 레벨로 마세요 맹찜실을 면도 모린 모직후 무위 무이 바닥어 바도 바몰 반드시 별도 부위에 부위헤 사용 사용금지) 사용하지 사음 서턴 소고 소사시 손심 수건 시작 신정효과 심은 썬크림 않은 연속 오도음 우 위험이 유 이불 있음 전 정리되지 제모 제품을 조사금지 조사하지 조설 종고사용 주의사항 짐대 처음 카펫 콜드비 타면서 털소재 털의 통즐 평면 피부 피부에 필수 하여 햇빛 화상의 회짝만\n",
      "oon 이영\n",
      "\n",
      "\n",
      "\n",
      "rec record treatmentarea 기록지\n",
      "\n",
      "\n",
      "a the 료뚫제공발유 물헤 수 일정액의 있울 파트너스 활동유\n",
      "2906 blog com dmsa naver\n",
      "boull wa\n",
      "\n",
      "\n",
      "\n",
      "1000 eosiko 클릭i\n",
      "\n",
      "a\n",
      "the\n",
      "\n",
      "\n",
      "(10일간격) -1000 2료스 2주 eosika sipl 간단 박번 사용 사용설명서 사용전주의사항 시즈 의료기기 이오시카ipl 이우시키 제모 제모원리 체모감소 코스\n",
      "bate eos the\n",
      "\n",
      "\n",
      "090원 133 1개 200k ipl ov sip 구매자 구매학정 구매확정 단일상품 레이저 배송조호 삼금발락과습환피 옵센 옵션명 완료 의료기기 이오시카 제모\n",
      "sipl1000 ue\n",
      "be\n",
      "\n",
      "1000k\n",
      "((8.13,목 12-14 1개원어 1주일에하번싹시술 1회차 2회차 3회차 4회차 5회차 6회차 7.14.화 7.27.일 7회차 8.13.목 8.19.수 8.2.일 8.23.일 8.7.금 8회치 a iski warester 두담은 메모 반영구 번침 시술 오저 은 이후 제모 첫 하\n",
      "\n",
      "\n",
      "\n",
      "\n",
      "(수) 10.58 11일 12-04 2020년 26일 3월 목 오전 오후\n",
      "\n",
      "\n",
      "0회 일주일 제모 제모한달차\n",
      "14 1회 2호 3회 42 4회 56 5회 6회 day 가능 부분 생략 시술 전체\n",
      "\n",
      "\n",
      "\n",
      "20 goool ika s you\n",
      "000원 5,450원 50k cand ipl los not the you 레이저 미오시카 상품점 이오시카 적린 제모기 최대 캐시적립 헤락\n",
      "\n",
      "eosika\n",
      "eosika\n",
      "\n",
      "\n",
      "eosika sip 설형서\n",
      "고od\n",
      "12 2013 kod 기기법어 본기기는 사용가 사용불가 식약처에서 의료 의료기기입니다. 의한 표시사회 피부색 허가발은\n",
      "\n",
      "ulike\n",
      "1단계부터 1드 1주에 2단계로 3단계 an ard as da he hg l le lit ll lo o1 on pi silkn step to tof 가능 가능한 가벼워진 가시는 가오 개원어 겨드 과정인니 광선 광선은 광선을 광선이 교환 국르 권장 그립각을 근( 글라이딩 기능 기술 기술로 기슨 낭으면 누들 니술 담기 델명 도 된니다 든 디자인 랑0 레벅 레벨을 로는 리각 마토 맞는 면도해줌니다 모 모낭으 모낭음 무게로 무력화 무자 밀착시키면 밀착하면 밀착힌 및 및사양 바단 바란니 바랍니 바르지 반드 반품 배송비 버튼음 번씨 번짝시술 변하면서 보리 보증정책 본기기는 부위 부위어어 부위의 비공되는 비키니라인 빠르거 사 사사 사용 사용가능 사용금지 사용방반 사용시 사용주기 사용흑 삼스 상태에서 색소어 서비스 서비스입니 석g 선사하는 선택적으로 설정해줌니다 세서가 소사노q 수의의 수의하 스라얼 스마트해지 스지하시 시수 시술전 시술중 시술후 시숲 시스템 시체부위으 시켜더이싱 식른 실큰 실큰의 아무것도 아전하거 않는 않도록 않습니다 않은 알로에절 어두운 어법터 엄군 여속적인 연속으로 열로 와보 왁싱 우남 우농( 움직이면 원하지 의료기기 의료기기의 이 이상 이용하여 임주은 자동 자동으로 자동조사 자동조시 자라지 저제무 저출력 전제모힐 정격저인 제거하여 제모 제모, 제모전족집게 제모크루 제외한 제품 제품구성 제하하지 조사되는 조사창음 조정되어 주위드 주의사항 줌니다 천천동 체은0 최소한 출력단계기 출력창사이즈 출력창을 출력횟수 측정하는 컴는 케이스 코리아전제퓨1년무상품집 코리이 쿠담으 클리너 키 터치& 터치&플래스 털 텀음 테도 테스트후사용자어 특징 파미 펌스광서조사7 편안한 표시와 프로 프로는 플래 플래시 플래시애고 플래시애고그 플래시앤고 플래시앤고프로 플래시야 피부 피부색을 피부어 피부에 피부와 피부톤 피부톤세소 피부튼 필요없0 하 하루 한니다 핸디형 했범 횟수를 흡수되어\n",
      "1 an sensoadapt sooser\n",
      "\n",
      "\n",
      "eosika osi 사용자 설명 시동경사광파토리설회콜문\n",
      "2번 step 놀러 더 밀착시킨 버튼을 볼 부위에 수 시작하세요 있습니다 제모 제모를 제모할 조사창을 조사하면 좋은 효과를 후\n",
      "\n",
      "uhiis\n",
      "eosika\n",
      "\n",
      "o1 ould sondl 맛집 일상블로그 접바라기의\n",
      "1광선조 2015 iploo lo pitto 동니다 사기 사용설명서 사웃하셔이 의료기기\n",
      "\n",
      "je sipl. the 시000\n",
      "o\n",
      "\n",
      "\n",
      "\n",
      "the\n",
      "uwis\n",
      "a\n",
      "139 이마\n",
      "a th the 두용\n",
      "119,000원 119.000원 199 2019.03 3,000원 do0우 do무 ge ha ipr j부 yo 결제극액정보 결제액 구매확점 금액 내떡삭제 라울석사액/포이트 라피타 레이저 마트 명수증 무료 문으 발급나 배송비 사성용 사퓨그예스g 상품금액 상품정보 스도u 스마트스토에 인극약 제모으료기기 주무버호 주무일지 주문상세정보 지행상타 파매지\n",
      "\n",
      "\n",
      "\n",
      "pyisos\n",
      "리어 방법 사용 사용방법 스타이 이사 조상)\n",
      "pyisoa\n",
      "-1000b eosika sipl 사용 사용지 사용하 설명서 성명서를 의료기기입니디 잘읽은 전 정확하게 주신시오\n",
      ".시술할 .조사할 1000b 1번 2.본체의 chee c조사후대기시간이 sipl. 겹니다 글나면 다른 되도록 메인스위치을 며도기 부위어 부위에 부위의털울간단히 사용방법 사용하어 사창 수직이 이스 제모한 조조사가능 치한\n",
      "a an thin 사용 사용실명서 이호시카이 전주희시창 조은 트\n",
      "eosika\n",
      "500k\n",
      "\n",
      "an\n",
      "\n",
      "eosika\n",
      "-24 canon nspic stays 아이스 오브 천일러\n",
      "il in it l w 권이 니다 세 소정의 시먼 저머 지근\n",
      "and ao 리보\n",
      "canon inspico rebordy\n",
      "ant\n",
      "(시그니쳐 after are che club cor g leans work yo 가프라 거기서 고는 나니까 나들이/ 둥플 머진카퍼 빵난거지 세부 솔티드키라엘 써야주 알았다커 얼마나 장작존 젤라떡 직전 집주뽀어 쿠바떼 파는 해떡고\n",
      "dimt guta정장국수\n",
      "s은 w 스\n",
      "5001 canm ink inke je technology vo zero 가트 경드0 기술 붙이는 스티커 용하 이쇄 익그 인스픽 인화지 자르고 자유롭게 재미있는\n",
      "구니의 놀궁리\n",
      "mre\n",
      "foo약국 myvitamie\n",
      "co\n",
      "100' af\n",
      "canon misstoorarestomionand\n",
      "\n",
      "care\n",
      "landin the 이성\n",
      "canon\n",
      "\n",
      "an wt\n",
      "di\n",
      "\n",
      "그린 그림 내가 인스픽s2 출력 취미추첸 후기\n",
      "chilee dhammm jpg o10 ognan sip 진환\n",
      "an the\n",
      "219 canon q1갈 치기맛 카1x\n",
      "0233 05aa1-c bal canon coloque cote dale este hill hinilili hitil leet lin lown oila ore papel place placer rses side smart sous stac this under vers zink\n",
      "the\n",
      "canon\n",
      "an\n",
      "\n",
      "is\n",
      "\n",
      "\n",
      ")00원 194.000 19900 20120620 5000 50장 937010753 990 a doroio unmpe 고객님의 내역 누 런칭가필르 배송비 상품금액 와료되었습니다 우 은미x캐논코리아 인스픽s2신규 제공 주무극아 주문번호 주문상품 주문완료 주문이 주문일지 피크\n",
      "and canon\n",
      "inspic\n",
      "15.09 an lte 오늘 편집\n",
      "rour that 이마 이스 지수\n",
      "\n",
      "인스픽 캐논 포토프린터\n",
      "canon\n",
      "\n",
      "-onoon ezl\n",
      "\n",
      "aaooogsl is 감다 고2니 수기 시진5 제어 조주주차라라라라다다리어이 평강도\n",
      "구룡갈나들이\n",
      "25매(완중 871 a gtore h지 led 개는 국지용림 로도 리톱 매수 메모2 모든 문딩 반짝 사이즈 사진 셀피에서 스마트시트 염장사용화경 용랑 용지 유효화소수 이즈무거 인디찜크로즈골드 인쇄 인쇄속도 인터페이스 인화 일상까지 제품색설 졸리머 중려방스 지금바로 지디 차막 찰학 포학 프리즘 해상도 화0\n",
      "\n",
      "\n",
      "co\n",
      "canon\n",
      "anon is 오윤미 홍정우\n",
      "the 이이\n",
      "flower\n",
      "al gs kg the\n",
      "comol\n",
      "0무 15 25 314 a ank a는 t55 the 거는 겨백 권장 권장충전온도 꺼짐기능 내장배터2 동삭시가포학 러 리동 모터 무루프 미니 손시 송도 수서 스티커 습도 약504 연결 옵리머 용지 용지사이즈 인스픽c 인스픽s 자동 작동 정보 포토프린터 프리터 프린e 프린터 해상도\n",
      "the\n",
      "cg\n",
      "\n",
      "the\n",
      "danawa 글은 다나와 동해 또는 삭성하었습니다 서비스를 세공밤아 세휴사와 이 제품 체험단을\n",
      "c canon inspic tam\n",
      "\n",
      "canon ide inspic nern\n",
      "11 all you 금라주 멘째 방범 방법 번째 쁨쁨 사진음 사진픽 스티커로 원형 이스프s2마이 재미 점이지! 좋아하는 커크 콜라주로 한장에\n",
      "1자 the\n",
      "히횟\n",
      "29 jyis the wst\n",
      "poorseriny 이니 차성서\n",
      "anon canon canot gzink isheets sorting 유 유화회\n",
      "hustibogreneromans\n",
      "검색하고 네이버에서 뷰티 블로거 성경 팬하기\n",
      "상품정보보기\n",
      "상품 정보보기\n",
      "바로구매\n",
      "thy 구매 하러가기\n",
      "dy 가격 리 확인하기\n",
      "the 바로보기 후기\n",
      "사진 후기\n",
      "canon inspic sheets sto zink\n",
      "c210r\n",
      "미성드\n",
      "allday batte core no\n",
      "뒤 리뷰는 본 소정의 업체로부터 원고료를 작성 제공받아 후기입니대\n",
      "lo on\n",
      "\n",
      "diary doremi\n",
      "ore sane the\n",
      "est it ta 이마\n",
      "cum soiill\n",
      "di ponad\n",
      "canon\n",
      "ca\n",
      "\n",
      "inspice\n",
      "st the 이\n",
      "1002 3g 경현0 기프티콘 네이버 동영상 리뷰 리뷰작성후 베스트 블로그 스타벅스 응모시 이벤트 포토또는\n",
      "canon thene\n",
      "andongis honey werrein\n",
      "20 canon in 복\n",
      "상품(서비스)만 실제 업체로부터 작성한 제공받아 후기입니다\n",
      "coupang 로짓배송 인스픽s 캐논 핑하기\n",
      "clheeiven oof\n",
      "canon inspic\n",
      "\n",
      "nspic\n",
      "5x7.6 and canon sheets\n",
      "coukoo 된후기입니다 소정의지원들 실제사용 업체에서 작성 제금밤아 포스팅는 해담 후솔직하게\n",
      "글입니다 누가가에게 또는 보단악게유 서비스트 속직후기로 업체에서 이금은본 작성된 제공방아 제품\n",
      "\n",
      "\n",
      "11 cuckoo 소 솔직하게 업체에서 작성한 정의 제공받아 지원을 팅은 포스 해담 후기입니다\n",
      "the\n",
      "othe\n",
      "\n",
      "\n",
      "magic sk sk매식으로부 무상으로 반아 삭성도었습니나 선성도어 세품을 식기세적기 식기세척기 이i 제공 제험단에 크리니0 트리플케어 포스팅은 해당\n",
      "i magic sk sk매식으로부 무상으로 반아 삭성도었습니나 선성도어 세품을 식기세적기 식기세척기 제공 제험단에 트리플케어 포스팅은 해당\n",
      "ware\n",
      "a해피초f\n",
      "1886 aco allin11 and baking degr dishwasher dov eaning easina frosch kin quality since soda tablets\n",
      "'sk직의 and i 받아 소정의 원고료를 이스 제공 제작한 제품과 지원 콘텐츠입니다\n",
      "sk매직 식기세척기 트리플케어\n",
      "46 and dr코드 sk매직을 th4 tip 경은 고델명물 디러스 모일 문의하기 보러가기 사용설명서 사용하기 석색하세요 세제 시는 식력하이 식을 이시스 제운의 진구에서 채팅하기 최상다으 친구어 친구중 카카오는 카카오도 카카오톤 트러스 학인 화이하세요 화인하기\n",
      "\n",
      "alle de\n",
      "sk매직 리뷰 식기세적기 오늘의 코페이\n",
      "본 수 수수료를 일정액의 있습니다 제공받을 통해 파트너스 포스팅은 활동을\n",
      "allinal ca ed\n",
      "caces\n",
      "sk매직 본 작성된 체험단을 통해 포스팅은 포스팅입니다.\n",
      "the\n",
      "hi.blog.me whatzup\n",
      "cho op whe\n",
      "\n",
      "\n",
      "a해피초코\n",
      "스\n",
      "a sk매직으로부터 는킨점을 사용후 세작도여습니다 제품을 지원탐아 토대로 포스팅은\n",
      "oos\n",
      "\n",
      "5니,\n",
      "and\n",
      "인중기\n",
      "the\n",
      "\n",
      "and go i the 다성덕글 미글온리 서비스를 업너다 온업 지공부\n",
      "culi\n",
      "ri\n",
      "\n",
      "the 소정의 습니다. 이 제작되었 제작비를 지원받아 팅은sk매직으로부터 포\n",
      "o step.2 venta 가습기픽티 아기녹이강 주빙복이비구니\n",
      "and fibere ithebest recipes\n",
      "\n",
      "대만족\n",
      "병어 이스트리아이아\n",
      "dlg\n",
      "사연\n",
      "and\n",
      "3만점 a 가입시 갈은 견적진단 꼭 닉네임을 다이아로그 동품옥 방 부케외 불가하나 사표 소개자를 소개적용이 식기세척7 위딩라페 이시7 작성해주세요 적림 적으셔서 첫 추천인 타업/ 탈토(재가입)하셔도 포인트몰 핫한\n",
      "the\n",
      "\n",
      "the\n",
      "sute the\n",
      "\n",
      "and\n",
      "\n",
      "\n",
      "and in 이\n",
      "\n",
      "o 정원\n",
      "\n",
      "16cm 26cn classic h260프프리어린 hagonfirpans othello othellolh saucepan\n",
      "3초 5초 75'c on ouch 넘어져 누르고 누르지 대에서 더치온 마세요 무0 문을 문이스스로 버튼을 세척 스스로 아래로 앞으로 열립니다 이상 일반 있습니다 있으면 잠i 제품이\n",
      "\n",
      "ware 드스트 일반75t\n",
      "th\n",
      "발을수 수수료를 수있음 일정액의 통해 파트너스 활동을\n",
      "\n",
      "\n",
      "genius httpil loblog navrcowpingt wells 지니어스\n",
      "you\n",
      "\n",
      "bluealpha\n",
      "ummy\n",
      "\n",
      "10며 in 가는 강력 담기 무0 상태어 열립니다 작동 작정정지 정지상태에서 중에는 터치온\n",
      "주차\n",
      "2020 libr natura 신환근 적\n",
      "이스\n",
      "bongbong\n",
      "and anl\n",
      "\n",
      "a me oons sk매직 w지 yho70 루인 백반 삼기구면회 생활용품 식기세릭몰 식기세척7 안전관리법에 의한 전기용품 커o 퀵가에드\n",
      "and s 오인\n",
      "\n",
      "com magic nttsssliskrentaldoint sk 렌탈샵 바로가기 이이동합니디 클릭시 홈페이지\n",
      "uth 권쥬부 사지찍는 엄마 여자\n",
      "so\n",
      "the tore t시 whe 화인잔홀더\n",
      "1986 all. baking dishwasher eco egreasing frosch in lavavajillas one ouality pastillas since soda tablets uc\n",
      "bog http kikisao5 naver 놀이터 뿌까의 스\n",
      "do\n",
      "akpro oner th\n",
      "거니블로그\n",
      "it기 검색하고 네이버에서 리뷰어 찬스키 팬하기\n",
      "an\n",
      "60.\n",
      "강력80t 시작정지 일반\n",
      "and kertinty\n",
      "\n",
      "ther\n",
      "견해가 문함되어 신수 주고 주기 직점 포스팅입니다 피국히주관적인\n",
      "신이사\n",
      "in\n",
      "\n",
      "the\n",
      "1ef\n",
      "이\n",
      "\n",
      "i magic sk sk매식으로부 무상으로 반아 삭성도었습니나 선성도어 세품을 식기세적기 식기세척기 제공 제험단에 트리플케어 포스팅은 해당\n",
      "\n",
      "2020 and libre 나경서 사기점설\n",
      "doublehre\n",
      "마누라로 올기도결심했다 이버생은\n",
      "uv 분 조명\n",
      "\n",
      "\n",
      "sous\n",
      "스터 이마트 이사\n",
      "이 장수\n",
      "103동 sk매직 the 고객님 베탈다 식기세적기 신상품!!! 조뉴일 창원메트로시티석전a 트리플케어\n",
      "2xpro rene 유스타갈이\n",
      "blogol 맛몽\n",
      "the\n",
      "\n",
      "\n",
      "dishwasher ibre l리브레, powder 삶의여유) 식기세척기용 인생동\n",
      "the\n",
      "지크\n",
      "lo\n",
      "구이다리\n",
      "\n",
      "re. young 사진도용, 상업적사용 않습니다. 에게 위 있습니다 재포스팅을 저작권은 포스팅의 허용하지\n",
      "25 di the 글 나 르엘치어서 마작성점 서비스\n",
      "\n",
      "the\n",
      "구\n",
      "\n",
      "wide wwar 빌트인형 사 식기서적기 식기세척기 우티게이팔테거류암 워터케0000000000000000000000 트리플케어\n",
      "내돈내산 후기입니다\n",
      "9946 genius jblog navrcom 지니어스\n",
      "\n",
      "1003 c비닐은수용성이기때문어 has 그대로! 린스가필요없는 별도의리스 비닐을 사용시주가 소비지 올인원! 위색용 튼지완고 행국이\n",
      "1루을 goog h해규을 in the 고온수도 깨끗합니다 남지 더욱 비척후잔류세제가 살군 살균합니다 압이 책는것같은80c.\n",
      "\n",
      "ane th the\n",
      "\n",
      "\n",
      "aillas allin11 an baking dishwasher en.1 frosch ki lea m origina pastillas rodo soda tablets tc\n",
      "구입하여 작성한 직접 후기입니다.비\n",
      "\n",
      "\n",
      "\n",
      "and minsbubu\n",
      "\n",
      "matited ware\n",
      "2xpro 이스트프\n",
      "\n",
      "8800\n",
      "\n",
      "and\n",
      "이마트\n",
      "11 20년2월 an dwa19copdo inh it곳조 jva케어어 sk매즈 the touchon wc고호수 건조방식 걸림리달회 그시년 기본구성 기본사앙 꽃명 듀얼 모델명 무빙세청, 문일리사중 배송 사중문일점 삼일 설치 세청방식 식기세청7 와이드 외관크기imm 응춘건조 정보 주요스떡 출코스선택 코트화이트 트리플케어\n",
      "\n",
      "\n",
      "blog coml naver o습다리 solmate\n",
      "\n",
      "ar\n",
      "osseis the\n",
      "ma th the\n",
      "\n",
      "dirk\n",
      "2 ach if the 이레 이트\n",
      " lijis 것이 그마 변영주감독 열어준 이런가운데\n",
      "and of\n",
      "freesty freestyle the 목적으로 받아 삭성되었습니다 삼성 삼성전자로부터 소개 이 제품을 지원 포스팅은\n",
      "\n",
      "essentiar\n",
      "\n",
      "andaran hm sung\n",
      "경우 금지합니다 꼭 담아가시는 랄혀주세요 매너있는 멋글과 모든 무단사용을 문서와 블로그의 이미지는 줄처들 함게\n",
      "ercomymymicousigg https liblog\n",
      "13시사 56 freestyle을 mah. ood the v의 감상할 대용량 동안 든든한 배터리 배터리토 보세요 수 아외에서도 야오에서도 어디서나사유들거 언제 영화를 위습니다 이동 좋아하는 중에도 즐거 최대 포터블\n",
      "bader freestyle the 교체가능 나의 맞거 손쉽게 스킨 자세히보기 취향어 컴러품히 프리스타일\n",
      "the\n",
      "sk ss\n",
      "\n",
      "1ep7 220206 imo lene the ustod vean 노다자레기 마각랄려 모니카오 미노이외오리조리 시존2 아남다mbn 자연인 최고외5번 해홍성계주관정는안/\n",
      "이스\n",
      "freestyle the 목적으로 받아 삼성 삼성전자로부터 소개 이 작성되었습니다 제품을 지원 포스팅은\n",
      "ouretio samsung\n",
      "manarolan8\n",
      "storent\n",
      "one the weekearlier\n",
      "00원 100원 24개월 3606 53m3 b9 dff it off 더그 비스포크 신청하기 에어 와인&비어 요도 워/24개월 큐브 티경 패키지 프리스타일 화이트\n",
      "개봉기 디프리스타일 및 빔 삼성 후기\n",
      "\n",
      "4기 ar exceli excellent gessen gessert hane lent premium premiun the vanill whe\n",
      "\n",
      "freestyle shilla stay the\n",
      "d\n",
      "copooses seceerees sooceses\n",
      "it\n",
      "\n",
      "freestyle shilla sta the\n",
      "신이\n",
      "toronja 또룡하\n",
      "스텔\n",
      "고생을 리 제신지 하고\n",
      "\n",
      "freesty freestyle the 목적으로 받아 삭성되었습니다 삼성 삼성전자로부터 소개 이 제품을 지원 포스팅은\n",
      "41 qe\n",
      "곰조\n",
      "be\n",
      "\n",
      "com httosillblog naver shinanda1219\n",
      "\n",
      "l드 마르\n",
      "sns에 공유를 김장히 많이 미op 받았었거든 응원을 하면서\n",
      "\n",
      "and in muz 대리피피터 레 르 우 크\n",
      "그랫다 진작살걸 플초블로그\n",
      "1제공 a iffuranaver.com 고 기사 대여 문의 브랜드 에서 위해 정보 제공을 제보 제작비/ 제품 제휴 해당\n",
      "the 대 리 이 이스\n",
      "\n",
      "sili\n",
      "노 대리 리\n",
      "똥꼬발랄유니너\n",
      "the\n",
      "\n",
      "\n",
      "of 다나와 다나와로부터 리포터 사용 원고료틀 제공받아 제작되었습니다. 통해 프리미엄 활동음 후기는\n",
      "\n",
      "24 the\n",
      "동원봉\n",
      "muz\n",
      "in sger 동\n",
      "대여 및 밤아 본 아이뮤즈로부터 원고료틀 작성하였습니다 제품 지원 포스팅은\n",
      "hat ongront the 이스\n",
      "cmuz\n",
      "\n",
      "ent\n",
      "in yo 견해와 공감과 늘러주세요 다든 막플은 멋글은 모독 무소건적인 버튼 부분이 분의 비방 사양합니다히 수 수지에게 아래 윈쪽 인적 읽으시는 있으나 있을 정중히 주관적인 코 큰 하트 후기인만금 휠니다 힘이\n",
      "1웃추가 all copyrizht jurho25(라북라보) reserved rights 갯그&공감&이 되어 랜선적친이 보아요\n",
      "\n",
      "thand\n",
      "ashow blloo the 베릴\n",
      "부유포트들 사용한 실제로 업체로부터 작성하였슨니디 제공받아\n",
      "200 260 915 i ml to\n",
      "airmom 맘편한 시작 육아으\n",
      "rmom ue 분유포트 에어맘\n",
      "airmom 생각 전원\n",
      "moyuum 믿솔\n",
      "ser 노리e\n",
      "1700 airmom amk- c분 manual ouick smart step stomene wate zero 기동분유온도를원하시리 분유포트 사용방면 스마트분유포트 아저히 에어맘 영화청소밀관리 제로\n",
      "and grade gradeol is medica medical or sus316인5 sust 강한 거니까 그중에서 금건 꼭 녹점 등급 등급이 때무입니다 많이 보섯초 부식에 분유포트 사용하였습니다 소재 소재를 스테인리스도 쓰는 아기가 여러 우리 의료기 있습니다 파문 황인해보세요\n",
      "codi 빠삐농블리 사진글 이스탁스스퀘이 인스탁스 즉석카메리 추천 폴라로이드\n",
      "25 di the 글 나 르엘치어서 마작성점 서비스\n",
      "diognavercomrousss\n",
      "baper\n",
      "포\n",
      "\n",
      "\n",
      "in the 나식점도 니나 본포스트온 지공방 지플과운고료 헤담브렌드로부터\n",
      "all fuin instax nst soua squa\n",
      "\n",
      "000\n",
      "\n",
      "\n",
      "\n",
      "alt su 이영\n",
      "\n",
      "a주실 ic itt 가2 강아지입니다 고 공어시 금승 남자아이 누군기 니디 되어주실 뒷산어 립니다 맞으시는 먹었습 멋일 무의 버려진 버리고 보니 부탁드 분에게 사 생드 서어 서호 수심 스어 신곳 아라 아이리 아이스박 아이입니디 안뽑니다 여건0 이7 이o 이나 이름이지민 인의 임스 있는는 있어스 있으신 조건에 조든 주인0 직원에거 쿠키 한번 흑시나\n",
      "instax square\n",
      "blog mioo msto ne soeuty\n",
      "\n",
      "\n",
      "\n",
      "\n",
      "it\n",
      "가우률 상자기 작당모의커 줄은용우 피츠c\n",
      "\n",
      "11,000원 a all 더보기 리뷰 스퀘어so 스틱케이스 이스탁스돌 인스탁스 전용 투명케이스/플리\n",
      "동\n",
      "instax oo.oin\n",
      "gray\n",
      "color ersare instax strap 굴한 깔끔 네이비 럭셔리 모던 버건디 스트라이프 시크한 아이보리 와인 은은한 차골\n",
      "instax 램미두잇\n",
      "\n",
      "sthe\n",
      "leica sofort\n",
      "o\n",
      "he you\n",
      "10s at caras film fujkfilm instant instax invisni isui souare win xoisu\n",
      "it\n",
      "21.11.44 21.11144 the 나강 래시 우문 제잘나운사진 커피\n",
      "\n",
      "(초크 sq1 tip 스퀘어 인스탁스) 화이트)\n",
      "instax\n",
      "은하수다방\n",
      "ad.c color days dloryourda insta instax nstax oui the your 비국\n",
      "and\n",
      "sthe xdisu!\n",
      "instax\n",
      "10x2 fujfilm instax ol omed square uari un xex 정성\n",
      "스트\n",
      "au derful\n",
      "blu 게시물은 바탕으로 본 소정의 솔직하게 수관적인 의견을 작성한 전고토 주기 지원받았으나 지품을\n",
      "ge the you\n",
      "\n",
      "and\n",
      "15정 이스\n",
      "56,000원 a and in ismedia soooo원 t the 가능합니다 구매확 구매확정 다라 무의하 문의는 문의하기 바랍니다 배너이미지 배송조호 배순 변경돌 부의해수시기 빠른 사은플 사화어 상품은 선결저 수( 스마트스토어 연락하시면 오늘출발 이벤트1 이스탁스 이후 일정 일정은 있으며 잠고해주세요 재구매 전화걸기 주문수링 주세요 직주 테스트필름 톡톡하기 파매자에거 판매자 판매자에거 판매자정보 하달사용리뷰 학인0 화불 확인하기 확한\n",
      "\n",
      "24 corporation fujieimm instaxsquare\n",
      "\n",
      "\n",
      "31 54mm 72mm 86 be min mm nstax sby72 square th the x54\n",
      "olive\n",
      "walle\n",
      "10x2 fujifilm fujrfilm instax square\n",
      "insiax\n",
      "\n",
      "2m이내 a 가리지 거리를 경우 곳에서도 기능으로 꿀틴 노춤 대마다 라이트 말아주세요 밝고 밤을 빛을 사진0 사진을 상단의 선명한 세서 센서들 손가락이나 수 스트랩으로 않도록 어두운 윈쪽 유지해주세요 이부분을 있도록 있습l 있습니다 자동 자동으로 장소에서잘찍는 적당한 주의해주세요 찍을 찰영시 촬영 켜집니다 플래시 플래시는 플래시니 플래시와\n",
      "deded\n",
      "\n",
      "도플 클\n",
      "haru somile 과인스탁스sq1 첫 폴라로이드비브\n",
      "155 bvely con nstax\n",
      "너스 로 받을 본 수 수수료를 스 있습니다 쿠팡파트 포스팅은 활동으\n",
      "1317 3.410은 color film i irtpe msearcr polaroid 더보기 리뷰 배송비 사러가기 쇼핑 오늘출빌 인기순 최저 최저가 최저가순 카드할인 카탈로그 컬러 판매처27 폴라로이드1-tvpe\n",
      "2020 all bryan copypight pesepved righits 따른 수수료를 이에 일워으로 일정액의 있습니다 제공받고 쿠팡 파트너스 활동의\n",
      "mapress the\n",
      "the\n",
      "cor\n",
      "\n",
      "aul the vev 인스탁스 전용기방 피름40점\n",
      "10n asta dselfie off-\n",
      "tax\n",
      "\n",
      "his\n",
      "os selfie xoisli\n",
      "instax 이마\n",
      "instax sot 이마\n",
      "0114 20 co\n",
      "kere\n",
      "did instax isa square\n",
      "camping jhe ohy pohang\n",
      "121거거 glow of seturday sunset timr 베어스타운 어리 트\n",
      "sone\n",
      "\n",
      "니 다 리뷰입 솔 업체로부터 작성 제공받아 제품만을 직 착하게 한\n",
      "the\n",
      "0012 2021 2021. oq.12ami2.333333333 pmloog\n",
      "cor whe 비아\n",
      "2300 minis retro 받아서 보포스팅우 작성도어습니다 지원 코닥으로부터\n",
      "보리 소자 이사 이성과감성사이\n",
      "nines sill 나이 달래의 스윗츠\n",
      "\n",
      "\n",
      "c300f\n",
      "검색하고 마리나 뷰티 전문블로거 키이버에서 팬하기\n",
      "and whe\n",
      "donor sush the\n",
      "kwonvely photoby\n",
      "\n",
      "edelreview\n",
      "10매 10장 3 s 가징 감사드립니다 같이 끼쳐 내용을 네이버스 도세요ve 드려서 드립니다 말눔드립니다 미니샷 불편음 사용해 수리내역 수리된 시면 아래와 이니셜 이상없음 인한 장착해 죄송합니다 주셔서 즐거운 출력 카메라 카메라를 카트리지 카트리지교처 카트리지를 카트리지불링 코닥 코덕 코드 프린터 하루\n",
      "wh\n",
      "the\n",
      "ik테크 감사합니다스 검색하고 꽃잔 네이버에서 놀러 늘러수시면 밤아보실 배너를 빠르게 소식과 수 이벤트를 있어요 재미난 전문창작자 팬하기 팬하기'를\n",
      "03.13 2022 das in 떠나요 삼천이도 신혼여행 제주도\n",
      "\n",
      "an\n",
      "inkin'\n",
      "an\n",
      "good january monday night\n",
      "3inch 76x76 koda photo prepare printer retro 마십시오 손대지 용지를 정렬 프린트 프린트중\n",
      "and 글 돈 받았지만, 부터 이사 입니다. 작성된 제공 제품을 주관적으로 코닥포토프린터로 포스팅은\n",
      "alouette everyday\n",
      "\n",
      "\n",
      "\n",
      "coudreview 경제적 대가 리류입니다 리뷰는 리뷰문화물 만물기위해 상품 서비스 실제 없이 올바른 외에 이 작성된\n",
      "리기\n",
      "do mini3 oor p3c retro\n",
      "mee\n",
      "ba in ro the\n",
      "2021.08.10 ina 점심산책\n",
      "\n",
      "21.11.ol encth odontic 바오리 이10m\n",
      "\n",
      "\n",
      "cket licket ticket 교광하0 마람 바람니디 바랍니다 보관하여 수시2 수시7 완료시까지 용머리해인 입장군 입장권 입장원 주상절리대 천제연폭포 카멜리아\n",
      "the\n",
      "3inch 76 76x blog chrome edit kodak mono photo printer retro 출력매수 프린트\n",
      "\n",
      "\n",
      "c300r\n",
      "0주 ald ass loj m슬거운 te wh 가짐 되세요ve 드려서 드립니디 마트리지 물편은 사드립니디 사무하 이니셜 인린 인한 장착하 저령희 전동 죄송합니다 주별북리 카트리지콘 하루 호크드\n",
      "\n",
      "do320\n",
      "형니스\n",
      "cha nno onno 교 이마\n",
      "\n",
      "르강\n",
      "000원 1건 교환신청 구매확정 더보기 레트로 리번들 리뷰쓰기 미니샷 반품신청 배송 배송완료 색상 수량 악세사 종 주문번호 추적 코닥 포토프린터 화이트 휴대용\n",
      "oo..\n",
      "lit\n",
      "1000 the\n",
      "chister\n",
      "\n",
      "그림 내. 돈 보리 산\n",
      "\n",
      "hi in 개다\n",
      "송이\n",
      "kodak oud\n",
      "\n",
      "derteranatill\n",
      "\n",
      "doeml21.07.1 flower\n",
      "\n",
      "pi\n",
      "c300r\n",
      "사프\n",
      "der\n",
      "\n",
      "a앤지블로그 ming shot?\n",
      "0007 143.000원 3레트로 60매 besi coupon fsi geud i kodak off on photoprinter product welcome yee 가입시3이 그인사 레트로 메라 미니샷 번들 베스트 상품 신규 즉시제공 카트리지 코닥 폴라로이드키 함인쿠폰 회원\n",
      "hasten wall\n",
      "-300 kmuyl kodaki\n",
      "\n",
      "2000.22 l.ob.300 the ugl 엄아당 제주여형. 푸니이\n",
      "lcsoor\n",
      "\n",
      "21n1 instant kodak square\n",
      "w 겨진로그모\n",
      "\n",
      "\n",
      "11 care\n",
      "c300r\n",
      "the\n",
      "발정\n",
      "bib. 도자기공방 이00. 하강원도초정동진\n",
      "aooed\n",
      "\n",
      "\n",
      "ses\n",
      "0 0170 allo alte\n",
      "gif의 구매하여 금지합니디 돈으로 모든 무단사용을 및 사진 솔직하게 작성한 직접 후기입니다\n",
      "0000l 1000 bank ofkorea uom\n",
      "이마\n",
      "c30 t.\n",
      "on\n",
      "blis le\n",
      "in wh\n",
      "c300r\n",
      "dou l포르영비유이 the 대리 대성 명조 이 폭발한다\n",
      "198 199,000원 60매 n주5호적립포기하시젠 ome sheer the ure 구매하기 너발는 번들 병54 사25 선물하기 악세사리 악세사리세트 카트리지 코닥미니샷3레트로 코닥포토프린터 포인트 포토프린터 휴대용\n",
      "1다 2차 jin jinillusty jin일러스트 was 격려와 경우 공감주시면 더욱 도용, 디자인의 면집 모든 무단 및 법적책임을 불펌, 블로그내의 사용할 사진. 상업적 서작권법에 에게 염심히 완영합 의뢰 의해 이용등 일러스트 일러스트, 있습니다. 재배포, 저작권은 지게립니다. 트로경학께요시크\n",
      "cotier\n",
      "dcafeinfofam\n",
      "\n",
      "3inch 76x76 adi chrome kodak mono nstani photo printer retro 출력매수 프린트\n",
      "3inch 3x 76 chrome kodak mono photo printer retro 완료 인쇄기 출력매수 프리e 프린트\n",
      "p300r\n",
      "oo prni\n",
      "con 기물\n",
      "c300n\n",
      "c210r\n",
      "urt\n",
      "\n",
      "csoor\n",
      "고미앤도치 일상이야기\n",
      "d\n",
      "1500 o one 안전인증 전기용품 표시사항\n",
      "an and\n",
      "coudreview 경제적 대가 리류입니다 리뷰는 리뷰문화물 만물기위해 상품 서비스 실제 없이 올바른 외에 이 작성된\n",
      "일방\n",
      "220212 bort wa 리크 자다팬콩이\n",
      "3inch a dr mangsang prepare retro to 도래현으 프린.\n",
      "\n",
      "be\n",
      "300r 우리 집해질녁풍경요\n",
      "5 c300f hil she\n",
      "\n",
      "merr tol 야사 이무\n",
      "ac oner\n",
      "ay\n",
      "c300r\n",
      "a mini3 p300r re\n",
      "20915. p300r\n",
      "c3000\n",
      "264 30 days 강점 전구 후성은라\n",
      "231 erro jor\n",
      "od\n",
      "\n",
      "wall\n",
      "\n",
      "am center dicoo pm 공휴일은 금요일 및 않습니다 운영하지 월요일 점심시간 주말\n",
      "the 이라이\n",
      "mini p300 retro\n",
      "두문머리\n",
      "\n",
      "-000 jamolj ur\n",
      "\n",
      "shating\n",
      "\n",
      "tin\n",
      ".l.a zor 미혜생얼\n",
      "hog.\n",
      "ac there\n",
      "2gu\n",
      "aual\n",
      "now\n",
      "and 스카\n",
      "ccodiyye\n",
      "c300r\n",
      "\n",
      "내돈내산 솔직리뷰 입니다니\n",
      "c300r yooay\n",
      "\n",
      "\n",
      "\n",
      "\n",
      "c300r\n",
      "an\n",
      "asdipa 정동\n",
      "cacon\n",
      "\n",
      "mini pboor retro the\n",
      "\n",
      "20 내치향 늘다 반코 생일에 이건 이런곡\n",
      "oo\n",
      "c300r thoot\n",
      "1111 우주점\n",
      "to 리시\n",
      "ker\n",
      "예열 중입니다\n",
      "니다. 리뷰입 받아1 본 술직하게 업 원체로부터 작성한 제품만올 지원 팅은 포스트\n",
      "명시합니다 받앗음을 본 업체로부터 제뚫옥 지급 포스팅은\n",
      "nor\n",
      "수성\n",
      "이스\n",
      "사무소 이리 이스\n",
      "d300\n",
      "codakminishot3 wayy\n",
      "22.800운 24.000원 3lnch 3인치용 kodak 레트로 미 미니3e 미니샷 이마트몰 인화지 카트리지 코닥 크카드헤택기\n",
      "c300r\n",
      "-300r ki\n",
      "\n",
      "\n",
      "be\n",
      "81 대 부\n",
      "minis p30r retro\n",
      "1만원쿠폰 2021년도 가득한 맨투맨 바란니다.?.) 보내시길 복 스타벅스 중택1 코닥 코닥어패럴 코닥포토프린터 포토프린터외 함개\n",
      "ca\n",
      "he s입한나d 문제 방법 엠에서 원인 증상 프린트 해결\n",
      "\n",
      "adsinyble\n",
      "do\n",
      "of 삭심자어게 수수요가 에드릭이 이용후기가 제홈의 지금울니다. 추천한 클은 포함되연으며\n",
      "10매 10장 d v슬즐거운 가2 가정 감사드립니다 감사의 같이 것어 고객님 과부하로 내용을 네이버스토어로 대현 드립니다 마음으로 말눔드립니다 모드렉 미니샷 부품교처 사용해 서3 수리내역 수리된 시e 신 아래와 오시면 용하어 이상없음 인한 저럼한 정연화 주셔서 주시는 출력 출력불량 카메라 카메라를 카트리지 카트리지률 코닥 코덕 토세요ve 포토프린터 프린터 하루\n",
      "green honest like 구부러지는 나무가 로만든 빨대 속u 스 실리콘 아니 안나 우수팀상품\n",
      "c300r 이\n",
      "and\n",
      "\n",
      "cortidge doonot dress indotrade snobad upen\n",
      "\n",
      "hathe\n",
      "21 3nx c300r cartrid instant kodak print the\n",
      "\n",
      "mini3 p300r retro\n",
      "\n",
      "20 oo\n",
      "echasegowh2\n",
      "than\n",
      "csoor ing\n",
      "c300f\n",
      "lesmall\n",
      "are the\n",
      "\n",
      "\n",
      "1선 a ani batalrishts codal eo58 nstan printer 갤러리 찾고있습니다 카에리 프린터등 피리케 피피리케이\n",
      "monkgowall\n",
      "push t2 눈러 눈러야 버튼을 쉽니다.) 시켜주세요 완벽하게 완착 주의사항 착용 카카트리지 카트리지를 푸시 한번더\n",
      "the\n",
      "20 3 30sheer 32 cartridge instant kodak print\n",
      "\n",
      "ce\n",
      "\n",
      "\n",
      "\n",
      "antprint3x3 cartridge inoretro kodak mini shot3\n",
      "be\n",
      "are 이아\n",
      "steo1. 노란색입히는 중111\n",
      "on\n",
      "\n",
      "the 보정 액자 조정 콜라쥬 필터\n",
      "2020 a all copyright i. instant kodak printer r rese riahts vec 갤러리 어플리케이소 정보 찾고있습니디 카메라 프린터를\n",
      "birthday burnd card happy you!\n",
      "\n",
      "\n",
      "김몸\n",
      "chest\n",
      "2021\n",
      "202 c300r in제주바디 o5.05 날이촌아 서월민던애서소\n",
      "latied mochad\n",
      "and dist\n",
      "20001219 art dod dpen loso not trade\n",
      "이이\n",
      "inge 신\n",
      "\n",
      ".ody kodak mini shot3\n",
      "cre\n",
      ".navel com goindoll12 httpstiblog oda\n",
      "s3001\n",
      "than\n",
      "a i 리\n",
      "10매 10장출력 a ass is 가격 가장 감사드립니다 같이 끼쳐 내용을 내하수 네이버스 도세요ve 드려서 드립니다 말눔드립니다 미니샷 불편을 사용해 수리내용 수리된 아래와 오시면 이니셜 이상없음 인한 장착해 저렴한 전용 죄송한니다 주셔서 즐거운 카메라 카메라를 카트리지 카트리지교처 카트리지를 카트리지불랑 코닥 포토프린터 프린터 하루\n",
      "21 9의 a caka tom u초 고객님 교환제품 금일 도착 드려 목요일 배송조호 불편을 안녕하세요 알림톡 우체국택배 이용어 입니다 최송합니다 출고되었습니다 코다푸토프리터 코닥 프리닉스\n",
      "allo and 제이드\n",
      "\n",
      "nike\n",
      "3인치) ex 가트 레트로 콤보\n",
      "c300r\n",
      "7\n",
      "즉석카네리 즉석카메리 코닥 해노폰사집업1화까\n",
      "is 녀면 놀러 누르십시오 다운로드 버튼 셔터를 실행하십시오 원격 이미지를 저장하려 주소 카메라에서 캡처를\n",
      "arl isecorondousts sherenting snebadbob14 snobaboon\n",
      "the\n",
      "llov much youlso\n",
      "and\n",
      "\n",
      "\n",
      "c300r 네이버 블로그딱지\n",
      "이스\n",
      "c300r ki\n",
      "aod\n",
      "\n",
      "\n",
      "2111 but instani souare\n",
      "1.500명 1마워/2처우 iso o sk start 가자만의 경품 경품까지 굿즈 놀력 당첨 돈버는 라인업 리워드 매일 미니샷 방문만 상당 세트 야놀자 야놀자코b 야놀지 야농 오프픈 오후4.14 일20 코딕 코인 한정판 해도 행운\n",
      "c300r\n",
      "kodak lo mini shot\n",
      "wir\n",
      "shessiog\n",
      "c300r rise\n",
      "(명심포 나논멋지 명심)\n",
      "7.12 instant kodak who 뒤로 인쇄 테두리 편집\n",
      "biscoff lotus 구사익생 북로그 헤융하다\n",
      "(2간천 chater kosmo\n",
      "비\n",
      "\n",
      "and 이사\n",
      "이마\n",
      "c300r\n",
      "\n",
      "c300r\n",
      "\n",
      "on\n",
      "1011 본리\n",
      "the 한국어\n",
      "\n",
      "\n",
      "3 cartride instant kodak print\n",
      "이아\n",
      "20.07.13 20.0t.ot 내인생 쌤쌤이 이7.14 첫차 하동혼자수\n",
      "c3001 oo\n",
      "\n",
      "\n",
      "\n",
      "c300r\n",
      "\n",
      "19년 28일 9월 나들이 한남동\n",
      "bluetooth c300r\n",
      "\n",
      "\n",
      "n.bro1211s\n",
      "미오\n",
      "cobe\n",
      "th 예열중\n",
      "enone\n",
      "fors\n",
      "c300r\n",
      "necr somelhing\n",
      "0-ferne th\n",
      "an\n",
      "300r b80\n",
      "the 선택해 어플에서 직접찍어서 출력한것\n",
      "c300\n",
      "sot\n",
      "\n",
      "min the\n",
      "c300r\n",
      "\n",
      "all\n",
      "\n",
      "c300r\n",
      "all mow 트에시\n",
      "거제여해 져니이\n",
      "i shot\n",
      "\n",
      "호이호이달볼로그\n",
      "the\n",
      "c300r etoo\n",
      "loocy\n",
      "and awh\n",
      "oo\n",
      "2300r ic mini retro sial\n",
      "review 레트로3 미트샷 코닥 포크프리테 폴라로이터\n",
      "ade alliincone biblangooist cartridge dress in kodar no notoder\n",
      "\n",
      "\n",
      "\n",
      "115 6inch ad chrome disi mono of 출력매수 프린트\n",
      "\n",
      "\n",
      "gsoor 미모\n",
      "upe\n",
      "08.25 21. kodak t\n",
      "oday\n",
      "고고기기 국국 소리 스 유\n",
      "카\n",
      "b das instant kodak printer 및 비디오 사진\n",
      "리 오동\n",
      "\n",
      "\n",
      "gs oonvv 고은탄성 일상이야기\n",
      "and rize\n",
      "instant kodak lite one photo play prinics printer 사진 설치월 워치 인증업 프로텍트 프리미엄\n",
      "\n",
      "\n",
      "coudreview 경제적 대가 리류입니다 리뷰는 리뷰문화물 만물기위해 상품 서비스 실제 없이 올바른 외에 이 작성된\n",
      "c300r\n",
      "dognaneverconytalion https louis vuitton\n",
      "his 대성점\n",
      "soryonon tox\n",
      "\n",
      "millatis sorading\n",
      "\n",
      "c300k\n",
      "11.55 in the 고종리 꾸미기 보성 보스 저장 프린터가어음\n",
      "\n",
      "2000 ath ter\n",
      "1부동산부동 57199 cahnleeos19 com httpsilblog w다을 스부동산6\n",
      "a\n",
      "c300r 대\n",
      "namjjau the\n",
      "kimchiasia will yu\n",
      "\n",
      "\n",
      "chas fot oof\n",
      "to\n",
      "codak minishot3\n",
      "after koda- work 매뉴월 방향키 인쇄버는\n",
      "3000 looed ouns pen wu\n",
      "\n",
      "\n",
      "heyuu the 낙미니3레트로르\n",
      "bloa.nat c300r kdms110 ttoso\n",
      "adionee the 하국0\n",
      "가디0가2 나무로 나촌로나무베 만난강마지 아드이에분니 오사카에서\n",
      "oo\n",
      "c300ri\n",
      "뒤로 인쇄 편집 프린터가없음\n",
      "\n",
      "lo\n",
      "or 갑니다 글은 글이였다면 글입니다 꾸-욱 남아주시면 내돈내사으로 느더라도 답방은 리뷰 멋글 유익한 이 작성한 재및는 정보 좋아요 직접\n",
      "londonongon wou\n",
      "24.000원 3인치 60매 모델 미니샷콤보 전용 카트리 카트리지 코닥\n",
      "os\n",
      "the\n",
      "instantprintsxs kodak\n",
      "the\n",
      "a\n",
      "if xy\n",
      "\n",
      "god\n",
      "are\n",
      "\n",
      "신의 아응데이닷추카 월 축하해육 캠삐\n",
      "sion\n",
      "d30r min retro\n",
      "본 소정의 워고료들 작성하 제품과 지워반아 코웨이로부터 포스팅우 포스팅입니다\n",
      "lod\n",
      "the\n",
      "자동정음 집진필터 프리필터 필터리셋(3초)\n",
      "\n",
      "\n",
      "검색하고 리빙 에이버에서 전문창작자 츄니 팬하기\n",
      "ssugwood\n",
      "검색하고 네이버에서 벨라 셀프 인테리어 팬하기\n",
      "\n",
      "hongia'shouse wht yol\n",
      "hissingormantiontorings\n",
      "본 소정의 워고료들 작성하 제품과 지워반아 코웨이로부터 포스팅우 포스팅입니다\n",
      "itla\n",
      ",400운 ,400원 /어어카트리시 000원 00우 102코워이! 11 1년 1평평 24 280 499 and doos in of oo the 간편결저 결제상세 고상타 교환묘e 구노 금나나 나프스터에무라 년 뜨리 마포 명노마송 미니정수 미니정수기p350mb년 믹름 배송비/파매자 브래드 상품금역수량 상품정보 상품주문민 스미트스터코피이브라드스트 스테리 심다 에어카트리지 여금떡수즈 적립포인트 정보변경 주가필e 주무경제금액성보 주문금약 최초주문금액 카드 컬러몬 코워이 터배송 토토o 판매자문의 포이트사용 포인트사용 필터추가롱\n",
      "wa 이사\n",
      "\n",
      "andoon ine\n",
      "검색하고 리빙 에이버에서 전문창작자 츄니 팬하기\n",
      "ak the\n",
      "리\n",
      "and the 이리\n",
      "htpespbbognaw ill\n",
      "스트\n",
      "24 317 4182 52d3 j322 가언a\n",
      "검색하고 네이버에서 벨라 셀프 인테리어 팬하기\n",
      "od oo roo sell\n",
      "on\n",
      "25 di the 글 나 르엘치어서 마작성점 서비스\n",
      "20 ittecheditor\n",
      "klua selpatchfon winimas\n",
      "25 di the 글 나 르엘치어서 마작성점 서비스\n",
      "\n",
      "-0304 070- 070. 1306 170 4088 klug massi no rs wini 교체용1 기본 대왕 큰패드 패드 패드는\n",
      "klug o\n",
      "oniy\n",
      "25 di the 글 나 르엘치어서 마작성점 서비스\n",
      "\n",
      "\n",
      "a klug\n",
      "blog.naver. comvo1935252499 klug\n",
      "-030 0304 4088 an clug for o70 son 마사지기 미니 방법 사용 안내서\n",
      "나미\n",
      "수 수수료를 일환으로 있음 지급받을 파트너스할동의\n",
      "a klug\n",
      "\n",
      "\n",
      "6n11 klug o\n",
      "\n",
      "crar klua 가스티커내이인중변호등 무상ns플빈으실수인솜니 전송\n",
      "buia\n",
      "wa\n",
      "forknee klug massagel min sols strap\n",
      "only\n",
      "구매하기 리뷰보기\n",
      "0워 11번기 12211원 22개월 5 jf ok캐쉬바 결제할인 구매 기본 리뷰 마사지se 무료배송 물리치료용품 본체 선물하기로 스트 신한카드 이내 작화둘 적립 제타 최다 최대 카드무이지 큰패드 클렉 패드 패키지 할부\n",
      "\n",
      "the\n",
      "\n",
      "the\n",
      "검색하고 데이버에서 뚜기 방송연예 전문블로거 팬하기\n",
      "\n",
      "트기\n",
      "모국전자로부트 소정의 솔직하거 시원밤고 원고료와 작성하였습니다. 제품음\n",
      "\n",
      "(보극전자로부터 소정의 솔직하게 습니다. 원고료와 작성하였 제품을 지원받고\n",
      "기man\n",
      "-mf 2년 6s안전시스템 jos 가능한 과열방지시스템 국내제조 급속가열 기능 무상a! 민고사용가능한 보국 세탁기로 세탁후 안심 에어셀 에어씨 워셔들 워셔블 인증으로 인체감지 자동타이머 전기요 전자피 제품이니끼 주요 지짜 탈수까지\n",
      "bokuk\n",
      "ap\n",
      "0724 amelie poulain\n",
      "9 yo 메모 요청하시기 전에 조치 증상 확인 확인하세요\n",
      "\n",
      "andoo\n",
      "ysyoo 마인\n",
      "bokuk\n",
      "bokuk 안심 인체감지 전원 전자파\n",
      "vyv 꽃인체감지구 전기요\n",
      "dooxmz loooxma wa wf 도전하다 본 소니 소니코리아로부터 위해 제삭도었습니다 체험단 콘텐츠는 헤드폰어 협찬받아 활동을\n",
      "대여 받아 이자스터미리비센터 제작도었습니디\n",
      "\n",
      "dopringereswiting tistoryeon 금시밥리다 기다힘리다 기물술은 꿈감 나나 남기주세요 담아가실멘 대 르레시제 멘임 무단복제트 물교시 베통 분코2 불가, 비통 사신 옛글 오든 오충소 줄지플 콩꾸는\n",
      "i\n",
      "19303\n",
      "loooxma loooxmz wa wf 도전하다 본 소니 소니코리아로부터 위해 제삭도었습니다 체험단 콘텐츠는 헤드폰어 협찬받아 활동을\n",
      "moution onns seoul\n",
      "000xma 1000xm 15 wf 도전하다 본 소니 소니코리아로부터 위해 체삭도었습니다 체험단 콘텐츠는 헤드폰어 협찬받아 활동을\n",
      "놀러다니는모\n",
      "loomma loooxma un vanilla wf 도전하다 본 소니 소니코리아로부터 위해 제작되었습니다 체험단 콘텐츠는 헤드폰에 협찬받이 활동을\n",
      "\n",
      "sony\n",
      "dooxmz loooxma wa wf 도전하다 본 소니 소니코리아로부터 위해 제삭도었습니다 체험단 콘텐츠는 헤드폰어 협찬받아 활동을\n",
      "a nos ony\n",
      "명동\n",
      "\n",
      "5ky vanilla walkman you 허크톤웰\n",
      "loooxma loooxmz wa wf 도전하다 본 소니 소니코리아로부터 위해 제삭도었습니다 체험단 콘텐츠는 헤드폰어 협찬받아 활동을\n",
      "\n",
      "any i\n",
      "\n",
      "dooxmz loooxma wa wf 도전하다 본 소니 소니코리아로부터 위해 제삭도었습니다 체험단 콘텐츠는 헤드폰어 협찬받아 활동을\n",
      "amuany\n",
      "양장 어려자는 옛히나나가는\n",
      "\n",
      "in\n",
      "as\n",
      "dooxmz loooxma wa wf 도전하다 본 소니 소니코리아로부터 위해 제삭도었습니다 체험단 콘텐츠는 헤드폰어 협찬받아 활동을\n",
      "anos chare\n",
      "led rocor series\n",
      "gore\n",
      "\n",
      "or. 따른 수 수료를제공받을 이에 일정액의수 있습니다. 쿠팡파트너스 팅은 포스 활동의일환으로,\n",
      "1000xm4 aac dsee extreme wf 사운드 상태 시스템\n",
      "sony\n",
      "loomma loooxma wf 도전하다 본 소니 소니코리아로부터 위해 제삭도었습니다 체험단 콘텐츠는 헤드폰에 협잔밥이 활동을\n",
      "000xma 1000xm4 wf 도전하다 본 소니 소니코리아로부터 위해 제작도었습니다 체험단 콘텐츠는 헤드폰에 협찬받아 활동을\n",
      "looomma loooxmz wf 도전하다 본 소니 소니코리아로부터 위해 제삭도었습니다 체험단 콘텐츠는 헤드폰에 협잔받아 활동을\n",
      "1000xma 3분 wf 등록론 등록투 등록하십시오 배 사용 사운드 시간이 시기 여기어 위치 위치를 위치별 적응형 정보 제어1에서 표시횟니다 헤드폰 헤드폰1으 홈사용 활동\n",
      "and co har son\n",
      "anos\n",
      ".oo all bass chat clear loooxma speak- the wf 노이즈 밝음 사운드 상태 설정되었습니다 시스템 의해 이사 이컬라이저 자동으로 적응형 제어에 캔슬링 헤드폰 활동\n",
      "l크기 s크7 wat 결과에 결정이 노이즈 때문일 반복적으로 비교 비교를 사용하십시오 상태기 수 안정적이지 압7 와료도었습니다 이어버드 이어버드를 이어버드턴 있다면 있습니다 제거 즉정중 차이가 착용 최적의 크기 헤드폰의 화인할 확인\n",
      "sony\n",
      "do\n",
      "sony\n",
      "sony\n",
      "\n",
      "nvinasino\n",
      "\n",
      "wored\n",
      "sony\n",
      "인나스토리텔리\n",
      "1008 dsee extreme ldac looommy wf\n",
      "jooxn lli l측 wf 견석비용통보 결제 관 꺼짐 데이터 동봉한 모델명 미만의 보 불가 서비스 성명 소액결제는 수리완료111000원 액세서리 오동삭 요금 유닛 인터넷 접수일자 접수자 증상 진행상황 터치\n",
      "sony\n",
      "19 s\n",
      "loomma loooxma wf 도전하다 본 소니 소니코리아로부터 위해 제삭도었습니다 체험단 콘텐츠는 헤드폰에 협잔밥이 활동을\n",
      "dooxmz loooxma wa wf 도전하다 본 소니 소니코리아로부터 위해 제작되었습니다 체험단 콘텐츠는 헤드폰어 협찬받아 활동을\n",
      "loomma loooxma wf 도전하다 본 소니 소니코리아로부터 위해 제삭도었습니다 체험단 콘텐츠는 헤드폰에 협잔밥이 활동을\n",
      "loomma loooxma wf 도전하다 본 소니 소니코리아로부터 위해 제삭도었습니다 체험단 콘텐츠는 헤드폰에 협잔밥이 활동을\n",
      "loomma loooxma wf 도전하다 본 소니 소니코리아로부터 위해 제삭도었습니다 체험단 콘텐츠는 헤드폰에 협잔밥이 활동을\n",
      "loomma loooxma wf 도전하다 본 소니 소니코리아로부터 위해 제삭도었습니다 체험단 콘텐츠는 헤드폰에 협잔밥이 활동을\n",
      "잉여공학도\n",
      "devialet\n",
      "32710000y7a sony\n",
      "\n",
      "\n",
      "96 hd jkbos jkhz ldac 결과(비트 규흥 밀연결 블루투스 비율 샘플링 선택 소스 수 스트리밍 실행 연결 오디오 자동 재생 전송률 최선으 최적화돈 최적화톤 코떼 품실(330kbos 품질 품질(990, 퓨질의\n",
      "cof of\n",
      "\n",
      "closer\n",
      "s후기입네다 가일하서 구원 기가 마용 미클롤 장성한 전남\n",
      "son\n",
      "77 dac headohones oooxmz tle 갈든 고음슬 금도 기기찾기 디스플레이 라수 모드 벨소리울림 사용 사용중 설정 소리및진동 연결 오디오 이지 전호 정보보기또는 트드\n",
      "azla crystal review standard\n",
      "sony 이아이\n",
      "bass clear 사운드 상태 시스템 이컬라이자 커스텀1\n",
      "14 loooxm loooxma the wf 도전하다 본 소니 소니코리아로부터 위해 제삭도었습니다 체험단 콘텐츠는 헤드폰에 협찬받아 활동을\n",
      "ddonddon oof sand 가용 가음우체국앞에서 앞에서 우체국 의사생활 이627\n",
      "1000xm4 1개 202112122 222 239.000원 3gomobile b0198016 구매합정(20기 낚주세요 리뷰쓰기 무료배송 무선이어폰 무앞헤 받는 배손 배송메모 배송지 부재시집두 블루트스노이즈캔슬리 사락 사은품증정 소니jwf 실버 연락처 유기준 일반택배배송 전용케이스 정보 주문번호 주문일자\n",
      "14 loooxm loooxma the wf 도전하다 본 소니 소니코리아로부터 위해 제삭도었습니다 체험단 콘텐츠는 헤드폰에 협찬받아 활동을\n",
      "\n",
      "sony the\n",
      "walkman\n",
      "미다\n",
      "sony\n",
      "arl ilol sony\n",
      "\n",
      "the to\n",
      "akg dy samsung sound\n",
      "miter\n",
      "1e an bettel dilaxan nill sony stuff wf\n",
      "inos ofe rdoooi00000\n",
      "walkman\n",
      "and are dsee extreme fastpair who 구주점 리시점지 불밥도목 사실적이고 사양멋기능 사우드 을입석민 이사 이스 이스카이 전체 칠시간시 크기맥무게 하루풍일감상가눔,\n",
      "son\n",
      "1000x series\n",
      "\n",
      "ean wf xma 드아머 러기! 리뷰해보다 변함없이 슈피겐 좋은 케이스,\n",
      "dooxma ean wf 가죽 고급스럽게 더 리뷰해보다 미테르 케이스,\n",
      "m25\n",
      "\n",
      "fill rha wa\n",
      "1000xma loooxma un wf 도전하다 본 소니 소니코리아로부터 위해 제삭도었습니다 체험단 콘텐츠는 헤드폰어 협찬받아 활동을\n",
      "diece dot ora st 리뷰 문제가 없습니다. 이어틴 충전에도 크게\n",
      "loomma loooxma wf 도전하다 본 소니 소니코리아로부터 위해 제삭도었습니다 체험단 콘텐츠는 헤드폰에 협잔밥이 활동을\n",
      "to\n",
      "클릴프\n",
      "것으로 교체하고 기밀성 기밀성이 다른 다시 립을 상태를 시작하십시오 와료도어습니다 이어버드 조정하거나 좋습니다 즉정을 착용 측정이 틴 헤드폰\n",
      "\n",
      "50 cooo dico the 어시스턴트\n",
      "\n",
      "상품 정보보기\n",
      "19 임의로 제품의사양\n",
      "and bariss hate rant supingusteres the win 깨장 카스관\n",
      "benerrererers derensero monam perbberbares 가는 강양지 것이 결론적으 과도지 북프턴 시근 일음 특프턴 호짐에 후과의\n",
      "\n",
      "a the 이사\n",
      "오\n",
      "곱반아작성든 글린니디 서비스 포국\n",
      "a all reserved rights 무단사용 차활용 칭나옹\n",
      "북린이 크린이\n",
      "\n",
      "i\n",
      "\n",
      "arenter houl\n",
      "-00 스\n",
      "\n",
      "141 cie damilog 사용설명, 전물르 클린이 클린이v 휴대용케이스\n",
      "all 이\n",
      "dich diste\n",
      "conrad\n",
      "c clean whi 동 리\n",
      "\n",
      "\n",
      "an and clean 이 코\n",
      "is the\n",
      "soo 소프트 클린이\n",
      "on oo\n",
      "6방수수동금 congation douran 노인트 리필첫솔모2p 무선충전크래들 설명서 전기 휴대용게이스\n",
      "and\n",
      "름해 수 수수로를 일정약의 있음 제공밤을 탈등을 파트너스\n",
      "08 164.600원 4405 800우 8원 a b.800원 in th 간편결제 결제상세 경우 구매적립 기본적립 라p 리뷰적립 리이 마크기 몽실이의 무이자 무이지 문의하시면 배송비 법인(개인사업, 상품/스토어/주문 상품금액 석동 어는 엠버십 여부는 오플의일구 있습니다 적용 정화하거 주가석럽 주문금액 카드 카드사도 카드에 쿠폰함인 포인트 포함)카드는 할부 할부/무이지 할인 함인 혜택\n",
      "ger\n",
      "베리's 소프er 쇼핑 오아 입문자용 전동 첫솔 클린이\n",
      "oa\n",
      "lo\n",
      ".anerer 35 and blog chinvely77 com i the 대리 사용방법 스트 스트로\n",
      "\n",
      "cam do ibrother 용갈링\n",
      "5v1a 5v1a으로 5v2a cacl 것처럼 고장이 구매 날수 동봉되어 되는 보여도 부적정전안0로 부적정전입 사용해주시고 생기거나 어법터는 옵션에서 이상이 있는 있습니다 작동에 적성선안성경격출 적정전압 정격출력 중선해주세요 추가구성 충전시 충전이 케이블을\n",
      "the 사용설명서 한국\n",
      "d point whe 거강하고 건숙회 걸면의 검면으 곳의 관리름 당지 물줄기가치아 소상을최소회 시시이 않는 오아 위하 으파지동으로이목 음파 음파진동 일반 일반칫솔이 전동치솔 전동횟솔 제 제2 제7 제거 첫솔 첫솔모가치아 첫솔모가치이 트든하잇목코 플라그까지 플라그들 플라그마 효과적으로\n",
      "2분타이머 30일 h2 is the 가공된 가능합니디 가사스 가수 가지 강력호 권지 기는 기밥 농0 달라집니다 동시에하는 디디 마사지 모드 모드이며 모드인 무 미백7 미세 부드런 부에거 분이나 사용모드 사용하시는 세정0 세정괴 센시티브 약하수 인니다 있목0 작동 저동 처음 치아으 퀵포인트 파형으 화이트니 화이트닝구\n",
      "\n",
      "a\n",
      "\n",
      "300호 ill le 강력한 기o 기물질규 기술 나은 당지 라l 맥동 맥동수입 분당 사각지대으 손보다 수압으로 완벽한 첫솔과 치실이\n",
      "공인중개사 민호수있는 바름\n",
      "450 the tip 가법게 같이 경계 그림과 낚습니다 낚을 놀러 누른 누름니디 당도록 당아야 마십시오 문지르지 버튼을 부분이나 비스능하거 사용 살짝 상태에서 수 아래에 앞뒤로 약간 올려놓고 올린 움직이며 잇몸 잇몸에 있도록 작게 전원을 정도 중앙이 첫솔 첫솔모 첫솔모가 첫솔모를 첫솔모름 치간을 치아를 치아에 치아와 컵니다 퍼지도록 합니다 항상 해야\n",
      "clea massage sensitiv white whitet\n",
      "2080 mountain salt\n",
      "크\n",
      "il\n",
      "이상사\n",
      "watilkhosser\n",
      "\n",
      "린이 사 오틀\n",
      "미지 스 클린이\n",
      "or\n",
      "a on\n",
      "ant 무선출전 클린이\n",
      "\n",
      "450 tip 가법게 같이 경계 그림과 낚습니다 낚을 놀러 누른 누름니다 당도록 당아야 마십시오 문지르지 버튼을 부분이나그 비스듬하게 사용 살짝 상태에서 수 아래에 앞뒤로 약간 올려높고 올린 움직이며 잇몸 잇몸에 있도록 작게 전원을 정도 중앙이 첫솔 첫솔모 첫솔모가 첫솔모를 치간을 치아를 치아에 치아와 콘니다 퍼지도록 합니다 항상 해야\n",
      "19 an in w영 관리 교체 구소사 다양한 다용도 미세모 민감 백타 부드러운 브러시 실리콘 있돌 전용 지o 초미세모 피두 혀클리너\n",
      "-80\n",
      "119 hoo 동로 딩d\n",
      "wot\n",
      "le 클린이,\n",
      "2r 2분이 30초싹양차 a gre th 간 걸립니다 경우 교정기 구간을 니다 닭을 담라 따라 라미네이트 마모도 보철물 보철물(신경치료 부분을 사용시 사용이 사용하 사용하는 상의후 상태에 순서대로 시간은 시간이 어금니 완료된다음 임플란트)에도 있습 있습니다 주십시오 지0 질수있으니의사외 착색 참고사힘 첫솔질 추가로 크라운 하면\n",
      "명가로\n",
      "18 34pm ell for\n",
      "1aver aloo and com im moo singging\n",
      "and of\n",
      "\n",
      "a\n",
      "가끔일상\n",
      "\n",
      "dy 가격 리 확인하기\n",
      "구매 기봉 바로가기 이\n",
      "the 가격 보러가기\n",
      "ollli\n",
      "dy 가격 리 확인하기\n",
      "the 바로보기 후기\n",
      "\n",
      "ane sull 하고재비\n",
      "\n",
      "\n",
      "내돈내산 돈을 리뷰를 리뷰입니다 부루바들 삭성한 시물 작성하였습니다 지기 직접 후느킨점을\n",
      "on\n",
      "17 i\n",
      "in\n",
      "\n",
      "copyrightos 혜우유\n",
      "해산\n",
      "보러가기 자세히\n",
      "구매하기 리뷰보기\n",
      "\n",
      "the 바로보기 후기\n",
      "the 바로보기 후기\n",
      "\n",
      "it 보기 상품\n",
      "upang\n",
      "\n",
      "l야기 밍로그 엘밍널\n",
      "16개 9개 공간 교체형 구형 기능 내부 램프 만영구사용 미표시 사동살규화기 사동설금화기 사동터보살구와 시간 신형 유팡플러스led 잔여 젓병 최대 최신형\n",
      "upang\n",
      "id 로즈리아북로그\n",
      "00모드률 auin det de가중료되여습니다 dist joo모드 ng 내부도어7 내부도어물 반복웍니디 사용방법 삼균종로호 신행김니디 와로도고물기물털어난 위로항하게하이 입구들 작동중에는 작한니다 작합니 점0\n",
      "25 29 30 a and caution in i기는 the 가닥으도 강생힘 경. 경우 고상 과정에서 김음 깨끗한 나는 나부들 내부 내부바닥을 내부어 다를수 닭아줄니다 담고 대무 대부 도 둥으로 둥은 따라 르센트에스 리너 마른 마무리로 마세요 마아수시기바럽니다 말상 맹새가 문음 바구니를 바닥어 바닥의 벤젠 보드 북네니다 분 분리합니다 비워주 사용하는 사용하지 사용환경어 상단 상태로 생기지 생김니다 선반과 성 세요 소논7 소독기 소로 수건으도 수세 수시로 수의 스크레스 스팀타 스팀타올로 신나 않은 압노톡 얼룩이 의둑 인한 있습니다 저하시길 전원 젓병소독기의 정도 주시 줄니다 중심으로 진행한니다 청소는 청소방법 코드 쿠스 트는 포함하여 하면 하지만 횟수와 힘을\n",
      "lipanc\n",
      "\n",
      "upang\n",
      "in upang\n",
      "솔직하게 업체로부터 작성된 정말 제공받아 제품만을 좋아서 추천드려요 후기지만\n",
      "\n",
      "\n",
      "upang\n",
      "\n",
      "upang\n",
      "\n",
      "혜봉\n",
      "upang\n",
      "a jpang 기글 나산 당첨자 러 사2 사랑하 사진몰 세트 시즌2 아이 알집하우스테트 어어 이벤트 이유스 참찌어도 포토후기\n",
      "hegen\n",
      "된 무상으로 보고 본 부터 사용 실제로 유팡으로 입니다 작성 제풍만을 주관적으로 지원받아 포스팅은 해 후기\n",
      "upang\n",
      "1010cc 31 500 dc 몽디에스\n",
      "upang\n",
      "10\n",
      "jpane\n",
      "공감과 맷글은 사람입니다 정\n",
      "thanes\n",
      "chas so\n",
      "upang\n",
      "the\n",
      "auto of\n",
      "upang\n",
      "a i 공주 무상 사용 솔직하게 식은 업 제품을 지원받아 직겹 직성되었습니다. 체로부터 포스 해당\n",
      "388 42 511 7일 cj택배로 iweb발신 web발신 고객닉께소 고객님께소 구 다.감사합니다 메시지 무자 무지 발송퀵니 보내주신 본사로 수리완료도d 아녕하세요 안녕하세요 오후 월요일 유팡입니다 유팡입니다.고객님의 이e 입고되었습 제품 제품이\n",
      "upani\n",
      "physiomer 유유제약\n",
      "검색하고 네이버에소 육아 윤이정이꿀잠이야기 전문들로거 팬하기\n",
      "\n",
      "lepanc\n",
      "upang\n",
      "and\n",
      "was\n",
      "\n",
      "and start\n",
      "and es quickguide\n",
      "chating jpang mat starthes vent 각성을 기능별 기능의 더욱 더합니다 도edhe 도트매트리스디스플레이로 레이 새로워진 오토모드가작동중일 유팡플러스에 중임때 한기모드가작동\n",
      "the\n",
      "upang\n",
      "\n",
      "1.고객님의 ass품완료도어 iweb발신) web발신) 고객님께소 금일발송되며 본사로 수 안녕하세요 요청주신 유팡입니다 유팡입니디 입고도었습니 제품수령확이후 제품이 하겠습니다스 회수접\n",
      "upang\n",
      "upang\n",
      "02일 06일 12월 1원 1월 21년 301 4 the 간격 부유 양평균 전체평균 횟수\n",
      "blog com mkioo naver 너만봄\n",
      "unter upang\n",
      "avent philips\n",
      "다트너스 랄동을 수수 일정액의 있음 제공받을수 코는, 통해\n",
      "\n",
      "\n",
      "hegen\n",
      "pang\n",
      "leang the\n",
      "\n",
      "\n",
      "upang 사용후기 유팡플러스 카추산준비물\n",
      "\n",
      "\n",
      "upang\n",
      "upang\n",
      "upang 별안다락비\n",
      "upang\n",
      "fore\n",
      "upang\n",
      "도 무상으로 사용 업체로부터 작성하였습니다. 제공받아 제품만을 직접 후 후기는\n",
      "leane\n",
      "270 blog com naver sms 매일매일을 블로그 수잔대 인생은 즐기는 한번분\n",
      "upang\n",
      "\n",
      "\n",
      "efood ffod grosmimi you 대호 성천대\n",
      "\n",
      "upang\n",
      "\n",
      "upang\n",
      "the 기 말음 수수료플! 알러드립니다. 일관으로 일정 있음물 포스링온쿠광파트너스\n",
      "ang but\n",
      "\n",
      "smile tyour\n",
      "\n",
      "\n",
      "\n",
      "\n",
      "\n",
      "\n",
      "ar upan\n",
      "and\n",
      "\n",
      "upang\n",
      "the 건조와 내부의 냄새를 넛으세요 동시에 마른젓병을 물기를 뽑아주) 살균 살균만 살균을 선워코드 자동 잠깐! 제거힘 중문히 첫병의 할때\n",
      "jea\n",
      "i s마크를 s마크인지 내젓병 받았다는 사실? 살규소 살규소독기포 살균 살균소독기'기 소독기 아닌 알고계십니까? 유팡! 유팡은 으로 인증 젓병용 컵식기류 했을까?! 확인하세요. 획득\n",
      "and corong guide omeronon ouick 로즈리아브\n",
      "감사합니다! 순직하게 언체로부터 작성한 제풍만 지원마아 후기입니다나\n",
      "ifang\n",
      "auto willes 행복한오여사.)\n",
      "3의 dou the wo 건조외 국피이지미용원 동시어 살규들 살균만 세워봉으세요 자동( 잠깐! 정병의 제거하이 주문히\n",
      "10문미 ane demeron d연기 e드트리리트로 so5 that the theration ther어지르점락사 t리스랜딩백식 velr 구성물터 나기모드 리에 사용방법안나 산모모 선편구고체병밥 설치방법안내 소요턴니다 스스키이 전구 협프교체방법안내\n",
      "\n",
      "(주)블루케어 511 800 8888 a aaaay caution fod gor ll ob start버튼 v자외선살균led 고객센터 규 기동동 기의 내무( 내부 내부들 드버트 드버튼 디스플레이 마무리 상단 소동기 소잔이홀 외부도0 유점 유포 으타 일요을 있습니디 점심(공통 주요명칭 청소방법 청소힐 하지만 휴무\n",
      "\n",
      "start\n",
      "\n",
      "\n",
      "laand\n",
      "\n",
      "eeding fragile premium upan upanc 던지지 마세요 바로 세워서 적재하여주세요 절대 주의 취급 취급주으 파손\n",
      "ago bd입체살금랜고 is3d입체곰균램토 tul 구파프러스아이 특화되\n",
      "upang\n",
      "\n",
      "the 리\n",
      "\n",
      "a ang\n",
      "\n",
      "olang thes\n",
      "\n",
      "\n",
      "\n",
      "upang\n",
      "a\n",
      "an\n",
      "사동 살균 화)\n",
      "auto\n",
      "upange\n",
      "\n",
      "jinkotec the 복합기신코터 사무용 서울 양전\n",
      "upang\n",
      "and the\n",
      "170ml 1다 2난거 347 al grow ja mo prer smari system up 경도와 능한니디 다계별로 다르거 단겨 따라 미스 빵대컵까지 사용. 사출량이 설겨 성장에 수 수유량을 아기의 연경하여 있도록 조절할 하시면 하였습니다\n",
      "upang\n",
      "16개 2 20 6가지의 itt uv자외선살균을 내무으 내부공간 녀녀한 누 누번 다양한 당신은 당신이 레트로 만든 많은 미리미리 및보관가능 버는 버트을 비 비앙카 사락이 사락이니끼 사람 사람이니까 삼규 선드 수리 시라. 식용 아는 아이 여러개으 온풍살규건조외 이니까 이지 이터 자동모드 자동터보모드 자신에거 적병도 정병 주비를 주점 진안일 초 최대 카5 컬러 컴러 터보모드 털녀용 토근 투자하리 트랜미한 폭드 하라 하번어 할일이 화이!\n",
      "동해 레뷰를 본 서비스와 업제에서 원고료를 작성도었습니다 제공받아 제술 포스팅은\n",
      "gespe 이사 장성소\n",
      "ay unshine will you\n",
      "\n",
      "\n",
      "90 bee com htpssplblog naver\n",
      "a th 각사합니다 감사 고객님게 관심과 구입하신 국내에서 내수품은 답변 당사에서 드려 드립니다 보내주시는 불편을 사랑에 수입하여 아국후지필름입니더 안녕하세요 양해바랍니다 어려운 우지필름몰어 저희 정말 정품으로 정퓨등록0 제품은 제품이 죄송한니다 판매한 항상 해외나 해외직구로\n",
      "수 수수료를 일정액의 있음 제공발을 통해 파트너스 활동을\n",
      "hyunin\n",
      "\n",
      "is no ozoz 오비\n",
      "odamdam 기억, 추억,생각\n",
      "a도\n",
      "bublan 이마트\n",
      "fujifilm instaxmini11\n",
      "pre the\n",
      "개이통관고유부호 개인통관고유부호 개인통관고유부호는 님의 및 발급 발급신청 발급역 입니다 조호 조회\n",
      "\n",
      "blog com naver shrks\n",
      "\n",
      "40 가져온 미니 인스탁스 진한엔니가\n",
      "3층 a사진무씽 mussang20 가족사진 건너편 대전 대흥동 두 사진무쌍 여권 제품촬영 중구청 증명 커스성류싱 포토스투디오 프로필\n",
      "place review 건강한 기입니다 리뷰문화를 만늘기위해 본 상품이나 서비스블 실제 작성한 제공받아 진솔한 포스팅은\n",
      "the uvu\n",
      "10\n",
      "fuffilm fujifilm hsiantfilm ini instax mi mini\n",
      "blog\n",
      "din\n",
      "as\n",
      "hinit instax\n",
      "focus the\n",
      "cores\n",
      "fuj instax millan mini11 whing xdisu\n",
      "\n",
      "\n",
      "as\n",
      "and\n",
      "instax lensoon mini11\n",
      "\n",
      "\n",
      "\n",
      "\n",
      "ink\n",
      "\n",
      "19,900운 20매 fubrelm fujifilm ifll instant instax mal mini 미니필름 바로구마 상퓨상세정보 인스탁스 장바구니 정품 정퓨등록 쿠폰용\n",
      "\n",
      "butter filiv fuj'film instax mini vstant\n",
      "th\n",
      "10명 11원 1등 1월11일 2녀도 30명 31일금 3등 3명 3천원 4등 5등. 5버 8일월 big dod h이스탁스서푸이즈 h이스탁스서품이소이 nit ol 다양한 당첨자 모습을 미충시 민털 밥표 사용 선물 스타벅스 신제품 아메리카노 아이패드 엄청닌 올려주세요 와이드림크 이벤트기긴 인스타그램에 인스탁스 자유롬게 제품 증정! 추첨을 쿠폰 통해 필름 필수 할인쿠폰 해시태그 혜택 화\n",
      "\n",
      "빛날 우리의 응원해 청춘을\n",
      "place review 건강한 기입니다 리뷰문화를 만늘기위해 본 상품이나 서비스블 실제 작성한 제공받아 진솔한 포스팅은\n",
      "focusra is uens\n",
      "instax\n",
      "\n",
      "\n",
      "focus instax instaxlens rangeo.3y\n",
      "instax 블로그 점현쓰의\n",
      "103.000원 3,876 aa거전지x2 내장플래스 더보기 리뷰 무료배송 미니11 뷰파인더종류 사러가기 상단뷰파인다 스토어 인스탁스 자동플래시 전원 즉석카메리 최저 최저가 퓨목 플래시기능\n",
      "1매 20p coupa.ng coupang 미니 보석 스티커 인스탁스 필름\n",
      "\n",
      "25,100원 30.000원 500 55.100원 a i l.point lpoint the 갈인 결제금액 결제정보 드선꾸 람인 배송비쿠몬할인 배솥비 수안국후지림름 신용 신용카드 신한카드 실구근 일스원 적립금 주문구문 주문금액 지구구 최종 할인 할인금약\n",
      "insta instax lens mini11\n",
      "\n",
      "\n",
      "60mm instax lens mini11\n",
      "\n",
      "\n",
      "merry\n",
      "fily\n",
      "\n",
      "big instax love pieces with\n",
      "instax\n",
      "50n. de fns focus instax minil rangeo.3r\n",
      "instaxtere\n",
      "\n",
      "chome lpoint 공시 관련 구3 따든 로그인 변경에 사진관 안내 정잭 정품등록 회원혜택 후지스토리 후지필름\n",
      "00101 instax niniz 릴츠로그\n",
      "로결마 산화리\n",
      "instax\n",
      "the 라이\n",
      "nst\n",
      "\n",
      "11번가 16.950원 1가 and fuifilm ol 고객센터 구매확정 미국 반퓨신청 방문 상품 상품미도칙 스토어 인스탁스 인스턴트 장바구니담기 저체 주문상세 찜보내기 카메리\n",
      "instax mini11\n",
      "mang 다정한봄\n",
      "instax mectent\n",
      "instax lens ngi\n",
      "arusrangeost instay minili nistaxlensoo\n",
      "c la 이\n",
      "bv dz lensoo nstax\n",
      "instax\n",
      ".3r 60mn focus instax lens minit range\n",
      "\n",
      "re\n",
      "\n",
      "ovi steren\n",
      "instax\n",
      "\n",
      "wand wor\n",
      "64 instax minth\n",
      "ens instax\n",
      "\n",
      "\n",
      "and\n",
      "instax mini11 nstay 뚜벅뚜벅 솔솔이의\n",
      "\n",
      "the 서종 쉬금시주의사항 이사무 조성수\n",
      "instax the\n",
      "2시 a blog. comfsingry naver of shanghat 게떠 공감 눈러주세요, 도움이 되섯다면, 버튼을 아래 오늘도 이포스팅은 일상 작성 즐거워 포스팅이 포스팅입니다 하트 한국\n",
      "m.jay moofent pieces\n",
      "\n",
      "3m 60mm focus instax lens range\n",
      "13b703.5000 camera fujkeimm instant instax mini11\n",
      "20.8.111섭관 b.하.화 본관 와생관목사에스\n",
      "focusrangeoss instax lenso minin ustax\n",
      "instax\n",
      "\n",
      "100만원 10일 1천만 2021년 30일(목)까지 31일 3원 4버 500만원 9s a aluminies lo l수 pay sk skpay 고객님 고객님중 구독하신 금요일 기간 당첨자 당첨지 대상 동안 매주 발포 발표 선발 안내 우주 우주패스 위 이벤트 전체 차1 참여한 추첨 티켓부스 포인트 푸\n",
      "nontront the\n",
      "\n",
      "\n",
      "2무 539 an fokb minill nstox the 기슨 김속 이스티커기 정문동물번호\n",
      "the 스와\n",
      "\n",
      "그로나기 마치고 성훈이락 장바 집에서혼술당 출울duynu 피식돼서\n",
      "ad inge instax lens mini11 nstax us\n",
      "11 instax\n",
      "berbbrerers fbesselings the\n",
      "50k\n",
      "20 6565 byun camera inchui o10 star t723 스타디지텔) 전자관1충3003\n",
      "co pink 공식판매 정품 주에스제이 한국후지필름주\n",
      "a ad. inst instax mini11\n",
      "bbak\n",
      "\n",
      "\n",
      "\n",
      "instax\n",
      "fuler nstax sis\n",
      "20150616 of\n",
      "hini sta 가리지 기트센서 라이 말아 부분을 사진 주세요 촬영시 플래시 해당\n",
      "fre ipc 겠더프리빌클 깊색피 리보인대 모바을 무료이 시부부상 옛정피\n",
      "\n",
      "19 32.500원 40매 film fujifilm furenin he instant instax mini 미니필름 수량한정1 인스탁스 주한구우지리드\n",
      "\n",
      "0513 1도니 in 강당 나시 유일 이기지\n",
      "pooooby\n",
      "instax staxleni will\n",
      "aste nstaxlens 하\n",
      "instax\n",
      "dreamcodilies\n",
      "\n",
      "instax mini11 sta)\n",
      "3333 a couple 가만히 금오름숙 두명이 리보아야어배다 멋지쓰 성2간 아리아 영의원우 우리가 이어도 있지아있다 하께\n",
      "lingith\n",
      "instax\n",
      "\n",
      "i my th the 관장촌점 남일점 대성소 로스살이 정비주\n",
      "\n",
      "aver.com insta\n",
      "\n",
      "144.000원 1건 2020 a financial i naver 가는 가는안니 거래금액을 거래일시 구마 구매 내역밀 뚝남 로니 미니시가주거이스퓨품)데퍼 삼수 성볶소나무리퓨라로이드기어라 세금계산. 세무스 여수증은 영수증 인스탁스 장)/2단 주문번호 즉빙서류로 화이 회사명\n",
      "instax min mini11 w기\n",
      "the y 이 이마\n",
      "the\n",
      "an\n",
      "\n",
      "받을 본 수 수수료를 알려드립니다. 일정 일환으로 있음을 쿠팡 파트너스 포스팅은\n",
      "\n",
      ".대배접수 ael 개유상수리 구부수통성회 기간의차이는있습니다. 더불0 도 뚝실고 리비법금시점수사입사가동학당 무상/유상수리 밍다종되 불량기준 세근 아나 안내 외부손상이나취급부주의 요하는경우 접수방법 제제론o 판아업제에따리 한국후지필름은늄은 호석이어는\n",
      "abrek he 춘승기\n",
      "부동\n",
      "\n",
      "3금\n",
      "9로 미니 미니11로 사진 인스타스 인스탁스 찍은\n",
      "blog pocarrot 무일장\n",
      "hini11 instax\n",
      "10x auni fujifilm instax mini vstantfili\n",
      "고마워! 정말\n",
      "35 800 instax iso ujifilm\n",
      "19.9002 200 9.9007 and home o1 th the 건 금맥 미니벌름 민스탁스 배송비 사 상바구니 상종정보 상품금약 성문동도 수문 실름 완5 인스탁스미니션용 주1 주무서삭성 주문완료 쿠는용 할인금액\n",
      "ane be now 초원사진관\n",
      "dress ere\n",
      "리아\n",
      "diary instax jimin mini\n",
      "a\n",
      "\n",
      "대 리아이리\n",
      "ing instax ujefilm\n",
      "이스\n",
      "manou\n",
      "\n",
      "instax mini1\n",
      "\n",
      "300msth25\n",
      "eo8 fujifilm furtily instax nir\n",
      "instay\n",
      "화명\n",
      "01월 02시 09일 0원 2021년 23분 26주적금w 5주차 anl 금액보기 마지막 세이프박스 저금통 접속 주적금 카드이용내역\n",
      "\n",
      "ant camera fureilm lilac mini11 nstax oor purple\n",
      "1단 1세트 30p fily fujifilm instax mini nin 미니앨범 미니필름 수량 인스탁스 즉석 포토라인\n",
      "10 1간간커 aden'sstory brandin cafe it offee the whe 지리\n",
      "\n",
      "그리\n",
      "a the\n",
      "2\n",
      "20 69.99 a an and un vomay 그찜 사진 있는 재었다 철길 풀라로이드 항동\n",
      "스타벅스에서\n",
      "\n",
      "\n",
      "a\n",
      "the\n",
      "are\n",
      "24\n",
      "\n",
      "0.3r 60mm ens focus instax mini11 range\n",
      "in\n",
      "선물방은날 필카\n",
      "instax\n",
      "(0장수손세정서 06.20 11.400원 15.180원 19.900원 2020 20200619 dumentipusts goayt great ol111 onor uenin unts 구마 구매화정 나북와료 미니필름 바론정보 바포화 반송조호 부스 색상/폴라로이드 서리기 스만스 와료 인스탁스 전불 전용케이스\n",
      "instakere\n",
      "3033 a and ande as5 ecte hi7177711117711111 the 강잡아댕겨? 걱정마 걱정했어 나는 나도 나왔잠이 눈물이 렌즈자체는 무섭다 문주꺼 문주컨 미니11 보셈 불량이누 빠지누 삼단이야? 셀피 아맞구나 안부셔져 애초에 에그럼 인스탁스 일단 임 재이 정상 주루룩 지금 한단 홀러버리누 휴우우\n",
      "un\n",
      "oo\n",
      "instax mini11\n",
      "ch\n",
      "instorens\n",
      "fulifilm instax mini\n",
      "nower\n",
      "\n",
      "as instax\n",
      "dili tip 인스탁스 카메라주전)\n",
      "the 구입하여 본 사용 작성한 직점 포스팅은 후기입니다.\n",
      "19\n",
      "moment pieces\n",
      "\n",
      "\n",
      "the\n",
      "\n",
      "adidas\n",
      "instax\n",
      "instax minill\n",
      "instax lensa nstax\n",
      "\n",
      "insta) instax\n",
      "cangang\n",
      "gipry je to\n",
      "th\n",
      "\n",
      "instax\n",
      "1.225원02 12,800원 12.800원 127. 1팩(10장 1팩(10장) 24 2팩수케이스가서불 500원 bamily lit npal of ulitinn 가수 가싱 결제 극메이드테일 글로리스 김시작하기 나무도 마눈 문의 미니111필름 바퓨도 배송완료 배순 업범 엠버십 원이용룸 인스탁스 주문상서 최소 캠버스 컨페티\n",
      "instax\n",
      "피호시필름\n",
      "and event fubreilm wo 가자 기화포포보 라이프스타일 민스탁스 바구구니 받고 보관하세요 뽑고 사진인화효맥자 여름 여름추억 영상/p다플리 이어말범 인화! 일작 주억 주역 추억 카메라.필른 포토는 포토북 할인쿠콘 할인쿠폰 호광스 호광스가지\n",
      "th 이스\n",
      "\n",
      "\n",
      "\n",
      "instax lensoo mini11 nstax range 대\n",
      "of\n",
      "a 생축 이자 하\n",
      "nstay\n",
      "an\n",
      "av오비\n",
      "focus instax lens minit nstax rangeo,\n",
      "가석\n",
      "\n",
      "19 1가 1위 7,900원 one 결저 구매하기 구손거울 도착 머니 모레(토) 미니11투명케이스 수량. 액세서리 예정 인스탁스 적립 즉석카메리 증정 찜하기 최다 쿠페이 투명케이스 판매랭킹 한진택배\n",
      "instax miniz1\n",
      "\n",
      "instax\n",
      "rume\n",
      "for\n",
      "the\n",
      "100 anney mill park\n",
      "\n",
      "\n",
      "ere\n",
      "instax\n",
      "instax mini11\n",
      "언니랑( 정영업마.차차장 항상행부하주\n",
      "instax mini11\n",
      "instay\n",
      "1.00.kr 10마 19.900우 1가 400우 7.10 and fubreim fuiifilm 극액 기준 미니필름 배송비 상품 석단근 인스탁스 자세히보7 적립근 정품등록 조 주무정보 주문 주문완료 주문정보 쿠폰용 함이\n",
      "\n",
      "\n",
      "\n",
      "s\n",
      "19\n",
      "happy smile\n",
      "instax mini11\n",
      "instax\n",
      "\n",
      "instax\n",
      "coisu\n",
      "\n",
      "fujifilm hello? insta) instax irmail mir\n",
      "\n",
      "20 2021.5.4 didtus ohed toly 에련\n",
      "instax\n",
      "\n"
     ]
    },
    {
     "name": "stdout",
     "output_type": "stream",
     "text": [
      "\n",
      "httos instax liblo 결혼여행마집데이트 콩'sdaily\n",
      "instax\n",
      "\n",
      "instax minill rangi\n",
      "\n",
      "\n",
      "10p 124,210 1개 단일상품 래덕발송 랜덤발송 로켓와우 미니11 블러쉬 세트 수량. 원 인스탁스 저용가빙 트나무데코 포토액자 필름 핑크 하 하드앨법\n",
      "lew the 이마트\n",
      "an instaxlen instox\n",
      "mini11 nstax palette uceshoti\n",
      "발생탈 사음 수노 수의이 슬식 이스니나 파트너스활동으로 후기이시만\n",
      "instax instaxlensoo mini11\n",
      "\n",
      "the\n",
      "and\n",
      "instax mini11\n",
      "\n",
      "ange instax minil1\n",
      "dicewhite instax mini1 mini11\n",
      "tod whar\n",
      "dean domave hito instaxminis mypalette 스\n",
      "bo'so ind iz soit 리어 사라고 장채기이\n",
      "and corot\n",
      "insingers\n",
      "10 instax retro the\n",
      "instax\n",
      "\n",
      "se\n",
      "\n",
      "the\n",
      "instax\n",
      "319 arf doint le nstax print 넓어진 담다 당신의 더 사진으로 세상을\n",
      "\n",
      "color pu 라임락퍼플 미니11 블러쉬핑크 스카이블루 아이스화이트 인스탁스 쟈골그레이 전용 케이스\n",
      "\n",
      "instores\n",
      "instay\n",
      "\n",
      "and min nsta\n",
      "텔나\n",
      "\n",
      "ko\n",
      "instax\n",
      "dingesters\n",
      "\n",
      "\n",
      "00\n",
      "12.244 2020\n",
      "\n",
      "0.31 instax lens ocus range\n",
      "\n",
      "mini1 꿈꾸는 미물 여자 오늘도 이\n",
      "공감라 김너다 림이 및국 은빛바다 정거장\n",
      "\n",
      "a\n",
      "\n",
      "jo sarker\n",
      "instax\n",
      "2편 그남 그래도 삿다 실수로 쓰자... 웰름을 흑백\n",
      "3시 ol the thin u uin vew 가이트 금사사7 네이버쇼핑 다론 더보기 동영상 려모 미니즈 미스탁스 법적고지미안나 사이트 시식in 어학사산 이미지 이트 이프루어서 인스닥스미 인스닥스미니죽 인스락스미 인스탁스 인스탁스미 즉석 즉석필름 지도 지필름 트윈팩\n",
      "23\n",
      "to 라이\n",
      "'업무식 망도론 소음(큰소리) 시간미 압주민의 조식 조심! 취침\n",
      "\n",
      "the\n",
      "instay\n",
      "\n",
      "to 고양드어당 굿요 금대 써지는 완전 이나는 표면어\n",
      "\n",
      "1램프 we 가라s 개경지 경혼 기보 래시 르거 리o 부 상태 섬영 에리 적말 점떡 죽산 즉래시 천천흥 춘수 해경장\n",
      "big instax love with\n",
      "now\n",
      "전\n",
      "\n",
      "dumey\n",
      "사무\n",
      "instax\n",
      "1.01.1 a1ddeng2\n",
      "0.31 focus instax lens mini11 range soda somm\n",
      "ba instax\n",
      ".. instay nine\n",
      "3m 60mm focus instax lens mini11 range\n",
      "d1\n",
      "the\n",
      "10m 2020 u 출이이네에스\n",
      "l2\n",
      "\n",
      "fubrelm mocones 가방수앨범 탄케이스 필른\n",
      "eulieimm 알파빗나무데코 전용2단앨범 증정\n",
      "2단앨범 all ane instax mini 알파빗나무데코 전용 증정\n",
      "\n",
      "11 thent\n",
      "800 fujifilh fujifilm instax so ujifiln\n",
      "\n",
      "40 and instax mini ulo 낙듬 되면 라이트 락인주 매수 명청 바떡 버튼 뷰파인더 셀피미러 셔e 수의히 안내 있습니다 전원 제품 커버 텔름 플래시 필름\n",
      "마\n",
      "a 동해 레뷰를 본 서비스와원고료를 업지어서 작성되었습니다 제공만아 제문 포스팅은\n",
      "god instax miniad op rencamars\n",
      "in the 나식점도 니나 본포스트온 지공방 지플과운고료 헤담브렌드로부터\n",
      "in the 나식점도 니나 본포스트온 지공방 지플과운고료 헤담브렌드로부터\n",
      "fujreimm wor\n",
      "all\n",
      "a 동해 레뷰를 본 서비스와원고료를 업지어서 작성되었습니다 제공만아 제문 포스팅은\n",
      "as 도수\n",
      "in the 나식점도 니나 본포스트온 지공방 지플과운고료 헤담브렌드로부터\n",
      "dreamcodilies\n",
      "25 di the 글 나 르엘치어서 마작성점 서비스\n",
      "in the 나식점도 니나 본포스트온 지공방 지플과운고료 헤담브렌드로부터\n",
      "a 동해 레뷰를 본 서비스와원고료를 업지어서 작성되었습니다 제공만아 제문 포스팅은\n",
      "경우 곳에서 밝은 아래서 어두운 짝은 터진 형광등 후레시가\n",
      "\n",
      "astai minioc ss1mda 베이지 스트란 스트랩 아이보리 차콜 트람\n",
      "25 di the 글 나 르엘치어서 마작성점 서비스\n",
      "net sugarcat 공간 달콤한 설탕냥이씨의\n",
      "instax mini40 range\n",
      "000\n",
      "내돈내산과 보 포스팅은 함께 합니다.\n",
      "\n",
      "\n",
      "brthod\n",
      "25 di the 글 나 르엘치어서 마작성점 서비스\n",
      "ktx\n",
      "\n",
      "11 ill\n",
      "빛가는 은하의하루\n",
      "a 동해 레뷰를 본 서비스와원고료를 업지어서 작성되었습니다 제공만아 제문 포스팅은\n",
      "in the 나식점도 니나 본포스트온 지공방 지플과운고료 헤담브렌드로부터\n",
      "instax nini40\n",
      "c리\n",
      "a 동해 레뷰를 본 서비스와원고료를 업지어서 작성되었습니다 제공만아 제문 포스팅은\n",
      "place review 건강한 기입니다 리뷰문화를 만늘기위해 본 상품이나 서비스블 실제 작성한 제공받아 진솔한 포스팅은\n",
      "a 동해 레뷰를 본 서비스와원고료를 업지어서 작성되었습니다 제공만아 제문 포스팅은\n",
      "a참을 mini40 nstax 수. 없는 즐거움\n",
      "in the 나식점도 니나 본포스트온 지공방 지플과운고료 헤담브렌드로부터\n",
      "place review 건강한 기입니다 리뷰문화를 만늘기위해 본 상품이나 서비스블 실제 작성한 제공받아 진솔한 포스팅은\n",
      "\n",
      "a 동해 레뷰를 본 서비스와원고료를 업지어서 작성되었습니다 제공만아 제문 포스팅은\n",
      "40 instax mini mini40 nstax 컨택트시트필름 후기방\n",
      "in the 나식점도 니나 본포스트온 지공방 지플과운고료 헤담브렌드로부터\n",
      "\n",
      "in the 나식점도 니나 본포스트온 지공방 지플과운고료 헤담브렌드로부터\n",
      "whe\n",
      "a 동해 레뷰를 본 서비스와원고료를 업지어서 작성되었습니다 제공만아 제문 포스팅은\n",
      "10\n",
      "\n",
      "\n",
      "140 instax mini ous\n",
      "thewhe\n",
      "in the 나식점도 니나 본포스트온 지공방 지플과운고료 헤담브렌드로부터\n",
      "\n",
      "100만원 10일 1천만 2021년 30일(목)까지 31일 3원 4버 500만원 9s a aluminies lo l수 pay sk skpay 고객님 고객님중 구독하신 금요일 기간 당첨자 당첨지 대상 동안 매주 발포 발표 선발 안내 우주 우주패스 위 이벤트 전체 차1 참여한 추첨 티켓부스 포인트 푸\n",
      "cens end ha\n",
      "adiso co eme\n",
      "thet\n",
      "\n",
      "wherener\n",
      "mermaid\n",
      "corder mathere\n",
      "25 di the 글 나 르엘치어서 마작성점 서비스\n",
      "2345shlee https naver.com yolog\n",
      "a 동해 레뷰를 본 서비스와원고료를 업지어서 작성되었습니다 제공만아 제문 포스팅은\n",
      "focus\n",
      "in the 나식점도 니나 본포스트온 지공방 지플과운고료 헤담브렌드로부터\n",
      "25 di the 글 나 르엘치어서 마작성점 서비스\n",
      "in the 나식점도 니나 본포스트온 지공방 지플과운고료 헤담브렌드로부터\n",
      "auai dink film fujifilm fujreilm ins instant instax is mini she smc\n",
      "\n",
      "a 동해 레뷰를 본 서비스와원고료를 업지어서 작성되었습니다 제공만아 제문 포스팅은\n",
      "in the 나식점도 니나 본포스트온 지공방 지플과운고료 헤담브렌드로부터\n",
      "instax miniao\n",
      "ciln contac1 for fujifilm fulifilin instax min nstax sheet 하이스트\n",
      "10마 40 가방 글라스 기념 디자인필드 런칭 마블 모머트백베이지/를랙 모먼트백 미니 블루 사전예악 선물 스테인드 예판 전용 증정 코믹\n",
      "instax lens mini40 range tan 동루락라의하르날\n",
      "unt\n",
      "\n",
      "\n",
      "queen tiger\n",
      "\n",
      "대리 은두월트\n",
      "253-5535 2동3eerbe fujifiln fulifilm instax\n",
      "instax\n",
      "\n",
      "instaxminiao\n",
      "\n",
      "instax lens mini40 nstax range\n",
      "25 dit\n",
      "instax\n",
      "lap\n",
      "fury\n",
      "awo filiv instant ios ju! mini nos sale siaaus urfilm wher xhisui\n",
      "\n",
      "60n a3 instax lens mini40 nstax range\n",
      "instax lens mini40 stay\n",
      "the 서비\n",
      "\n",
      "cor the\n",
      "곳 쪽쪽 축\n",
      "19일가 ron the 각삼과 거헤9 광은 궁정적인 그리고 금금이 기독해보세요 닥배하거 마음으로 바라보면 밥견한수 사진 소중한 수소임직 숨어있던 일은 자연2 작은 파뚜후 평범했던 하루라도 하루트 학께 행복음\n",
      "od oo roo sell\n",
      "g패리스맘 klug 맛있는 세상 패리스맘으\n",
      "on\n",
      "25 di the 글 나 르엘치어서 마작성점 서비스\n",
      "20 ittecheditor\n",
      "15단겨 3가지 klug maat ran 가 강도 동작 두가지 두드림(강 두드림약 마사지 맞춤형 모드 모드로 블루 이사 조절 주무름 직 화이트\n",
      "klua\n",
      "12세이하의 is of ou 고객님의 그외해당되는 금합니다 노 반드시 부위으 분들은 사용을 사용지 사항 수반힌 시저 신경실 심장질환자 안전한 어린0 위해 유아 이런 이상인 저림 전자기기 함인해주세요\n",
      "이기\n",
      "onla\n",
      "and loogi the und 기다인내 한개의\n",
      "25 di the 글 나 르엘치어서 마작성점 서비스\n",
      "달미\n",
      "\n",
      "klug\n",
      "klua\n",
      "구성품 마사지기s 미니 클럭 후기\n",
      "klug 마 미리\n",
      "kis\n",
      "mjmom 대성호점 보리\n",
      "미니마사지기터 사용방법안내서\n",
      "kluc 마사지기s 미니 클럭\n",
      "\n",
      "\n",
      "ais오정 s24 로드 본체전원이커지지암 사항 이상현상 전에 지점 처리방법 확인할\n",
      "klug 일상 지구의\n",
      "oniy\n",
      "and klug s\n",
      "-0304 070- 070. 1306 170 4088 klug massi no rs wini 교체용1 기본 대왕 큰패드 패드 패드는\n",
      "\n",
      "0303 070 07c 4088 doot klug sage 가가닭니다 기본 대왕 매드는 전화로도 주문 큰패드 패드\n",
      "klug o\n",
      "고앵집사 돈버산 버 후기입니다\n",
      "-030 0304 4088 an clug for o70 son 마사지기 미니 방법 사용 안내서\n",
      "buia\n",
      "\n",
      "\n",
      "1호에 chi 각박거딩다 각박거린 거진 견근 누르만 도만 리모커으 리모컨 방법 본체 본체기 본체의 봉스 상타 상태7 어즈 연결 표시등이 한함\n",
      "and anytime anywhere in massager mini wall with 주)데일리앤코\n",
      "wa\n",
      "금액과 금전적 대가를 밤을 배송비는 수 예상치입니다 있습니다. 제공 쿠팡 홍보 활동으로\n",
      "dy 리뷰 바로보기\n",
      "수 수수료를 일정 있음 제공받을 파트너스 활동으로\n",
      "clcc here 구대청산마루의 다드너스 더보기 상품정보 수수\n",
      ".면점 an and andea anm are it the ush커백대참합구 whe wont 가부의 각부의 대주방점 도초간글리 리모컨버트글리 면대화패드원골딘자 명정문체 명청(리모컨 불빛점물 비트플드포리상수로세오 살태표시튜 세기조찰덕. 심버거서 여점 인wcong 존세가 주드린광바콘 출판중led행프 커린 휴전철!\n",
      "kiug oc oo\n",
      "21니 a hare j4주 th 디시 멕시카나 멕시키니 보내세요v 불담소스 아득란 우름 장아오는 하루 한끈한 화사하고 화요일이지반\n",
      "only\n",
      "and canding charenting dicic lisinitili thing 그리 마사지기모드 마사지모드 멜로우 모5 모드5 모드6 이스 이완모드 할력모드 합불루 회복모드\n",
      "25 di the 글 나 르엘치어서 마작성점 서비스\n",
      "데일리뷰 라이프 무상제공밥아 본 뷰티 브랜드츠 서포터즈 작성하었습니다 제품을 체험단 포스트는\n",
      "\n",
      "0워 11번기 12211원 22개월 5 jf ok캐쉬바 결제할인 구매 기본 리뷰 마사지se 무료배송 물리치료용품 본체 선물하기로 스트 신한카드 이내 작화둘 적립 제타 최다 최대 카드무이지 큰패드 클렉 패드 패키지 할부\n",
      "whall\n",
      "of 글럭에서 글은 글입니다. 동해 레뷰를 작성된 제공받아 제품을\n",
      "기포컴다기 비트\n",
      "193 l 개식 로부터 솔 작성된 제공받아 제품을 클럭 후기입니다.\n",
      "of 글럭에서 글은 글입니다. 동해 레뷰를 작성된 제공받아 제품을\n",
      "comrisehhe httpridiondiver klug 블로그게 양말말랑\n",
      "klug omin\n",
      "of 글럭에서 글은 글입니다. 동해 레뷰를 작성된 제공받아 제품을\n",
      "kigs 비스\n",
      ".공 klug 다정회 특리에 팜크비쥬\n",
      "of 글럭에서 글은 글입니다. 동해 레뷰를 작성된 제공받아 제품을\n",
      "king m 이\n",
      "\n",
      "노이 아이들 차콜의(c60)\n",
      "afloweryna klug\n",
      "a klug\n",
      "of 글럭에서 글은 글입니다. 동해 레뷰를 작성된 제공받아 제품을\n",
      "검색하고 네이버에서 베리아또 뷰티 크리에이터 팬하기\n",
      "\n",
      "\n",
      "klug nal\n",
      "보 소정의 원고료와 작성했습니다. 제공받아 제품을 주관적으로 클럭으로부터 포스팅은\n",
      "20 in is i스 sed 곳브 르치가 사용 시 우지하의 작비 직접조작\n",
      "for inthe klug knee massaget mini mire strap\n",
      "\n",
      "of 글럭에서 글은 글입니다. 동해 레뷰를 작성된 제공받아 제품을\n",
      "and 이\n",
      "i klug the\n",
      "klug\n",
      "\n",
      "of 글럭에서 글은 글입니다. 동해 레뷰를 작성된 제공받아 제품을\n",
      "basic klug massager mini pad padx3ea\n",
      "\n",
      "as\n",
      "이 이스\n",
      "an whok 극이 릉블류\n",
      "소정의 원고료를 이글은 작성되었습니디 제공받이 클럭으로부터\n",
      "of 글럭에서 글은 글입니다. 동해 레뷰를 작성된 제공받아 제품을\n",
      "of 글럭에서 글은 글입니다. 동해 레뷰를 작성된 제공받아 제품을\n",
      "a klug\n",
      "delliel 탑출\n",
      "0303 070 304 an anee o7c wwin 가능합니 기본 대왕 브패드. 수문 전화로도 체용 큰패드 패드 패드는\n",
      "\n",
      "10 1년무상av기 94 b-ant 구매처를 국어서 국으세요 기등 나노 더 등록 등록와료 방법 번호 부분을 서물 숫자를 스티커으 유이도 이증 인증 입력하매 자리 접속하세요 정품 정퓨 정퓨인증 제공둔니디 제퓨은 지로 판매돈 페이지어 퓨실보승서지자시에하함 확인하세요\n",
      "kiuo klug minimassage strap\n",
      "가녕하. 가하 객님꺼 고객님 고성이 다가올 다이 알이로 여니 우리 인사2 정도로 진심들 클럭입니다\n",
      "klua selpatchfon winimas\n",
      "\n",
      "검색하고 뷰티 블로거 에이버에서 쭈이덕 팬하기\n",
      "klug shas\n",
      "the 이사\n",
      "1호에 chi 각박거딩다 각박거린 거진 견근 누르만 도만 리모커으 리모컨 방법 본체 본체기 본체의 봉스 상타 상태7 어즈 연결 표시등이 한함\n",
      "6mi)\n",
      "is 구석구석 꼭 맞게! 무릉 발바닥 부위에 생담하기 약 어깨 온몸 원하는 전체 종아리 팔목 허리 허벅지\n",
      "\n",
      "\n",
      ")질병으로 11 4우 and in sar the 간소 고객님의 그외 금성염 금합니다 발고계신 부(협안이 부위의 사용을 사용자 사험 안전한 위하여 의루군 이런분들은 이하의 인으신 전염성 전자기기 정상 치료는 해당되는\n",
      "f\n",
      "guse o\n",
      "geooo oic\n",
      "기기 멋 무름 반드시건조한 밴드 사용해주세요 신체를 패드 포함하여 환경에서\n",
      "b33 i imassa klug 기본\n",
      "\n"
     ]
    }
   ],
   "source": [
    "# 정보 확인\n",
    "for k in df[\"context_img\"]:\n",
    "    print(k)"
   ]
  },
  {
   "cell_type": "code",
   "execution_count": 114,
   "id": "d439940f",
   "metadata": {},
   "outputs": [],
   "source": [
    "# 정보 수정\n",
    "df.loc[2221,\"광고 분류1\"] =1\n",
    "df.loc[2221,\"광고 분류2\"] =1\n",
    "df.loc[121,\"광고 분류1\"] =2\n",
    "df.loc[121,\"광고 분류2\"] =2"
   ]
  },
  {
   "cell_type": "markdown",
   "id": "54388ad0",
   "metadata": {},
   "source": [
    "# 4. 전처리된 데이터 저장"
   ]
  },
  {
   "cell_type": "code",
   "execution_count": 82,
   "id": "dfa97e67",
   "metadata": {},
   "outputs": [],
   "source": [
    "df.to_csv(\"./Total_Data2.csv\",encoding=\"utf-8-sig\",index=False)"
   ]
  }
 ],
 "metadata": {
  "kernelspec": {
   "display_name": "Python 3 (ipykernel)",
   "language": "python",
   "name": "python3"
  },
  "language_info": {
   "codemirror_mode": {
    "name": "ipython",
    "version": 3
   },
   "file_extension": ".py",
   "mimetype": "text/x-python",
   "name": "python",
   "nbconvert_exporter": "python",
   "pygments_lexer": "ipython3",
   "version": "3.8.12"
  },
  "toc": {
   "base_numbering": 1,
   "nav_menu": {},
   "number_sections": true,
   "sideBar": true,
   "skip_h1_title": false,
   "title_cell": "Table of Contents",
   "title_sidebar": "Contents",
   "toc_cell": false,
   "toc_position": {},
   "toc_section_display": true,
   "toc_window_display": false
  }
 },
 "nbformat": 4,
 "nbformat_minor": 5
}
