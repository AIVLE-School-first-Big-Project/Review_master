{
 "cells": [
  {
   "cell_type": "markdown",
   "id": "4c0ddf23",
   "metadata": {},
   "source": [
    "# 1. 라이브러리 임포트"
   ]
  },
  {
   "cell_type": "code",
   "execution_count": 1,
   "id": "5d69a4b8",
   "metadata": {},
   "outputs": [],
   "source": [
    "import pandas as pd\n",
    "import numpy as np"
   ]
  },
  {
   "cell_type": "markdown",
   "id": "b614f818",
   "metadata": {},
   "source": [
    "# 2. 데이터 로드 및 추가 수정된 데이터 통합"
   ]
  },
  {
   "cell_type": "code",
   "execution_count": 2,
   "id": "28749e4b",
   "metadata": {},
   "outputs": [
    {
     "name": "stdout",
     "output_type": "stream",
     "text": [
      "(2525, 53)\n"
     ]
    },
    {
     "data": {
      "text/html": [
       "<div>\n",
       "<style scoped>\n",
       "    .dataframe tbody tr th:only-of-type {\n",
       "        vertical-align: middle;\n",
       "    }\n",
       "\n",
       "    .dataframe tbody tr th {\n",
       "        vertical-align: top;\n",
       "    }\n",
       "\n",
       "    .dataframe thead th {\n",
       "        text-align: right;\n",
       "    }\n",
       "</style>\n",
       "<table border=\"1\" class=\"dataframe\">\n",
       "  <thead>\n",
       "    <tr style=\"text-align: right;\">\n",
       "      <th></th>\n",
       "      <th>index</th>\n",
       "      <th>url</th>\n",
       "      <th>title</th>\n",
       "      <th>post_date</th>\n",
       "      <th>검색어</th>\n",
       "      <th>브랜드 명</th>\n",
       "      <th>content</th>\n",
       "      <th>content_cnt</th>\n",
       "      <th>content_line</th>\n",
       "      <th>quote</th>\n",
       "      <th>...</th>\n",
       "      <th>구매후기 키워드</th>\n",
       "      <th>한달 키워드</th>\n",
       "      <th>두달 키워드</th>\n",
       "      <th>세달 키워드</th>\n",
       "      <th>WEB_광고 분류1</th>\n",
       "      <th>WEB_광고 분류2</th>\n",
       "      <th>광고 분류1</th>\n",
       "      <th>광고 분류2</th>\n",
       "      <th>jsonFile</th>\n",
       "      <th>context_img</th>\n",
       "    </tr>\n",
       "  </thead>\n",
       "  <tbody>\n",
       "    <tr>\n",
       "      <th>0</th>\n",
       "      <td>0</td>\n",
       "      <td>https://blog.naver.com/PostView.naver?blogId=e...</td>\n",
       "      <td>무선 무릎찜질기 메이크맨 무르비2 사용 후기</td>\n",
       "      <td>20220124</td>\n",
       "      <td>무르비2 리뷰</td>\n",
       "      <td>메이크맨</td>\n",
       "      <td>저는 여름보다 유달리 겨울 추위를 잘 타는 체질이라 ... 히터가 작동되는 사무실에...</td>\n",
       "      <td>2435</td>\n",
       "      <td>22</td>\n",
       "      <td>['편리한 무선 온열찜질기진동 마사지 기능옥이 들어있어 원적외선 효과']</td>\n",
       "      <td>...</td>\n",
       "      <td>0</td>\n",
       "      <td>0</td>\n",
       "      <td>0</td>\n",
       "      <td>0</td>\n",
       "      <td>0</td>\n",
       "      <td>0</td>\n",
       "      <td>1</td>\n",
       "      <td>2</td>\n",
       "      <td>annotation/2/0_class2.json</td>\n",
       "      <td>NaN</td>\n",
       "    </tr>\n",
       "  </tbody>\n",
       "</table>\n",
       "<p>1 rows × 53 columns</p>\n",
       "</div>"
      ],
      "text/plain": [
       "   index                                                url  \\\n",
       "0      0  https://blog.naver.com/PostView.naver?blogId=e...   \n",
       "\n",
       "                      title  post_date      검색어 브랜드 명  \\\n",
       "0  무선 무릎찜질기 메이크맨 무르비2 사용 후기   20220124  무르비2 리뷰  메이크맨   \n",
       "\n",
       "                                             content  content_cnt  \\\n",
       "0  저는 여름보다 유달리 겨울 추위를 잘 타는 체질이라 ... 히터가 작동되는 사무실에...         2435   \n",
       "\n",
       "   content_line                                     quote  ...  구매후기 키워드  \\\n",
       "0            22  ['편리한 무선 온열찜질기진동 마사지 기능옥이 들어있어 원적외선 효과']  ...         0   \n",
       "\n",
       "  한달 키워드 두달 키워드  세달 키워드  WEB_광고 분류1  WEB_광고 분류2  광고 분류1  광고 분류2  \\\n",
       "0      0      0       0           0           0       1       2   \n",
       "\n",
       "                     jsonFile  context_img  \n",
       "0  annotation/2/0_class2.json          NaN  \n",
       "\n",
       "[1 rows x 53 columns]"
      ]
     },
     "execution_count": 2,
     "metadata": {},
     "output_type": "execute_result"
    }
   ],
   "source": [
    "# 데이터 로드\n",
    "df = pd.read_csv(\"Total_Data2.csv\")\n",
    "print(df.shape)\n",
    "df.head(1)"
   ]
  },
  {
   "cell_type": "markdown",
   "id": "6603300e",
   "metadata": {},
   "source": [
    "## 2.1 추가 데이터 로드"
   ]
  },
  {
   "cell_type": "code",
   "execution_count": 3,
   "id": "514956b7",
   "metadata": {},
   "outputs": [],
   "source": [
    "df1 = pd.read_csv(\"result.csv\")\n",
    "df1.columns = [\"url\",\"new_content\",\"coupan.ng 키워드\"]"
   ]
  },
  {
   "cell_type": "code",
   "execution_count": 4,
   "id": "3f1dfa63",
   "metadata": {},
   "outputs": [
    {
     "data": {
      "text/plain": [
       "((2525, 53), (3080, 3))"
      ]
     },
     "execution_count": 4,
     "metadata": {},
     "output_type": "execute_result"
    }
   ],
   "source": [
    "df.shape, df1.shape"
   ]
  },
  {
   "cell_type": "markdown",
   "id": "0fc9b97b",
   "metadata": {},
   "source": [
    "## 2.2 데이터 병합\n",
    "<br>\n",
    "데이터 통합 전에 동일한 content에 대해서 컬럼 삭제 후 merge 진행을 합니다."
   ]
  },
  {
   "cell_type": "code",
   "execution_count": 5,
   "id": "23e45fd8",
   "metadata": {},
   "outputs": [],
   "source": [
    "df = df.drop(\"content\",axis=1)"
   ]
  },
  {
   "cell_type": "code",
   "execution_count": 6,
   "id": "6f20c43d",
   "metadata": {},
   "outputs": [
    {
     "data": {
      "text/plain": [
       "(2566, 54)"
      ]
     },
     "execution_count": 6,
     "metadata": {},
     "output_type": "execute_result"
    }
   ],
   "source": [
    "df2 = df.merge(df1,on=\"url\",how=\"inner\")\n",
    "df2.shape"
   ]
  },
  {
   "cell_type": "markdown",
   "id": "d4b6fc77",
   "metadata": {},
   "source": [
    "## 2.3 중복된 데이터 제거\n",
    "<br>\n",
    "병합 후 중복된 데이터 찾아 제거"
   ]
  },
  {
   "cell_type": "code",
   "execution_count": 7,
   "id": "0471776d",
   "metadata": {},
   "outputs": [],
   "source": [
    "gr1 = df2[\"url\"].value_counts().reset_index()"
   ]
  },
  {
   "cell_type": "code",
   "execution_count": 8,
   "id": "e8292c65",
   "metadata": {},
   "outputs": [],
   "source": [
    "gr2 = df2.set_index(\"url\").loc[list(gr1[gr1[\"url\"] >1][\"index\"])]"
   ]
  },
  {
   "cell_type": "code",
   "execution_count": 9,
   "id": "1cfa34a2",
   "metadata": {},
   "outputs": [],
   "source": [
    "gr2.drop(\"index\",axis=1,inplace=True)"
   ]
  },
  {
   "cell_type": "code",
   "execution_count": 10,
   "id": "d8c91471",
   "metadata": {},
   "outputs": [
    {
     "data": {
      "text/plain": [
       "(48, 52)"
      ]
     },
     "execution_count": 10,
     "metadata": {},
     "output_type": "execute_result"
    }
   ],
   "source": [
    "gr2 = gr2.drop_duplicates()\n",
    "gr2.shape"
   ]
  },
  {
   "cell_type": "code",
   "execution_count": 11,
   "id": "38f6f0e2",
   "metadata": {},
   "outputs": [
    {
     "data": {
      "text/plain": [
       "0    28\n",
       "1    20\n",
       "Name: 광고 분류1, dtype: int64"
      ]
     },
     "execution_count": 11,
     "metadata": {},
     "output_type": "execute_result"
    }
   ],
   "source": [
    "gr2[[\"광고 분류1\",\"광고 분류2\"]][\"광고 분류1\"].value_counts()"
   ]
  },
  {
   "cell_type": "code",
   "execution_count": 12,
   "id": "ab989151",
   "metadata": {},
   "outputs": [],
   "source": [
    "# 중복된 데이터 index 정보를 B로 저장\n",
    "B = set(list(gr1[gr1[\"url\"] >1][\"index\"]))"
   ]
  },
  {
   "cell_type": "code",
   "execution_count": 13,
   "id": "a2632657",
   "metadata": {},
   "outputs": [],
   "source": [
    "# 전체 index에 대해서 정보를 A로 저장\n",
    "A = set(df2[\"url\"].unique())"
   ]
  },
  {
   "cell_type": "code",
   "execution_count": 14,
   "id": "78733aaa",
   "metadata": {},
   "outputs": [],
   "source": [
    "# 차집합으로 유니크한 인덱스 번호 추출\n",
    "A = A - B"
   ]
  },
  {
   "cell_type": "code",
   "execution_count": 15,
   "id": "0667f42f",
   "metadata": {},
   "outputs": [
    {
     "name": "stderr",
     "output_type": "stream",
     "text": [
      "C:\\Users\\User\\AppData\\Local\\Temp\\ipykernel_1664\\2225915705.py:2: FutureWarning: Passing a set as an indexer is deprecated and will raise in a future version. Use a list instead.\n",
      "  df2 = df2.set_index(\"url\").loc[A]\n"
     ]
    }
   ],
   "source": [
    "# 중복되지 않은 정보만 추출\n",
    "df2 = df2.set_index(\"url\").loc[A]"
   ]
  },
  {
   "cell_type": "code",
   "execution_count": 16,
   "id": "bca6c8b0",
   "metadata": {},
   "outputs": [],
   "source": [
    "df2 = df2.reset_index()"
   ]
  },
  {
   "cell_type": "markdown",
   "id": "b4555572",
   "metadata": {},
   "source": [
    "# 3. Feature 추출"
   ]
  },
  {
   "cell_type": "markdown",
   "id": "e94e43b4",
   "metadata": {},
   "source": [
    "1. Context 데이터 뽑기"
   ]
  },
  {
   "cell_type": "code",
   "execution_count": 17,
   "id": "3fc2842a",
   "metadata": {},
   "outputs": [
    {
     "data": {
      "text/plain": [
       "0    1416\n",
       "2     346\n",
       "1     141\n",
       "Name: 광고 분류2, dtype: int64"
      ]
     },
     "execution_count": 17,
     "metadata": {},
     "output_type": "execute_result"
    }
   ],
   "source": [
    "df2[df2[\"new_content\"].str.contains('제공|대여|무상|지원|업체|원고료|소정료|취재비|제품|서비스|체험단|제작비|제작|운고료|삭성|제험단|제삭|체삭|협찬|부터|밥아|받아|선정|선점|제금|반아|세작|협진|받이')][\"광고 분류2\"].value_counts() "
   ]
  },
  {
   "cell_type": "code",
   "execution_count": 18,
   "id": "5890fb84",
   "metadata": {},
   "outputs": [
    {
     "data": {
      "text/plain": [
       "2    78\n",
       "0    16\n",
       "1     2\n",
       "Name: 광고 분류2, dtype: int64"
      ]
     },
     "execution_count": 18,
     "metadata": {},
     "output_type": "execute_result"
    }
   ],
   "source": [
    "df2[df2[\"new_content\"].str.contains('원고료|체험단|제작비')][\"광고 분류2\"].value_counts()"
   ]
  },
  {
   "cell_type": "code",
   "execution_count": 28,
   "id": "d3feeb0f",
   "metadata": {},
   "outputs": [
    {
     "data": {
      "text/plain": [
       "1    79\n",
       "2     9\n",
       "Name: 광고 분류2, dtype: int64"
      ]
     },
     "execution_count": 28,
     "metadata": {},
     "output_type": "execute_result"
    }
   ],
   "source": [
    "kk = '파트너스|수수료'\n",
    "df2[df2[\"new_content\"].str.contains(kk)][\"광고 분류2\"].value_counts()"
   ]
  },
  {
   "cell_type": "code",
   "execution_count": 20,
   "id": "9ddf5e8e",
   "metadata": {},
   "outputs": [
    {
     "name": "stdout",
     "output_type": "stream",
     "text": [
      "https://blog.naver.com/PostView.naver?blogId=ali7548&logNo=222043881792\n",
      "https://blog.naver.com/PostView.naver?blogId=alswl970921&logNo=222514247016\n",
      "https://blog.naver.com/PostView.naver?blogId=amfih&logNo=222569338425\n",
      "https://blog.naver.com/PostView.naver?blogId=parkyouna8&logNo=222257194709\n",
      "https://blog.naver.com/PostView.naver?blogId=hjh100311&logNo=222651913675\n",
      "https://blog.naver.com/PostView.naver?blogId=tnqls2632&logNo=222315959450\n",
      "https://blog.naver.com/PostView.naver?blogId=jeongyonghan&logNo=222339087539\n",
      "https://blog.naver.com/PostView.naver?blogId=su0516&logNo=222514677445\n",
      "https://blog.naver.com/PostView.naver?blogId=yskaygo&logNo=222607941718\n",
      "https://blog.naver.com/PostView.naver?blogId=singry_y&logNo=222396201986\n",
      "https://blog.naver.com/PostView.naver?blogId=hoiroi&logNo=222644693491\n",
      "https://blog.naver.com/PostView.naver?blogId=snowballball&logNo=222196171943\n"
     ]
    },
    {
     "data": {
      "text/plain": [
       "63      None\n",
       "214     None\n",
       "303     None\n",
       "453     None\n",
       "512     None\n",
       "1094    None\n",
       "1502    None\n",
       "1537    None\n",
       "1617    None\n",
       "1650    None\n",
       "2317    None\n",
       "2409    None\n",
       "dtype: object"
      ]
     },
     "execution_count": 20,
     "metadata": {},
     "output_type": "execute_result"
    }
   ],
   "source": [
    "def print_url(x):\n",
    "    print(x[0])\n",
    "\n",
    "df2[(df2[\"new_content\"].str.contains(kk)) & (df2[\"광고 분류2\"] ==0)][[\"url\"]].apply(lambda x: print_url(x),axis=1)"
   ]
  },
  {
   "cell_type": "code",
   "execution_count": 26,
   "id": "0d34c6b0",
   "metadata": {},
   "outputs": [],
   "source": [
    "v_m = list(df2[(df2[\"new_content\"].str.contains(kk)) & (df2[\"광고 분류2\"] ==0)].index)"
   ]
  },
  {
   "cell_type": "code",
   "execution_count": 22,
   "id": "dc5d3e62",
   "metadata": {},
   "outputs": [],
   "source": [
    "for k in v_m:\n",
    "    df2.loc[k,\"광고 분류2\"] = 1\n",
    "    df2.loc[k,\"광고 분류1\"] = 1"
   ]
  },
  {
   "cell_type": "code",
   "execution_count": 29,
   "id": "91ae217d",
   "metadata": {},
   "outputs": [
    {
     "data": {
      "text/html": [
       "<div>\n",
       "<style scoped>\n",
       "    .dataframe tbody tr th:only-of-type {\n",
       "        vertical-align: middle;\n",
       "    }\n",
       "\n",
       "    .dataframe tbody tr th {\n",
       "        vertical-align: top;\n",
       "    }\n",
       "\n",
       "    .dataframe thead th {\n",
       "        text-align: right;\n",
       "    }\n",
       "</style>\n",
       "<table border=\"1\" class=\"dataframe\">\n",
       "  <thead>\n",
       "    <tr style=\"text-align: right;\">\n",
       "      <th></th>\n",
       "      <th>url</th>\n",
       "    </tr>\n",
       "  </thead>\n",
       "  <tbody>\n",
       "  </tbody>\n",
       "</table>\n",
       "</div>"
      ],
      "text/plain": [
       "Empty DataFrame\n",
       "Columns: [url]\n",
       "Index: []"
      ]
     },
     "execution_count": 29,
     "metadata": {},
     "output_type": "execute_result"
    }
   ],
   "source": [
    "df2[(df2[\"new_content\"].str.contains(kk)) & (df2[\"광고 분류2\"] ==0)][[\"url\"]].apply(lambda x: print_url(x),axis=1)"
   ]
  },
  {
   "cell_type": "code",
   "execution_count": 32,
   "id": "6c32374f",
   "metadata": {},
   "outputs": [
    {
     "data": {
      "text/plain": [
       "0    470\n",
       "2    170\n",
       "1     39\n",
       "Name: 광고 분류2, dtype: int64"
      ]
     },
     "execution_count": 32,
     "metadata": {},
     "output_type": "execute_result"
    }
   ],
   "source": [
    "# kk = '없는'\n",
    "# df2[df2[\"new_content\"].str.contains(kk)][\"광고 분류2\"].value_counts()"
   ]
  },
  {
   "cell_type": "code",
   "execution_count": 34,
   "id": "2dbf865d",
   "metadata": {},
   "outputs": [],
   "source": [
    "df2.loc[1381,\"광고 분류2\"] = 2\n",
    "df2.loc[1381,\"광고 분류1\"] = 1"
   ]
  },
  {
   "cell_type": "code",
   "execution_count": 35,
   "id": "ebb0bb53",
   "metadata": {},
   "outputs": [],
   "source": [
    "df2.loc[2426,\"광고 분류2\"] = 2\n",
    "df2.loc[2426,\"광고 분류1\"] = 1"
   ]
  },
  {
   "cell_type": "code",
   "execution_count": 36,
   "id": "4a06b5eb",
   "metadata": {},
   "outputs": [],
   "source": [
    "df2.loc[1286,\"광고 분류2\"] = 1\n",
    "df2.loc[1286,\"광고 분류1\"] = 1"
   ]
  },
  {
   "cell_type": "code",
   "execution_count": 87,
   "id": "0f4d4b05",
   "metadata": {},
   "outputs": [],
   "source": [
    "df2.loc[df2['index'] == 121, \"광고 분류2\"] =2\n",
    "df2.loc[df2['index'] == 121, \"광고 분류1\"] =1\n",
    "\n",
    "df2.loc[df2['index'] == 825, \"광고 분류2\"] =2\n",
    "df2.loc[df2['index'] == 825, \"광고 분류1\"] =1\n",
    "\n",
    "\n",
    "df2.loc[df2['index'] == 2287, \"광고 분류2\"] =2\n",
    "df2.loc[df2['index'] == 2287, \"광고 분류1\"] =1\n",
    "\n",
    "df2.loc[df2['index'] == 2221, \"광고 분류2\"] =1\n",
    "df2.loc[df2['index'] == 2221, \"광고 분류1\"] =1\n",
    "\n",
    "df2.loc[df2['index'] == 1057, \"광고 분류2\"] =0\n",
    "df2.loc[df2['index'] == 1057, \"광고 분류1\"] =0\n",
    "\n",
    "df2.loc[df2['index'] == 2523, \"광고 분류2\"] =0\n",
    "df2.loc[df2['index'] == 2523, \"광고 분류1\"] =0"
   ]
  },
  {
   "cell_type": "markdown",
   "id": "b8e5c70c",
   "metadata": {},
   "source": [
    "---"
   ]
  },
  {
   "cell_type": "code",
   "execution_count": 41,
   "id": "35a47ede",
   "metadata": {},
   "outputs": [],
   "source": [
    "df2.columns = ['url', 'index', 'title', 'post_date', '검색어', '브랜드 명', 'content_cnt',\n",
    "       'content_line', 'quote', 'quote_cnt', 'first_img', 'last_img',\n",
    "       'img_cnt', '솔직 빈도 수', '비교 빈도 수', 'ㅋ 빈도 수', 'ㅋㅋ 빈도 수', 'ㅋㅋㅋ 빈도 수',\n",
    "       'ㅋㅋㅋㅋ 빈도 수', '... 빈도 수', '.... 빈도 수', 'ㅜ 빈도 수', 'ㅜㅜ 빈도 수', 'ㅜㅜㅜ 빈도 수',\n",
    "       'ㅜㅜㅜㅜ 빈도 수', 'ㅠ 빈도 수', 'ㅠㅠ 빈도 수', 'ㅠㅠㅠ 빈도 수', 'ㅠㅠㅠㅠ 빈도 수', '장점 빈도 수',\n",
    "       '단점 빈도 수', '비속어 빈도 수', '허락 키워드', '내돈내산 키워드', '리얼후기 키워드', '협찬 키워드',\n",
    "       '체험단 키워드', 'coupa.ng 키워드', '< 키워드', '> 키워드', '♡ 키워드', '♥ 키워드',\n",
    "       '구매후기 키워드', '한달 키워드', '두달 키워드', '세달 키워드', 'WEB_광고 분류1', 'WEB_광고 분류2',\n",
    "       '광고 분류1', '광고 분류2', 'jsonFile', 'context_img', 'content',\n",
    "       'coupan.ng 키워드']"
   ]
  },
  {
   "cell_type": "code",
   "execution_count": 42,
   "id": "97d32bdc",
   "metadata": {},
   "outputs": [],
   "source": [
    "df2 = df2[['url', 'index', 'title','content', 'post_date', '검색어', '브랜드 명', 'content_cnt',\n",
    "       'content_line', 'quote', 'quote_cnt', 'first_img', 'last_img',\n",
    "       'img_cnt', '솔직 빈도 수', '비교 빈도 수', 'ㅋ 빈도 수', 'ㅋㅋ 빈도 수', 'ㅋㅋㅋ 빈도 수',\n",
    "       'ㅋㅋㅋㅋ 빈도 수', '... 빈도 수', '.... 빈도 수', 'ㅜ 빈도 수', 'ㅜㅜ 빈도 수', 'ㅜㅜㅜ 빈도 수',\n",
    "       'ㅜㅜㅜㅜ 빈도 수', 'ㅠ 빈도 수', 'ㅠㅠ 빈도 수', 'ㅠㅠㅠ 빈도 수', 'ㅠㅠㅠㅠ 빈도 수', '장점 빈도 수',\n",
    "       '단점 빈도 수', '비속어 빈도 수', '허락 키워드', '내돈내산 키워드', '리얼후기 키워드', '협찬 키워드',\n",
    "       '체험단 키워드', 'coupa.ng 키워드', '< 키워드', '> 키워드', '♡ 키워드', '♥ 키워드',\n",
    "       '구매후기 키워드', '한달 키워드', '두달 키워드', '세달 키워드', 'WEB_광고 분류1', 'WEB_광고 분류2',\n",
    "       '광고 분류1', '광고 분류2', 'jsonFile', 'context_img','coupan.ng 키워드']]"
   ]
  },
  {
   "cell_type": "code",
   "execution_count": 43,
   "id": "de9df2c7",
   "metadata": {},
   "outputs": [],
   "source": [
    "df2.to_csv(\"Total_Data_3(1).csv\",index=False,encoding=\"utf-8-sig\")"
   ]
  },
  {
   "cell_type": "markdown",
   "id": "4438cf7f",
   "metadata": {},
   "source": [
    "1. content에서 feature 생성하기\n"
   ]
  },
  {
   "cell_type": "code",
   "execution_count": 39,
   "id": "b6cb037d",
   "metadata": {},
   "outputs": [
    {
     "data": {
      "text/plain": [
       "(2470, 54)"
      ]
     },
     "execution_count": 39,
     "metadata": {},
     "output_type": "execute_result"
    }
   ],
   "source": [
    "df2.shape"
   ]
  },
  {
   "cell_type": "code",
   "execution_count": 44,
   "id": "51ff5006",
   "metadata": {},
   "outputs": [],
   "source": [
    "origin = df2.copy()"
   ]
  },
  {
   "cell_type": "code",
   "execution_count": 45,
   "id": "ba69ca8f",
   "metadata": {},
   "outputs": [
    {
     "name": "stderr",
     "output_type": "stream",
     "text": [
      "C:\\Users\\User\\AppData\\Local\\Temp\\ipykernel_1664\\885172291.py:3: SettingWithCopyWarning: \n",
      "A value is trying to be set on a copy of a slice from a DataFrame.\n",
      "Try using .loc[row_indexer,col_indexer] = value instead\n",
      "\n",
      "See the caveats in the documentation: https://pandas.pydata.org/pandas-docs/stable/user_guide/indexing.html#returning-a-view-versus-a-copy\n",
      "  df2[\"쿠팡키워드\"] = 0\n"
     ]
    }
   ],
   "source": [
    "#  content에서 쿠팡 파트너스 특징 추출\n",
    "kk = '파트너스|수수료'\n",
    "df2[\"쿠팡키워드\"] = 0\n",
    "df2.loc[df2[\"content\"].str.contains(kk),\"쿠팡키워드\"]=1"
   ]
  },
  {
   "cell_type": "code",
   "execution_count": 46,
   "id": "f982b6a6",
   "metadata": {},
   "outputs": [
    {
     "name": "stderr",
     "output_type": "stream",
     "text": [
      "C:\\Users\\User\\AppData\\Local\\Temp\\ipykernel_1664\\3844507292.py:3: SettingWithCopyWarning: \n",
      "A value is trying to be set on a copy of a slice from a DataFrame.\n",
      "Try using .loc[row_indexer,col_indexer] = value instead\n",
      "\n",
      "See the caveats in the documentation: https://pandas.pydata.org/pandas-docs/stable/user_guide/indexing.html#returning-a-view-versus-a-copy\n",
      "  df2[\"광고키워드\"] = 0\n"
     ]
    }
   ],
   "source": [
    "#  context에서 일반적 광고 특징 추출\n",
    "kk = '원고료|체험단|제작비'\n",
    "df2[\"광고키워드\"] = 0\n",
    "\n",
    "df2.loc[df2[\"content\"].str.contains(kk),\"광고키워드\"]=1"
   ]
  },
  {
   "cell_type": "code",
   "execution_count": 47,
   "id": "5f45b378",
   "metadata": {},
   "outputs": [
    {
     "name": "stderr",
     "output_type": "stream",
     "text": [
      "C:\\Users\\User\\AppData\\Local\\Temp\\ipykernel_1664\\2803794097.py:3: SettingWithCopyWarning: \n",
      "A value is trying to be set on a copy of a slice from a DataFrame.\n",
      "Try using .loc[row_indexer,col_indexer] = value instead\n",
      "\n",
      "See the caveats in the documentation: https://pandas.pydata.org/pandas-docs/stable/user_guide/indexing.html#returning-a-view-versus-a-copy\n",
      "  df2[\"솔직키워드1\"] = 0\n"
     ]
    }
   ],
   "source": [
    "# 광고성 글 제외 feature\n",
    "kk = '대가 없|없는|제외|빼고|양심'\n",
    "df2[\"솔직키워드1\"] = 0\n",
    "\n",
    "df2.loc[df2[\"content\"].str.contains(kk),\"솔직키워드1\"]=1"
   ]
  },
  {
   "cell_type": "code",
   "execution_count": 48,
   "id": "6126fdd8",
   "metadata": {},
   "outputs": [
    {
     "name": "stderr",
     "output_type": "stream",
     "text": [
      "C:\\Users\\User\\AppData\\Local\\Temp\\ipykernel_1664\\3313139176.py:2: SettingWithCopyWarning: \n",
      "A value is trying to be set on a copy of a slice from a DataFrame.\n",
      "Try using .loc[row_indexer,col_indexer] = value instead\n",
      "\n",
      "See the caveats in the documentation: https://pandas.pydata.org/pandas-docs/stable/user_guide/indexing.html#returning-a-view-versus-a-copy\n",
      "  df2[\"솔직키워드2\"] = 0\n"
     ]
    }
   ],
   "source": [
    "kk = '솔직'\n",
    "df2[\"솔직키워드2\"] = 0\n",
    "\n",
    "df2.loc[df2[\"content\"].str.contains(kk),\"솔직키워드2\"]=1"
   ]
  },
  {
   "cell_type": "markdown",
   "id": "ba3980c0",
   "metadata": {},
   "source": [
    "---"
   ]
  },
  {
   "cell_type": "markdown",
   "id": "553eb10f",
   "metadata": {},
   "source": [
    "2. 이미지에서 OCR 결과 전처리"
   ]
  },
  {
   "cell_type": "code",
   "execution_count": 49,
   "id": "b99ddc42",
   "metadata": {},
   "outputs": [
    {
     "name": "stderr",
     "output_type": "stream",
     "text": [
      "C:\\Users\\User\\AppData\\Local\\Temp\\ipykernel_1664\\1788420777.py:1: SettingWithCopyWarning: \n",
      "A value is trying to be set on a copy of a slice from a DataFrame\n",
      "\n",
      "See the caveats in the documentation: https://pandas.pydata.org/pandas-docs/stable/user_guide/indexing.html#returning-a-view-versus-a-copy\n",
      "  df2[\"context_img\"].fillna(\"\",inplace=True)\n"
     ]
    }
   ],
   "source": [
    "df2[\"context_img\"].fillna(\"\",inplace=True)"
   ]
  },
  {
   "cell_type": "markdown",
   "id": "a60704d7",
   "metadata": {},
   "source": [
    "* 협찬 등"
   ]
  },
  {
   "cell_type": "code",
   "execution_count": 50,
   "id": "df018b91",
   "metadata": {},
   "outputs": [],
   "source": [
    "kk1 = '체험|대여|무상|지원|업체|원고료|소정|제작'\n",
    "kk2 = '체험|대여|무상|지원|업체|원고료|소정|협찬|원고|서비스|제작|작성'\n",
    "kk3 = '제공|대여|무상|지원|업체|원고료|소정료|취재비|제품|서비스|체험단|제작비|제작|운고료|삭성|제험단|제삭|체삭|협찬|부터|밥아|받아|선정|선점|제금|반아|세작|협진|받이'"
   ]
  },
  {
   "cell_type": "code",
   "execution_count": 51,
   "id": "bf0c48a2",
   "metadata": {},
   "outputs": [
    {
     "name": "stderr",
     "output_type": "stream",
     "text": [
      "C:\\Users\\User\\AppData\\Local\\Temp\\ipykernel_1664\\1182314735.py:1: SettingWithCopyWarning: \n",
      "A value is trying to be set on a copy of a slice from a DataFrame.\n",
      "Try using .loc[row_indexer,col_indexer] = value instead\n",
      "\n",
      "See the caveats in the documentation: https://pandas.pydata.org/pandas-docs/stable/user_guide/indexing.html#returning-a-view-versus-a-copy\n",
      "  df2[\"이미지광고키워드1\"] = 0\n",
      "C:\\Users\\User\\AppData\\Local\\Temp\\ipykernel_1664\\1182314735.py:4: SettingWithCopyWarning: \n",
      "A value is trying to be set on a copy of a slice from a DataFrame.\n",
      "Try using .loc[row_indexer,col_indexer] = value instead\n",
      "\n",
      "See the caveats in the documentation: https://pandas.pydata.org/pandas-docs/stable/user_guide/indexing.html#returning-a-view-versus-a-copy\n",
      "  df2[\"이미지광고키워드2\"] = 0\n",
      "C:\\Users\\User\\AppData\\Local\\Temp\\ipykernel_1664\\1182314735.py:7: SettingWithCopyWarning: \n",
      "A value is trying to be set on a copy of a slice from a DataFrame.\n",
      "Try using .loc[row_indexer,col_indexer] = value instead\n",
      "\n",
      "See the caveats in the documentation: https://pandas.pydata.org/pandas-docs/stable/user_guide/indexing.html#returning-a-view-versus-a-copy\n",
      "  df2[\"이미지광고키워드3\"] = 0\n"
     ]
    }
   ],
   "source": [
    "df2[\"이미지광고키워드1\"] = 0\n",
    "df2.loc[df2[\"context_img\"].str.contains(kk1),\"이미지광고키워드1\"]=1\n",
    "\n",
    "df2[\"이미지광고키워드2\"] = 0\n",
    "df2.loc[df2[\"context_img\"].str.contains(kk2),\"이미지광고키워드2\"]=1\n",
    "\n",
    "df2[\"이미지광고키워드3\"] = 0\n",
    "df2.loc[df2[\"context_img\"].str.contains(kk3),\"이미지광고키워드3\"]=1"
   ]
  },
  {
   "cell_type": "markdown",
   "id": "49b79a99",
   "metadata": {},
   "source": [
    "* 쿠팡 파트너스"
   ]
  },
  {
   "cell_type": "code",
   "execution_count": 52,
   "id": "894a2407",
   "metadata": {},
   "outputs": [
    {
     "name": "stderr",
     "output_type": "stream",
     "text": [
      "C:\\Users\\User\\AppData\\Local\\Temp\\ipykernel_1664\\1585849598.py:3: SettingWithCopyWarning: \n",
      "A value is trying to be set on a copy of a slice from a DataFrame.\n",
      "Try using .loc[row_indexer,col_indexer] = value instead\n",
      "\n",
      "See the caveats in the documentation: https://pandas.pydata.org/pandas-docs/stable/user_guide/indexing.html#returning-a-view-versus-a-copy\n",
      "  df2[\"이미지쿠팡키워드1\"] = 0\n"
     ]
    }
   ],
   "source": [
    "kk = '파트너스|쿠팡|일정액|수수료|수수|수익|쿠광|일원|일워'\n",
    "\n",
    "df2[\"이미지쿠팡키워드1\"] = 0\n",
    "df2.loc[df2[\"context_img\"].str.contains(kk),\"이미지쿠팡키워드1\"]=1"
   ]
  },
  {
   "cell_type": "markdown",
   "id": "96aa614d",
   "metadata": {},
   "source": [
    "* 광고성 글 제외 feature"
   ]
  },
  {
   "cell_type": "code",
   "execution_count": 53,
   "id": "c0d4c75f",
   "metadata": {},
   "outputs": [
    {
     "name": "stderr",
     "output_type": "stream",
     "text": [
      "C:\\Users\\User\\AppData\\Local\\Temp\\ipykernel_1664\\2148595445.py:3: SettingWithCopyWarning: \n",
      "A value is trying to be set on a copy of a slice from a DataFrame.\n",
      "Try using .loc[row_indexer,col_indexer] = value instead\n",
      "\n",
      "See the caveats in the documentation: https://pandas.pydata.org/pandas-docs/stable/user_guide/indexing.html#returning-a-view-versus-a-copy\n",
      "  df2[\"이미지순수키워드1\"] = 0\n"
     ]
    }
   ],
   "source": [
    "kk = '내돈내산|사비|직접|구매|일정액'\n",
    "\n",
    "df2[\"이미지순수키워드1\"] = 0\n",
    "df2.loc[df2[\"context_img\"].str.contains(kk),\"이미지순수키워드1\"]=1"
   ]
  },
  {
   "cell_type": "code",
   "execution_count": 54,
   "id": "ae38dc16",
   "metadata": {},
   "outputs": [
    {
     "name": "stderr",
     "output_type": "stream",
     "text": [
      "C:\\Users\\User\\AppData\\Local\\Temp\\ipykernel_1664\\2310467518.py:1: SettingWithCopyWarning: \n",
      "A value is trying to be set on a copy of a slice from a DataFrame.\n",
      "Try using .loc[row_indexer,col_indexer] = value instead\n",
      "\n",
      "See the caveats in the documentation: https://pandas.pydata.org/pandas-docs/stable/user_guide/indexing.html#returning-a-view-versus-a-copy\n",
      "  df2[\"이미지없음\"] = 0\n"
     ]
    }
   ],
   "source": [
    "df2[\"이미지없음\"] = 0\n",
    "df2.loc[df2[\"last_img\"].isnull(), \"이미지없음\"] = 1"
   ]
  },
  {
   "cell_type": "code",
   "execution_count": 55,
   "id": "f93af651",
   "metadata": {},
   "outputs": [
    {
     "name": "stderr",
     "output_type": "stream",
     "text": [
      "C:\\Users\\User\\AppData\\Local\\Temp\\ipykernel_1664\\2923164397.py:1: SettingWithCopyWarning: \n",
      "A value is trying to be set on a copy of a slice from a DataFrame.\n",
      "Try using .loc[row_indexer,col_indexer] = value instead\n",
      "\n",
      "See the caveats in the documentation: https://pandas.pydata.org/pandas-docs/stable/user_guide/indexing.html#returning-a-view-versus-a-copy\n",
      "  df2[\"이미지글없음\"] = 0\n"
     ]
    }
   ],
   "source": [
    "df2[\"이미지글없음\"] = 0\n",
    "df2.loc[df2['context_img']==\"\", \"이미지글없음\"]= 1"
   ]
  },
  {
   "cell_type": "markdown",
   "id": "c4ca8e37",
   "metadata": {},
   "source": [
    "# 4. 데이터 저장"
   ]
  },
  {
   "cell_type": "code",
   "execution_count": 91,
   "id": "9395cc6c",
   "metadata": {},
   "outputs": [],
   "source": [
    "df2.to_csv(\"Total_Data_4(1).csv\",index=False,encoding=\"utf-8-sig\")"
   ]
  }
 ],
 "metadata": {
  "kernelspec": {
   "display_name": "Python 3 (ipykernel)",
   "language": "python",
   "name": "python3"
  },
  "language_info": {
   "codemirror_mode": {
    "name": "ipython",
    "version": 3
   },
   "file_extension": ".py",
   "mimetype": "text/x-python",
   "name": "python",
   "nbconvert_exporter": "python",
   "pygments_lexer": "ipython3",
   "version": "3.8.12"
  },
  "toc": {
   "base_numbering": 1,
   "nav_menu": {},
   "number_sections": true,
   "sideBar": true,
   "skip_h1_title": false,
   "title_cell": "Table of Contents",
   "title_sidebar": "Contents",
   "toc_cell": false,
   "toc_position": {},
   "toc_section_display": true,
   "toc_window_display": false
  }
 },
 "nbformat": 4,
 "nbformat_minor": 5
}
