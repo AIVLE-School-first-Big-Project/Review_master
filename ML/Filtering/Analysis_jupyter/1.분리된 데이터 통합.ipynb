{
 "cells": [
  {
   "cell_type": "markdown",
   "id": "2cd5d0ad",
   "metadata": {},
   "source": [
    "# 1. 라이브러리 임포트"
   ]
  },
  {
   "cell_type": "code",
   "execution_count": 3,
   "id": "26b015bb",
   "metadata": {},
   "outputs": [],
   "source": [
    "import pandas as pd\n",
    "import numpy as np\n",
    "import matplotlib.pyplot as plt\n",
    "import os,glob"
   ]
  },
  {
   "cell_type": "markdown",
   "id": "b5f04c0f",
   "metadata": {},
   "source": [
    "# 2. 파일 로드"
   ]
  },
  {
   "cell_type": "code",
   "execution_count": 11,
   "id": "69cddc42",
   "metadata": {},
   "outputs": [
    {
     "data": {
      "text/plain": [
       "['./data\\\\김종원', './data\\\\오수현', './data\\\\장성우']"
      ]
     },
     "execution_count": 11,
     "metadata": {},
     "output_type": "execute_result"
    }
   ],
   "source": [
    "folder_Names = glob.glob(\"./data/*\")\n",
    "folder_Names"
   ]
  },
  {
   "cell_type": "markdown",
   "id": "edce5436",
   "metadata": {},
   "source": [
    "## 2.1 종원 데이터"
   ]
  },
  {
   "cell_type": "code",
   "execution_count": 12,
   "id": "426648a3",
   "metadata": {},
   "outputs": [],
   "source": [
    "first_files = glob.glob(folder_Names[0]+\"/*.xlsx\")"
   ]
  },
  {
   "cell_type": "code",
   "execution_count": 13,
   "id": "fc499c61",
   "metadata": {},
   "outputs": [],
   "source": [
    "first_files = first_files[1:-1]"
   ]
  },
  {
   "cell_type": "code",
   "execution_count": 18,
   "id": "c8564b1c",
   "metadata": {},
   "outputs": [],
   "source": [
    "total_df_jong = pd.DataFrame()\n",
    "\n",
    "for i in range(len(first_files)):\n",
    "    df = pd.read_excel(first_files[i])\n",
    "    total_df_jong = pd.concat([total_df_jong,df],axis=0)"
   ]
  },
  {
   "cell_type": "code",
   "execution_count": 19,
   "id": "4f267467",
   "metadata": {},
   "outputs": [
    {
     "data": {
      "text/plain": [
       "Index(['url', 'title', '광고 분류1', '광고 분류2', 'post_date', '검색어', '브랜드 명',\n",
       "       'content', 'content_cnt', 'content_line', 'quote', 'quote_cnt',\n",
       "       'first_img', 'last_img', 'img_cnt', '솔직 빈도 수', '비교 빈도 수', 'ㅋ 빈도 수',\n",
       "       'ㅋㅋ 빈도 수', 'ㅋㅋㅋ 빈도 수', 'ㅋㅋㅋㅋ 빈도 수', '... 빈도 수', '.... 빈도 수', 'ㅜ 빈도 수',\n",
       "       'ㅜㅜ 빈도 수', 'ㅜㅜㅜ 빈도 수', 'ㅜㅜㅜㅜ 빈도 수', 'ㅠ 빈도 수', 'ㅠㅠ 빈도 수', 'ㅠㅠㅠ 빈도 수',\n",
       "       'ㅠㅠㅠㅠ 빈도 수', '장점 빈도 수', '단점 빈도 수', '비속어 빈도 수', '허락 키워드', '내돈내산 키워드',\n",
       "       '리얼후기 키워드', '협찬 키워드', '체험단 키워드', 'coupa.ng 키워드', '< 키워드', '> 키워드',\n",
       "       '♡ 키워드', '♥ 키워드', '구매후기 키워드', '한달 키워드', '두달 키워드', '세달 키워드', '광고 분류1.1',\n",
       "       '광고 분류2.1'],\n",
       "      dtype='object')"
      ]
     },
     "execution_count": 19,
     "metadata": {},
     "output_type": "execute_result"
    }
   ],
   "source": [
    "total_df_jong.columns"
   ]
  },
  {
   "cell_type": "markdown",
   "id": "5942ff3b",
   "metadata": {},
   "source": [
    "### 2.1.1 컬럼 라벨 통합 과정"
   ]
  },
  {
   "cell_type": "code",
   "execution_count": 101,
   "id": "d15dd7ac",
   "metadata": {},
   "outputs": [],
   "source": [
    "total_df_jong.columns = ['url', 'title', '광고 분류1', '광고 분류2', 'post_date', '검색어', '브랜드 명',\n",
    "       'content', 'content_cnt', 'content_line', 'quote', 'quote_cnt',\n",
    "       'first_img', 'last_img', 'img_cnt', '솔직 빈도 수', '비교 빈도 수', 'ㅋ 빈도 수',\n",
    "       'ㅋㅋ 빈도 수', 'ㅋㅋㅋ 빈도 수', 'ㅋㅋㅋㅋ 빈도 수', '... 빈도 수', '.... 빈도 수', 'ㅜ 빈도 수',\n",
    "       'ㅜㅜ 빈도 수', 'ㅜㅜㅜ 빈도 수', 'ㅜㅜㅜㅜ 빈도 수', 'ㅠ 빈도 수', 'ㅠㅠ 빈도 수', 'ㅠㅠㅠ 빈도 수',\n",
    "       'ㅠㅠㅠㅠ 빈도 수', '장점 빈도 수', '단점 빈도 수', '비속어 빈도 수', '허락 키워드', '내돈내산 키워드',\n",
    "       '리얼후기 키워드', '협찬 키워드', '체험단 키워드', 'coupa.ng 키워드', '< 키워드', '> 키워드',\n",
    "       '♡ 키워드', '♥ 키워드', '구매후기 키워드', '한달 키워드', '두달 키워드', '세달 키워드', 'WEB_광고 분류1',\n",
    "       'WEB_광고 분류2']"
   ]
  },
  {
   "cell_type": "markdown",
   "id": "f721ac14",
   "metadata": {},
   "source": [
    "### 2.1.2 컬럼 순서 정렬"
   ]
  },
  {
   "cell_type": "code",
   "execution_count": 103,
   "id": "21bd0de1",
   "metadata": {},
   "outputs": [],
   "source": [
    "total_df_jong = total_df_jong[['url', 'title', 'post_date', '검색어', '브랜드 명',\n",
    "       'content', 'content_cnt', 'content_line', 'quote', 'quote_cnt',\n",
    "       'first_img', 'last_img', 'img_cnt', '솔직 빈도 수', '비교 빈도 수', 'ㅋ 빈도 수',\n",
    "       'ㅋㅋ 빈도 수', 'ㅋㅋㅋ 빈도 수', 'ㅋㅋㅋㅋ 빈도 수', '... 빈도 수', '.... 빈도 수', 'ㅜ 빈도 수',\n",
    "       'ㅜㅜ 빈도 수', 'ㅜㅜㅜ 빈도 수', 'ㅜㅜㅜㅜ 빈도 수', 'ㅠ 빈도 수', 'ㅠㅠ 빈도 수', 'ㅠㅠㅠ 빈도 수',\n",
    "       'ㅠㅠㅠㅠ 빈도 수', '장점 빈도 수', '단점 빈도 수', '비속어 빈도 수', '허락 키워드', '내돈내산 키워드',\n",
    "       '리얼후기 키워드', '협찬 키워드', '체험단 키워드', 'coupa.ng 키워드', '< 키워드', '> 키워드',\n",
    "       '♡ 키워드', '♥ 키워드', '구매후기 키워드', '한달 키워드', '두달 키워드', '세달 키워드', 'WEB_광고 분류1',\n",
    "       'WEB_광고 분류2','광고 분류1', '광고 분류2']]"
   ]
  },
  {
   "cell_type": "markdown",
   "id": "397d8719",
   "metadata": {},
   "source": [
    "## 수현 데이터"
   ]
  },
  {
   "cell_type": "code",
   "execution_count": 68,
   "id": "9d8e3f84",
   "metadata": {},
   "outputs": [],
   "source": [
    "second_files = glob.glob(folder_Names[1]+\"/*.csv\")"
   ]
  },
  {
   "cell_type": "code",
   "execution_count": 69,
   "id": "107ebb34",
   "metadata": {},
   "outputs": [
    {
     "data": {
      "text/plain": [
       "['./data\\\\오수현\\\\SK매직_트리플케어 결과_끝.csv',\n",
       " './data\\\\오수현\\\\삼성_더프리스타일 결과_끝.csv',\n",
       " './data\\\\오수현\\\\아이뮤즈_클링봇 결과_끝.csv',\n",
       " './data\\\\오수현\\\\에어맘_에어맘 결과_끝.csv',\n",
       " './data\\\\오수현\\\\인스탁스 _SQ1 결과_끝.csv',\n",
       " './data\\\\오수현\\\\코닥_레트로3_결과_끝.csv',\n",
       " './data\\\\오수현\\\\코웨이_에어카트리지 결과_끝.csv',\n",
       " './data\\\\오수현\\\\클럭_마사지기s Duo 결과_끝.csv',\n",
       " './data\\\\오수현\\\\클럭_마사지기SE 결과_끝.csv']"
      ]
     },
     "execution_count": 69,
     "metadata": {},
     "output_type": "execute_result"
    }
   ],
   "source": [
    "second_files"
   ]
  },
  {
   "cell_type": "code",
   "execution_count": 70,
   "id": "8d554292",
   "metadata": {},
   "outputs": [],
   "source": [
    "total_df_su = pd.DataFrame()\n",
    "\n",
    "for i in range(len(second_files)):\n",
    "    if i in [1, 4, 5]:\n",
    "        df = pd.read_csv(second_files[i],encoding=\"cp949\")\n",
    "    else:\n",
    "        df = pd.read_csv(second_files[i])\n",
    "    total_df_su = pd.concat([total_df_su,df],axis=0)"
   ]
  },
  {
   "cell_type": "code",
   "execution_count": 71,
   "id": "92145a35",
   "metadata": {},
   "outputs": [
    {
     "data": {
      "text/plain": [
       "Index(['url', 'title', 'post_date', '검색어', '브랜드 명', 'content', 'content_cnt',\n",
       "       'content_line', 'quote', 'quote_cnt', 'first_img', 'last_img',\n",
       "       'img_cnt', '솔직 빈도 수', '비교 빈도 수', 'ㅋ 빈도 수', 'ㅋㅋ 빈도 수', 'ㅋㅋㅋ 빈도 수',\n",
       "       'ㅋㅋㅋㅋ 빈도 수', '... 빈도 수', '.... 빈도 수', 'ㅜ 빈도 수', 'ㅜㅜ 빈도 수', 'ㅜㅜㅜ 빈도 수',\n",
       "       'ㅜㅜㅜㅜ 빈도 수', 'ㅠ 빈도 수', 'ㅠㅠ 빈도 수', 'ㅠㅠㅠ 빈도 수', 'ㅠㅠㅠㅠ 빈도 수', '장점 빈도 수',\n",
       "       '단점 빈도 수', '비속어 빈도 수', '허락 키워드', '내돈내산 키워드', '리얼후기 키워드', '협찬 키워드',\n",
       "       '체험단 키워드', 'coupa.ng 키워드', '< 키워드', '> 키워드', '♡ 키워드', '♥ 키워드',\n",
       "       '구매후기 키워드', '한달 키워드', '두달 키워드', '세달 키워드', '광고 분류1', '광고 분류2', '라벨링'],\n",
       "      dtype='object')"
      ]
     },
     "execution_count": 71,
     "metadata": {},
     "output_type": "execute_result"
    }
   ],
   "source": [
    "total_df_su.columns"
   ]
  },
  {
   "cell_type": "markdown",
   "id": "296857de",
   "metadata": {},
   "source": [
    "### 2.2.1 컬럼 라벨 통합 과정"
   ]
  },
  {
   "cell_type": "code",
   "execution_count": 104,
   "id": "7f9a8760",
   "metadata": {},
   "outputs": [],
   "source": [
    "total_df_su.columns = ['url', 'title', 'post_date', '검색어', '브랜드 명', 'content', 'content_cnt',\n",
    "       'content_line', 'quote', 'quote_cnt', 'first_img', 'last_img',\n",
    "       'img_cnt', '솔직 빈도 수', '비교 빈도 수', 'ㅋ 빈도 수', 'ㅋㅋ 빈도 수', 'ㅋㅋㅋ 빈도 수',\n",
    "       'ㅋㅋㅋㅋ 빈도 수', '... 빈도 수', '.... 빈도 수', 'ㅜ 빈도 수', 'ㅜㅜ 빈도 수', 'ㅜㅜㅜ 빈도 수',\n",
    "       'ㅜㅜㅜㅜ 빈도 수', 'ㅠ 빈도 수', 'ㅠㅠ 빈도 수', 'ㅠㅠㅠ 빈도 수', 'ㅠㅠㅠㅠ 빈도 수', '장점 빈도 수',\n",
    "       '단점 빈도 수', '비속어 빈도 수', '허락 키워드', '내돈내산 키워드', '리얼후기 키워드', '협찬 키워드',\n",
    "       '체험단 키워드', 'coupa.ng 키워드', '< 키워드', '> 키워드', '♡ 키워드', '♥ 키워드',\n",
    "       '구매후기 키워드', '한달 키워드', '두달 키워드', '세달 키워드', 'WEB_광고 분류1', 'WEB_광고 분류2', '광고 분류2']"
   ]
  },
  {
   "cell_type": "markdown",
   "id": "8d53e327",
   "metadata": {},
   "source": [
    "### 2.2.2 애매했던 라벨링에 대해서 전처리"
   ]
  },
  {
   "cell_type": "code",
   "execution_count": 108,
   "id": "6cc72967",
   "metadata": {},
   "outputs": [],
   "source": [
    "total_df_su[\"광고 분류2\"] = total_df_su[\"광고 분류2\"].astype(\"str\")"
   ]
  },
  {
   "cell_type": "code",
   "execution_count": 109,
   "id": "ff9068b2",
   "metadata": {},
   "outputs": [
    {
     "data": {
      "text/plain": [
       "array(['2', '0', '1', '설치후기', '제품 문제해결법', '구매과정 후기', '파우치 후기', 'A/S후기',\n",
       "       '비공개글'], dtype=object)"
      ]
     },
     "execution_count": 109,
     "metadata": {},
     "output_type": "execute_result"
    }
   ],
   "source": [
    "total_df_su[\"광고 분류2\"].unique()"
   ]
  },
  {
   "cell_type": "code",
   "execution_count": 114,
   "id": "01fd9dd8",
   "metadata": {},
   "outputs": [],
   "source": [
    "total_df_su = total_df_su[total_df_su[\"광고 분류2\"].isin([\"0\",\"1\",\"2\"])]"
   ]
  },
  {
   "cell_type": "code",
   "execution_count": 119,
   "id": "76b7e4a6",
   "metadata": {},
   "outputs": [
    {
     "name": "stderr",
     "output_type": "stream",
     "text": [
      "C:\\Users\\User\\AppData\\Local\\Temp\\ipykernel_3416\\933922454.py:1: SettingWithCopyWarning: \n",
      "A value is trying to be set on a copy of a slice from a DataFrame.\n",
      "Try using .loc[row_indexer,col_indexer] = value instead\n",
      "\n",
      "See the caveats in the documentation: https://pandas.pydata.org/pandas-docs/stable/user_guide/indexing.html#returning-a-view-versus-a-copy\n",
      "  total_df_su[\"광고 분류2\"] = total_df_su[\"광고 분류2\"].astype(int)\n"
     ]
    }
   ],
   "source": [
    "total_df_su[\"광고 분류2\"] = total_df_su[\"광고 분류2\"].astype(int)"
   ]
  },
  {
   "cell_type": "code",
   "execution_count": 123,
   "id": "83c4ad98",
   "metadata": {},
   "outputs": [
    {
     "name": "stderr",
     "output_type": "stream",
     "text": [
      "C:\\Users\\User\\AppData\\Local\\Temp\\ipykernel_3416\\261933425.py:1: SettingWithCopyWarning: \n",
      "A value is trying to be set on a copy of a slice from a DataFrame.\n",
      "Try using .loc[row_indexer,col_indexer] = value instead\n",
      "\n",
      "See the caveats in the documentation: https://pandas.pydata.org/pandas-docs/stable/user_guide/indexing.html#returning-a-view-versus-a-copy\n",
      "  total_df_su[\"광고 분류1\"] = 0\n"
     ]
    }
   ],
   "source": [
    "total_df_su[\"광고 분류1\"] = 0\n",
    "total_df_su.loc[total_df_su[\"광고 분류2\"]>=1,\"광고 분류1\"] = 1"
   ]
  },
  {
   "cell_type": "markdown",
   "id": "9e33e1a8",
   "metadata": {},
   "source": [
    "### 2.2.3 컬럼 순서 정렬"
   ]
  },
  {
   "cell_type": "code",
   "execution_count": 125,
   "id": "068bdb2f",
   "metadata": {},
   "outputs": [],
   "source": [
    "total_df_su = total_df_su[['url', 'title', 'post_date', '검색어', '브랜드 명', 'content', 'content_cnt',\n",
    "       'content_line', 'quote', 'quote_cnt', 'first_img', 'last_img',\n",
    "       'img_cnt', '솔직 빈도 수', '비교 빈도 수', 'ㅋ 빈도 수', 'ㅋㅋ 빈도 수', 'ㅋㅋㅋ 빈도 수',\n",
    "       'ㅋㅋㅋㅋ 빈도 수', '... 빈도 수', '.... 빈도 수', 'ㅜ 빈도 수', 'ㅜㅜ 빈도 수', 'ㅜㅜㅜ 빈도 수',\n",
    "       'ㅜㅜㅜㅜ 빈도 수', 'ㅠ 빈도 수', 'ㅠㅠ 빈도 수', 'ㅠㅠㅠ 빈도 수', 'ㅠㅠㅠㅠ 빈도 수', '장점 빈도 수',\n",
    "       '단점 빈도 수', '비속어 빈도 수', '허락 키워드', '내돈내산 키워드', '리얼후기 키워드', '협찬 키워드',\n",
    "       '체험단 키워드', 'coupa.ng 키워드', '< 키워드', '> 키워드', '♡ 키워드', '♥ 키워드',\n",
    "       '구매후기 키워드', '한달 키워드', '두달 키워드', '세달 키워드', 'WEB_광고 분류1', 'WEB_광고 분류2', '광고 분류1', '광고 분류2']]"
   ]
  },
  {
   "cell_type": "markdown",
   "id": "02f5be2c",
   "metadata": {},
   "source": [
    "## 성우 데이터"
   ]
  },
  {
   "cell_type": "code",
   "execution_count": 134,
   "id": "3eea7dd3",
   "metadata": {},
   "outputs": [],
   "source": [
    "thrid_files = glob.glob(folder_Names[2]+\"/*.csv\")"
   ]
  },
  {
   "cell_type": "code",
   "execution_count": 135,
   "id": "abde867a",
   "metadata": {},
   "outputs": [],
   "source": [
    "total_df_woo = pd.DataFrame()\n",
    "\n",
    "for i in range(len(thrid_files)):\n",
    "    if i in [0,4]:\n",
    "        df = pd.read_csv(thrid_files[i],encoding=\"cp949\")\n",
    "    else:\n",
    "        df = pd.read_csv(thrid_files[i])\n",
    "    total_df_woo = pd.concat([total_df_woo,df],axis=0)\n",
    "#     print(i, total_df_woo.columns)"
   ]
  },
  {
   "cell_type": "markdown",
   "id": "21d95554",
   "metadata": {},
   "source": [
    "### 2.3.1 컬럼 라벨 통합 과정"
   ]
  },
  {
   "cell_type": "code",
   "execution_count": 141,
   "id": "999ef475",
   "metadata": {},
   "outputs": [],
   "source": [
    "total_df_woo.columns =['광고 분류2', 'url', 'title', 'post_date', '검색어', '브랜드 명', 'content',\n",
    "       'content_cnt', 'content_line', 'quote', 'quote_cnt', 'first_img',\n",
    "       'last_img', 'img_cnt', '솔직 빈도 수', '비교 빈도 수', 'ㅋ 빈도 수', 'ㅋㅋ 빈도 수',\n",
    "       'ㅋㅋㅋ 빈도 수', 'ㅋㅋㅋㅋ 빈도 수', '... 빈도 수', '.... 빈도 수', 'ㅜ 빈도 수', 'ㅜㅜ 빈도 수',\n",
    "       'ㅜㅜㅜ 빈도 수', 'ㅜㅜㅜㅜ 빈도 수', 'ㅠ 빈도 수', 'ㅠㅠ 빈도 수', 'ㅠㅠㅠ 빈도 수', 'ㅠㅠㅠㅠ 빈도 수',\n",
    "       '장점 빈도 수', '단점 빈도 수', '비속어 빈도 수', '허락 키워드', '내돈내산 키워드', '리얼후기 키워드',\n",
    "       '협찬 키워드', '체험단 키워드', 'coupa.ng 키워드', '< 키워드', '> 키워드', '♡ 키워드', '♥ 키워드',\n",
    "       '구매후기 키워드', '한달 키워드', '두달 키워드', '세달 키워드', 'WEB_광고 분류1', 'WEB_광고 분류2']"
   ]
  },
  {
   "cell_type": "markdown",
   "id": "86db6100",
   "metadata": {},
   "source": [
    "### 2.3.2 애매했던 라벨링에 대해서 전처리"
   ]
  },
  {
   "cell_type": "code",
   "execution_count": 142,
   "id": "47458e87",
   "metadata": {},
   "outputs": [
    {
     "data": {
      "text/plain": [
       "array([2, 0, 1, 3], dtype=int64)"
      ]
     },
     "execution_count": 142,
     "metadata": {},
     "output_type": "execute_result"
    }
   ],
   "source": [
    "total_df_woo[\"광고 분류2\"].unique()"
   ]
  },
  {
   "cell_type": "code",
   "execution_count": 143,
   "id": "89346074",
   "metadata": {},
   "outputs": [],
   "source": [
    "total_df_woo = total_df_woo[total_df_woo[\"광고 분류2\"] !=3]"
   ]
  },
  {
   "cell_type": "code",
   "execution_count": 133,
   "id": "eb9eac3e",
   "metadata": {},
   "outputs": [
    {
     "name": "stderr",
     "output_type": "stream",
     "text": [
      "C:\\Users\\User\\AppData\\Local\\Temp\\ipykernel_3416\\2650583556.py:1: SettingWithCopyWarning: \n",
      "A value is trying to be set on a copy of a slice from a DataFrame.\n",
      "Try using .loc[row_indexer,col_indexer] = value instead\n",
      "\n",
      "See the caveats in the documentation: https://pandas.pydata.org/pandas-docs/stable/user_guide/indexing.html#returning-a-view-versus-a-copy\n",
      "  total_df_woo[\"광고 분류1\"] = 0\n",
      "C:\\Users\\User\\AppData\\Local\\Temp\\ipykernel_3416\\2650583556.py:2: SettingWithCopyWarning: \n",
      "A value is trying to be set on a copy of a slice from a DataFrame.\n",
      "Try using .loc[row_indexer,col_indexer] = value instead\n",
      "\n",
      "See the caveats in the documentation: https://pandas.pydata.org/pandas-docs/stable/user_guide/indexing.html#returning-a-view-versus-a-copy\n",
      "  total_df_woo[\"광고 분류2\"] = 0\n"
     ]
    }
   ],
   "source": [
    "total_df_woo[\"광고 분류1\"] = 0"
   ]
  },
  {
   "cell_type": "code",
   "execution_count": 145,
   "id": "f1a0c398",
   "metadata": {},
   "outputs": [
    {
     "name": "stderr",
     "output_type": "stream",
     "text": [
      "C:\\Users\\User\\AppData\\Local\\Temp\\ipykernel_3416\\71746083.py:1: SettingWithCopyWarning: \n",
      "A value is trying to be set on a copy of a slice from a DataFrame.\n",
      "Try using .loc[row_indexer,col_indexer] = value instead\n",
      "\n",
      "See the caveats in the documentation: https://pandas.pydata.org/pandas-docs/stable/user_guide/indexing.html#returning-a-view-versus-a-copy\n",
      "  total_df_woo[\"광고 분류1\"] = 0\n"
     ]
    }
   ],
   "source": [
    "total_df_woo[\"광고 분류1\"] = 0\n",
    "total_df_woo.loc[total_df_woo[\"광고 분류2\"]>=1,\"광고 분류1\"] = 1"
   ]
  },
  {
   "cell_type": "markdown",
   "id": "531b6e0a",
   "metadata": {},
   "source": [
    "### 2.3.3 컬럼 순서 정렬"
   ]
  },
  {
   "cell_type": "code",
   "execution_count": 146,
   "id": "e5d5d5f0",
   "metadata": {},
   "outputs": [],
   "source": [
    "total_df_woo = total_df_woo[['url', 'title', 'post_date', '검색어', '브랜드 명', 'content', 'content_cnt',\n",
    "       'content_line', 'quote', 'quote_cnt', 'first_img', 'last_img',\n",
    "       'img_cnt', '솔직 빈도 수', '비교 빈도 수', 'ㅋ 빈도 수', 'ㅋㅋ 빈도 수', 'ㅋㅋㅋ 빈도 수',\n",
    "       'ㅋㅋㅋㅋ 빈도 수', '... 빈도 수', '.... 빈도 수', 'ㅜ 빈도 수', 'ㅜㅜ 빈도 수', 'ㅜㅜㅜ 빈도 수',\n",
    "       'ㅜㅜㅜㅜ 빈도 수', 'ㅠ 빈도 수', 'ㅠㅠ 빈도 수', 'ㅠㅠㅠ 빈도 수', 'ㅠㅠㅠㅠ 빈도 수', '장점 빈도 수',\n",
    "       '단점 빈도 수', '비속어 빈도 수', '허락 키워드', '내돈내산 키워드', '리얼후기 키워드', '협찬 키워드',\n",
    "       '체험단 키워드', 'coupa.ng 키워드', '< 키워드', '> 키워드', '♡ 키워드', '♥ 키워드',\n",
    "       '구매후기 키워드', '한달 키워드', '두달 키워드', '세달 키워드', 'WEB_광고 분류1', 'WEB_광고 분류2', '광고 분류1', '광고 분류2']]"
   ]
  },
  {
   "cell_type": "markdown",
   "id": "07ac6b1c",
   "metadata": {},
   "source": [
    "# 3. 한개의 데이터 프레임으로 통합"
   ]
  },
  {
   "cell_type": "code",
   "execution_count": 147,
   "id": "3da7f914",
   "metadata": {},
   "outputs": [],
   "source": [
    "total_df = pd.DataFrame()"
   ]
  },
  {
   "cell_type": "code",
   "execution_count": 148,
   "id": "7e9bbb2c",
   "metadata": {},
   "outputs": [],
   "source": [
    "# 데이터 통합\n",
    "for d in [total_df_jong,total_df_su,total_df_woo]:\n",
    "    total_df=pd.concat([total_df,d])"
   ]
  },
  {
   "cell_type": "code",
   "execution_count": 149,
   "id": "27e57c24",
   "metadata": {},
   "outputs": [
    {
     "data": {
      "text/plain": [
       "(2569, 50)"
      ]
     },
     "execution_count": 149,
     "metadata": {},
     "output_type": "execute_result"
    }
   ],
   "source": [
    "total_df.shape"
   ]
  },
  {
   "cell_type": "code",
   "execution_count": 151,
   "id": "c511c93d",
   "metadata": {},
   "outputs": [
    {
     "data": {
      "text/plain": [
       "Index(['url', 'title', 'post_date', '검색어', '브랜드 명', 'content', 'content_cnt',\n",
       "       'content_line', 'quote', 'quote_cnt', 'first_img', 'last_img',\n",
       "       'img_cnt', '솔직 빈도 수', '비교 빈도 수', 'ㅋ 빈도 수', 'ㅋㅋ 빈도 수', 'ㅋㅋㅋ 빈도 수',\n",
       "       'ㅋㅋㅋㅋ 빈도 수', '... 빈도 수', '.... 빈도 수', 'ㅜ 빈도 수', 'ㅜㅜ 빈도 수', 'ㅜㅜㅜ 빈도 수',\n",
       "       'ㅜㅜㅜㅜ 빈도 수', 'ㅠ 빈도 수', 'ㅠㅠ 빈도 수', 'ㅠㅠㅠ 빈도 수', 'ㅠㅠㅠㅠ 빈도 수', '장점 빈도 수',\n",
       "       '단점 빈도 수', '비속어 빈도 수', '허락 키워드', '내돈내산 키워드', '리얼후기 키워드', '협찬 키워드',\n",
       "       '체험단 키워드', 'coupa.ng 키워드', '< 키워드', '> 키워드', '♡ 키워드', '♥ 키워드',\n",
       "       '구매후기 키워드', '한달 키워드', '두달 키워드', '세달 키워드', 'WEB_광고 분류1', 'WEB_광고 분류2',\n",
       "       '광고 분류1', '광고 분류2'],\n",
       "      dtype='object')"
      ]
     },
     "execution_count": 151,
     "metadata": {},
     "output_type": "execute_result"
    }
   ],
   "source": [
    "# 컬럼 확인\n",
    "total_df.columns"
   ]
  },
  {
   "cell_type": "code",
   "execution_count": 154,
   "id": "2cb08bea",
   "metadata": {},
   "outputs": [],
   "source": [
    "total_df.reset_index(drop=True,inplace=True)"
   ]
  },
  {
   "cell_type": "code",
   "execution_count": 156,
   "id": "9827eddf",
   "metadata": {},
   "outputs": [
    {
     "name": "stdout",
     "output_type": "stream",
     "text": [
      "<class 'pandas.core.frame.DataFrame'>\n",
      "RangeIndex: 2569 entries, 0 to 2568\n",
      "Data columns (total 50 columns):\n",
      " #   Column        Non-Null Count  Dtype \n",
      "---  ------        --------------  ----- \n",
      " 0   url           2569 non-null   object\n",
      " 1   title         2569 non-null   object\n",
      " 2   post_date     2569 non-null   int64 \n",
      " 3   검색어           2569 non-null   object\n",
      " 4   브랜드 명         2569 non-null   object\n",
      " 5   content       2569 non-null   object\n",
      " 6   content_cnt   2569 non-null   int64 \n",
      " 7   content_line  2569 non-null   int64 \n",
      " 8   quote         2569 non-null   object\n",
      " 9   quote_cnt     2569 non-null   int64 \n",
      " 10  first_img     2551 non-null   object\n",
      " 11  last_img      2551 non-null   object\n",
      " 12  img_cnt       2569 non-null   int64 \n",
      " 13  솔직 빈도 수       2569 non-null   int64 \n",
      " 14  비교 빈도 수       2569 non-null   int64 \n",
      " 15  ㅋ 빈도 수        2569 non-null   int64 \n",
      " 16  ㅋㅋ 빈도 수       2569 non-null   int64 \n",
      " 17  ㅋㅋㅋ 빈도 수      2569 non-null   int64 \n",
      " 18  ㅋㅋㅋㅋ 빈도 수     2569 non-null   int64 \n",
      " 19  ... 빈도 수      2569 non-null   int64 \n",
      " 20  .... 빈도 수     2569 non-null   int64 \n",
      " 21  ㅜ 빈도 수        2569 non-null   int64 \n",
      " 22  ㅜㅜ 빈도 수       2569 non-null   int64 \n",
      " 23  ㅜㅜㅜ 빈도 수      2569 non-null   int64 \n",
      " 24  ㅜㅜㅜㅜ 빈도 수     2569 non-null   int64 \n",
      " 25  ㅠ 빈도 수        2569 non-null   int64 \n",
      " 26  ㅠㅠ 빈도 수       2569 non-null   int64 \n",
      " 27  ㅠㅠㅠ 빈도 수      2569 non-null   int64 \n",
      " 28  ㅠㅠㅠㅠ 빈도 수     2569 non-null   int64 \n",
      " 29  장점 빈도 수       2569 non-null   int64 \n",
      " 30  단점 빈도 수       2569 non-null   int64 \n",
      " 31  비속어 빈도 수      2569 non-null   int64 \n",
      " 32  허락 키워드        2569 non-null   int64 \n",
      " 33  내돈내산 키워드      2569 non-null   int64 \n",
      " 34  리얼후기 키워드      2569 non-null   int64 \n",
      " 35  협찬 키워드        2569 non-null   int64 \n",
      " 36  체험단 키워드       2569 non-null   int64 \n",
      " 37  coupa.ng 키워드  2569 non-null   int64 \n",
      " 38  < 키워드         2569 non-null   int64 \n",
      " 39  > 키워드         2569 non-null   int64 \n",
      " 40  ♡ 키워드         2569 non-null   int64 \n",
      " 41  ♥ 키워드         2569 non-null   int64 \n",
      " 42  구매후기 키워드      2569 non-null   int64 \n",
      " 43  한달 키워드        2569 non-null   int64 \n",
      " 44  두달 키워드        2569 non-null   int64 \n",
      " 45  세달 키워드        2569 non-null   int64 \n",
      " 46  WEB_광고 분류1    2569 non-null   int64 \n",
      " 47  WEB_광고 분류2    2569 non-null   int64 \n",
      " 48  광고 분류1        2569 non-null   int64 \n",
      " 49  광고 분류2        2569 non-null   int64 \n",
      "dtypes: int64(42), object(8)\n",
      "memory usage: 1003.6+ KB\n"
     ]
    }
   ],
   "source": [
    "# 데이터 정보 확인\n",
    "total_df.info()"
   ]
  },
  {
   "cell_type": "markdown",
   "id": "95da9b1b",
   "metadata": {},
   "source": [
    "## 3.1 통합 데이터 저장"
   ]
  },
  {
   "cell_type": "code",
   "execution_count": 157,
   "id": "80fca685",
   "metadata": {},
   "outputs": [],
   "source": [
    "total_df.to_csv(\"./Total_Data.csv\",index=False,encoding=\"utf-8-sig\")"
   ]
  }
 ],
 "metadata": {
  "kernelspec": {
   "display_name": "Python 3 (ipykernel)",
   "language": "python",
   "name": "python3"
  },
  "language_info": {
   "codemirror_mode": {
    "name": "ipython",
    "version": 3
   },
   "file_extension": ".py",
   "mimetype": "text/x-python",
   "name": "python",
   "nbconvert_exporter": "python",
   "pygments_lexer": "ipython3",
   "version": "3.8.12"
  },
  "toc": {
   "base_numbering": 1,
   "nav_menu": {},
   "number_sections": true,
   "sideBar": true,
   "skip_h1_title": false,
   "title_cell": "Table of Contents",
   "title_sidebar": "Contents",
   "toc_cell": false,
   "toc_position": {},
   "toc_section_display": true,
   "toc_window_display": false
  }
 },
 "nbformat": 4,
 "nbformat_minor": 5
}
