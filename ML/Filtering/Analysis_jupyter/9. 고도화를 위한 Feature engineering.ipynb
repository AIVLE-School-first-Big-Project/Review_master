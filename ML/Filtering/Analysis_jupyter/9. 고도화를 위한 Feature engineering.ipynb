{
 "cells": [
  {
   "cell_type": "markdown",
   "id": "e0a5382a",
   "metadata": {},
   "source": [
    "# 1. 라이브러리 임포트"
   ]
  },
  {
   "cell_type": "code",
   "execution_count": 1,
   "id": "444b47fa",
   "metadata": {},
   "outputs": [
    {
     "name": "stderr",
     "output_type": "stream",
     "text": [
      "C:\\Users\\User\\anaconda3\\envs\\tf\\lib\\site-packages\\xgboost\\compat.py:36: FutureWarning: pandas.Int64Index is deprecated and will be removed from pandas in a future version. Use pandas.Index with the appropriate dtype instead.\n",
      "  from pandas import MultiIndex, Int64Index\n"
     ]
    }
   ],
   "source": [
    "from sklearn.ensemble import RandomForestClassifier\n",
    "from sklearn.tree import DecisionTreeClassifier\n",
    "from sklearn.linear_model import LogisticRegression\n",
    "\n",
    "from xgboost import XGBClassifier\n",
    "from sklearn.model_selection import train_test_split, cross_val_score\n",
    "from sklearn.metrics import accuracy_score, classification_report,confusion_matrix\n",
    "import warnings\n",
    "import matplotlib.pyplot as plt\n",
    "import pandas as pd \n",
    "import joblib, os\n",
    "\n",
    "import warnings\n",
    "import platform\n",
    "import matplotlib.pyplot as plt\n",
    "\n",
    "from matplotlib import font_manager, rc \n",
    "warnings.filterwarnings('ignore')\n",
    "\n",
    "path = \"C:/Windows/Fonts/malgun.ttf\"\n",
    "\n",
    "if platform.system() == \"Darwin\":\n",
    "    rc(\"font\", family=\"Arial Unicode MS\")\n",
    "elif platform.system() == \"Windows\":\n",
    "    font_name = font_manager.FontProperties(fname=path).get_name()\n",
    "    rc(\"font\", family=font_name)\n",
    "else:\n",
    "    print(\"Unknown system. sorry\")"
   ]
  },
  {
   "cell_type": "markdown",
   "id": "e2de99c1",
   "metadata": {},
   "source": [
    "# 2. 데이터 로드\n",
    "\n",
    "사용할 Feature 선택"
   ]
  },
  {
   "cell_type": "code",
   "execution_count": 55,
   "id": "edfebc16",
   "metadata": {},
   "outputs": [],
   "source": [
    "m = ['url','content','context_img','content_cnt','content_line', 'img_cnt','... 빈도 수','내돈내산 키워드','쿠팡키워드','ㅠ 빈도 수',\n",
    "     '광고키워드','단점 빈도 수','ㅠ 빈도 수','광고키워드','단점 빈도 수','이미지광고키워드3','비교 빈도 수',\n",
    "     '솔직 빈도 수','coupan.ng 키워드','quote_cnt','ㅋㅋㅋㅋ 빈도 수','ㅋ 빈도 수','이미지글없음','이미지광고키워드1',\n",
    "     '이미지쿠팡키워드1','ㅋㅋ 빈도 수','광고 분류1', '광고 분류2'\n",
    "]"
   ]
  },
  {
   "cell_type": "code",
   "execution_count": 56,
   "id": "fb19c776",
   "metadata": {},
   "outputs": [
    {
     "data": {
      "text/html": [
       "<div>\n",
       "<style scoped>\n",
       "    .dataframe tbody tr th:only-of-type {\n",
       "        vertical-align: middle;\n",
       "    }\n",
       "\n",
       "    .dataframe tbody tr th {\n",
       "        vertical-align: top;\n",
       "    }\n",
       "\n",
       "    .dataframe thead th {\n",
       "        text-align: right;\n",
       "    }\n",
       "</style>\n",
       "<table border=\"1\" class=\"dataframe\">\n",
       "  <thead>\n",
       "    <tr style=\"text-align: right;\">\n",
       "      <th></th>\n",
       "      <th>url</th>\n",
       "      <th>content</th>\n",
       "      <th>context_img</th>\n",
       "      <th>content_cnt</th>\n",
       "      <th>content_line</th>\n",
       "      <th>img_cnt</th>\n",
       "      <th>... 빈도 수</th>\n",
       "      <th>내돈내산 키워드</th>\n",
       "      <th>쿠팡키워드</th>\n",
       "      <th>ㅠ 빈도 수</th>\n",
       "      <th>...</th>\n",
       "      <th>coupan.ng 키워드</th>\n",
       "      <th>quote_cnt</th>\n",
       "      <th>ㅋㅋㅋㅋ 빈도 수</th>\n",
       "      <th>ㅋ 빈도 수</th>\n",
       "      <th>이미지글없음</th>\n",
       "      <th>이미지광고키워드1</th>\n",
       "      <th>이미지쿠팡키워드1</th>\n",
       "      <th>ㅋㅋ 빈도 수</th>\n",
       "      <th>광고 분류1</th>\n",
       "      <th>광고 분류2</th>\n",
       "    </tr>\n",
       "  </thead>\n",
       "  <tbody>\n",
       "    <tr>\n",
       "      <th>0</th>\n",
       "      <td>https://blog.naver.com/PostView.naver?blogId=s...</td>\n",
       "      <td>오랜만에 다시 돌아온 또니로그😆 코닥 미니샷 3 선물받고 신난 마음에 블로그 들어왔...</td>\n",
       "      <td>the</td>\n",
       "      <td>617</td>\n",
       "      <td>13</td>\n",
       "      <td>11</td>\n",
       "      <td>0</td>\n",
       "      <td>0</td>\n",
       "      <td>0</td>\n",
       "      <td>0</td>\n",
       "      <td>...</td>\n",
       "      <td>0</td>\n",
       "      <td>0</td>\n",
       "      <td>0</td>\n",
       "      <td>1</td>\n",
       "      <td>0</td>\n",
       "      <td>0</td>\n",
       "      <td>0</td>\n",
       "      <td>0</td>\n",
       "      <td>0</td>\n",
       "      <td>0</td>\n",
       "    </tr>\n",
       "    <tr>\n",
       "      <th>1</th>\n",
       "      <td>https://blog.naver.com/PostView.naver?blogId=h...</td>\n",
       "      <td>사방팔방 아기들에게 생일선물로 받은 즉석카메라 코닥 미니샷 콤보3 레트로!! 간단하...</td>\n",
       "      <td>NaN</td>\n",
       "      <td>1305</td>\n",
       "      <td>19</td>\n",
       "      <td>19</td>\n",
       "      <td>0</td>\n",
       "      <td>0</td>\n",
       "      <td>0</td>\n",
       "      <td>0</td>\n",
       "      <td>...</td>\n",
       "      <td>0</td>\n",
       "      <td>1</td>\n",
       "      <td>0</td>\n",
       "      <td>0</td>\n",
       "      <td>1</td>\n",
       "      <td>0</td>\n",
       "      <td>0</td>\n",
       "      <td>0</td>\n",
       "      <td>0</td>\n",
       "      <td>0</td>\n",
       "    </tr>\n",
       "  </tbody>\n",
       "</table>\n",
       "<p>2 rows × 28 columns</p>\n",
       "</div>"
      ],
      "text/plain": [
       "                                                 url  \\\n",
       "0  https://blog.naver.com/PostView.naver?blogId=s...   \n",
       "1  https://blog.naver.com/PostView.naver?blogId=h...   \n",
       "\n",
       "                                             content context_img  content_cnt  \\\n",
       "0  오랜만에 다시 돌아온 또니로그😆 코닥 미니샷 3 선물받고 신난 마음에 블로그 들어왔...         the          617   \n",
       "1  사방팔방 아기들에게 생일선물로 받은 즉석카메라 코닥 미니샷 콤보3 레트로!! 간단하...         NaN         1305   \n",
       "\n",
       "   content_line  img_cnt  ... 빈도 수  내돈내산 키워드  쿠팡키워드  ㅠ 빈도 수  ...  \\\n",
       "0            13       11         0         0      0       0  ...   \n",
       "1            19       19         0         0      0       0  ...   \n",
       "\n",
       "   coupan.ng 키워드  quote_cnt  ㅋㅋㅋㅋ 빈도 수  ㅋ 빈도 수  이미지글없음  이미지광고키워드1  이미지쿠팡키워드1  \\\n",
       "0              0          0          0       1       0          0          0   \n",
       "1              0          1          0       0       1          0          0   \n",
       "\n",
       "   ㅋㅋ 빈도 수  광고 분류1  광고 분류2  \n",
       "0        0       0       0  \n",
       "1        0       0       0  \n",
       "\n",
       "[2 rows x 28 columns]"
      ]
     },
     "execution_count": 56,
     "metadata": {},
     "output_type": "execute_result"
    }
   ],
   "source": [
    "df = pd.read_csv(\"Total_Data_4(1).csv\")\n",
    "df = df[m]\n",
    "df.head(2)"
   ]
  },
  {
   "cell_type": "markdown",
   "id": "dfb84064",
   "metadata": {},
   "source": [
    "# 3. Feature 생성\n",
    "\n",
    "## 3.1 OCR에서 뽑힌 이미지 데이터에 특징 만들기\n",
    "### 이전에 비해서 적중률을 높게 한다면 어떻게 할까 라는 고민 끝에 최종적인 feature 생성하기로 함\n",
    "> 제품을 제공받아 작성된 글입니다.\n",
    "\n",
    "라고 하면 제품 1, 제공 1 작성 1 받아 1 -> 총 4점을 측정시켜, 점수가 고점일 수록 광고일 확률이 높다 라고 가설을 세워서 진행하고자 한다."
   ]
  },
  {
   "cell_type": "code",
   "execution_count": 58,
   "id": "6ca1d7a1",
   "metadata": {},
   "outputs": [],
   "source": [
    "df.loc[df['context_img'].isnull(),\"context_img\"] = ''"
   ]
  },
  {
   "cell_type": "markdown",
   "id": "a2a27e9b",
   "metadata": {},
   "source": [
    "* 광고 적중률(AD_score)"
   ]
  },
  {
   "cell_type": "code",
   "execution_count": 57,
   "id": "4f0b0429",
   "metadata": {},
   "outputs": [],
   "source": [
    "kk_list = ['부터|에서','반드시','제공', '대여' ,'무상','받을|밥아|받아|반아|바아|받이|반이','선정|선점' ,'지원' ,'업체' ,'원고료|운고료','협찬|협진|협잔','부터', '소정료' ,'취재비' ,'제품','서비스' ,'체험단|제험단|체험' ,'제작비|제작|삭성|제삭|체삭|세작|새작|재작']"
   ]
  },
  {
   "cell_type": "code",
   "execution_count": 59,
   "id": "d464e39b",
   "metadata": {},
   "outputs": [],
   "source": [
    "col_list_ad = []\n",
    "for i in range(len(kk_list)):\n",
    "#     print(kk_list[i])\n",
    "    save_col = f\"이미지광고_{i}\"\n",
    "    df[save_col] = 0\n",
    "    df.loc[df[\"context_img\"].str.contains(kk_list[i]),save_col]=1\n",
    "    col_list_ad.append(save_col)"
   ]
  },
  {
   "cell_type": "code",
   "execution_count": 60,
   "id": "e8f1847f",
   "metadata": {},
   "outputs": [],
   "source": [
    "df[\"AD_score\"] = df[col_list_ad].sum(axis=1)"
   ]
  },
  {
   "cell_type": "code",
   "execution_count": 61,
   "id": "ee8e0b7f",
   "metadata": {},
   "outputs": [
    {
     "data": {
      "text/plain": [
       "count    130.000000\n",
       "mean       4.123077\n",
       "std        1.452159\n",
       "min        2.000000\n",
       "25%        3.000000\n",
       "50%        4.000000\n",
       "75%        5.000000\n",
       "max        7.000000\n",
       "Name: AD_score, dtype: float64"
      ]
     },
     "execution_count": 61,
     "metadata": {},
     "output_type": "execute_result"
    }
   ],
   "source": [
    "df[df[\"AD_score\"]>1][\"AD_score\"].describe()"
   ]
  },
  {
   "cell_type": "code",
   "execution_count": 62,
   "id": "e6b6d42f",
   "metadata": {},
   "outputs": [
    {
     "data": {
      "text/html": [
       "<div>\n",
       "<style scoped>\n",
       "    .dataframe tbody tr th:only-of-type {\n",
       "        vertical-align: middle;\n",
       "    }\n",
       "\n",
       "    .dataframe tbody tr th {\n",
       "        vertical-align: top;\n",
       "    }\n",
       "\n",
       "    .dataframe thead tr th {\n",
       "        text-align: left;\n",
       "    }\n",
       "\n",
       "    .dataframe thead tr:last-of-type th {\n",
       "        text-align: right;\n",
       "    }\n",
       "</style>\n",
       "<table border=\"1\" class=\"dataframe\">\n",
       "  <thead>\n",
       "    <tr>\n",
       "      <th></th>\n",
       "      <th colspan=\"8\" halign=\"left\">AD_score</th>\n",
       "    </tr>\n",
       "    <tr>\n",
       "      <th></th>\n",
       "      <th>count</th>\n",
       "      <th>mean</th>\n",
       "      <th>std</th>\n",
       "      <th>min</th>\n",
       "      <th>25%</th>\n",
       "      <th>50%</th>\n",
       "      <th>75%</th>\n",
       "      <th>max</th>\n",
       "    </tr>\n",
       "    <tr>\n",
       "      <th>광고 분류2</th>\n",
       "      <th></th>\n",
       "      <th></th>\n",
       "      <th></th>\n",
       "      <th></th>\n",
       "      <th></th>\n",
       "      <th></th>\n",
       "      <th></th>\n",
       "      <th></th>\n",
       "    </tr>\n",
       "  </thead>\n",
       "  <tbody>\n",
       "    <tr>\n",
       "      <th>0</th>\n",
       "      <td>1932.0</td>\n",
       "      <td>0.038820</td>\n",
       "      <td>0.243069</td>\n",
       "      <td>0.0</td>\n",
       "      <td>0.0</td>\n",
       "      <td>0.0</td>\n",
       "      <td>0.0</td>\n",
       "      <td>5.0</td>\n",
       "    </tr>\n",
       "    <tr>\n",
       "      <th>1</th>\n",
       "      <td>177.0</td>\n",
       "      <td>0.169492</td>\n",
       "      <td>0.482155</td>\n",
       "      <td>0.0</td>\n",
       "      <td>0.0</td>\n",
       "      <td>0.0</td>\n",
       "      <td>0.0</td>\n",
       "      <td>2.0</td>\n",
       "    </tr>\n",
       "    <tr>\n",
       "      <th>2</th>\n",
       "      <td>361.0</td>\n",
       "      <td>1.443213</td>\n",
       "      <td>2.145464</td>\n",
       "      <td>0.0</td>\n",
       "      <td>0.0</td>\n",
       "      <td>0.0</td>\n",
       "      <td>3.0</td>\n",
       "      <td>7.0</td>\n",
       "    </tr>\n",
       "  </tbody>\n",
       "</table>\n",
       "</div>"
      ],
      "text/plain": [
       "       AD_score                                             \n",
       "          count      mean       std  min  25%  50%  75%  max\n",
       "광고 분류2                                                      \n",
       "0        1932.0  0.038820  0.243069  0.0  0.0  0.0  0.0  5.0\n",
       "1         177.0  0.169492  0.482155  0.0  0.0  0.0  0.0  2.0\n",
       "2         361.0  1.443213  2.145464  0.0  0.0  0.0  3.0  7.0"
      ]
     },
     "execution_count": 62,
     "metadata": {},
     "output_type": "execute_result"
    }
   ],
   "source": [
    "df[[\"광고 분류2\",\"AD_score\"]].groupby([\"광고 분류2\"]).describe()"
   ]
  },
  {
   "cell_type": "markdown",
   "id": "ec234ced",
   "metadata": {},
   "source": [
    "* 쿠팡 파트너스 적중률(CP_score)"
   ]
  },
  {
   "cell_type": "code",
   "execution_count": 67,
   "id": "df96be48",
   "metadata": {},
   "outputs": [],
   "source": [
    "kk_list = ['파트너스|피트너스|피트|너스','쿠팡|쿠광|구팡|구파|쿠파','일정액|수수료|이정액|수료','수익|수이|스이|스익','일원|일워|인워']"
   ]
  },
  {
   "cell_type": "code",
   "execution_count": 68,
   "id": "bb72ef72",
   "metadata": {},
   "outputs": [],
   "source": [
    "col_list_cupan = []\n",
    "for i in range(len(kk_list)):\n",
    "#     print(kk_list[i])\n",
    "    save_col = f\"이미지쿠팡_{i}\"\n",
    "    df[save_col] = 0\n",
    "    df.loc[df[\"context_img\"].str.contains(kk_list[i]),save_col]=1\n",
    "    col_list_cupan.append(save_col)"
   ]
  },
  {
   "cell_type": "code",
   "execution_count": 69,
   "id": "98dba1a7",
   "metadata": {},
   "outputs": [],
   "source": [
    "df[\"CP_score\"] = df[col_list_cupan].sum(axis=1)"
   ]
  },
  {
   "cell_type": "code",
   "execution_count": 70,
   "id": "fb154213",
   "metadata": {},
   "outputs": [
    {
     "data": {
      "text/html": [
       "<div>\n",
       "<style scoped>\n",
       "    .dataframe tbody tr th:only-of-type {\n",
       "        vertical-align: middle;\n",
       "    }\n",
       "\n",
       "    .dataframe tbody tr th {\n",
       "        vertical-align: top;\n",
       "    }\n",
       "\n",
       "    .dataframe thead tr th {\n",
       "        text-align: left;\n",
       "    }\n",
       "\n",
       "    .dataframe thead tr:last-of-type th {\n",
       "        text-align: right;\n",
       "    }\n",
       "</style>\n",
       "<table border=\"1\" class=\"dataframe\">\n",
       "  <thead>\n",
       "    <tr>\n",
       "      <th></th>\n",
       "      <th colspan=\"8\" halign=\"left\">CP_score</th>\n",
       "    </tr>\n",
       "    <tr>\n",
       "      <th></th>\n",
       "      <th>count</th>\n",
       "      <th>mean</th>\n",
       "      <th>std</th>\n",
       "      <th>min</th>\n",
       "      <th>25%</th>\n",
       "      <th>50%</th>\n",
       "      <th>75%</th>\n",
       "      <th>max</th>\n",
       "    </tr>\n",
       "    <tr>\n",
       "      <th>광고 분류2</th>\n",
       "      <th></th>\n",
       "      <th></th>\n",
       "      <th></th>\n",
       "      <th></th>\n",
       "      <th></th>\n",
       "      <th></th>\n",
       "      <th></th>\n",
       "      <th></th>\n",
       "    </tr>\n",
       "  </thead>\n",
       "  <tbody>\n",
       "    <tr>\n",
       "      <th>0</th>\n",
       "      <td>1932.0</td>\n",
       "      <td>0.002070</td>\n",
       "      <td>0.071933</td>\n",
       "      <td>0.0</td>\n",
       "      <td>0.0</td>\n",
       "      <td>0.0</td>\n",
       "      <td>0.0</td>\n",
       "      <td>3.0</td>\n",
       "    </tr>\n",
       "    <tr>\n",
       "      <th>1</th>\n",
       "      <td>177.0</td>\n",
       "      <td>0.265537</td>\n",
       "      <td>0.777963</td>\n",
       "      <td>0.0</td>\n",
       "      <td>0.0</td>\n",
       "      <td>0.0</td>\n",
       "      <td>0.0</td>\n",
       "      <td>4.0</td>\n",
       "    </tr>\n",
       "    <tr>\n",
       "      <th>2</th>\n",
       "      <td>361.0</td>\n",
       "      <td>0.000000</td>\n",
       "      <td>0.000000</td>\n",
       "      <td>0.0</td>\n",
       "      <td>0.0</td>\n",
       "      <td>0.0</td>\n",
       "      <td>0.0</td>\n",
       "      <td>0.0</td>\n",
       "    </tr>\n",
       "  </tbody>\n",
       "</table>\n",
       "</div>"
      ],
      "text/plain": [
       "       CP_score                                             \n",
       "          count      mean       std  min  25%  50%  75%  max\n",
       "광고 분류2                                                      \n",
       "0        1932.0  0.002070  0.071933  0.0  0.0  0.0  0.0  3.0\n",
       "1         177.0  0.265537  0.777963  0.0  0.0  0.0  0.0  4.0\n",
       "2         361.0  0.000000  0.000000  0.0  0.0  0.0  0.0  0.0"
      ]
     },
     "execution_count": 70,
     "metadata": {},
     "output_type": "execute_result"
    }
   ],
   "source": [
    "df[[\"광고 분류2\",\"CP_score\"]].groupby([\"광고 분류2\"]).describe()"
   ]
  },
  {
   "cell_type": "markdown",
   "id": "0fd5d94f",
   "metadata": {},
   "source": [
    "* 순수 리뷰 적중률 (PU_score)"
   ]
  },
  {
   "cell_type": "code",
   "execution_count": 71,
   "id": "9c964577",
   "metadata": {},
   "outputs": [],
   "source": [
    "kk_list = ['내돈내산|내돈|내산','사비','직접|지접','구매|그매','일정액|일정','솔직','않은|않']"
   ]
  },
  {
   "cell_type": "code",
   "execution_count": 72,
   "id": "67112f8f",
   "metadata": {},
   "outputs": [],
   "source": [
    "col_list_Pu = []\n",
    "for i in range(len(kk_list)):\n",
    "#     print(kk_list[i])\n",
    "    save_col = f\"이미지순수_{i}\"\n",
    "    df[save_col] = 0\n",
    "    df.loc[df[\"context_img\"].str.contains(kk_list[i]),save_col]=1\n",
    "    col_list_Pu.append(save_col)"
   ]
  },
  {
   "cell_type": "code",
   "execution_count": 73,
   "id": "9ac8c716",
   "metadata": {},
   "outputs": [],
   "source": [
    "df[\"PU_score\"] = df[col_list_Pu].sum(axis=1)"
   ]
  },
  {
   "cell_type": "code",
   "execution_count": 74,
   "id": "feb6a904",
   "metadata": {},
   "outputs": [
    {
     "data": {
      "text/html": [
       "<div>\n",
       "<style scoped>\n",
       "    .dataframe tbody tr th:only-of-type {\n",
       "        vertical-align: middle;\n",
       "    }\n",
       "\n",
       "    .dataframe tbody tr th {\n",
       "        vertical-align: top;\n",
       "    }\n",
       "\n",
       "    .dataframe thead tr th {\n",
       "        text-align: left;\n",
       "    }\n",
       "\n",
       "    .dataframe thead tr:last-of-type th {\n",
       "        text-align: right;\n",
       "    }\n",
       "</style>\n",
       "<table border=\"1\" class=\"dataframe\">\n",
       "  <thead>\n",
       "    <tr>\n",
       "      <th></th>\n",
       "      <th colspan=\"8\" halign=\"left\">PU_score</th>\n",
       "    </tr>\n",
       "    <tr>\n",
       "      <th></th>\n",
       "      <th>count</th>\n",
       "      <th>mean</th>\n",
       "      <th>std</th>\n",
       "      <th>min</th>\n",
       "      <th>25%</th>\n",
       "      <th>50%</th>\n",
       "      <th>75%</th>\n",
       "      <th>max</th>\n",
       "    </tr>\n",
       "    <tr>\n",
       "      <th>광고 분류2</th>\n",
       "      <th></th>\n",
       "      <th></th>\n",
       "      <th></th>\n",
       "      <th></th>\n",
       "      <th></th>\n",
       "      <th></th>\n",
       "      <th></th>\n",
       "      <th></th>\n",
       "    </tr>\n",
       "  </thead>\n",
       "  <tbody>\n",
       "    <tr>\n",
       "      <th>0</th>\n",
       "      <td>1932.0</td>\n",
       "      <td>0.024327</td>\n",
       "      <td>0.187458</td>\n",
       "      <td>0.0</td>\n",
       "      <td>0.0</td>\n",
       "      <td>0.0</td>\n",
       "      <td>0.0</td>\n",
       "      <td>3.0</td>\n",
       "    </tr>\n",
       "    <tr>\n",
       "      <th>1</th>\n",
       "      <td>177.0</td>\n",
       "      <td>0.141243</td>\n",
       "      <td>0.349260</td>\n",
       "      <td>0.0</td>\n",
       "      <td>0.0</td>\n",
       "      <td>0.0</td>\n",
       "      <td>0.0</td>\n",
       "      <td>1.0</td>\n",
       "    </tr>\n",
       "    <tr>\n",
       "      <th>2</th>\n",
       "      <td>361.0</td>\n",
       "      <td>0.038781</td>\n",
       "      <td>0.207211</td>\n",
       "      <td>0.0</td>\n",
       "      <td>0.0</td>\n",
       "      <td>0.0</td>\n",
       "      <td>0.0</td>\n",
       "      <td>2.0</td>\n",
       "    </tr>\n",
       "  </tbody>\n",
       "</table>\n",
       "</div>"
      ],
      "text/plain": [
       "       PU_score                                             \n",
       "          count      mean       std  min  25%  50%  75%  max\n",
       "광고 분류2                                                      \n",
       "0        1932.0  0.024327  0.187458  0.0  0.0  0.0  0.0  3.0\n",
       "1         177.0  0.141243  0.349260  0.0  0.0  0.0  0.0  1.0\n",
       "2         361.0  0.038781  0.207211  0.0  0.0  0.0  0.0  2.0"
      ]
     },
     "execution_count": 74,
     "metadata": {},
     "output_type": "execute_result"
    }
   ],
   "source": [
    "df[[\"광고 분류2\",\"PU_score\"]].groupby([\"광고 분류2\"]).describe()"
   ]
  },
  {
   "cell_type": "code",
   "execution_count": 75,
   "id": "55142da7",
   "metadata": {},
   "outputs": [],
   "source": [
    "df.drop(col_list_ad,axis=1,inplace=True)\n",
    "df.drop(col_list_cupan,axis=1,inplace=True)\n",
    "df.drop(col_list_Pu,axis=1,inplace=True)"
   ]
  },
  {
   "cell_type": "code",
   "execution_count": 78,
   "id": "2cd6eec4",
   "metadata": {},
   "outputs": [
    {
     "data": {
      "text/plain": [
       "Index(['url', 'content', 'context_img', 'content_cnt', 'content_line',\n",
       "       'img_cnt', '... 빈도 수', '내돈내산 키워드', '쿠팡키워드', 'ㅠ 빈도 수', '광고키워드',\n",
       "       '단점 빈도 수', 'ㅠ 빈도 수', '광고키워드', '단점 빈도 수', '이미지광고키워드3', '비교 빈도 수',\n",
       "       '솔직 빈도 수', 'coupan.ng 키워드', 'quote_cnt', 'ㅋㅋㅋㅋ 빈도 수', 'ㅋ 빈도 수',\n",
       "       '이미지글없음', '이미지광고키워드1', '이미지쿠팡키워드1', 'ㅋㅋ 빈도 수', '광고 분류1', '광고 분류2',\n",
       "       'AD_score', 'CP_score', 'PU_score'],\n",
       "      dtype='object')"
      ]
     },
     "execution_count": 78,
     "metadata": {},
     "output_type": "execute_result"
    }
   ],
   "source": [
    "df.columns"
   ]
  },
  {
   "cell_type": "code",
   "execution_count": 77,
   "id": "59038708",
   "metadata": {},
   "outputs": [],
   "source": [
    "df.to_csv(\"Total_Data_5(1).csv\",index=False)"
   ]
  }
 ],
 "metadata": {
  "kernelspec": {
   "display_name": "Python 3 (ipykernel)",
   "language": "python",
   "name": "python3"
  },
  "language_info": {
   "codemirror_mode": {
    "name": "ipython",
    "version": 3
   },
   "file_extension": ".py",
   "mimetype": "text/x-python",
   "name": "python",
   "nbconvert_exporter": "python",
   "pygments_lexer": "ipython3",
   "version": "3.8.12"
  },
  "toc": {
   "base_numbering": 1,
   "nav_menu": {},
   "number_sections": true,
   "sideBar": true,
   "skip_h1_title": false,
   "title_cell": "Table of Contents",
   "title_sidebar": "Contents",
   "toc_cell": false,
   "toc_position": {},
   "toc_section_display": true,
   "toc_window_display": false
  }
 },
 "nbformat": 4,
 "nbformat_minor": 5
}
