{
 "cells": [
  {
   "cell_type": "markdown",
   "id": "e1a8dd86",
   "metadata": {},
   "source": [
    "# 1. 라이브러리 임포트"
   ]
  },
  {
   "cell_type": "code",
   "execution_count": 1,
   "id": "a4076578",
   "metadata": {},
   "outputs": [],
   "source": [
    "import pandas as pd\n",
    "import numpy as np\n",
    "\n",
    "import matplotlib.pyplot as plt"
   ]
  },
  {
   "cell_type": "code",
   "execution_count": 2,
   "id": "ef7ee0df",
   "metadata": {},
   "outputs": [],
   "source": [
    "df = pd.read_csv(\"Total_Data_1.csv\")"
   ]
  },
  {
   "cell_type": "markdown",
   "id": "f89a2a8a",
   "metadata": {},
   "source": [
    "# 2. Rule Base일때 광고성 블로그 리뷰를 판단하는지 모델 성능 평가"
   ]
  },
  {
   "cell_type": "code",
   "execution_count": 6,
   "id": "527a814e",
   "metadata": {},
   "outputs": [],
   "source": [
    "from sklearn.metrics import accuracy_score, classification_report,confusion_matrix"
   ]
  },
  {
   "cell_type": "markdown",
   "id": "3cd63c0f",
   "metadata": {},
   "source": [
    "## 2.1 베이스 모델"
   ]
  },
  {
   "cell_type": "code",
   "execution_count": 7,
   "id": "ca021f65",
   "metadata": {},
   "outputs": [
    {
     "name": "stdout",
     "output_type": "stream",
     "text": [
      "              precision    recall  f1-score   support\n",
      "\n",
      "           0       0.80      0.98      0.88      1980\n",
      "           1       0.54      0.08      0.15       545\n",
      "\n",
      "    accuracy                           0.79      2525\n",
      "   macro avg       0.67      0.53      0.51      2525\n",
      "weighted avg       0.74      0.79      0.72      2525\n",
      "\n"
     ]
    }
   ],
   "source": [
    "print(classification_report(df[\"광고 분류1\"],df[\"WEB_광고 분류1\"]))"
   ]
  },
  {
   "cell_type": "code",
   "execution_count": 8,
   "id": "26fa17b7",
   "metadata": {},
   "outputs": [
    {
     "name": "stdout",
     "output_type": "stream",
     "text": [
      "              precision    recall  f1-score   support\n",
      "\n",
      "           0       0.80      0.98      0.88      1980\n",
      "           1       0.83      0.06      0.11       172\n",
      "           2       0.42      0.08      0.14       373\n",
      "\n",
      "    accuracy                           0.78      2525\n",
      "   macro avg       0.68      0.37      0.38      2525\n",
      "weighted avg       0.74      0.78      0.72      2525\n",
      "\n"
     ]
    }
   ],
   "source": [
    "print(classification_report(df[\"광고 분류2\"],df[\"WEB_광고 분류2\"]))"
   ]
  },
  {
   "cell_type": "markdown",
   "id": "8ae10536",
   "metadata": {},
   "source": [
    "## 2.2 결론.\n",
    "\n",
    "광고성 블로그 리뷰를 rule base로 이진 분류를 했을때 정확도는 0.79이고 1에 대한 재현율은 0.08로 낮다. 또한 광고성 리뷰가 아닌 클래스와 쿠팡 파트너스 리뷰와 협찬 등 광고성 블로그 리뷰에 대해서 정확도는 0.78이며, 쿠팡 파트너스에 대한 재현율은 0.06, 광고성 협찬 리뷰에 대해서는 0.08로 매우 낮은 수치이다.\n",
    "\n",
    "__현 Rule Base로 판단되는 결과가 낮기에 여러가지 전처리 방법과 모델링을 통해 성능 향상을 목표로 진행하고자 합니다.__"
   ]
  }
 ],
 "metadata": {
  "kernelspec": {
   "display_name": "Python 3 (ipykernel)",
   "language": "python",
   "name": "python3"
  },
  "language_info": {
   "codemirror_mode": {
    "name": "ipython",
    "version": 3
   },
   "file_extension": ".py",
   "mimetype": "text/x-python",
   "name": "python",
   "nbconvert_exporter": "python",
   "pygments_lexer": "ipython3",
   "version": "3.8.12"
  },
  "toc": {
   "base_numbering": 1,
   "nav_menu": {},
   "number_sections": true,
   "sideBar": true,
   "skip_h1_title": false,
   "title_cell": "Table of Contents",
   "title_sidebar": "Contents",
   "toc_cell": false,
   "toc_position": {},
   "toc_section_display": true,
   "toc_window_display": false
  }
 },
 "nbformat": 4,
 "nbformat_minor": 5
}
