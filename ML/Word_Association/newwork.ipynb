{
 "cells": [
  {
   "cell_type": "code",
   "execution_count": 1,
   "metadata": {},
   "outputs": [],
   "source": [
    "import networkx as nx\n",
    "import numpy as np\n",
    "import pandas as pd\n",
    "import matplotlib.pyplot as plt\n",
    "plt.rc('font', family='NanumBarunGothic') \n",
    "import konlpy\n",
    "from konlpy.tag import *\n",
    "from matplotlib import font_manager, rc \n",
    "warnings.filterwarnings('ignore')\n",
    "\n",
    "import matplotlib.font_manager as fm\n",
    "import matplotlib.pyplot as plt\n",
    "import operator\n",
    "import re"
   ]
  },
  {
   "cell_type": "code",
   "execution_count": 7,
   "metadata": {},
   "outputs": [
    {
     "name": "stdout",
     "output_type": "stream",
     "text": [
      "(439, 2)\n"
     ]
    },
    {
     "data": {
      "text/html": [
       "<div>\n",
       "<style scoped>\n",
       "    .dataframe tbody tr th:only-of-type {\n",
       "        vertical-align: middle;\n",
       "    }\n",
       "\n",
       "    .dataframe tbody tr th {\n",
       "        vertical-align: top;\n",
       "    }\n",
       "\n",
       "    .dataframe thead th {\n",
       "        text-align: right;\n",
       "    }\n",
       "</style>\n",
       "<table border=\"1\" class=\"dataframe\">\n",
       "  <thead>\n",
       "    <tr style=\"text-align: right;\">\n",
       "      <th></th>\n",
       "      <th>created</th>\n",
       "      <th>tweet_text</th>\n",
       "    </tr>\n",
       "  </thead>\n",
       "  <tbody>\n",
       "    <tr>\n",
       "      <th>0</th>\n",
       "      <td>20220307</td>\n",
       "      <td>다이어리를 즐겨 쓰는데, 항상 글로만 남기는 게 아쉬웠던 찰나 친구랑 같이 놀러 갔...</td>\n",
       "    </tr>\n",
       "    <tr>\n",
       "      <th>1</th>\n",
       "      <td>20210625</td>\n",
       "      <td>안녕하세요 소햰입니다! 오늘은 제가 말씀드린  코닥 미니샷 레트로3 리뷰입니다! 어...</td>\n",
       "    </tr>\n",
       "    <tr>\n",
       "      <th>2</th>\n",
       "      <td>20220119</td>\n",
       "      <td>안녕하세요 다꾸러 도뜨입니다. 전에 적어 두었던 포토프린트 추천 후기가 갑자기 에이...</td>\n",
       "    </tr>\n",
       "    <tr>\n",
       "      <th>3</th>\n",
       "      <td>20210116</td>\n",
       "      <td>요즘 시국이 시국인지라.......집에서 주로 머물고 있는데, 그러다보니 아무래도 ...</td>\n",
       "    </tr>\n",
       "    <tr>\n",
       "      <th>4</th>\n",
       "      <td>20220310</td>\n",
       "      <td>코닥 미니샷 레트로3! 몇 개월을 고민하고 비교해보다가 결정한 코닥미니샷3입니다! ...</td>\n",
       "    </tr>\n",
       "  </tbody>\n",
       "</table>\n",
       "</div>"
      ],
      "text/plain": [
       "    created                                         tweet_text\n",
       "0  20220307  다이어리를 즐겨 쓰는데, 항상 글로만 남기는 게 아쉬웠던 찰나 친구랑 같이 놀러 갔...\n",
       "1  20210625  안녕하세요 소햰입니다! 오늘은 제가 말씀드린  코닥 미니샷 레트로3 리뷰입니다! 어...\n",
       "2  20220119  안녕하세요 다꾸러 도뜨입니다. 전에 적어 두었던 포토프린트 추천 후기가 갑자기 에이...\n",
       "3  20210116  요즘 시국이 시국인지라.......집에서 주로 머물고 있는데, 그러다보니 아무래도 ...\n",
       "4  20220310  코닥 미니샷 레트로3! 몇 개월을 고민하고 비교해보다가 결정한 코닥미니샷3입니다! ..."
      ]
     },
     "execution_count": 7,
     "metadata": {},
     "output_type": "execute_result"
    }
   ],
   "source": [
    "df = pd.read_csv(\"tweet_temp.csv\", encoding=\"cp949\", engine=\"python\")\n",
    "print(df.shape)\n",
    "df.head()"
   ]
  },
  {
   "cell_type": "code",
   "execution_count": 8,
   "metadata": {},
   "outputs": [
    {
     "data": {
      "text/html": [
       "<div>\n",
       "<style scoped>\n",
       "    .dataframe tbody tr th:only-of-type {\n",
       "        vertical-align: middle;\n",
       "    }\n",
       "\n",
       "    .dataframe tbody tr th {\n",
       "        vertical-align: top;\n",
       "    }\n",
       "\n",
       "    .dataframe thead th {\n",
       "        text-align: right;\n",
       "    }\n",
       "</style>\n",
       "<table border=\"1\" class=\"dataframe\">\n",
       "  <thead>\n",
       "    <tr style=\"text-align: right;\">\n",
       "      <th></th>\n",
       "      <th>created</th>\n",
       "      <th>tweet_text</th>\n",
       "      <th>ko_text</th>\n",
       "    </tr>\n",
       "  </thead>\n",
       "  <tbody>\n",
       "    <tr>\n",
       "      <th>0</th>\n",
       "      <td>20220307</td>\n",
       "      <td>다이어리를 즐겨 쓰는데, 항상 글로만 남기는 게 아쉬웠던 찰나 친구랑 같이 놀러 갔...</td>\n",
       "      <td>다이어리를 즐겨 쓰는데 항상 글로만 남기는 게 아쉬웠던 찰나 친구랑 같이 놀러 갔다...</td>\n",
       "    </tr>\n",
       "    <tr>\n",
       "      <th>1</th>\n",
       "      <td>20210625</td>\n",
       "      <td>안녕하세요 소햰입니다! 오늘은 제가 말씀드린  코닥 미니샷 레트로3 리뷰입니다! 어...</td>\n",
       "      <td>안녕하세요 소햰입니다 오늘은 제가 말씀드린  코닥 미니샷 레트로 리뷰입니다 어제 출...</td>\n",
       "    </tr>\n",
       "    <tr>\n",
       "      <th>2</th>\n",
       "      <td>20220119</td>\n",
       "      <td>안녕하세요 다꾸러 도뜨입니다. 전에 적어 두었던 포토프린트 추천 후기가 갑자기 에이...</td>\n",
       "      <td>안녕하세요 다꾸러 도뜨입니다 전에 적어 두었던 포토프린트 추천 후기가 갑자기 에이서...</td>\n",
       "    </tr>\n",
       "    <tr>\n",
       "      <th>3</th>\n",
       "      <td>20210116</td>\n",
       "      <td>요즘 시국이 시국인지라.......집에서 주로 머물고 있는데, 그러다보니 아무래도 ...</td>\n",
       "      <td>요즘 시국이 시국인지라집에서 주로 머물고 있는데 그러다보니 아무래도 이것저것 취미든...</td>\n",
       "    </tr>\n",
       "    <tr>\n",
       "      <th>4</th>\n",
       "      <td>20220310</td>\n",
       "      <td>코닥 미니샷 레트로3! 몇 개월을 고민하고 비교해보다가 결정한 코닥미니샷3입니다! ...</td>\n",
       "      <td>코닥 미니샷 레트로 몇 개월을 고민하고 비교해보다가 결정한 코닥미니샷입니다 사용한지...</td>\n",
       "    </tr>\n",
       "  </tbody>\n",
       "</table>\n",
       "</div>"
      ],
      "text/plain": [
       "    created                                         tweet_text  \\\n",
       "0  20220307  다이어리를 즐겨 쓰는데, 항상 글로만 남기는 게 아쉬웠던 찰나 친구랑 같이 놀러 갔...   \n",
       "1  20210625  안녕하세요 소햰입니다! 오늘은 제가 말씀드린  코닥 미니샷 레트로3 리뷰입니다! 어...   \n",
       "2  20220119  안녕하세요 다꾸러 도뜨입니다. 전에 적어 두었던 포토프린트 추천 후기가 갑자기 에이...   \n",
       "3  20210116  요즘 시국이 시국인지라.......집에서 주로 머물고 있는데, 그러다보니 아무래도 ...   \n",
       "4  20220310  코닥 미니샷 레트로3! 몇 개월을 고민하고 비교해보다가 결정한 코닥미니샷3입니다! ...   \n",
       "\n",
       "                                             ko_text  \n",
       "0  다이어리를 즐겨 쓰는데 항상 글로만 남기는 게 아쉬웠던 찰나 친구랑 같이 놀러 갔다...  \n",
       "1  안녕하세요 소햰입니다 오늘은 제가 말씀드린  코닥 미니샷 레트로 리뷰입니다 어제 출...  \n",
       "2  안녕하세요 다꾸러 도뜨입니다 전에 적어 두었던 포토프린트 추천 후기가 갑자기 에이서...  \n",
       "3  요즘 시국이 시국인지라집에서 주로 머물고 있는데 그러다보니 아무래도 이것저것 취미든...  \n",
       "4  코닥 미니샷 레트로 몇 개월을 고민하고 비교해보다가 결정한 코닥미니샷입니다 사용한지...  "
      ]
     },
     "execution_count": 8,
     "metadata": {},
     "output_type": "execute_result"
    }
   ],
   "source": [
    "def text_cleaning(text):\n",
    "    hangul = re.compile('[^ ㄱ-ㅣ가-힣]+') # 한글의 정규표현식을 나타냅니다.\n",
    "    result = hangul.sub('', text)\n",
    "    return result\n",
    "\n",
    "df['ko_text'] = df['tweet_text'].apply(lambda x: text_cleaning(x))\n",
    "df.head()"
   ]
  },
  {
   "cell_type": "code",
   "execution_count": 9,
   "metadata": {},
   "outputs": [
    {
     "name": "stdout",
     "output_type": "stream",
     "text": [
      "(439, 4)\n"
     ]
    }
   ],
   "source": [
    "# 한국어 처리 패키지 임포트\n",
    "from konlpy.tag import Okt\n",
    "from konlpy.tag import Hannanum\n",
    "from collections import Counter\n",
    "\n",
    "# 한국어 약식 불용어사전을 이용한 불용어 제거\n",
    "korean_stopwords_path = \"korean_stopwords.txt\"\n",
    "with open(korean_stopwords_path, encoding='utf8') as f:\n",
    "    stopwords = f.readlines()\n",
    "stopwords = [x.strip() for x in stopwords]\n",
    "\n",
    "def get_nouns(x):\n",
    "    nouns_tagger = Okt()\n",
    "    nouns = nouns_tagger.nouns(x)\n",
    "    # 한글자 키워드를 제거\n",
    "    nouns = [noun for noun in nouns if len(noun) > 1]\n",
    "    # 불용어를 제거\n",
    "    nouns = [noun for noun in nouns if noun not in stopwords]\n",
    "    return nouns\n",
    "\n",
    "# ‘ko_text’ 피처에 이를 적용하여 키워드 추출하여 nouns컬럼에 저장\n",
    "df['nouns'] = df['ko_text'].apply(lambda x: get_nouns(x))\n",
    "print(df.shape)\n",
    "df.head()\n",
    "\n",
    "# 데이터 프레임에서 nouns컬럼만 남기고 모두 삭제\n",
    "df.drop(columns=[\"created\", \"tweet_text\", \"ko_text\"],inplace=True)\n",
    "\n",
    "# 동시출현 단어쌍 (말뭉치) 도출\n",
    "count = {}   #동시출현 빈도가 저장될 dict\n",
    "for line in df['nouns']:\n",
    "    #하나의 문서에서 동일한 단어가 두번 나와도 두번의 동시출현으로 고려X\n",
    "    words = list(set(line))   \n",
    "    #한줄씩 읽어와서 단어별로 분리(unique한 값으로 받아오기)\n",
    "    #split은 띄어쓰기를 단어로 구분하라는 함수 \n",
    "    \n",
    "    for i, a in enumerate(words):\n",
    "        for b in words[i+1:]:\n",
    "            if a>b: \n",
    "                count[b, a] = count.get((b, a),0) + 1  \n",
    "            else :\n",
    "                count[a, b] = count.get((a, b),0) + 1\n",
    "\n",
    "count.get((\"a\", \"b\"),0) #a, b라는 key가 없을 때는 디폴트를 0으로 해라 \n",
    "count\n",
    "\n",
    "#dictionary형 자료형을 판다스 데이터프레임으로 만들어줌 \n",
    "#orient=index를 넣어야 행으로 쭉 나열이 됨 \n",
    "df=pd.DataFrame.from_dict(count, orient='index')\n",
    "\n",
    "list1=[]\n",
    "for i in range(len(df)):\n",
    "    #index를 중심으로 계속 중첩해서 list에 넣는다 \n",
    "    list1.append([df.index[i][0],df.index[i][1],df[0][i]])\n",
    "\n",
    "#pandas 이용해서 df형태로 만들기 \n",
    "df2=pd.DataFrame(list1, columns=['word1','word2',\"freq\"])\n",
    "\n",
    "#pandas 이용해서 sorting 하기 (디폴트가 오름차순이라서 false 꼭 써줘야 내림차순으로 나옴)\n",
    "df3=df2.sort_values(by=['freq'],ascending=False)\n",
    "\n",
    "#빈도 수 높은 순으로 말뭉치 10개만 가져오기\n",
    "# df3=df3.head(30)\n",
    "\n",
    "#데이터프레임 CSV형태로 저장\n",
    "df3\n",
    "df3.to_csv(\"networkx1.csv\")"
   ]
  },
  {
   "cell_type": "code",
   "execution_count": 10,
   "metadata": {},
   "outputs": [],
   "source": [
    "import warnings\n",
    "import konlpy\n",
    "from konlpy.tag import *\n",
    "\n",
    "from tqdm import tqdm_notebook\n",
    "import platform\n",
    "import seaborn as sns \n",
    "import matplotlib.pyplot as plt\n",
    "import scipy.stats as spst\n",
    "\n",
    "from matplotlib import font_manager, rc \n",
    "warnings.filterwarnings('ignore')\n",
    "\n",
    "path = \"C:/Windows/Fonts/malgun.ttf\"\n",
    "\n",
    "if platform.system() == \"Darwin\":\n",
    "    rc(\"font\", family=\"Arial Unicode MS\")\n",
    "elif platform.system() == \"Windows\":\n",
    "    font_name = font_manager.FontProperties(fname=path).get_name()\n",
    "    rc(\"font\", family=font_name)\n",
    "else:\n",
    "    print(\"Unknown system. sorry\")"
   ]
  },
  {
   "cell_type": "code",
   "execution_count": 32,
   "metadata": {},
   "outputs": [],
   "source": [
    "name_values = df3[\"word1\"].value_counts().index[:3]"
   ]
  },
  {
   "cell_type": "code",
   "execution_count": 17,
   "metadata": {},
   "outputs": [
    {
     "data": {
      "text/html": [
       "<div>\n",
       "<style scoped>\n",
       "    .dataframe tbody tr th:only-of-type {\n",
       "        vertical-align: middle;\n",
       "    }\n",
       "\n",
       "    .dataframe tbody tr th {\n",
       "        vertical-align: top;\n",
       "    }\n",
       "\n",
       "    .dataframe thead th {\n",
       "        text-align: right;\n",
       "    }\n",
       "</style>\n",
       "<table border=\"1\" class=\"dataframe\">\n",
       "  <thead>\n",
       "    <tr style=\"text-align: right;\">\n",
       "      <th></th>\n",
       "      <th>word1</th>\n",
       "      <th>word2</th>\n",
       "      <th>freq</th>\n",
       "    </tr>\n",
       "  </thead>\n",
       "  <tbody>\n",
       "    <tr>\n",
       "      <th>0</th>\n",
       "      <td>레트로</td>\n",
       "      <td>코닥</td>\n",
       "      <td>398</td>\n",
       "    </tr>\n",
       "    <tr>\n",
       "      <th>1</th>\n",
       "      <td>레트로</td>\n",
       "      <td>사진</td>\n",
       "      <td>394</td>\n",
       "    </tr>\n",
       "  </tbody>\n",
       "</table>\n",
       "</div>"
      ],
      "text/plain": [
       "  word1 word2  freq\n",
       "0   레트로    코닥   398\n",
       "1   레트로    사진   394"
      ]
     },
     "execution_count": 17,
     "metadata": {},
     "output_type": "execute_result"
    }
   ],
   "source": [
    "df3 = df3[df3['word1']==name_values].reset_index(drop=True).head(30)"
   ]
  },
  {
   "cell_type": "code",
   "execution_count": 11,
   "metadata": {},
   "outputs": [
    {
     "ename": "NameError",
     "evalue": "name 'dataset' is not defined",
     "output_type": "error",
     "traceback": [
      "\u001b[1;31m---------------------------------------------------------------------------\u001b[0m",
      "\u001b[1;31mNameError\u001b[0m                                 Traceback (most recent call last)",
      "\u001b[1;32m<ipython-input-11-f989999dcf85>\u001b[0m in \u001b[0;36m<module>\u001b[1;34m\u001b[0m\n\u001b[1;32m----> 1\u001b[1;33m \u001b[0mdataset\u001b[0m \u001b[1;33m=\u001b[0m \u001b[0mdataset\u001b[0m\u001b[1;33m[\u001b[0m\u001b[0mdataset\u001b[0m\u001b[1;33m[\u001b[0m\u001b[1;34m'word1'\u001b[0m\u001b[1;33m]\u001b[0m\u001b[1;33m==\u001b[0m\u001b[1;34m'레트로'\u001b[0m\u001b[1;33m]\u001b[0m\u001b[1;33m.\u001b[0m\u001b[0mreset_index\u001b[0m\u001b[1;33m(\u001b[0m\u001b[0mdrop\u001b[0m\u001b[1;33m=\u001b[0m\u001b[1;32mTrue\u001b[0m\u001b[1;33m)\u001b[0m\u001b[1;33m\u001b[0m\u001b[0m\n\u001b[0m\u001b[0;32m      2\u001b[0m \u001b[0mdataset\u001b[0m\u001b[1;33m\u001b[0m\u001b[0m\n",
      "\u001b[1;31mNameError\u001b[0m: name 'dataset' is not defined"
     ]
    }
   ],
   "source": [
    "dataset = dataset[dataset['word1']=='레트로'].reset_index(drop=True)\n",
    "dataset"
   ]
  },
  {
   "cell_type": "code",
   "execution_count": 37,
   "metadata": {},
   "outputs": [
    {
     "data": {
      "image/png": "[encoded data removed]",
      "text/plain": [
       "<Figure size 360x360 with 1 Axes>"
      ]
     },
     "metadata": {},
     "output_type": "display_data"
    }
   ],
   "source": [
    "dataset = pd.read_csv(\"networkx1.csv\")\n",
    "dataset = dataset[dataset['word1']=='레트로'].reset_index(drop=True).head(10)\n",
    "dataset\n",
    "\n",
    "# 중심성 척도 계산을 위한 Graph를 만든다\n",
    "G_centrality = nx.Graph()\n",
    "\n",
    "# 빈도수가 높은 10개의 단어쌍에 대해서만 edge(간선)을 표현한다.\n",
    "for ind in range((len(dataset))):\n",
    "    G_centrality.add_edge(dataset['word1'][ind], dataset['word2'][ind], weight=int(dataset['freq'][ind]))\n",
    "\n",
    "dgr = nx.degree_centrality(G_centrality)        # 연결 중심성\n",
    "btw = nx.betweenness_centrality(G_centrality)   # 매개 중심성\n",
    "cls = nx.closeness_centrality(G_centrality)     # 근접 중심성\n",
    "egv = nx.eigenvector_centrality(G_centrality)   # 고유벡터 중심성\n",
    "pgr = nx.pagerank(G_centrality)                 # 페이지 랭크\n",
    "\n",
    "# 중심성이 큰 순서대로 정렬한다.\n",
    "sorted_dgr = sorted(dgr.items(), key=operator.itemgetter(1), reverse=True)\n",
    "sorted_btw = sorted(btw.items(), key=operator.itemgetter(1), reverse=True)\n",
    "sorted_cls = sorted(cls.items(), key=operator.itemgetter(1), reverse=True)\n",
    "sorted_egv = sorted(egv.items(), key=operator.itemgetter(1), reverse=True)\n",
    "sorted_pgr = sorted(pgr.items(), key=operator.itemgetter(1), reverse=True)\n",
    "\n",
    "# 단어 네트워크를 그려줄 Graph 선언\n",
    "plt.figure(figsize=(5,5))\n",
    "G = nx.Graph()\n",
    "\n",
    "# 페이지 랭크에 따라 두 노드 사이의 연관성을 결정한다. (단어쌍의 연관성)\n",
    "# 연결 중심성으로 계산한 척도에 따라 노드의 크기가 결정된다. (단어의 등장 빈도수)\n",
    "for i in range(len(sorted_pgr)):\n",
    "    G.add_node(sorted_pgr[i][0], nodesize=sorted_dgr[i][1])\n",
    "\n",
    "for ind in range((len(dataset))):\n",
    "    G.add_weighted_edges_from([(dataset['word1'][ind], dataset['word2'][ind], int(dataset['freq'][ind]))])\n",
    "\n",
    "# 노드 크기 조정\n",
    "sizes = [G.nodes[node]['nodesize'] * 3000 for node in G]\n",
    "\n",
    "options = {\n",
    "    'node_color': '#A7E4E4',\n",
    "    'edge_color': '#0B8B8B',\n",
    "    'width': 1,\n",
    "    'with_labels': True,\n",
    "    'font_weight': 'regular',\n",
    "    'font_size':10,\n",
    "    # 'node_shape':\"o\",\n",
    "}\n",
    "\n",
    "# 폰트 설정을 위한 font_manager import\n",
    "import matplotlib.font_manager as fm\n",
    "import matplotlib.pyplot as plt\n",
    "\n",
    "\n",
    "nx.draw(G, node_size=sizes, pos=nx.spring_layout(G, k=30, iterations=1000), **options, font_family=font_name)  # font_family로 폰트 등록\n",
    "ax = plt.gca()\n",
    "ax.collections[0].set_edgecolor(\"#0B8B8B\")\n",
    "\n",
    "plt.savefig(\"1pi.jpg\")\n",
    "plt.show()"
   ]
  },
  {
   "cell_type": "code",
   "execution_count": 75,
   "metadata": {},
   "outputs": [
    {
     "data": {
      "text/plain": [
       "<AxesSubplot:xlabel='word2', ylabel='freq'>"
      ]
     },
     "execution_count": 75,
     "metadata": {},
     "output_type": "execute_result"
    },
    {
     "data": {
      "image/png": "[encoded data removed]",
      "text/plain": [
       "<Figure size 432x288 with 1 Axes>"
      ]
     },
     "metadata": {
      "needs_background": "light"
     },
     "output_type": "display_data"
    }
   ],
   "source": [
    "sns.barplot(data=dataset, x=\"word2\",y=\"freq\")"
   ]
  },
  {
   "cell_type": "code",
   "execution_count": null,
   "metadata": {},
   "outputs": [],
   "source": []
  },
  {
   "cell_type": "code",
   "execution_count": null,
   "metadata": {},
   "outputs": [],
   "source": []
  },
  {
   "cell_type": "code",
   "execution_count": null,
   "metadata": {},
   "outputs": [],
   "source": []
  },
  {
   "cell_type": "code",
   "execution_count": null,
   "metadata": {},
   "outputs": [],
   "source": []
  }
 ],
 "metadata": {
  "interpreter": {
   "hash": "1bd9a2be6220bdc219e21d40a9441c0290aa6fc536856fc87dfb3ce52627bf0c"
  },
  "kernelspec": {
   "display_name": "Python 3.6.4 ('openlab')",
   "language": "python",
   "name": "python3"
  },
  "language_info": {
   "codemirror_mode": {
    "name": "ipython",
    "version": 3
   },
   "file_extension": ".py",
   "mimetype": "text/x-python",
   "name": "python",
   "nbconvert_exporter": "python",
   "pygments_lexer": "ipython3",
   "version": "3.6.4"
  },
  "orig_nbformat": 4
 },
 "nbformat": 4,
 "nbformat_minor": 2
}
