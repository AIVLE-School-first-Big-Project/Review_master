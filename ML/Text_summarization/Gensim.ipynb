{
 "cells": [
  {
   "cell_type": "markdown",
   "metadata": {},
   "source": [
    "# 텍스트 요약\n",
    "\n",
    "## Gensim을 이용한 텍스트 요약 실습"
   ]
  },
  {
   "cell_type": "code",
   "execution_count": null,
   "metadata": {},
   "outputs": [],
   "source": [
    "from gensim.summarization.summarizer import summarize\n",
    "import pandas as pd\n",
    "\n",
    "from konlpy.tag import Kkma\n",
    "from hanspell import spell_checker\n",
    "import re"
   ]
  },
  {
   "cell_type": "code",
   "execution_count": 8,
   "metadata": {},
   "outputs": [],
   "source": [
    "data_path = '소닉_wh-1000xm4 (1).csv'\n",
    "df = pd.read_csv(data_path)\n",
    "df = df[df['content'].notnull()]\n",
    "all_text = list(df['content'].iloc[0:].values)\n",
    "all_text = \"\\n\".join(all_text)\n",
    "\n",
    "kkma = Kkma()"
   ]
  },
  {
   "cell_type": "markdown",
   "metadata": {},
   "source": [
    "https://velog.io/@ganta/%ED%95%9C%EA%B5%AD%EC%96%B4-%EC%A0%84%EC%B2%98%EB%A6%AC-%ED%8C%A8%ED%82%A4%EC%A7%80Text-Preprocessing-Tools-for-Korean-Text"
   ]
  },
  {
   "cell_type": "code",
   "execution_count": 28,
   "metadata": {},
   "outputs": [],
   "source": [
    "def preprocessing(review):\n",
    "    kkma = Kkma()\n",
    "    total_review = ''\n",
    "    #인풋리뷰\n",
    "    for idx in range(len(review)):\n",
    "        r = review[idx]\n",
    "        #하나의 리뷰에서 문장 단위로 자르기\n",
    "        for sentence in kkma.sentences(r):\n",
    "            sentence = re.sub('([a-zA-Z])','',sentence)\n",
    "            sentence = re.sub('[ㄱ-ㅎㅏ-ㅣ]+','',sentence)\n",
    "            sentence = re.sub('[-=+,#/\\?:^$.@*\\\"※~&%ㆍ!』\\\\‘|\\(\\)\\[\\]\\<\\>`\\'…》]','',sentence)\n",
    "            if len(sentence) == 0:\n",
    "                continue\n",
    "            if len(sentence) < 198:\n",
    "                spelled_sent = spell_checker.check(sentence)\n",
    "                sentence = spelled_sent.checked\n",
    "            sentence += '. '\n",
    "            total_review += sentence\n",
    "    return total_review"
   ]
  },
  {
   "cell_type": "code",
   "execution_count": null,
   "metadata": {},
   "outputs": [],
   "source": [
    "key_sentence = {}\n",
    "review = [all_text]\n",
    "pp = preprocessing(review)"
   ]
  },
  {
   "cell_type": "markdown",
   "metadata": {},
   "source": [
    "### 150자 제한"
   ]
  },
  {
   "cell_type": "code",
   "execution_count": 60,
   "metadata": {},
   "outputs": [],
   "source": [
    "su = summarize(pp, word_count=150)\n",
    "su = re.sub('\\n', ' ',su)\n",
    "su"
   ]
  },
  {
   "cell_type": "markdown",
   "metadata": {},
   "source": [
    "### 300자 제한"
   ]
  },
  {
   "cell_type": "code",
   "execution_count": 63,
   "metadata": {},
   "outputs": [
    {
     "data": {
      "text/plain": [
       "'그럴까 30만원 제 값을 주고 샀다면 조금은 돈 아깝다라고 생각했을지 몰라도 20 만원대로 구입한 셈 친다면 돈 값은 하는 거 같다 연결 끊김도 없고 음질 노이즈 캔 슬링 기타 세세한 편의성 스피크 투 챗 이라 던가 다양한 조절 오래가는 배터리 등등 다만 귀가 작은 사람들은 고민 좀 해봐 얄것 같음 팁을 끼워도 유닛이 커서 그런지 귀가 조금은 불편함 오로지 음질과 노 캔만 따지는 분 추천 귀 작으신 분 비 추천 그동안 수고 해 준 버즈 플러스 에디숀아 팬은 아니고 보라색이 이뻐서 구입했던 안녕 중고로운 평화나라로 1000 4 블루투스 이어폰 코드리스 이어폰 노이즈 캔 슬링 쿠팡 버즈 플러스 에 디 션 굉장히 많은 무선 이어폰을 사용하면서 다양한 음향기기를 사용해 봤지만 현재 20만원 대 아래 제품들 중 소니 1000 4 음질이 제일 매력적이었는데요 사용하면서 지인들에게도 음질과 노이즈 캔 슬링의 성능을 체험해 보라고 건네줘 보기도 했습니다. 저는 소니의 제품을 좋아하긴 하지만 이어폰이나 헤드폰에 있어서 1000 시리즈는 믿고 구입할 수 있는 제품이라고 생각을 하고 소니보다 고가의 제품들과 비교했을 때 가 성비 좋은 모델이라고 할 정도로 사운드나 노이즈 캔 슬링 그 외 편의성 등이 매우 뛰어난 제품이라고 생각을 합니다. 하고 근데 밖에서 바람소리에 자꾸 반응해서 통화에는 취약하다 특히 요즘 같은 날씨 이어폰은 전 모델보다 작은 사이즈인데 아직 익숙하지 않아서 불편 음 소니 이어폰은 다른 이어폰이랑 좀 다른 것 같다 그리고 케이스 자석기능이 너무 좋아서 잘못 이어폰을 확 빼다가는 휙 날라갈 수 있다 음질은  이어폰에 큰 음질을 기대하지 않기에 무난한 정도로 아주 좋다거나 하진 않다 물론 저렴 이들 이랑은 비교할 바 아니고 케이스는 전 모델보다는 작은데 버즈프로 정도는 아니라 너무 큰 기대만 하지 않는다면 여러모로 무난한 제품이라고 생각함 지난번에 올렸던 이 베이의 소니 블루투스 헤드폰 리퍼 핫 딜 이 나왔을 때에 주문했던 소니 900 이 드디어 오늘 도착했습니다.'"
      ]
     },
     "execution_count": 63,
     "metadata": {},
     "output_type": "execute_result"
    }
   ],
   "source": [
    "su = summarize(pp, word_count=300)\n",
    "su = re.sub('\\n', ' ',su)\n",
    "su"
   ]
  },
  {
   "cell_type": "markdown",
   "metadata": {},
   "source": [
    "### 500자 제한"
   ]
  },
  {
   "cell_type": "code",
   "execution_count": 64,
   "metadata": {},
   "outputs": [
    {
     "data": {
      "text/plain": [
       "'전작의 경우 야외에서 사용 시 바람이 불면 조금 거슬린다는 느낌이 있었는데 이번에는 윈드 노이즈 자동 감소 모드가 생겨 이를 감지하여 자동으로 바람 소리를 최소화하고 있습니다. 헤드폰에 도전하다 소니 1000 4 노이즈 캔 슬링 이어폰 1 완전히 새로 어진 디자인 친환경 패키지 2 고음질 적용 3 헤드폰 급 노이즈 캔 슬링 4 향상된 통화 품질 5 사용성 강화 6 4 생활 방수 7 무선 충전 지원 최근 기상 이후 등 환경오염에 대한 문제점이 대두되고 있습니다. 제가 구매한 제품은 소니의 1000 4여러 가지 무선 이어폰을 찾아봤었는데 음질이나 노이즈 캔 슬링이 좋다는 말을 들어서 소니 무선 이어폰 1000 4를 선택했어요 . 그리고 머리가 기 신분들도 걸리거나 하는 거 없어서 기존에 쓰던 제품은 몇 번 귀에서 가출에서 잃어버릴 뻔한 적이 한두 번이 아닌데 이거는 딱히 떨어트린 기억 자체가 별로 없는 듯 저런 기본적인 장점 외에 제가 직접 사용해 보면서 오 역시 좋은 건 다르다 느꼈던 건 뭐니 뭐니 해도 노이즈 캔 슬링 기능인 거 같아요. 그럴까 30만원 제 값을 주고 샀다면 조금은 돈 아깝다라고 생각했을지 몰라도 20 만원대로 구입한 셈 친다면 돈 값은 하는 거 같다 연결 끊김도 없고 음질 노이즈 캔 슬링 기타 세세한 편의성 스피크 투 챗 이라 던가 다양한 조절 오래가는 배터리 등등 다만 귀가 작은 사람들은 고민 좀 해봐 얄것 같음 팁을 끼워도 유닛이 커서 그런지 귀가 조금은 불편함 오로지 음질과 노 캔만 따지는 분 추천 귀 작으신 분 비 추천 그동안 수고 해 준 버즈 플러스 에디숀아 팬은 아니고 보라색이 이뻐서 구입했던 안녕 중고로운 평화나라로 1000 4 블루투스 이어폰 코드리스 이어폰 노이즈 캔 슬링 쿠팡 버즈 플러스 에 디 션 굉장히 많은 무선 이어폰을 사용하면서 다양한 음향기기를 사용해 봤지만 현재 20만원 대 아래 제품들 중 소니 1000 4 음질이 제일 매력적이었는데요 사용하면서 지인들에게도 음질과 노이즈 캔 슬링의 성능을 체험해 보라고 건네줘 보기도 했습니다. 저는 소니의 제품을 좋아하긴 하지만 이어폰이나 헤드폰에 있어서 1000 시리즈는 믿고 구입할 수 있는 제품이라고 생각을 하고 소니보다 고가의 제품들과 비교했을 때 가 성비 좋은 모델이라고 할 정도로 사운드나 노이즈 캔 슬링 그 외 편의성 등이 매우 뛰어난 제품이라고 생각을 합니다. 1000 4 체험 단 노이즈 캔 슬링 1000 4 몰입의 즐거움 헤드폰에도 전하다 소니 1000 4를 사용하면서 그냥 사용해도 되지만 아무래도 무선 이어폰의 경우 케이스를 이용해서 충전을 하기도 하고 이어폰 유닛을 보호하는 역할을 하는데요 평소에 사용하다 보면 대부분 주머니에 넣고 다니는 경우가 가방에 넣고 다니는 경우가 많은데 주머니에 무선 이어폰 이외의 다양한 물건들이 많이 있다 보니 1000 4 케이스에 흠집이 많이 생기기도 하고 떨어트릴 경우 손상이 되는 경우가 발생할 수 있어 케이스는 필수라고 생각을 합니다. 하고 근데 밖에서 바람소리에 자꾸 반응해서 통화에는 취약하다 특히 요즘 같은 날씨 이어폰은 전 모델보다 작은 사이즈인데 아직 익숙하지 않아서 불편 음 소니 이어폰은 다른 이어폰이랑 좀 다른 것 같다 그리고 케이스 자석기능이 너무 좋아서 잘못 이어폰을 확 빼다가는 휙 날라갈 수 있다 음질은  이어폰에 큰 음질을 기대하지 않기에 무난한 정도로 아주 좋다거나 하진 않다 물론 저렴 이들 이랑은 비교할 바 아니고 케이스는 전 모델보다는 작은데 버즈프로 정도는 아니라 너무 큰 기대만 하지 않는다면 여러모로 무난한 제품이라고 생각함 지난번에 올렸던 이 베이의 소니 블루투스 헤드폰 리퍼 핫 딜 이 나왔을 때에 주문했던 소니 900 이 드디어 오늘 도착했습니다.'"
      ]
     },
     "execution_count": 64,
     "metadata": {},
     "output_type": "execute_result"
    }
   ],
   "source": [
    "su = summarize(pp, word_count=500)\n",
    "su = re.sub('\\n', ' ',su)\n",
    "su"
   ]
  }
 ],
 "metadata": {
  "interpreter": {
   "hash": "1bd9a2be6220bdc219e21d40a9441c0290aa6fc536856fc87dfb3ce52627bf0c"
  },
  "kernelspec": {
   "display_name": "Python 3.6.4 ('openlab')",
   "language": "python",
   "name": "python3"
  },
  "language_info": {
   "codemirror_mode": {
    "name": "ipython",
    "version": 3
   },
   "file_extension": ".py",
   "mimetype": "text/x-python",
   "name": "python",
   "nbconvert_exporter": "python",
   "pygments_lexer": "ipython3",
   "version": "3.6.4"
  },
  "orig_nbformat": 4
 },
 "nbformat": 4,
 "nbformat_minor": 2
}
