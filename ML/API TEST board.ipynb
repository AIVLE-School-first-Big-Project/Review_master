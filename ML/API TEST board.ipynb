{
 "cells": [
  {
   "cell_type": "code",
   "execution_count": 1,
   "metadata": {},
   "outputs": [
    {
     "name": "stderr",
     "output_type": "stream",
     "text": [
      "C:\\Users\\User\\anaconda3\\envs\\openlab\\lib\\site-packages\\tqdm\\auto.py:22: TqdmWarning: IProgress not found. Please update jupyter and ipywidgets. See https://ipywidgets.readthedocs.io/en/stable/user_install.html\n",
      "  from .autonotebook import tqdm as notebook_tqdm\n"
     ]
    }
   ],
   "source": [
    "from typing import List\n",
    "from fastapi import FastAPI ,Form,Body\n",
    "import uvicorn\n",
    "from Text_summarization.Gensim import Gensim_summary\n",
    "from Filtering.Filtering import Adblock_filter\n",
    "import secret_key as sk\n",
    "from Text_sentiment.koelectra import Text_sentiment_inferense_review\n",
    "import urllib.request\n",
    "import time, requests, json,os\n",
    "import pandas as pd\n",
    "from pydantic import BaseModel\n",
    "from pathlib import Path\n",
    "from Word_Association.association import Text_association_inferense\n",
    "from fastapi.responses import FileResponse\n",
    "from io import BytesIO,StringIO\n",
    "import zipfile"
   ]
  },
  {
   "cell_type": "code",
   "execution_count": 11,
   "metadata": {},
   "outputs": [
    {
     "name": "stdout",
     "output_type": "stream",
     "text": [
      "SplitResult(scheme='https', netloc='postfiles.pstatic.net', path='/MjAyMDEwMjZfMTk4/MDAxNjAzNzIxNDczOTgx.-jqMt13FT-Nr98dAtbsl4fGNpmhudQ5mNQ3vcCUKi9Mg.I7pGB7U_TC0sQ4kCPumrAqnEMkiS2HPBuCG5DMbD9rEg.PNG.hashs20/필수98.png', query='type=w773', fragment='')\n"
     ]
    }
   ],
   "source": [
    "url = 'https://postfiles.pstatic.net/MjAyMDEwMjZfMTk4/MDAxNjAzNzIxNDczOTgx.-jqMt13FT-Nr98dAtbsl4fGNpmhudQ5mNQ3vcCUKi9Mg.I7pGB7U_TC0sQ4kCPumrAqnEMkiS2HPBuCG5DMbD9rEg.PNG.hashs20/필수98.png?type=w773'\n",
    "# url = 'https://postfiles.pstatic.net/MjAyMDEwMjZfMTk4/MDAxNjAzNzIxNDczOTgx.-jqMt13FT-Nr98dAtbsl4fGNpmhudQ5mNQ3vcCUKi9Mg.I7pGB7U_TC0sQ4kCPumrAqnEMkiS2HPBuCG5DMbD9rEg.PNG.hashs20/%ED%95%84%EC%88%98.png?type=w773'\n",
    "\n",
    "from urllib import parse\n",
    "from urllib.parse import urlsplit, quote\n",
    "url_info = urlsplit(url)\n",
    "print(url_info)"
   ]
  },
  {
   "cell_type": "code",
   "execution_count": 19,
   "metadata": {},
   "outputs": [],
   "source": [
    "encoded_url = f'{url_info.scheme}://{url_info.netloc}{quote(url_info.path)}?{url_info.query} '"
   ]
  },
  {
   "cell_type": "code",
   "execution_count": 20,
   "metadata": {},
   "outputs": [
    {
     "name": "stdout",
     "output_type": "stream",
     "text": [
      "https://postfiles.pstatic.net/MjAyMDEwMjZfMTk4/MDAxNjAzNzIxNDczOTgx.-jqMt13FT-Nr98dAtbsl4fGNpmhudQ5mNQ3vcCUKi9Mg.I7pGB7U_TC0sQ4kCPumrAqnEMkiS2HPBuCG5DMbD9rEg.PNG.hashs20/%ED%95%84%EC%88%9898.png?type=w773 \n"
     ]
    }
   ],
   "source": [
    "print(encoded_url)"
   ]
  },
  {
   "cell_type": "code",
   "execution_count": 1,
   "metadata": {},
   "outputs": [],
   "source": [
    "c = [1,2,3]\n",
    "d = ['v','v','v']"
   ]
  },
  {
   "cell_type": "code",
   "execution_count": 3,
   "metadata": {},
   "outputs": [
    {
     "data": {
      "text/plain": [
       "[('v', 1), ('v', 2), ('v', 3)]"
      ]
     },
     "execution_count": 3,
     "metadata": {},
     "output_type": "execute_result"
    }
   ],
   "source": [
    "list(zip(d,c))"
   ]
  },
  {
   "cell_type": "code",
   "execution_count": 5,
   "metadata": {},
   "outputs": [
    {
     "name": "stdout",
     "output_type": "stream",
     "text": [
      "./test_img.png\n"
     ]
    }
   ],
   "source": [
    "opener = urllib.request.build_opener()\n",
    "opener.addheaders = [('User-Agent','Mozilla/5.0 (Windows NT 6.1; WOW64) AppleWebKit/537.36 (KHTML, like Gecko) Chrome/36.0.1941.0 Safari/537.36')]\n",
    "urllib.request.install_opener(opener)\n",
    "save_img_path = os.path.join('./test_img.png')\n",
    "print(save_img_path)\n",
    "url = 'https://postfiles.pstatic.net/MjAyMDEwMjZfMTk4/MDAxNjAzNzIxNDczOTgx.-jqMt13FT-Nr98dAtbsl4fGNpmhudQ5mNQ3vcCUKi9Mg.I7pGB7U_TC0sQ4kCPumrAqnEMkiS2HPBuCG5DMbD9rEg.PNG.hashs20/필수98.png?type=w773'\n",
    "# url = 'https://postfiles.pstatic.net/MjAyMDEwMjZfMTk4/MDAxNjAzNzIxNDczOTgx.-jqMt13FT-Nr98dAtbsl4fGNpmhudQ5mNQ3vcCUKi9Mg.I7pGB7U_TC0sQ4kCPumrAqnEMkiS2HPBuCG5DMbD9rEg.PNG.hashs20/%ED%95%84%EC%88%98.png?type=w773'\n",
    "\n",
    "from urllib import parse\n",
    "url = parse.urlparse(url)\n",
    "query = parse.parse_qs(url.query)\n",
    "\n",
    "출처: https://dololak.tistory.com/255 [코끼리를 냉장고에 넣는 방법]\n",
    "\n",
    "# 이미지 저장.\n",
    "urllib.request.urlretrieve(url, save_img_path)\n",
    "time.sleep(1)\n",
    "files = {\"file\": open(save_img_path, \"rb\").read()}\n",
    "response = requests.post('http://27.255.77.102:5000/evaluation',files=files)\n",
    "if response.status_code == 200:\n",
    "    feature_text = response.json()"
   ]
  },
  {
   "cell_type": "code",
   "execution_count": 6,
   "metadata": {},
   "outputs": [
    {
     "data": {
      "text/plain": [
       "{'너스': [50, 15, 71, 14, 71, 25, 50, 25],\n",
       " '다트': [25, 14, 46, 14, 46, 25, 25, 25],\n",
       " '동해': [121, 13, 148, 12, 148, 27, 121, 27],\n",
       " '랄동을': [81, 12, 114, 12, 114, 29, 81, 28],\n",
       " '수': [285, 14, 302, 13, 302, 26, 286, 27],\n",
       " '일정수수료를': [153, 11, 224, 11, 224, 29, 153, 29],\n",
       " '있을': [304, 13, 327, 14, 327, 29, 304, 28],\n",
       " '제공받을': [229, 13, 279, 12, 280, 28, 230, 30]}"
      ]
     },
     "execution_count": 6,
     "metadata": {},
     "output_type": "execute_result"
    }
   ],
   "source": [
    "feature_text"
   ]
  },
  {
   "cell_type": "code",
   "execution_count": null,
   "metadata": {},
   "outputs": [],
   "source": []
  },
  {
   "cell_type": "code",
   "execution_count": null,
   "metadata": {},
   "outputs": [],
   "source": []
  },
  {
   "cell_type": "code",
   "execution_count": null,
   "metadata": {},
   "outputs": [],
   "source": []
  },
  {
   "cell_type": "code",
   "execution_count": 9,
   "metadata": {},
   "outputs": [],
   "source": [
    "import json\n",
    "import requests"
   ]
  },
  {
   "cell_type": "code",
   "execution_count": 51,
   "metadata": {},
   "outputs": [],
   "source": [
    "data = {\n",
    "\n",
    "                            \"artice_code\": 179,\n",
    "                            \"review_id\": 75\n",
    "                        }\n",
    "\n"
   ]
  },
  {
   "cell_type": "code",
   "execution_count": 52,
   "metadata": {},
   "outputs": [
    {
     "data": {
      "text/plain": [
       "200"
      ]
     },
     "execution_count": 52,
     "metadata": {},
     "output_type": "execute_result"
    }
   ],
   "source": [
    "response = requests.post('http://127.0.0.1:1415/sentiment/', params= data , headers={'accept': 'application/json'})\n",
    "response.status_code"
   ]
  },
  {
   "cell_type": "code",
   "execution_count": 60,
   "metadata": {},
   "outputs": [
    {
     "data": {
      "text/plain": [
       "17"
      ]
     },
     "execution_count": 60,
     "metadata": {},
     "output_type": "execute_result"
    }
   ],
   "source": [
    "response.json()['positive']"
   ]
  },
  {
   "cell_type": "code",
   "execution_count": 58,
   "metadata": {},
   "outputs": [
    {
     "data": {
      "text/plain": [
       "20"
      ]
     },
     "execution_count": 58,
     "metadata": {},
     "output_type": "execute_result"
    }
   ],
   "source": [
    "response.json()['negative']"
   ]
  },
  {
   "cell_type": "code",
   "execution_count": 62,
   "metadata": {},
   "outputs": [
    {
     "data": {
      "text/plain": [
       "[['     108 222710310508 👉 에어 맘 개봉 기에서 이어집니다', 1],\n",
       " ['열심히 닦고 출수해서 맘마 존에 자리잡은 에어 맘 분유 포트 약 2주간 사용해 봤고 개인 적인 사용경험은 꽤 만족스럽다', 1],\n",
       " ['결론부터 말하면 에어 맘 제로 분유 포트 추천 에어 맘 제로를 2주간 써본 결과 장단점은 다음과 같다', 1],\n",
       " ['👉 정량 출수 35  국내 분유를 먹이는 경우라면 가장 편리한 기능일 정량 출수 기능 출수 버튼을 누르면 35 가 출수된다', 1],\n",
       " ['물 눈금 보지 않고 새벽에도 몇 번 띡 띡 띡 누르면 분유를 손쉽게 탈 수 있다', 0],\n",
       " ['분유 포트 추천할 만 한다', 0],\n",
       " ['불 켜지 않고도 분유 탈 수 있다구요', 1],\n",
       " ['이건 장점 중에 장점  초보 맘도 쉽게 분유를 탈 수 있으니 출산 선물 추천 👉 연속 출수 가능  해외 분유도 사용가능  국내 분유가 아니더라도 출수 버튼을 쭈욱 누르고 있으면 연 속출 수가 된다',\n",
       "  1],\n",
       " ['원하는 물 용량도 출수 가능이다 ', 0],\n",
       " ['👉 편리한 세척  올 스테인레스  밀폐기능  하루 지난 물은 출수 버튼으로 쭉 빼주고 물 새로 부어서 끓이면 되니 세상 편리하다',\n",
       "  1],\n",
       " ['올 스테인레스  밀폐 상태기 때문에 일주일에 한 번 구연산 넣고 끓여 주고 버리고를 반복하면 됐다', 0],\n",
       " ['혹시 찝찝해서 열고 닦고 싶더라도 통 입구가 넓기 때문에 세척이 간편 아기가 쓰는 물건이니까 세척이 간편한 건 무척 중요하다', 1],\n",
       " ['분유 포트 추천 템으로 내세울 만 하다 더불어 출산 선물 추천 👉 원하는 온도로 분유 온도 세팅 가능  개인적으로 가장 마음에 들었던 기능인데 보르르 건 브레 짜건 원하는 온도로 조 유는 안 된다',\n",
       "  1],\n",
       " ['보르르는 분유 버튼 누르면 43도에 고정이고 브레짜도 마찬가지 에어 맘 제로는 기본 세팅 값이 43도 긴 하지만 조정이 가능하다',\n",
       "  0],\n",
       " ['새싹이 는 날이 더워 지기 전에는 45도 정도의 온도에서 먹는 걸 즐기는 느낌 이었다', 1],\n",
       " [' 식은 분유 안받아요', 0],\n",
       " ['까탈 까탈 그렇지만 보르르도 브레 짜 이모도 45 도로는 분유를 타 주지 않는다', 0],\n",
       " ['45 도로 먹이려면 굳 이 데워야 한다는 점 ㅠㅠ 그 치만 에어 맘 제로는 세팅이 가능하다', 1],\n",
       " ['크게 아쉬운 점이 있진 않았지만 새싹이 는 힙 분유를 먹이고 있다 보니 연속 출수 기능을 사용해야 한다', 0],\n",
       " ['새벽 수유가 한 번으로 줄어서 맘마 존에 켜 두던 불을 꺼 버려서 눈금이 잘 보이지 않는 단점이 있었다', 0],\n",
       " ['정량 출수가 가능한 상황이었다면 불편함이 없었을 텐데 조금 아쉬웠다', 1],\n",
       " ['출 수량을 정할 수 있었으면 좋았을 텐데 두 번째 아쉬운 점은 맘마 존에 들어가다 보니 잔여 물량을 확인하는 것이 조금 불편했다는 점 옆 부분에 확인 할 수 있는 바가 있는데 다른 맘마 존 템 들이 있어서 확인에 어려움이 있었다',\n",
       "  0],\n",
       " ['끔 아쉬운 부분 마지막으로 아쉬운 부분은 버튼 부 개인적으로 물리 버튼이 조금 더 편리했을 것 같다', 0],\n",
       " ['반응 속도 때문에 물리 버튼이 아닌 걸 수도 있지만 생긴 모습에 비해 의외로 물리 버튼이 아니다', 0],\n",
       " ['터 치감이 조금 있었다면 더 좋았을 거 같다', 0],\n",
       " ['다시 맘마 존을 꾸리는 시기로 돌아간다면 레 짜 이모도 됐고 보르르도 됐고 에어 맘 놓고 국산 분유 먹일 것 같다', 1],\n",
       " ['레 짜 이모가 7초 만에 타 주는 거 물론 너무 편하다', 1],\n",
       " ['그런 데 깔대기며 뭐며 세척해야 하는 게 너무 많다', 0],\n",
       " ['\\U0001f972 보르르도 가열판을 매주 닦아 줘야 하고 세척해야 하는 건 에어 맘이랑 동일하고 말이다', 0],\n",
       " ['그렇다면 자동으로 물이 토출되는 에어 맘이 더 편리하다', 0],\n",
       " ['가격적으로 생각해 봐도 브레 짜 보르르 조합은 거의 40만원 돈인데 에어 맘은 거의 14 가격 브레 짜 이모는  이슈를 겪어서 그런지 편하긴 한데 마음이 좀 상했다고',\n",
       "  0],\n",
       " ['해야 하나 비싸게 주고 샀는데 이렇게 내구도가 떨어지나 라는 생각이 좀 들 었달 까 그래서 브레 짜 살 계획이 없고 분유 포트를 고민하고 계신 분이라면 에어 맘 제로로 구입해 보시는 것도 좋을 것 같다',\n",
       "  0],\n",
       " ['분유 포트 추천  선물하기에도 괜찮은 가격이라 출산 선물로도 추천  이미 레 짜 와 보르르 가 있는 나는 친정에 가져 다 두고 요긴하게 써먹어 볼까 한다',\n",
       "  1],\n",
       " ['더불어 시댁에 내려갈 때도 이거만 달랑달랑 들고 가려고 한다', 0],\n",
       " ['레 짜랑 보르르 다 챙겨 가기 너무 버겁고 귀찮고 짐 많다', 0],\n",
       " ['여러모로 추천할 만한 에어 맘 제로  분유 포트 추천  출산 선물 추천 본 포스팅은 에어 맘으로부터 제품을 제공받아 체험한 후 솔직하게 작성되었습니다',\n",
       "  1],\n",
       " [' 에어 맘 제로  육아 일기  분유 포트 추천  출산 선물 추천', 1]]"
      ]
     },
     "execution_count": 62,
     "metadata": {},
     "output_type": "execute_result"
    }
   ],
   "source": [
    "response.json()['blog_result']"
   ]
  },
  {
   "cell_type": "code",
   "execution_count": null,
   "metadata": {},
   "outputs": [],
   "source": []
  }
 ],
 "metadata": {
  "interpreter": {
   "hash": "1bd9a2be6220bdc219e21d40a9441c0290aa6fc536856fc87dfb3ce52627bf0c"
  },
  "kernelspec": {
   "display_name": "Python 3.6.4 ('openlab')",
   "language": "python",
   "name": "python3"
  },
  "language_info": {
   "codemirror_mode": {
    "name": "ipython",
    "version": 3
   },
   "file_extension": ".py",
   "mimetype": "text/x-python",
   "name": "python",
   "nbconvert_exporter": "python",
   "pygments_lexer": "ipython3",
   "version": "3.6.4"
  },
  "orig_nbformat": 4
 },
 "nbformat": 4,
 "nbformat_minor": 2
}
